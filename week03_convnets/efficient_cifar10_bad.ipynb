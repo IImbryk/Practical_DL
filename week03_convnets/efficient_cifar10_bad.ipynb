{
 "cells": [
  {
   "cell_type": "code",
   "execution_count": 1,
   "metadata": {},
   "outputs": [],
   "source": [
    "import torch\n",
    "\n",
    "import numpy as np\n",
    "from torchvision.datasets import CIFAR10\n",
    "from torch.utils.tensorboard import SummaryWriter\n",
    "import torchvision\n",
    "from torchvision import transforms\n",
    "import torch, torch.nn as nn\n",
    "import torch.nn.functional as F"
   ]
  },
  {
   "cell_type": "code",
   "execution_count": 2,
   "metadata": {},
   "outputs": [],
   "source": [
    "def _make_divisible(v, divisor, min_value=None):\n",
    "    \"\"\"\n",
    "    This function is taken from the original tf repo.\n",
    "    It ensures that all layers have a channel number that is divisible by 8\n",
    "    It can be seen here:\n",
    "    https://github.com/tensorflow/models/blob/master/research/slim/nets/mobilenet/mobilenet.py\n",
    "    :param v:\n",
    "    :param divisor:\n",
    "    :param min_value:\n",
    "    :return:\n",
    "    \"\"\"\n",
    "    if min_value is None:\n",
    "        min_value = divisor\n",
    "    new_v = max(min_value, int(v + divisor / 2) // divisor * divisor)\n",
    "    # Make sure that round down does not go down by more than 10%.\n",
    "    if new_v < 0.9 * v:\n",
    "        new_v += divisor\n",
    "    return new_v\n",
    "\n",
    "\n",
    "# SiLU (Swish) activation function\n",
    "if hasattr(nn, 'SiLU'):\n",
    "    SiLU = nn.SiLU\n",
    "else:\n",
    "    # For compatibility with old PyTorch versions\n",
    "    class SiLU(nn.Module):\n",
    "        def forward(self, x):\n",
    "            return x * torch.sigmoid(x)\n",
    "\n",
    " \n",
    "class SELayer(nn.Module):\n",
    "    def __init__(self, inp, oup, reduction=4):\n",
    "        super(SELayer, self).__init__()\n",
    "        self.avg_pool = nn.AdaptiveAvgPool2d(1)\n",
    "        self.fc = nn.Sequential(\n",
    "                nn.Linear(oup, _make_divisible(inp // reduction, 8)),\n",
    "                SiLU(),\n",
    "                nn.Linear(_make_divisible(inp // reduction, 8), oup),\n",
    "                nn.Sigmoid()\n",
    "        )\n",
    "\n",
    "    def forward(self, x):\n",
    "        b, c, _, _ = x.size()\n",
    "        y = self.avg_pool(x).view(b, c)\n",
    "        y = self.fc(y).view(b, c, 1, 1)\n",
    "        return x * y\n",
    "\n",
    "\n",
    "def conv_3x3_bn(inp, oup, stride):\n",
    "    return nn.Sequential(\n",
    "        nn.Conv2d(inp, oup, 3, stride, 1, bias=False),\n",
    "        nn.BatchNorm2d(oup),\n",
    "        SiLU()\n",
    "    )\n",
    "\n",
    "\n",
    "def conv_1x1_bn(inp, oup):\n",
    "    return nn.Sequential(\n",
    "        nn.Conv2d(inp, oup, 1, 1, 0, bias=False),\n",
    "        nn.BatchNorm2d(oup),\n",
    "        SiLU()\n",
    "    )\n",
    "\n",
    "\n",
    "class MBConv(nn.Module):\n",
    "    def __init__(self, inp, oup, stride, expand_ratio, use_se):\n",
    "        super(MBConv, self).__init__()\n",
    "        assert stride in [1, 2]\n",
    "\n",
    "        hidden_dim = round(inp * expand_ratio)\n",
    "        self.identity = stride == 1 and inp == oup\n",
    "        if use_se:\n",
    "            self.conv = nn.Sequential(\n",
    "                # pw\n",
    "                nn.Conv2d(inp, hidden_dim, 1, 1, 0, bias=False),\n",
    "                nn.BatchNorm2d(hidden_dim),\n",
    "                SiLU(),\n",
    "                # dw\n",
    "                nn.Conv2d(hidden_dim, hidden_dim, 3, stride, 1, groups=hidden_dim, bias=False),\n",
    "                nn.BatchNorm2d(hidden_dim),\n",
    "                SiLU(),\n",
    "                SELayer(inp, hidden_dim),\n",
    "                # pw-linear\n",
    "                nn.Conv2d(hidden_dim, oup, 1, 1, 0, bias=False),\n",
    "                nn.BatchNorm2d(oup),\n",
    "            )\n",
    "        else:\n",
    "            self.conv = nn.Sequential(\n",
    "                # fused\n",
    "                nn.Conv2d(inp, hidden_dim, 3, stride, 1, bias=False),\n",
    "                nn.BatchNorm2d(hidden_dim),\n",
    "                SiLU(),\n",
    "                # pw-linear\n",
    "                nn.Conv2d(hidden_dim, oup, 1, 1, 0, bias=False),\n",
    "                nn.BatchNorm2d(oup),\n",
    "            )\n",
    "\n",
    "\n",
    "    def forward(self, x):\n",
    "        if self.identity:\n",
    "            return x + self.conv(x)\n",
    "        else:\n",
    "            return self.conv(x)\n",
    "\n",
    "\n",
    "class EffNetV2(nn.Module):\n",
    "    def __init__(self, cfgs, num_classes=1000, width_mult=1.):\n",
    "        super(EffNetV2, self).__init__()\n",
    "        self.cfgs = cfgs\n",
    "\n",
    "        # building first layer\n",
    "        input_channel = _make_divisible(24 * width_mult, 8)\n",
    "        layers = [conv_3x3_bn(3, input_channel, 2)]\n",
    "        # building inverted residual blocks\n",
    "        block = MBConv\n",
    "        for t, c, n, s, use_se in self.cfgs:\n",
    "            output_channel = _make_divisible(c * width_mult, 8)\n",
    "            for i in range(n):\n",
    "                layers.append(block(input_channel, output_channel, s if i == 0 else 1, t, use_se))\n",
    "                input_channel = output_channel\n",
    "        self.features = nn.Sequential(*layers)\n",
    "        # building last several layers\n",
    "        output_channel = _make_divisible(1792 * width_mult, 8) if width_mult > 1.0 else 1792\n",
    "        self.conv = conv_1x1_bn(input_channel, output_channel)\n",
    "        self.avgpool = nn.AdaptiveAvgPool2d((1, 1))\n",
    "        self.classifier = nn.Linear(output_channel, num_classes)\n",
    "\n",
    "        self._initialize_weights()\n",
    "\n",
    "    def forward(self, x):\n",
    "        x = self.features(x)\n",
    "        x = self.conv(x)\n",
    "        x = self.avgpool(x)\n",
    "        x = x.view(x.size(0), -1)\n",
    "        x = self.classifier(x)\n",
    "        return x\n",
    "\n",
    "    def _initialize_weights(self):\n",
    "        for m in self.modules():\n",
    "            if isinstance(m, nn.Conv2d):\n",
    "                n = m.kernel_size[0] * m.kernel_size[1] * m.out_channels\n",
    "                m.weight.data.normal_(0, math.sqrt(2. / n))\n",
    "                if m.bias is not None:\n",
    "                    m.bias.data.zero_()\n",
    "            elif isinstance(m, nn.BatchNorm2d):\n",
    "                m.weight.data.fill_(1)\n",
    "                m.bias.data.zero_()\n",
    "            elif isinstance(m, nn.Linear):\n",
    "                m.weight.data.normal_(0, 0.001)\n",
    "                m.bias.data.zero_()\n",
    "\n",
    "\n",
    "def effnetv2_s(**kwargs):\n",
    "    \"\"\"\n",
    "    Constructs a EfficientNetV2-S model\n",
    "    \"\"\"\n",
    "    cfgs = [\n",
    "        # t, c, n, s, SE\n",
    "        [1,  24,  2, 1, 0],\n",
    "        [4,  48,  4, 2, 0],\n",
    "        [4,  64,  4, 2, 0],\n",
    "        [4, 128,  6, 2, 1],\n",
    "        [6, 160,  9, 1, 1],\n",
    "        [6, 256, 15, 2, 1],\n",
    "    ]\n",
    "    return EffNetV2(cfgs, **kwargs)"
   ]
  },
  {
   "cell_type": "code",
   "execution_count": 6,
   "metadata": {},
   "outputs": [],
   "source": [
    "# means = np.array((0.4914, 0.4822, 0.4465))\n",
    "# stds = np.array((0.2023, 0.1994, 0.2010))\n",
    "\n",
    "# transform_augment = transforms.Compose([\n",
    "# #     transforms.RandomCrop(32, padding=4),\n",
    "#     transforms.Resize((32, 32)),\n",
    "#     transforms.RandomRotation([-30, 30]),\n",
    "#     transforms.RandomAffine(0, shear=10, scale=(0.8,1.2)), #Performs actions like zooms, change shear angles.\n",
    "#     transforms.ColorJitter(brightness=0.02, contrast=0.001, saturation=0.2), # Set the color params\n",
    "#     transforms.RandomHorizontalFlip(),\n",
    "#     transforms.ToTensor(),\n",
    "#     transforms.Normalize(means, stds),\n",
    "# ])\n",
    "\n",
    "\n",
    "# transform_augment_test = transforms.Compose([\n",
    "#     transforms.ToTensor(),\n",
    "#     transforms.Normalize(means, stds)])\n",
    "\n",
    "batch_size = 128\n",
    "IMG_SIZE = 32\n",
    "\n",
    "transform_augment = transforms.Compose([\n",
    "    transforms.Resize((IMG_SIZE, IMG_SIZE)),\n",
    "    transforms.RandomCrop(IMG_SIZE, padding=4),\n",
    "    transforms.RandomHorizontalFlip(),\n",
    "    transforms.ToTensor(),\n",
    "    # transforms.Normalize([0.485, 0.456, 0.406], [0.229, 0.224, 0.225])\n",
    "    transforms.Normalize((0.4914, 0.4822, 0.4465), (0.2023, 0.1994, 0.2010))\n",
    "])\n",
    "\n",
    "transform_augment_test = transforms.Compose([\n",
    "    transforms.Resize((IMG_SIZE, IMG_SIZE)),\n",
    "    transforms.ToTensor(),\n",
    "    # transforms.Normalize([0.485, 0.456, 0.406], [0.229, 0.224, 0.225])\n",
    "    transforms.Normalize((0.4914, 0.4822, 0.4465), (0.2023, 0.1994, 0.2010))\n",
    "])\n",
    "\n",
    "\n",
    "train_loader = CIFAR10(\"./cifar_data/\", train=True, transform=transform_augment)\n",
    "trainloader = torch.utils.data.DataLoader(train_loader, \n",
    "                                          batch_size=batch_size,\n",
    "                                          shuffle=True, \n",
    "                                          num_workers=2)\n",
    "\n",
    "\n",
    "test_loader = CIFAR10(\"./cifar_data/\", train=False, transform=transform_augment_test)\n",
    "testloader = torch.utils.data.DataLoader(test_loader, \n",
    "                                         batch_size=batch_size,\n",
    "                                         shuffle=False, \n",
    "                                         num_workers=2)"
   ]
  },
  {
   "cell_type": "code",
   "execution_count": 7,
   "metadata": {},
   "outputs": [],
   "source": [
    "import sys\n",
    "import math\n",
    " \n",
    "# setting path\n",
    "sys.path.append('../')\n",
    "from models import train_model, train_model_with_sc\n",
    "model = effnetv2_s(num_classes=10)"
   ]
  },
  {
   "cell_type": "code",
   "execution_count": 9,
   "metadata": {},
   "outputs": [],
   "source": [
    "class LabelSmoothingCrossEntropy(nn.Module):\n",
    "    def __init__(self, classes, smoothing=0.0, dim=-1, weight = None):\n",
    "        \"\"\"if smoothing == 0, it's one-hot method\n",
    "           if 0 < smoothing < 1, it's smooth method\n",
    "        \"\"\"\n",
    "        super(LabelSmoothingCrossEntropy, self).__init__()\n",
    "        self.confidence = 1.0 - smoothing\n",
    "        self.smoothing = smoothing\n",
    "        self.weight = weight\n",
    "        self.cls = classes\n",
    "        self.dim = dim\n",
    "\n",
    "    def forward(self, pred, target):\n",
    "        assert 0 <= self.smoothing < 1\n",
    "        pred = pred.log_softmax(dim=self.dim)\n",
    "\n",
    "        if self.weight is not None:\n",
    "            pred = pred * self.weight.unsqueeze(0)\n",
    "\n",
    "        with torch.no_grad():\n",
    "            true_dist = torch.zeros_like(pred)\n",
    "            true_dist.fill_(self.smoothing / (self.cls - 1))\n",
    "            true_dist.scatter_(1, target.data.unsqueeze(1), self.confidence)\n",
    "        return torch.mean(torch.sum(-true_dist * pred, dim=self.dim))"
   ]
  },
  {
   "cell_type": "code",
   "execution_count": 12,
   "metadata": {
    "scrolled": true
   },
   "outputs": [
    {
     "name": "stdout",
     "output_type": "stream",
     "text": [
      "Adjusting learning rate of group 0 to 1.0000e-02.\n"
     ]
    },
    {
     "name": "stderr",
     "output_type": "stream",
     "text": [
      "2023-04-13 18:09:12.961685: I tensorflow/core/platform/cpu_feature_guard.cc:193] This TensorFlow binary is optimized with oneAPI Deep Neural Network Library (oneDNN) to use the following CPU instructions in performance-critical operations:  AVX2 FMA\n",
      "To enable them in other operations, rebuild TensorFlow with the appropriate compiler flags.\n",
      "2023-04-13 18:09:13.448988: W tensorflow/compiler/xla/stream_executor/platform/default/dso_loader.cc:64] Could not load dynamic library 'libnvinfer.so.7'; dlerror: libnvinfer.so.7: cannot open shared object file: No such file or directory\n",
      "2023-04-13 18:09:13.449029: W tensorflow/compiler/xla/stream_executor/platform/default/dso_loader.cc:64] Could not load dynamic library 'libnvinfer_plugin.so.7'; dlerror: libnvinfer_plugin.so.7: cannot open shared object file: No such file or directory\n",
      "2023-04-13 18:09:13.449035: W tensorflow/compiler/tf2tensorrt/utils/py_utils.cc:38] TF-TRT Warning: Cannot dlopen some TensorRT libraries. If you would like to use Nvidia GPU with TensorRT, please make sure the missing libraries mentioned above are installed properly.\n"
     ]
    },
    {
     "name": "stdout",
     "output_type": "stream",
     "text": [
      "Adjusting learning rate of group 0 to 1.0000e-02.\n"
     ]
    },
    {
     "name": "stderr",
     "output_type": "stream",
     "text": [
      "INFO Epoch 0\n",
      "INFO The mean accuracy train: 0.304\n",
      "INFO The mean accuracy test: 0.423\n",
      "INFO -------------------------------\n"
     ]
    },
    {
     "name": "stdout",
     "output_type": "stream",
     "text": [
      "Adjusting learning rate of group 0 to 9.9999e-03.\n"
     ]
    },
    {
     "name": "stderr",
     "output_type": "stream",
     "text": [
      "INFO Epoch 1\n",
      "INFO The mean accuracy train: 0.426\n",
      "INFO The mean accuracy test: 0.463\n",
      "INFO -------------------------------\n"
     ]
    },
    {
     "name": "stdout",
     "output_type": "stream",
     "text": [
      "Adjusting learning rate of group 0 to 9.9998e-03.\n"
     ]
    },
    {
     "name": "stderr",
     "output_type": "stream",
     "text": [
      "INFO Epoch 2\n",
      "INFO The mean accuracy train: 0.484\n",
      "INFO The mean accuracy test: 0.504\n",
      "INFO -------------------------------\n"
     ]
    },
    {
     "name": "stdout",
     "output_type": "stream",
     "text": [
      "Adjusting learning rate of group 0 to 9.9996e-03.\n"
     ]
    },
    {
     "name": "stderr",
     "output_type": "stream",
     "text": [
      "INFO Epoch 3\n",
      "INFO The mean accuracy train: 0.529\n",
      "INFO The mean accuracy test: 0.546\n",
      "INFO -------------------------------\n"
     ]
    },
    {
     "name": "stdout",
     "output_type": "stream",
     "text": [
      "Adjusting learning rate of group 0 to 9.9994e-03.\n"
     ]
    },
    {
     "name": "stderr",
     "output_type": "stream",
     "text": [
      "INFO Epoch 4\n",
      "INFO The mean accuracy train: 0.568\n",
      "INFO The mean accuracy test: 0.589\n",
      "INFO -------------------------------\n"
     ]
    },
    {
     "name": "stdout",
     "output_type": "stream",
     "text": [
      "Adjusting learning rate of group 0 to 9.9991e-03.\n"
     ]
    },
    {
     "name": "stderr",
     "output_type": "stream",
     "text": [
      "INFO Epoch 5\n",
      "INFO The mean accuracy train: 0.601\n",
      "INFO The mean accuracy test: 0.618\n",
      "INFO -------------------------------\n"
     ]
    },
    {
     "name": "stdout",
     "output_type": "stream",
     "text": [
      "Adjusting learning rate of group 0 to 9.9988e-03.\n"
     ]
    },
    {
     "name": "stderr",
     "output_type": "stream",
     "text": [
      "INFO Epoch 6\n",
      "INFO The mean accuracy train: 0.631\n",
      "INFO The mean accuracy test: 0.639\n",
      "INFO -------------------------------\n"
     ]
    },
    {
     "name": "stdout",
     "output_type": "stream",
     "text": [
      "Adjusting learning rate of group 0 to 9.9984e-03.\n"
     ]
    },
    {
     "name": "stderr",
     "output_type": "stream",
     "text": [
      "INFO Epoch 7\n",
      "INFO The mean accuracy train: 0.655\n",
      "INFO The mean accuracy test: 0.652\n",
      "INFO -------------------------------\n"
     ]
    },
    {
     "name": "stdout",
     "output_type": "stream",
     "text": [
      "Adjusting learning rate of group 0 to 9.9980e-03.\n"
     ]
    },
    {
     "name": "stderr",
     "output_type": "stream",
     "text": [
      "INFO Epoch 8\n",
      "INFO The mean accuracy train: 0.677\n",
      "INFO The mean accuracy test: 0.671\n",
      "INFO -------------------------------\n"
     ]
    },
    {
     "name": "stdout",
     "output_type": "stream",
     "text": [
      "Adjusting learning rate of group 0 to 9.9975e-03.\n"
     ]
    },
    {
     "name": "stderr",
     "output_type": "stream",
     "text": [
      "INFO Epoch 9\n",
      "INFO The mean accuracy train: 0.697\n",
      "INFO The mean accuracy test: 0.690\n",
      "INFO -------------------------------\n"
     ]
    },
    {
     "name": "stdout",
     "output_type": "stream",
     "text": [
      "Adjusting learning rate of group 0 to 9.9970e-03.\n"
     ]
    },
    {
     "name": "stderr",
     "output_type": "stream",
     "text": [
      "INFO Epoch 10\n",
      "INFO The mean accuracy train: 0.711\n",
      "INFO The mean accuracy test: 0.700\n",
      "INFO -------------------------------\n"
     ]
    },
    {
     "name": "stdout",
     "output_type": "stream",
     "text": [
      "Adjusting learning rate of group 0 to 9.9964e-03.\n"
     ]
    },
    {
     "name": "stderr",
     "output_type": "stream",
     "text": [
      "INFO Epoch 11\n",
      "INFO The mean accuracy train: 0.727\n",
      "INFO The mean accuracy test: 0.709\n",
      "INFO -------------------------------\n"
     ]
    },
    {
     "name": "stdout",
     "output_type": "stream",
     "text": [
      "Adjusting learning rate of group 0 to 9.9958e-03.\n"
     ]
    },
    {
     "name": "stderr",
     "output_type": "stream",
     "text": [
      "INFO Epoch 12\n",
      "INFO The mean accuracy train: 0.737\n",
      "INFO The mean accuracy test: 0.720\n",
      "INFO -------------------------------\n"
     ]
    },
    {
     "name": "stdout",
     "output_type": "stream",
     "text": [
      "Adjusting learning rate of group 0 to 9.9952e-03.\n"
     ]
    },
    {
     "name": "stderr",
     "output_type": "stream",
     "text": [
      "INFO Epoch 13\n",
      "INFO The mean accuracy train: 0.748\n",
      "INFO The mean accuracy test: 0.725\n",
      "INFO -------------------------------\n"
     ]
    },
    {
     "name": "stdout",
     "output_type": "stream",
     "text": [
      "Adjusting learning rate of group 0 to 9.9944e-03.\n"
     ]
    },
    {
     "name": "stderr",
     "output_type": "stream",
     "text": [
      "INFO Epoch 14\n",
      "INFO The mean accuracy train: 0.759\n",
      "INFO The mean accuracy test: 0.730\n",
      "INFO -------------------------------\n"
     ]
    },
    {
     "name": "stdout",
     "output_type": "stream",
     "text": [
      "Adjusting learning rate of group 0 to 9.9937e-03.\n"
     ]
    },
    {
     "name": "stderr",
     "output_type": "stream",
     "text": [
      "INFO Epoch 15\n",
      "INFO The mean accuracy train: 0.769\n",
      "INFO The mean accuracy test: 0.734\n",
      "INFO -------------------------------\n"
     ]
    },
    {
     "name": "stdout",
     "output_type": "stream",
     "text": [
      "Adjusting learning rate of group 0 to 9.9929e-03.\n"
     ]
    },
    {
     "name": "stderr",
     "output_type": "stream",
     "text": [
      "INFO Epoch 16\n",
      "INFO The mean accuracy train: 0.777\n",
      "INFO The mean accuracy test: 0.744\n",
      "INFO -------------------------------\n"
     ]
    },
    {
     "name": "stdout",
     "output_type": "stream",
     "text": [
      "Adjusting learning rate of group 0 to 9.9920e-03.\n"
     ]
    },
    {
     "name": "stderr",
     "output_type": "stream",
     "text": [
      "INFO Epoch 17\n",
      "INFO The mean accuracy train: 0.785\n",
      "INFO The mean accuracy test: 0.748\n",
      "INFO -------------------------------\n"
     ]
    },
    {
     "name": "stdout",
     "output_type": "stream",
     "text": [
      "Adjusting learning rate of group 0 to 9.9911e-03.\n"
     ]
    },
    {
     "name": "stderr",
     "output_type": "stream",
     "text": [
      "INFO Epoch 18\n",
      "INFO The mean accuracy train: 0.790\n",
      "INFO The mean accuracy test: 0.750\n",
      "INFO -------------------------------\n"
     ]
    },
    {
     "name": "stdout",
     "output_type": "stream",
     "text": [
      "Adjusting learning rate of group 0 to 9.9901e-03.\n"
     ]
    },
    {
     "name": "stderr",
     "output_type": "stream",
     "text": [
      "INFO Epoch 19\n",
      "INFO The mean accuracy train: 0.797\n",
      "INFO The mean accuracy test: 0.757\n",
      "INFO -------------------------------\n"
     ]
    },
    {
     "name": "stdout",
     "output_type": "stream",
     "text": [
      "Adjusting learning rate of group 0 to 9.9891e-03.\n"
     ]
    },
    {
     "name": "stderr",
     "output_type": "stream",
     "text": [
      "INFO Epoch 20\n",
      "INFO The mean accuracy train: 0.804\n",
      "INFO The mean accuracy test: 0.769\n",
      "INFO -------------------------------\n"
     ]
    },
    {
     "name": "stdout",
     "output_type": "stream",
     "text": [
      "Adjusting learning rate of group 0 to 9.9881e-03.\n"
     ]
    },
    {
     "name": "stderr",
     "output_type": "stream",
     "text": [
      "INFO Epoch 21\n",
      "INFO The mean accuracy train: 0.810\n",
      "INFO The mean accuracy test: 0.766\n",
      "INFO -------------------------------\n"
     ]
    },
    {
     "name": "stdout",
     "output_type": "stream",
     "text": [
      "Adjusting learning rate of group 0 to 9.9870e-03.\n"
     ]
    },
    {
     "name": "stderr",
     "output_type": "stream",
     "text": [
      "INFO Epoch 22\n",
      "INFO The mean accuracy train: 0.815\n",
      "INFO The mean accuracy test: 0.765\n",
      "INFO -------------------------------\n"
     ]
    },
    {
     "name": "stdout",
     "output_type": "stream",
     "text": [
      "Adjusting learning rate of group 0 to 9.9858e-03.\n"
     ]
    },
    {
     "name": "stderr",
     "output_type": "stream",
     "text": [
      "INFO Epoch 23\n",
      "INFO The mean accuracy train: 0.819\n",
      "INFO The mean accuracy test: 0.766\n",
      "INFO -------------------------------\n"
     ]
    },
    {
     "name": "stdout",
     "output_type": "stream",
     "text": [
      "Adjusting learning rate of group 0 to 9.9846e-03.\n"
     ]
    },
    {
     "name": "stderr",
     "output_type": "stream",
     "text": [
      "INFO Epoch 24\n",
      "INFO The mean accuracy train: 0.827\n",
      "INFO The mean accuracy test: 0.775\n",
      "INFO -------------------------------\n"
     ]
    },
    {
     "name": "stdout",
     "output_type": "stream",
     "text": [
      "Adjusting learning rate of group 0 to 9.9833e-03.\n"
     ]
    },
    {
     "name": "stderr",
     "output_type": "stream",
     "text": [
      "INFO Epoch 25\n",
      "INFO The mean accuracy train: 0.828\n",
      "INFO The mean accuracy test: 0.777\n",
      "INFO -------------------------------\n"
     ]
    },
    {
     "name": "stdout",
     "output_type": "stream",
     "text": [
      "Adjusting learning rate of group 0 to 9.9820e-03.\n"
     ]
    },
    {
     "name": "stderr",
     "output_type": "stream",
     "text": [
      "INFO Epoch 26\n",
      "INFO The mean accuracy train: 0.833\n",
      "INFO The mean accuracy test: 0.781\n",
      "INFO -------------------------------\n"
     ]
    },
    {
     "name": "stdout",
     "output_type": "stream",
     "text": [
      "Adjusting learning rate of group 0 to 9.9807e-03.\n"
     ]
    },
    {
     "name": "stderr",
     "output_type": "stream",
     "text": [
      "INFO Epoch 27\n",
      "INFO The mean accuracy train: 0.834\n",
      "INFO The mean accuracy test: 0.787\n",
      "INFO -------------------------------\n"
     ]
    },
    {
     "name": "stdout",
     "output_type": "stream",
     "text": [
      "Adjusting learning rate of group 0 to 9.9793e-03.\n"
     ]
    },
    {
     "name": "stderr",
     "output_type": "stream",
     "text": [
      "INFO Epoch 28\n",
      "INFO The mean accuracy train: 0.840\n",
      "INFO The mean accuracy test: 0.788\n",
      "INFO -------------------------------\n"
     ]
    },
    {
     "name": "stdout",
     "output_type": "stream",
     "text": [
      "Adjusting learning rate of group 0 to 9.9778e-03.\n"
     ]
    },
    {
     "name": "stderr",
     "output_type": "stream",
     "text": [
      "INFO Epoch 29\n",
      "INFO The mean accuracy train: 0.845\n",
      "INFO The mean accuracy test: 0.785\n",
      "INFO -------------------------------\n"
     ]
    },
    {
     "name": "stdout",
     "output_type": "stream",
     "text": [
      "Adjusting learning rate of group 0 to 9.9763e-03.\n"
     ]
    },
    {
     "name": "stderr",
     "output_type": "stream",
     "text": [
      "INFO Epoch 30\n",
      "INFO The mean accuracy train: 0.850\n",
      "INFO The mean accuracy test: 0.789\n",
      "INFO -------------------------------\n"
     ]
    },
    {
     "name": "stdout",
     "output_type": "stream",
     "text": [
      "Adjusting learning rate of group 0 to 9.9748e-03.\n"
     ]
    },
    {
     "name": "stderr",
     "output_type": "stream",
     "text": [
      "INFO Epoch 31\n",
      "INFO The mean accuracy train: 0.850\n",
      "INFO The mean accuracy test: 0.793\n",
      "INFO -------------------------------\n"
     ]
    },
    {
     "name": "stdout",
     "output_type": "stream",
     "text": [
      "Adjusting learning rate of group 0 to 9.9732e-03.\n"
     ]
    },
    {
     "name": "stderr",
     "output_type": "stream",
     "text": [
      "INFO Epoch 32\n",
      "INFO The mean accuracy train: 0.852\n",
      "INFO The mean accuracy test: 0.790\n",
      "INFO -------------------------------\n"
     ]
    },
    {
     "name": "stdout",
     "output_type": "stream",
     "text": [
      "Adjusting learning rate of group 0 to 9.9715e-03.\n"
     ]
    },
    {
     "name": "stderr",
     "output_type": "stream",
     "text": [
      "INFO Epoch 33\n",
      "INFO The mean accuracy train: 0.860\n",
      "INFO The mean accuracy test: 0.790\n",
      "INFO -------------------------------\n"
     ]
    },
    {
     "name": "stdout",
     "output_type": "stream",
     "text": [
      "Adjusting learning rate of group 0 to 9.9698e-03.\n"
     ]
    },
    {
     "name": "stderr",
     "output_type": "stream",
     "text": [
      "INFO Epoch 34\n",
      "INFO The mean accuracy train: 0.862\n",
      "INFO The mean accuracy test: 0.797\n",
      "INFO -------------------------------\n"
     ]
    },
    {
     "name": "stdout",
     "output_type": "stream",
     "text": [
      "Adjusting learning rate of group 0 to 9.9681e-03.\n"
     ]
    },
    {
     "name": "stderr",
     "output_type": "stream",
     "text": [
      "INFO Epoch 35\n",
      "INFO The mean accuracy train: 0.862\n",
      "INFO The mean accuracy test: 0.794\n",
      "INFO -------------------------------\n"
     ]
    },
    {
     "name": "stdout",
     "output_type": "stream",
     "text": [
      "Adjusting learning rate of group 0 to 9.9663e-03.\n"
     ]
    },
    {
     "name": "stderr",
     "output_type": "stream",
     "text": [
      "INFO Epoch 36\n",
      "INFO The mean accuracy train: 0.869\n",
      "INFO The mean accuracy test: 0.803\n",
      "INFO -------------------------------\n"
     ]
    },
    {
     "name": "stdout",
     "output_type": "stream",
     "text": [
      "Adjusting learning rate of group 0 to 9.9644e-03.\n"
     ]
    },
    {
     "name": "stderr",
     "output_type": "stream",
     "text": [
      "INFO Epoch 37\n",
      "INFO The mean accuracy train: 0.873\n",
      "INFO The mean accuracy test: 0.802\n",
      "INFO -------------------------------\n"
     ]
    },
    {
     "name": "stdout",
     "output_type": "stream",
     "text": [
      "Adjusting learning rate of group 0 to 9.9625e-03.\n"
     ]
    },
    {
     "name": "stderr",
     "output_type": "stream",
     "text": [
      "INFO Epoch 38\n",
      "INFO The mean accuracy train: 0.874\n",
      "INFO The mean accuracy test: 0.799\n",
      "INFO -------------------------------\n"
     ]
    },
    {
     "name": "stdout",
     "output_type": "stream",
     "text": [
      "Adjusting learning rate of group 0 to 9.9606e-03.\n"
     ]
    },
    {
     "name": "stderr",
     "output_type": "stream",
     "text": [
      "INFO Epoch 39\n",
      "INFO The mean accuracy train: 0.876\n",
      "INFO The mean accuracy test: 0.806\n",
      "INFO -------------------------------\n"
     ]
    },
    {
     "name": "stdout",
     "output_type": "stream",
     "text": [
      "Adjusting learning rate of group 0 to 9.9586e-03.\n"
     ]
    },
    {
     "name": "stderr",
     "output_type": "stream",
     "text": [
      "INFO Epoch 40\n",
      "INFO The mean accuracy train: 0.878\n",
      "INFO The mean accuracy test: 0.804\n",
      "INFO -------------------------------\n"
     ]
    },
    {
     "name": "stdout",
     "output_type": "stream",
     "text": [
      "Adjusting learning rate of group 0 to 9.9565e-03.\n"
     ]
    },
    {
     "name": "stderr",
     "output_type": "stream",
     "text": [
      "INFO Epoch 41\n",
      "INFO The mean accuracy train: 0.883\n",
      "INFO The mean accuracy test: 0.802\n",
      "INFO -------------------------------\n"
     ]
    },
    {
     "name": "stdout",
     "output_type": "stream",
     "text": [
      "Adjusting learning rate of group 0 to 9.9544e-03.\n"
     ]
    },
    {
     "name": "stderr",
     "output_type": "stream",
     "text": [
      "INFO Epoch 42\n",
      "INFO The mean accuracy train: 0.882\n",
      "INFO The mean accuracy test: 0.808\n",
      "INFO -------------------------------\n"
     ]
    },
    {
     "name": "stdout",
     "output_type": "stream",
     "text": [
      "Adjusting learning rate of group 0 to 9.9523e-03.\n"
     ]
    },
    {
     "name": "stderr",
     "output_type": "stream",
     "text": [
      "INFO Epoch 43\n",
      "INFO The mean accuracy train: 0.886\n",
      "INFO The mean accuracy test: 0.805\n",
      "INFO -------------------------------\n"
     ]
    },
    {
     "name": "stdout",
     "output_type": "stream",
     "text": [
      "Adjusting learning rate of group 0 to 9.9501e-03.\n"
     ]
    },
    {
     "name": "stderr",
     "output_type": "stream",
     "text": [
      "INFO Epoch 44\n",
      "INFO The mean accuracy train: 0.889\n",
      "INFO The mean accuracy test: 0.805\n",
      "INFO -------------------------------\n"
     ]
    },
    {
     "name": "stdout",
     "output_type": "stream",
     "text": [
      "Adjusting learning rate of group 0 to 9.9479e-03.\n"
     ]
    },
    {
     "name": "stderr",
     "output_type": "stream",
     "text": [
      "INFO Epoch 45\n",
      "INFO The mean accuracy train: 0.892\n",
      "INFO The mean accuracy test: 0.806\n",
      "INFO -------------------------------\n"
     ]
    },
    {
     "name": "stdout",
     "output_type": "stream",
     "text": [
      "Adjusting learning rate of group 0 to 9.9456e-03.\n"
     ]
    },
    {
     "name": "stderr",
     "output_type": "stream",
     "text": [
      "INFO Epoch 46\n",
      "INFO The mean accuracy train: 0.893\n",
      "INFO The mean accuracy test: 0.811\n",
      "INFO -------------------------------\n"
     ]
    },
    {
     "name": "stdout",
     "output_type": "stream",
     "text": [
      "Adjusting learning rate of group 0 to 9.9433e-03.\n"
     ]
    },
    {
     "name": "stderr",
     "output_type": "stream",
     "text": [
      "INFO Epoch 47\n",
      "INFO The mean accuracy train: 0.897\n",
      "INFO The mean accuracy test: 0.809\n",
      "INFO -------------------------------\n"
     ]
    },
    {
     "name": "stdout",
     "output_type": "stream",
     "text": [
      "Adjusting learning rate of group 0 to 9.9409e-03.\n"
     ]
    },
    {
     "name": "stderr",
     "output_type": "stream",
     "text": [
      "INFO Epoch 48\n",
      "INFO The mean accuracy train: 0.900\n",
      "INFO The mean accuracy test: 0.811\n",
      "INFO -------------------------------\n"
     ]
    },
    {
     "name": "stdout",
     "output_type": "stream",
     "text": [
      "Adjusting learning rate of group 0 to 9.9384e-03.\n"
     ]
    },
    {
     "name": "stderr",
     "output_type": "stream",
     "text": [
      "INFO Epoch 49\n",
      "INFO The mean accuracy train: 0.899\n",
      "INFO The mean accuracy test: 0.804\n",
      "INFO -------------------------------\n"
     ]
    },
    {
     "name": "stdout",
     "output_type": "stream",
     "text": [
      "Adjusting learning rate of group 0 to 9.9360e-03.\n"
     ]
    },
    {
     "name": "stderr",
     "output_type": "stream",
     "text": [
      "INFO Epoch 50\n",
      "INFO The mean accuracy train: 0.900\n",
      "INFO The mean accuracy test: 0.807\n",
      "INFO -------------------------------\n"
     ]
    },
    {
     "name": "stdout",
     "output_type": "stream",
     "text": [
      "Adjusting learning rate of group 0 to 9.9334e-03.\n"
     ]
    },
    {
     "name": "stderr",
     "output_type": "stream",
     "text": [
      "INFO Epoch 51\n",
      "INFO The mean accuracy train: 0.905\n",
      "INFO The mean accuracy test: 0.812\n",
      "INFO -------------------------------\n"
     ]
    },
    {
     "name": "stdout",
     "output_type": "stream",
     "text": [
      "Adjusting learning rate of group 0 to 9.9309e-03.\n"
     ]
    },
    {
     "name": "stderr",
     "output_type": "stream",
     "text": [
      "INFO Epoch 52\n",
      "INFO The mean accuracy train: 0.907\n",
      "INFO The mean accuracy test: 0.805\n",
      "INFO -------------------------------\n"
     ]
    },
    {
     "name": "stdout",
     "output_type": "stream",
     "text": [
      "Adjusting learning rate of group 0 to 9.9282e-03.\n"
     ]
    },
    {
     "name": "stderr",
     "output_type": "stream",
     "text": [
      "INFO Epoch 53\n",
      "INFO The mean accuracy train: 0.907\n",
      "INFO The mean accuracy test: 0.813\n",
      "INFO -------------------------------\n"
     ]
    },
    {
     "name": "stdout",
     "output_type": "stream",
     "text": [
      "Adjusting learning rate of group 0 to 9.9255e-03.\n"
     ]
    },
    {
     "name": "stderr",
     "output_type": "stream",
     "text": [
      "INFO Epoch 54\n",
      "INFO The mean accuracy train: 0.909\n",
      "INFO The mean accuracy test: 0.817\n",
      "INFO -------------------------------\n"
     ]
    },
    {
     "name": "stdout",
     "output_type": "stream",
     "text": [
      "Adjusting learning rate of group 0 to 9.9228e-03.\n"
     ]
    },
    {
     "name": "stderr",
     "output_type": "stream",
     "text": [
      "INFO Epoch 55\n",
      "INFO The mean accuracy train: 0.914\n",
      "INFO The mean accuracy test: 0.811\n",
      "INFO -------------------------------\n"
     ]
    },
    {
     "name": "stdout",
     "output_type": "stream",
     "text": [
      "Adjusting learning rate of group 0 to 9.9200e-03.\n"
     ]
    },
    {
     "name": "stderr",
     "output_type": "stream",
     "text": [
      "INFO Epoch 56\n",
      "INFO The mean accuracy train: 0.912\n",
      "INFO The mean accuracy test: 0.819\n",
      "INFO -------------------------------\n"
     ]
    },
    {
     "name": "stdout",
     "output_type": "stream",
     "text": [
      "Adjusting learning rate of group 0 to 9.9172e-03.\n"
     ]
    },
    {
     "name": "stderr",
     "output_type": "stream",
     "text": [
      "INFO Epoch 57\n",
      "INFO The mean accuracy train: 0.915\n",
      "INFO The mean accuracy test: 0.810\n",
      "INFO -------------------------------\n"
     ]
    },
    {
     "name": "stdout",
     "output_type": "stream",
     "text": [
      "Adjusting learning rate of group 0 to 9.9144e-03.\n"
     ]
    },
    {
     "name": "stderr",
     "output_type": "stream",
     "text": [
      "INFO Epoch 58\n",
      "INFO The mean accuracy train: 0.918\n",
      "INFO The mean accuracy test: 0.817\n",
      "INFO -------------------------------\n"
     ]
    },
    {
     "name": "stdout",
     "output_type": "stream",
     "text": [
      "Adjusting learning rate of group 0 to 9.9114e-03.\n"
     ]
    },
    {
     "name": "stderr",
     "output_type": "stream",
     "text": [
      "INFO Epoch 59\n",
      "INFO The mean accuracy train: 0.918\n",
      "INFO The mean accuracy test: 0.817\n",
      "INFO -------------------------------\n"
     ]
    },
    {
     "name": "stdout",
     "output_type": "stream",
     "text": [
      "Adjusting learning rate of group 0 to 9.9085e-03.\n"
     ]
    },
    {
     "name": "stderr",
     "output_type": "stream",
     "text": [
      "INFO Epoch 60\n",
      "INFO The mean accuracy train: 0.921\n",
      "INFO The mean accuracy test: 0.817\n",
      "INFO -------------------------------\n"
     ]
    },
    {
     "name": "stdout",
     "output_type": "stream",
     "text": [
      "Adjusting learning rate of group 0 to 9.9055e-03.\n"
     ]
    },
    {
     "name": "stderr",
     "output_type": "stream",
     "text": [
      "INFO Epoch 61\n",
      "INFO The mean accuracy train: 0.922\n",
      "INFO The mean accuracy test: 0.810\n",
      "INFO -------------------------------\n"
     ]
    },
    {
     "name": "stdout",
     "output_type": "stream",
     "text": [
      "Adjusting learning rate of group 0 to 9.9024e-03.\n"
     ]
    },
    {
     "name": "stderr",
     "output_type": "stream",
     "text": [
      "INFO Epoch 62\n",
      "INFO The mean accuracy train: 0.923\n",
      "INFO The mean accuracy test: 0.820\n",
      "INFO -------------------------------\n"
     ]
    },
    {
     "name": "stdout",
     "output_type": "stream",
     "text": [
      "Adjusting learning rate of group 0 to 9.8993e-03.\n"
     ]
    },
    {
     "name": "stderr",
     "output_type": "stream",
     "text": [
      "INFO Epoch 63\n",
      "INFO The mean accuracy train: 0.925\n",
      "INFO The mean accuracy test: 0.818\n",
      "INFO -------------------------------\n"
     ]
    },
    {
     "name": "stdout",
     "output_type": "stream",
     "text": [
      "Adjusting learning rate of group 0 to 9.8961e-03.\n"
     ]
    },
    {
     "name": "stderr",
     "output_type": "stream",
     "text": [
      "INFO Epoch 64\n",
      "INFO The mean accuracy train: 0.926\n",
      "INFO The mean accuracy test: 0.816\n",
      "INFO -------------------------------\n"
     ]
    },
    {
     "name": "stdout",
     "output_type": "stream",
     "text": [
      "Adjusting learning rate of group 0 to 9.8929e-03.\n"
     ]
    },
    {
     "name": "stderr",
     "output_type": "stream",
     "text": [
      "INFO Epoch 65\n",
      "INFO The mean accuracy train: 0.927\n",
      "INFO The mean accuracy test: 0.813\n",
      "INFO -------------------------------\n"
     ]
    },
    {
     "name": "stdout",
     "output_type": "stream",
     "text": [
      "Adjusting learning rate of group 0 to 9.8896e-03.\n"
     ]
    },
    {
     "name": "stderr",
     "output_type": "stream",
     "text": [
      "INFO Epoch 66\n",
      "INFO The mean accuracy train: 0.929\n",
      "INFO The mean accuracy test: 0.818\n",
      "INFO -------------------------------\n"
     ]
    },
    {
     "name": "stdout",
     "output_type": "stream",
     "text": [
      "Adjusting learning rate of group 0 to 9.8863e-03.\n"
     ]
    },
    {
     "name": "stderr",
     "output_type": "stream",
     "text": [
      "INFO Epoch 67\n",
      "INFO The mean accuracy train: 0.929\n",
      "INFO The mean accuracy test: 0.819\n",
      "INFO -------------------------------\n"
     ]
    },
    {
     "name": "stdout",
     "output_type": "stream",
     "text": [
      "Adjusting learning rate of group 0 to 9.8830e-03.\n"
     ]
    },
    {
     "name": "stderr",
     "output_type": "stream",
     "text": [
      "INFO Epoch 68\n",
      "INFO The mean accuracy train: 0.932\n",
      "INFO The mean accuracy test: 0.817\n",
      "INFO -------------------------------\n"
     ]
    },
    {
     "name": "stdout",
     "output_type": "stream",
     "text": [
      "Adjusting learning rate of group 0 to 9.8796e-03.\n"
     ]
    },
    {
     "name": "stderr",
     "output_type": "stream",
     "text": [
      "INFO Epoch 69\n",
      "INFO The mean accuracy train: 0.933\n",
      "INFO The mean accuracy test: 0.821\n",
      "INFO -------------------------------\n"
     ]
    },
    {
     "name": "stdout",
     "output_type": "stream",
     "text": [
      "Adjusting learning rate of group 0 to 9.8761e-03.\n"
     ]
    },
    {
     "name": "stderr",
     "output_type": "stream",
     "text": [
      "INFO Epoch 70\n",
      "INFO The mean accuracy train: 0.932\n",
      "INFO The mean accuracy test: 0.820\n",
      "INFO -------------------------------\n"
     ]
    },
    {
     "name": "stdout",
     "output_type": "stream",
     "text": [
      "Adjusting learning rate of group 0 to 9.8726e-03.\n"
     ]
    },
    {
     "name": "stderr",
     "output_type": "stream",
     "text": [
      "INFO Epoch 71\n",
      "INFO The mean accuracy train: 0.937\n",
      "INFO The mean accuracy test: 0.817\n",
      "INFO -------------------------------\n"
     ]
    },
    {
     "name": "stdout",
     "output_type": "stream",
     "text": [
      "Adjusting learning rate of group 0 to 9.8691e-03.\n"
     ]
    },
    {
     "name": "stderr",
     "output_type": "stream",
     "text": [
      "INFO Epoch 72\n",
      "INFO The mean accuracy train: 0.936\n",
      "INFO The mean accuracy test: 0.816\n",
      "INFO -------------------------------\n"
     ]
    },
    {
     "name": "stdout",
     "output_type": "stream",
     "text": [
      "Adjusting learning rate of group 0 to 9.8655e-03.\n"
     ]
    },
    {
     "name": "stderr",
     "output_type": "stream",
     "text": [
      "INFO Epoch 73\n",
      "INFO The mean accuracy train: 0.938\n",
      "INFO The mean accuracy test: 0.821\n",
      "INFO -------------------------------\n"
     ]
    },
    {
     "name": "stdout",
     "output_type": "stream",
     "text": [
      "Adjusting learning rate of group 0 to 9.8618e-03.\n"
     ]
    },
    {
     "name": "stderr",
     "output_type": "stream",
     "text": [
      "INFO Epoch 74\n",
      "INFO The mean accuracy train: 0.938\n",
      "INFO The mean accuracy test: 0.817\n",
      "INFO -------------------------------\n"
     ]
    },
    {
     "name": "stdout",
     "output_type": "stream",
     "text": [
      "Adjusting learning rate of group 0 to 9.8582e-03.\n"
     ]
    },
    {
     "name": "stderr",
     "output_type": "stream",
     "text": [
      "INFO Epoch 75\n",
      "INFO The mean accuracy train: 0.941\n",
      "INFO The mean accuracy test: 0.821\n",
      "INFO -------------------------------\n"
     ]
    },
    {
     "name": "stdout",
     "output_type": "stream",
     "text": [
      "Adjusting learning rate of group 0 to 9.8544e-03.\n"
     ]
    },
    {
     "name": "stderr",
     "output_type": "stream",
     "text": [
      "INFO Epoch 76\n",
      "INFO The mean accuracy train: 0.942\n",
      "INFO The mean accuracy test: 0.817\n",
      "INFO -------------------------------\n"
     ]
    },
    {
     "name": "stdout",
     "output_type": "stream",
     "text": [
      "Adjusting learning rate of group 0 to 9.8506e-03.\n"
     ]
    },
    {
     "name": "stderr",
     "output_type": "stream",
     "text": [
      "INFO Epoch 77\n",
      "INFO The mean accuracy train: 0.942\n",
      "INFO The mean accuracy test: 0.821\n",
      "INFO -------------------------------\n"
     ]
    },
    {
     "name": "stdout",
     "output_type": "stream",
     "text": [
      "Adjusting learning rate of group 0 to 9.8468e-03.\n"
     ]
    },
    {
     "name": "stderr",
     "output_type": "stream",
     "text": [
      "INFO Epoch 78\n",
      "INFO The mean accuracy train: 0.943\n",
      "INFO The mean accuracy test: 0.822\n",
      "INFO -------------------------------\n"
     ]
    },
    {
     "name": "stdout",
     "output_type": "stream",
     "text": [
      "Adjusting learning rate of group 0 to 9.8429e-03.\n"
     ]
    },
    {
     "name": "stderr",
     "output_type": "stream",
     "text": [
      "INFO Epoch 79\n",
      "INFO The mean accuracy train: 0.945\n",
      "INFO The mean accuracy test: 0.813\n",
      "INFO -------------------------------\n"
     ]
    },
    {
     "name": "stdout",
     "output_type": "stream",
     "text": [
      "Adjusting learning rate of group 0 to 9.8390e-03.\n"
     ]
    },
    {
     "name": "stderr",
     "output_type": "stream",
     "text": [
      "INFO Epoch 80\n",
      "INFO The mean accuracy train: 0.947\n",
      "INFO The mean accuracy test: 0.821\n",
      "INFO -------------------------------\n"
     ]
    },
    {
     "name": "stdout",
     "output_type": "stream",
     "text": [
      "Adjusting learning rate of group 0 to 9.8350e-03.\n"
     ]
    },
    {
     "name": "stderr",
     "output_type": "stream",
     "text": [
      "INFO Epoch 81\n",
      "INFO The mean accuracy train: 0.945\n",
      "INFO The mean accuracy test: 0.822\n",
      "INFO -------------------------------\n"
     ]
    },
    {
     "name": "stdout",
     "output_type": "stream",
     "text": [
      "Adjusting learning rate of group 0 to 9.8310e-03.\n"
     ]
    },
    {
     "name": "stderr",
     "output_type": "stream",
     "text": [
      "INFO Epoch 82\n",
      "INFO The mean accuracy train: 0.947\n",
      "INFO The mean accuracy test: 0.816\n",
      "INFO -------------------------------\n"
     ]
    },
    {
     "name": "stdout",
     "output_type": "stream",
     "text": [
      "Adjusting learning rate of group 0 to 9.8269e-03.\n"
     ]
    },
    {
     "name": "stderr",
     "output_type": "stream",
     "text": [
      "INFO Epoch 83\n",
      "INFO The mean accuracy train: 0.949\n",
      "INFO The mean accuracy test: 0.818\n",
      "INFO -------------------------------\n"
     ]
    },
    {
     "name": "stdout",
     "output_type": "stream",
     "text": [
      "Adjusting learning rate of group 0 to 9.8228e-03.\n"
     ]
    },
    {
     "name": "stderr",
     "output_type": "stream",
     "text": [
      "INFO Epoch 84\n",
      "INFO The mean accuracy train: 0.951\n",
      "INFO The mean accuracy test: 0.818\n",
      "INFO -------------------------------\n"
     ]
    },
    {
     "name": "stdout",
     "output_type": "stream",
     "text": [
      "Adjusting learning rate of group 0 to 9.8186e-03.\n"
     ]
    },
    {
     "name": "stderr",
     "output_type": "stream",
     "text": [
      "INFO Epoch 85\n",
      "INFO The mean accuracy train: 0.951\n",
      "INFO The mean accuracy test: 0.823\n",
      "INFO -------------------------------\n"
     ]
    },
    {
     "name": "stdout",
     "output_type": "stream",
     "text": [
      "Adjusting learning rate of group 0 to 9.8144e-03.\n"
     ]
    },
    {
     "name": "stderr",
     "output_type": "stream",
     "text": [
      "INFO Epoch 86\n",
      "INFO The mean accuracy train: 0.950\n",
      "INFO The mean accuracy test: 0.818\n",
      "INFO -------------------------------\n"
     ]
    },
    {
     "name": "stdout",
     "output_type": "stream",
     "text": [
      "Adjusting learning rate of group 0 to 9.8101e-03.\n"
     ]
    },
    {
     "name": "stderr",
     "output_type": "stream",
     "text": [
      "INFO Epoch 87\n",
      "INFO The mean accuracy train: 0.954\n",
      "INFO The mean accuracy test: 0.815\n",
      "INFO -------------------------------\n"
     ]
    },
    {
     "name": "stdout",
     "output_type": "stream",
     "text": [
      "Adjusting learning rate of group 0 to 9.8058e-03.\n"
     ]
    },
    {
     "name": "stderr",
     "output_type": "stream",
     "text": [
      "INFO Epoch 88\n",
      "INFO The mean accuracy train: 0.954\n",
      "INFO The mean accuracy test: 0.822\n",
      "INFO -------------------------------\n"
     ]
    },
    {
     "name": "stdout",
     "output_type": "stream",
     "text": [
      "Adjusting learning rate of group 0 to 9.8015e-03.\n"
     ]
    },
    {
     "name": "stderr",
     "output_type": "stream",
     "text": [
      "INFO Epoch 89\n",
      "INFO The mean accuracy train: 0.955\n",
      "INFO The mean accuracy test: 0.821\n",
      "INFO -------------------------------\n"
     ]
    },
    {
     "name": "stdout",
     "output_type": "stream",
     "text": [
      "Adjusting learning rate of group 0 to 9.7971e-03.\n"
     ]
    },
    {
     "name": "stderr",
     "output_type": "stream",
     "text": [
      "INFO Epoch 90\n",
      "INFO The mean accuracy train: 0.956\n",
      "INFO The mean accuracy test: 0.821\n",
      "INFO -------------------------------\n"
     ]
    },
    {
     "name": "stdout",
     "output_type": "stream",
     "text": [
      "Adjusting learning rate of group 0 to 9.7926e-03.\n"
     ]
    },
    {
     "name": "stderr",
     "output_type": "stream",
     "text": [
      "INFO Epoch 91\n",
      "INFO The mean accuracy train: 0.957\n",
      "INFO The mean accuracy test: 0.821\n",
      "INFO -------------------------------\n"
     ]
    },
    {
     "name": "stdout",
     "output_type": "stream",
     "text": [
      "Adjusting learning rate of group 0 to 9.7881e-03.\n"
     ]
    },
    {
     "name": "stderr",
     "output_type": "stream",
     "text": [
      "INFO Epoch 92\n",
      "INFO The mean accuracy train: 0.957\n",
      "INFO The mean accuracy test: 0.827\n",
      "INFO -------------------------------\n"
     ]
    },
    {
     "name": "stdout",
     "output_type": "stream",
     "text": [
      "Adjusting learning rate of group 0 to 9.7836e-03.\n"
     ]
    },
    {
     "name": "stderr",
     "output_type": "stream",
     "text": [
      "INFO Epoch 93\n",
      "INFO The mean accuracy train: 0.957\n",
      "INFO The mean accuracy test: 0.824\n",
      "INFO -------------------------------\n"
     ]
    },
    {
     "name": "stdout",
     "output_type": "stream",
     "text": [
      "Adjusting learning rate of group 0 to 9.7790e-03.\n"
     ]
    },
    {
     "name": "stderr",
     "output_type": "stream",
     "text": [
      "INFO Epoch 94\n",
      "INFO The mean accuracy train: 0.959\n",
      "INFO The mean accuracy test: 0.823\n",
      "INFO -------------------------------\n"
     ]
    },
    {
     "name": "stdout",
     "output_type": "stream",
     "text": [
      "Adjusting learning rate of group 0 to 9.7743e-03.\n"
     ]
    },
    {
     "name": "stderr",
     "output_type": "stream",
     "text": [
      "INFO Epoch 95\n",
      "INFO The mean accuracy train: 0.958\n",
      "INFO The mean accuracy test: 0.819\n",
      "INFO -------------------------------\n"
     ]
    },
    {
     "name": "stdout",
     "output_type": "stream",
     "text": [
      "Adjusting learning rate of group 0 to 9.7696e-03.\n"
     ]
    },
    {
     "name": "stderr",
     "output_type": "stream",
     "text": [
      "INFO Epoch 96\n",
      "INFO The mean accuracy train: 0.957\n",
      "INFO The mean accuracy test: 0.825\n",
      "INFO -------------------------------\n"
     ]
    },
    {
     "name": "stdout",
     "output_type": "stream",
     "text": [
      "Adjusting learning rate of group 0 to 9.7649e-03.\n"
     ]
    },
    {
     "name": "stderr",
     "output_type": "stream",
     "text": [
      "INFO Epoch 97\n",
      "INFO The mean accuracy train: 0.959\n",
      "INFO The mean accuracy test: 0.822\n",
      "INFO -------------------------------\n"
     ]
    },
    {
     "name": "stdout",
     "output_type": "stream",
     "text": [
      "Adjusting learning rate of group 0 to 9.7601e-03.\n"
     ]
    },
    {
     "name": "stderr",
     "output_type": "stream",
     "text": [
      "INFO Epoch 98\n",
      "INFO The mean accuracy train: 0.961\n",
      "INFO The mean accuracy test: 0.820\n",
      "INFO -------------------------------\n"
     ]
    },
    {
     "name": "stdout",
     "output_type": "stream",
     "text": [
      "Adjusting learning rate of group 0 to 9.7553e-03.\n"
     ]
    },
    {
     "name": "stderr",
     "output_type": "stream",
     "text": [
      "INFO Epoch 99\n",
      "INFO The mean accuracy train: 0.962\n",
      "INFO The mean accuracy test: 0.822\n",
      "INFO -------------------------------\n"
     ]
    },
    {
     "name": "stdout",
     "output_type": "stream",
     "text": [
      "Adjusting learning rate of group 0 to 9.7504e-03.\n"
     ]
    },
    {
     "name": "stderr",
     "output_type": "stream",
     "text": [
      "INFO Epoch 100\n",
      "INFO The mean accuracy train: 0.964\n",
      "INFO The mean accuracy test: 0.817\n",
      "INFO -------------------------------\n"
     ]
    },
    {
     "name": "stdout",
     "output_type": "stream",
     "text": [
      "Adjusting learning rate of group 0 to 9.7455e-03.\n"
     ]
    },
    {
     "name": "stderr",
     "output_type": "stream",
     "text": [
      "INFO Epoch 101\n",
      "INFO The mean accuracy train: 0.962\n",
      "INFO The mean accuracy test: 0.824\n",
      "INFO -------------------------------\n"
     ]
    },
    {
     "name": "stdout",
     "output_type": "stream",
     "text": [
      "Adjusting learning rate of group 0 to 9.7405e-03.\n"
     ]
    },
    {
     "name": "stderr",
     "output_type": "stream",
     "text": [
      "INFO Epoch 102\n",
      "INFO The mean accuracy train: 0.964\n",
      "INFO The mean accuracy test: 0.824\n",
      "INFO -------------------------------\n"
     ]
    },
    {
     "name": "stdout",
     "output_type": "stream",
     "text": [
      "Adjusting learning rate of group 0 to 9.7355e-03.\n"
     ]
    },
    {
     "name": "stderr",
     "output_type": "stream",
     "text": [
      "INFO Epoch 103\n",
      "INFO The mean accuracy train: 0.964\n",
      "INFO The mean accuracy test: 0.825\n",
      "INFO -------------------------------\n"
     ]
    },
    {
     "name": "stdout",
     "output_type": "stream",
     "text": [
      "Adjusting learning rate of group 0 to 9.7304e-03.\n"
     ]
    },
    {
     "name": "stderr",
     "output_type": "stream",
     "text": [
      "INFO Epoch 104\n",
      "INFO The mean accuracy train: 0.965\n",
      "INFO The mean accuracy test: 0.822\n",
      "INFO -------------------------------\n"
     ]
    },
    {
     "name": "stdout",
     "output_type": "stream",
     "text": [
      "Adjusting learning rate of group 0 to 9.7253e-03.\n"
     ]
    },
    {
     "name": "stderr",
     "output_type": "stream",
     "text": [
      "INFO Epoch 105\n",
      "INFO The mean accuracy train: 0.966\n",
      "INFO The mean accuracy test: 0.823\n",
      "INFO -------------------------------\n"
     ]
    },
    {
     "name": "stdout",
     "output_type": "stream",
     "text": [
      "Adjusting learning rate of group 0 to 9.7202e-03.\n"
     ]
    },
    {
     "name": "stderr",
     "output_type": "stream",
     "text": [
      "INFO Epoch 106\n",
      "INFO The mean accuracy train: 0.966\n",
      "INFO The mean accuracy test: 0.823\n",
      "INFO -------------------------------\n"
     ]
    },
    {
     "name": "stdout",
     "output_type": "stream",
     "text": [
      "Adjusting learning rate of group 0 to 9.7150e-03.\n"
     ]
    },
    {
     "name": "stderr",
     "output_type": "stream",
     "text": [
      "INFO Epoch 107\n",
      "INFO The mean accuracy train: 0.965\n",
      "INFO The mean accuracy test: 0.824\n",
      "INFO -------------------------------\n"
     ]
    },
    {
     "name": "stdout",
     "output_type": "stream",
     "text": [
      "Adjusting learning rate of group 0 to 9.7097e-03.\n"
     ]
    },
    {
     "name": "stderr",
     "output_type": "stream",
     "text": [
      "INFO Epoch 108\n",
      "INFO The mean accuracy train: 0.967\n",
      "INFO The mean accuracy test: 0.819\n",
      "INFO -------------------------------\n"
     ]
    },
    {
     "name": "stdout",
     "output_type": "stream",
     "text": [
      "Adjusting learning rate of group 0 to 9.7044e-03.\n"
     ]
    },
    {
     "name": "stderr",
     "output_type": "stream",
     "text": [
      "INFO Epoch 109\n",
      "INFO The mean accuracy train: 0.968\n",
      "INFO The mean accuracy test: 0.821\n",
      "INFO -------------------------------\n"
     ]
    },
    {
     "name": "stdout",
     "output_type": "stream",
     "text": [
      "Adjusting learning rate of group 0 to 9.6991e-03.\n"
     ]
    },
    {
     "name": "stderr",
     "output_type": "stream",
     "text": [
      "INFO Epoch 110\n",
      "INFO The mean accuracy train: 0.968\n",
      "INFO The mean accuracy test: 0.825\n",
      "INFO -------------------------------\n"
     ]
    },
    {
     "name": "stdout",
     "output_type": "stream",
     "text": [
      "Adjusting learning rate of group 0 to 9.6937e-03.\n"
     ]
    },
    {
     "name": "stderr",
     "output_type": "stream",
     "text": [
      "INFO Epoch 111\n",
      "INFO The mean accuracy train: 0.969\n",
      "INFO The mean accuracy test: 0.820\n",
      "INFO -------------------------------\n"
     ]
    },
    {
     "name": "stdout",
     "output_type": "stream",
     "text": [
      "Adjusting learning rate of group 0 to 9.6882e-03.\n"
     ]
    },
    {
     "name": "stderr",
     "output_type": "stream",
     "text": [
      "INFO Epoch 112\n",
      "INFO The mean accuracy train: 0.969\n",
      "INFO The mean accuracy test: 0.817\n",
      "INFO -------------------------------\n"
     ]
    },
    {
     "name": "stdout",
     "output_type": "stream",
     "text": [
      "Adjusting learning rate of group 0 to 9.6827e-03.\n"
     ]
    },
    {
     "name": "stderr",
     "output_type": "stream",
     "text": [
      "INFO Epoch 113\n",
      "INFO The mean accuracy train: 0.970\n",
      "INFO The mean accuracy test: 0.824\n",
      "INFO -------------------------------\n"
     ]
    },
    {
     "name": "stdout",
     "output_type": "stream",
     "text": [
      "Adjusting learning rate of group 0 to 9.6772e-03.\n"
     ]
    },
    {
     "name": "stderr",
     "output_type": "stream",
     "text": [
      "INFO Epoch 114\n",
      "INFO The mean accuracy train: 0.970\n",
      "INFO The mean accuracy test: 0.820\n",
      "INFO -------------------------------\n"
     ]
    },
    {
     "name": "stdout",
     "output_type": "stream",
     "text": [
      "Adjusting learning rate of group 0 to 9.6716e-03.\n"
     ]
    },
    {
     "name": "stderr",
     "output_type": "stream",
     "text": [
      "INFO Epoch 115\n",
      "INFO The mean accuracy train: 0.972\n",
      "INFO The mean accuracy test: 0.827\n",
      "INFO -------------------------------\n"
     ]
    },
    {
     "name": "stdout",
     "output_type": "stream",
     "text": [
      "Adjusting learning rate of group 0 to 9.6660e-03.\n"
     ]
    },
    {
     "name": "stderr",
     "output_type": "stream",
     "text": [
      "INFO Epoch 116\n",
      "INFO The mean accuracy train: 0.971\n",
      "INFO The mean accuracy test: 0.821\n",
      "INFO -------------------------------\n"
     ]
    },
    {
     "name": "stdout",
     "output_type": "stream",
     "text": [
      "Adjusting learning rate of group 0 to 9.6604e-03.\n"
     ]
    },
    {
     "name": "stderr",
     "output_type": "stream",
     "text": [
      "INFO Epoch 117\n",
      "INFO The mean accuracy train: 0.972\n",
      "INFO The mean accuracy test: 0.823\n",
      "INFO -------------------------------\n"
     ]
    },
    {
     "name": "stdout",
     "output_type": "stream",
     "text": [
      "Adjusting learning rate of group 0 to 9.6546e-03.\n"
     ]
    },
    {
     "name": "stderr",
     "output_type": "stream",
     "text": [
      "INFO Epoch 118\n",
      "INFO The mean accuracy train: 0.971\n",
      "INFO The mean accuracy test: 0.822\n",
      "INFO -------------------------------\n"
     ]
    },
    {
     "name": "stdout",
     "output_type": "stream",
     "text": [
      "Adjusting learning rate of group 0 to 9.6489e-03.\n"
     ]
    },
    {
     "name": "stderr",
     "output_type": "stream",
     "text": [
      "INFO Epoch 119\n",
      "INFO The mean accuracy train: 0.969\n",
      "INFO The mean accuracy test: 0.827\n",
      "INFO -------------------------------\n"
     ]
    },
    {
     "name": "stdout",
     "output_type": "stream",
     "text": [
      "Adjusting learning rate of group 0 to 9.6431e-03.\n"
     ]
    },
    {
     "name": "stderr",
     "output_type": "stream",
     "text": [
      "INFO Epoch 120\n",
      "INFO The mean accuracy train: 0.973\n",
      "INFO The mean accuracy test: 0.826\n",
      "INFO -------------------------------\n"
     ]
    },
    {
     "name": "stdout",
     "output_type": "stream",
     "text": [
      "Adjusting learning rate of group 0 to 9.6372e-03.\n"
     ]
    },
    {
     "name": "stderr",
     "output_type": "stream",
     "text": [
      "INFO Epoch 121\n",
      "INFO The mean accuracy train: 0.975\n",
      "INFO The mean accuracy test: 0.826\n",
      "INFO -------------------------------\n"
     ]
    },
    {
     "name": "stdout",
     "output_type": "stream",
     "text": [
      "Adjusting learning rate of group 0 to 9.6313e-03.\n"
     ]
    },
    {
     "name": "stderr",
     "output_type": "stream",
     "text": [
      "INFO Epoch 122\n",
      "INFO The mean accuracy train: 0.974\n",
      "INFO The mean accuracy test: 0.821\n",
      "INFO -------------------------------\n"
     ]
    },
    {
     "name": "stdout",
     "output_type": "stream",
     "text": [
      "Adjusting learning rate of group 0 to 9.6254e-03.\n"
     ]
    },
    {
     "name": "stderr",
     "output_type": "stream",
     "text": [
      "INFO Epoch 123\n",
      "INFO The mean accuracy train: 0.975\n",
      "INFO The mean accuracy test: 0.822\n",
      "INFO -------------------------------\n"
     ]
    },
    {
     "name": "stdout",
     "output_type": "stream",
     "text": [
      "Adjusting learning rate of group 0 to 9.6194e-03.\n"
     ]
    },
    {
     "name": "stderr",
     "output_type": "stream",
     "text": [
      "INFO Epoch 124\n",
      "INFO The mean accuracy train: 0.975\n",
      "INFO The mean accuracy test: 0.823\n",
      "INFO -------------------------------\n"
     ]
    },
    {
     "name": "stdout",
     "output_type": "stream",
     "text": [
      "Adjusting learning rate of group 0 to 9.6134e-03.\n"
     ]
    },
    {
     "name": "stderr",
     "output_type": "stream",
     "text": [
      "INFO Epoch 125\n",
      "INFO The mean accuracy train: 0.975\n",
      "INFO The mean accuracy test: 0.823\n",
      "INFO -------------------------------\n"
     ]
    },
    {
     "name": "stdout",
     "output_type": "stream",
     "text": [
      "Adjusting learning rate of group 0 to 9.6073e-03.\n"
     ]
    },
    {
     "name": "stderr",
     "output_type": "stream",
     "text": [
      "INFO Epoch 126\n",
      "INFO The mean accuracy train: 0.974\n",
      "INFO The mean accuracy test: 0.818\n",
      "INFO -------------------------------\n"
     ]
    },
    {
     "name": "stdout",
     "output_type": "stream",
     "text": [
      "Adjusting learning rate of group 0 to 9.6012e-03.\n"
     ]
    },
    {
     "name": "stderr",
     "output_type": "stream",
     "text": [
      "INFO Epoch 127\n",
      "INFO The mean accuracy train: 0.976\n",
      "INFO The mean accuracy test: 0.829\n",
      "INFO -------------------------------\n"
     ]
    },
    {
     "name": "stdout",
     "output_type": "stream",
     "text": [
      "Adjusting learning rate of group 0 to 9.5950e-03.\n"
     ]
    },
    {
     "name": "stderr",
     "output_type": "stream",
     "text": [
      "INFO Epoch 128\n",
      "INFO The mean accuracy train: 0.977\n",
      "INFO The mean accuracy test: 0.823\n",
      "INFO -------------------------------\n"
     ]
    },
    {
     "name": "stdout",
     "output_type": "stream",
     "text": [
      "Adjusting learning rate of group 0 to 9.5888e-03.\n"
     ]
    },
    {
     "name": "stderr",
     "output_type": "stream",
     "text": [
      "INFO Epoch 129\n",
      "INFO The mean accuracy train: 0.977\n",
      "INFO The mean accuracy test: 0.821\n",
      "INFO -------------------------------\n"
     ]
    },
    {
     "name": "stdout",
     "output_type": "stream",
     "text": [
      "Adjusting learning rate of group 0 to 9.5825e-03.\n"
     ]
    },
    {
     "name": "stderr",
     "output_type": "stream",
     "text": [
      "INFO Epoch 130\n",
      "INFO The mean accuracy train: 0.977\n",
      "INFO The mean accuracy test: 0.825\n",
      "INFO -------------------------------\n"
     ]
    },
    {
     "name": "stdout",
     "output_type": "stream",
     "text": [
      "Adjusting learning rate of group 0 to 9.5762e-03.\n"
     ]
    },
    {
     "name": "stderr",
     "output_type": "stream",
     "text": [
      "INFO Epoch 131\n",
      "INFO The mean accuracy train: 0.976\n",
      "INFO The mean accuracy test: 0.827\n",
      "INFO -------------------------------\n"
     ]
    },
    {
     "name": "stdout",
     "output_type": "stream",
     "text": [
      "Adjusting learning rate of group 0 to 9.5699e-03.\n"
     ]
    },
    {
     "name": "stderr",
     "output_type": "stream",
     "text": [
      "INFO Epoch 132\n",
      "INFO The mean accuracy train: 0.977\n",
      "INFO The mean accuracy test: 0.823\n",
      "INFO -------------------------------\n"
     ]
    },
    {
     "name": "stdout",
     "output_type": "stream",
     "text": [
      "Adjusting learning rate of group 0 to 9.5635e-03.\n"
     ]
    },
    {
     "name": "stderr",
     "output_type": "stream",
     "text": [
      "INFO Epoch 133\n",
      "INFO The mean accuracy train: 0.977\n",
      "INFO The mean accuracy test: 0.824\n",
      "INFO -------------------------------\n"
     ]
    },
    {
     "name": "stdout",
     "output_type": "stream",
     "text": [
      "Adjusting learning rate of group 0 to 9.5570e-03.\n"
     ]
    },
    {
     "name": "stderr",
     "output_type": "stream",
     "text": [
      "INFO Epoch 134\n",
      "INFO The mean accuracy train: 0.978\n",
      "INFO The mean accuracy test: 0.822\n",
      "INFO -------------------------------\n"
     ]
    },
    {
     "name": "stdout",
     "output_type": "stream",
     "text": [
      "Adjusting learning rate of group 0 to 9.5505e-03.\n"
     ]
    },
    {
     "name": "stderr",
     "output_type": "stream",
     "text": [
      "INFO Epoch 135\n",
      "INFO The mean accuracy train: 0.979\n",
      "INFO The mean accuracy test: 0.828\n",
      "INFO -------------------------------\n"
     ]
    },
    {
     "name": "stdout",
     "output_type": "stream",
     "text": [
      "Adjusting learning rate of group 0 to 9.5440e-03.\n"
     ]
    },
    {
     "name": "stderr",
     "output_type": "stream",
     "text": [
      "INFO Epoch 136\n",
      "INFO The mean accuracy train: 0.979\n",
      "INFO The mean accuracy test: 0.823\n",
      "INFO -------------------------------\n"
     ]
    },
    {
     "name": "stdout",
     "output_type": "stream",
     "text": [
      "Adjusting learning rate of group 0 to 9.5374e-03.\n"
     ]
    },
    {
     "name": "stderr",
     "output_type": "stream",
     "text": [
      "INFO Epoch 137\n",
      "INFO The mean accuracy train: 0.980\n",
      "INFO The mean accuracy test: 0.831\n",
      "INFO -------------------------------\n"
     ]
    },
    {
     "name": "stdout",
     "output_type": "stream",
     "text": [
      "Adjusting learning rate of group 0 to 9.5308e-03.\n"
     ]
    },
    {
     "name": "stderr",
     "output_type": "stream",
     "text": [
      "INFO Epoch 138\n",
      "INFO The mean accuracy train: 0.979\n",
      "INFO The mean accuracy test: 0.828\n",
      "INFO -------------------------------\n"
     ]
    },
    {
     "name": "stdout",
     "output_type": "stream",
     "text": [
      "Adjusting learning rate of group 0 to 9.5241e-03.\n"
     ]
    },
    {
     "name": "stderr",
     "output_type": "stream",
     "text": [
      "INFO Epoch 139\n",
      "INFO The mean accuracy train: 0.979\n",
      "INFO The mean accuracy test: 0.822\n",
      "INFO -------------------------------\n"
     ]
    },
    {
     "name": "stdout",
     "output_type": "stream",
     "text": [
      "Adjusting learning rate of group 0 to 9.5174e-03.\n"
     ]
    },
    {
     "name": "stderr",
     "output_type": "stream",
     "text": [
      "INFO Epoch 140\n",
      "INFO The mean accuracy train: 0.981\n",
      "INFO The mean accuracy test: 0.829\n",
      "INFO -------------------------------\n"
     ]
    },
    {
     "name": "stdout",
     "output_type": "stream",
     "text": [
      "Adjusting learning rate of group 0 to 9.5107e-03.\n"
     ]
    },
    {
     "name": "stderr",
     "output_type": "stream",
     "text": [
      "INFO Epoch 141\n",
      "INFO The mean accuracy train: 0.980\n",
      "INFO The mean accuracy test: 0.824\n",
      "INFO -------------------------------\n"
     ]
    },
    {
     "name": "stdout",
     "output_type": "stream",
     "text": [
      "Adjusting learning rate of group 0 to 9.5039e-03.\n"
     ]
    },
    {
     "name": "stderr",
     "output_type": "stream",
     "text": [
      "INFO Epoch 142\n",
      "INFO The mean accuracy train: 0.980\n",
      "INFO The mean accuracy test: 0.824\n",
      "INFO -------------------------------\n"
     ]
    },
    {
     "name": "stdout",
     "output_type": "stream",
     "text": [
      "Adjusting learning rate of group 0 to 9.4970e-03.\n"
     ]
    },
    {
     "name": "stderr",
     "output_type": "stream",
     "text": [
      "INFO Epoch 143\n",
      "INFO The mean accuracy train: 0.981\n",
      "INFO The mean accuracy test: 0.821\n",
      "INFO -------------------------------\n"
     ]
    },
    {
     "name": "stdout",
     "output_type": "stream",
     "text": [
      "Adjusting learning rate of group 0 to 9.4901e-03.\n"
     ]
    },
    {
     "name": "stderr",
     "output_type": "stream",
     "text": [
      "INFO Epoch 144\n",
      "INFO The mean accuracy train: 0.981\n",
      "INFO The mean accuracy test: 0.827\n",
      "INFO -------------------------------\n"
     ]
    },
    {
     "name": "stdout",
     "output_type": "stream",
     "text": [
      "Adjusting learning rate of group 0 to 9.4832e-03.\n"
     ]
    },
    {
     "name": "stderr",
     "output_type": "stream",
     "text": [
      "INFO Epoch 145\n",
      "INFO The mean accuracy train: 0.981\n",
      "INFO The mean accuracy test: 0.824\n",
      "INFO -------------------------------\n"
     ]
    },
    {
     "name": "stdout",
     "output_type": "stream",
     "text": [
      "Adjusting learning rate of group 0 to 9.4762e-03.\n"
     ]
    },
    {
     "name": "stderr",
     "output_type": "stream",
     "text": [
      "INFO Epoch 146\n",
      "INFO The mean accuracy train: 0.981\n",
      "INFO The mean accuracy test: 0.829\n",
      "INFO -------------------------------\n"
     ]
    },
    {
     "name": "stdout",
     "output_type": "stream",
     "text": [
      "Adjusting learning rate of group 0 to 9.4692e-03.\n"
     ]
    },
    {
     "name": "stderr",
     "output_type": "stream",
     "text": [
      "INFO Epoch 147\n",
      "INFO The mean accuracy train: 0.981\n",
      "INFO The mean accuracy test: 0.828\n",
      "INFO -------------------------------\n"
     ]
    },
    {
     "name": "stdout",
     "output_type": "stream",
     "text": [
      "Adjusting learning rate of group 0 to 9.4621e-03.\n"
     ]
    },
    {
     "name": "stderr",
     "output_type": "stream",
     "text": [
      "INFO Epoch 148\n",
      "INFO The mean accuracy train: 0.982\n",
      "INFO The mean accuracy test: 0.825\n",
      "INFO -------------------------------\n"
     ]
    },
    {
     "name": "stdout",
     "output_type": "stream",
     "text": [
      "Adjusting learning rate of group 0 to 9.4550e-03.\n"
     ]
    },
    {
     "name": "stderr",
     "output_type": "stream",
     "text": [
      "INFO Epoch 149\n",
      "INFO The mean accuracy train: 0.981\n",
      "INFO The mean accuracy test: 0.825\n",
      "INFO -------------------------------\n"
     ]
    },
    {
     "name": "stdout",
     "output_type": "stream",
     "text": [
      "Adjusting learning rate of group 0 to 9.4479e-03.\n"
     ]
    },
    {
     "name": "stderr",
     "output_type": "stream",
     "text": [
      "INFO Epoch 150\n",
      "INFO The mean accuracy train: 0.983\n",
      "INFO The mean accuracy test: 0.827\n",
      "INFO -------------------------------\n"
     ]
    },
    {
     "name": "stdout",
     "output_type": "stream",
     "text": [
      "Adjusting learning rate of group 0 to 9.4407e-03.\n"
     ]
    },
    {
     "name": "stderr",
     "output_type": "stream",
     "text": [
      "INFO Epoch 151\n",
      "INFO The mean accuracy train: 0.984\n",
      "INFO The mean accuracy test: 0.829\n",
      "INFO -------------------------------\n"
     ]
    },
    {
     "name": "stdout",
     "output_type": "stream",
     "text": [
      "Adjusting learning rate of group 0 to 9.4334e-03.\n"
     ]
    },
    {
     "name": "stderr",
     "output_type": "stream",
     "text": [
      "INFO Epoch 152\n",
      "INFO The mean accuracy train: 0.984\n",
      "INFO The mean accuracy test: 0.829\n",
      "INFO -------------------------------\n"
     ]
    },
    {
     "name": "stdout",
     "output_type": "stream",
     "text": [
      "Adjusting learning rate of group 0 to 9.4262e-03.\n"
     ]
    },
    {
     "name": "stderr",
     "output_type": "stream",
     "text": [
      "INFO Epoch 153\n",
      "INFO The mean accuracy train: 0.983\n",
      "INFO The mean accuracy test: 0.821\n",
      "INFO -------------------------------\n"
     ]
    },
    {
     "name": "stdout",
     "output_type": "stream",
     "text": [
      "Adjusting learning rate of group 0 to 9.4188e-03.\n"
     ]
    },
    {
     "name": "stderr",
     "output_type": "stream",
     "text": [
      "INFO Epoch 154\n",
      "INFO The mean accuracy train: 0.982\n",
      "INFO The mean accuracy test: 0.827\n",
      "INFO -------------------------------\n"
     ]
    },
    {
     "name": "stdout",
     "output_type": "stream",
     "text": [
      "Adjusting learning rate of group 0 to 9.4115e-03.\n"
     ]
    },
    {
     "name": "stderr",
     "output_type": "stream",
     "text": [
      "INFO Epoch 155\n",
      "INFO The mean accuracy train: 0.983\n",
      "INFO The mean accuracy test: 0.824\n",
      "INFO -------------------------------\n"
     ]
    },
    {
     "name": "stdout",
     "output_type": "stream",
     "text": [
      "Adjusting learning rate of group 0 to 9.4040e-03.\n"
     ]
    },
    {
     "name": "stderr",
     "output_type": "stream",
     "text": [
      "INFO Epoch 156\n",
      "INFO The mean accuracy train: 0.985\n",
      "INFO The mean accuracy test: 0.828\n",
      "INFO -------------------------------\n"
     ]
    },
    {
     "name": "stdout",
     "output_type": "stream",
     "text": [
      "Adjusting learning rate of group 0 to 9.3966e-03.\n"
     ]
    },
    {
     "name": "stderr",
     "output_type": "stream",
     "text": [
      "INFO Epoch 157\n",
      "INFO The mean accuracy train: 0.984\n",
      "INFO The mean accuracy test: 0.826\n",
      "INFO -------------------------------\n"
     ]
    },
    {
     "name": "stdout",
     "output_type": "stream",
     "text": [
      "Adjusting learning rate of group 0 to 9.3891e-03.\n"
     ]
    },
    {
     "name": "stderr",
     "output_type": "stream",
     "text": [
      "INFO Epoch 158\n",
      "INFO The mean accuracy train: 0.985\n",
      "INFO The mean accuracy test: 0.828\n",
      "INFO -------------------------------\n"
     ]
    },
    {
     "name": "stdout",
     "output_type": "stream",
     "text": [
      "Adjusting learning rate of group 0 to 9.3815e-03.\n"
     ]
    },
    {
     "name": "stderr",
     "output_type": "stream",
     "text": [
      "INFO Epoch 159\n",
      "INFO The mean accuracy train: 0.985\n",
      "INFO The mean accuracy test: 0.828\n",
      "INFO -------------------------------\n"
     ]
    },
    {
     "name": "stdout",
     "output_type": "stream",
     "text": [
      "Adjusting learning rate of group 0 to 9.3739e-03.\n"
     ]
    },
    {
     "name": "stderr",
     "output_type": "stream",
     "text": [
      "INFO Epoch 160\n",
      "INFO The mean accuracy train: 0.985\n",
      "INFO The mean accuracy test: 0.828\n",
      "INFO -------------------------------\n"
     ]
    },
    {
     "name": "stdout",
     "output_type": "stream",
     "text": [
      "Adjusting learning rate of group 0 to 9.3663e-03.\n"
     ]
    },
    {
     "name": "stderr",
     "output_type": "stream",
     "text": [
      "INFO Epoch 161\n",
      "INFO The mean accuracy train: 0.985\n",
      "INFO The mean accuracy test: 0.828\n",
      "INFO -------------------------------\n"
     ]
    },
    {
     "name": "stdout",
     "output_type": "stream",
     "text": [
      "Adjusting learning rate of group 0 to 9.3586e-03.\n"
     ]
    },
    {
     "name": "stderr",
     "output_type": "stream",
     "text": [
      "INFO Epoch 162\n",
      "INFO The mean accuracy train: 0.984\n",
      "INFO The mean accuracy test: 0.825\n",
      "INFO -------------------------------\n"
     ]
    },
    {
     "name": "stdout",
     "output_type": "stream",
     "text": [
      "Adjusting learning rate of group 0 to 9.3509e-03.\n"
     ]
    },
    {
     "name": "stderr",
     "output_type": "stream",
     "text": [
      "INFO Epoch 163\n",
      "INFO The mean accuracy train: 0.985\n",
      "INFO The mean accuracy test: 0.831\n",
      "INFO -------------------------------\n"
     ]
    },
    {
     "name": "stdout",
     "output_type": "stream",
     "text": [
      "Adjusting learning rate of group 0 to 9.3432e-03.\n"
     ]
    },
    {
     "name": "stderr",
     "output_type": "stream",
     "text": [
      "INFO Epoch 164\n",
      "INFO The mean accuracy train: 0.985\n",
      "INFO The mean accuracy test: 0.824\n",
      "INFO -------------------------------\n"
     ]
    },
    {
     "name": "stdout",
     "output_type": "stream",
     "text": [
      "Adjusting learning rate of group 0 to 9.3354e-03.\n"
     ]
    },
    {
     "name": "stderr",
     "output_type": "stream",
     "text": [
      "INFO Epoch 165\n",
      "INFO The mean accuracy train: 0.985\n",
      "INFO The mean accuracy test: 0.828\n",
      "INFO -------------------------------\n"
     ]
    },
    {
     "name": "stdout",
     "output_type": "stream",
     "text": [
      "Adjusting learning rate of group 0 to 9.3275e-03.\n"
     ]
    },
    {
     "name": "stderr",
     "output_type": "stream",
     "text": [
      "INFO Epoch 166\n",
      "INFO The mean accuracy train: 0.985\n",
      "INFO The mean accuracy test: 0.826\n",
      "INFO -------------------------------\n"
     ]
    },
    {
     "name": "stdout",
     "output_type": "stream",
     "text": [
      "Adjusting learning rate of group 0 to 9.3196e-03.\n"
     ]
    },
    {
     "name": "stderr",
     "output_type": "stream",
     "text": [
      "INFO Epoch 167\n",
      "INFO The mean accuracy train: 0.986\n",
      "INFO The mean accuracy test: 0.832\n",
      "INFO -------------------------------\n"
     ]
    },
    {
     "name": "stdout",
     "output_type": "stream",
     "text": [
      "Adjusting learning rate of group 0 to 9.3117e-03.\n"
     ]
    },
    {
     "name": "stderr",
     "output_type": "stream",
     "text": [
      "INFO Epoch 168\n",
      "INFO The mean accuracy train: 0.986\n",
      "INFO The mean accuracy test: 0.831\n",
      "INFO -------------------------------\n"
     ]
    },
    {
     "name": "stdout",
     "output_type": "stream",
     "text": [
      "Adjusting learning rate of group 0 to 9.3037e-03.\n"
     ]
    },
    {
     "name": "stderr",
     "output_type": "stream",
     "text": [
      "INFO Epoch 169\n",
      "INFO The mean accuracy train: 0.986\n",
      "INFO The mean accuracy test: 0.825\n",
      "INFO -------------------------------\n"
     ]
    },
    {
     "name": "stdout",
     "output_type": "stream",
     "text": [
      "Adjusting learning rate of group 0 to 9.2957e-03.\n"
     ]
    },
    {
     "name": "stderr",
     "output_type": "stream",
     "text": [
      "INFO Epoch 170\n",
      "INFO The mean accuracy train: 0.986\n",
      "INFO The mean accuracy test: 0.831\n",
      "INFO -------------------------------\n"
     ]
    },
    {
     "name": "stdout",
     "output_type": "stream",
     "text": [
      "Adjusting learning rate of group 0 to 9.2876e-03.\n"
     ]
    },
    {
     "name": "stderr",
     "output_type": "stream",
     "text": [
      "INFO Epoch 171\n",
      "INFO The mean accuracy train: 0.985\n",
      "INFO The mean accuracy test: 0.830\n",
      "INFO -------------------------------\n"
     ]
    },
    {
     "name": "stdout",
     "output_type": "stream",
     "text": [
      "Adjusting learning rate of group 0 to 9.2795e-03.\n"
     ]
    },
    {
     "name": "stderr",
     "output_type": "stream",
     "text": [
      "INFO Epoch 172\n",
      "INFO The mean accuracy train: 0.987\n",
      "INFO The mean accuracy test: 0.826\n",
      "INFO -------------------------------\n"
     ]
    },
    {
     "name": "stdout",
     "output_type": "stream",
     "text": [
      "Adjusting learning rate of group 0 to 9.2714e-03.\n"
     ]
    },
    {
     "name": "stderr",
     "output_type": "stream",
     "text": [
      "INFO Epoch 173\n",
      "INFO The mean accuracy train: 0.986\n",
      "INFO The mean accuracy test: 0.825\n",
      "INFO -------------------------------\n"
     ]
    },
    {
     "name": "stdout",
     "output_type": "stream",
     "text": [
      "Adjusting learning rate of group 0 to 9.2632e-03.\n"
     ]
    },
    {
     "name": "stderr",
     "output_type": "stream",
     "text": [
      "INFO Epoch 174\n",
      "INFO The mean accuracy train: 0.986\n",
      "INFO The mean accuracy test: 0.830\n",
      "INFO -------------------------------\n"
     ]
    },
    {
     "name": "stdout",
     "output_type": "stream",
     "text": [
      "Adjusting learning rate of group 0 to 9.2550e-03.\n"
     ]
    },
    {
     "name": "stderr",
     "output_type": "stream",
     "text": [
      "INFO Epoch 175\n",
      "INFO The mean accuracy train: 0.986\n",
      "INFO The mean accuracy test: 0.829\n",
      "INFO -------------------------------\n"
     ]
    },
    {
     "name": "stdout",
     "output_type": "stream",
     "text": [
      "Adjusting learning rate of group 0 to 9.2467e-03.\n"
     ]
    },
    {
     "name": "stderr",
     "output_type": "stream",
     "text": [
      "INFO Epoch 176\n",
      "INFO The mean accuracy train: 0.988\n",
      "INFO The mean accuracy test: 0.827\n",
      "INFO -------------------------------\n"
     ]
    },
    {
     "name": "stdout",
     "output_type": "stream",
     "text": [
      "Adjusting learning rate of group 0 to 9.2384e-03.\n"
     ]
    },
    {
     "name": "stderr",
     "output_type": "stream",
     "text": [
      "INFO Epoch 177\n",
      "INFO The mean accuracy train: 0.988\n",
      "INFO The mean accuracy test: 0.829\n",
      "INFO -------------------------------\n"
     ]
    },
    {
     "name": "stdout",
     "output_type": "stream",
     "text": [
      "Adjusting learning rate of group 0 to 9.2300e-03.\n"
     ]
    },
    {
     "name": "stderr",
     "output_type": "stream",
     "text": [
      "INFO Epoch 178\n",
      "INFO The mean accuracy train: 0.988\n",
      "INFO The mean accuracy test: 0.830\n",
      "INFO -------------------------------\n"
     ]
    },
    {
     "name": "stdout",
     "output_type": "stream",
     "text": [
      "Adjusting learning rate of group 0 to 9.2216e-03.\n"
     ]
    },
    {
     "name": "stderr",
     "output_type": "stream",
     "text": [
      "INFO Epoch 179\n",
      "INFO The mean accuracy train: 0.988\n",
      "INFO The mean accuracy test: 0.827\n",
      "INFO -------------------------------\n"
     ]
    },
    {
     "name": "stdout",
     "output_type": "stream",
     "text": [
      "Adjusting learning rate of group 0 to 9.2132e-03.\n"
     ]
    },
    {
     "name": "stderr",
     "output_type": "stream",
     "text": [
      "INFO Epoch 180\n",
      "INFO The mean accuracy train: 0.988\n",
      "INFO The mean accuracy test: 0.824\n",
      "INFO -------------------------------\n"
     ]
    },
    {
     "name": "stdout",
     "output_type": "stream",
     "text": [
      "Adjusting learning rate of group 0 to 9.2047e-03.\n"
     ]
    },
    {
     "name": "stderr",
     "output_type": "stream",
     "text": [
      "INFO Epoch 181\n",
      "INFO The mean accuracy train: 0.988\n",
      "INFO The mean accuracy test: 0.826\n",
      "INFO -------------------------------\n"
     ]
    },
    {
     "name": "stdout",
     "output_type": "stream",
     "text": [
      "Adjusting learning rate of group 0 to 9.1962e-03.\n"
     ]
    },
    {
     "name": "stderr",
     "output_type": "stream",
     "text": [
      "INFO Epoch 182\n",
      "INFO The mean accuracy train: 0.987\n",
      "INFO The mean accuracy test: 0.824\n",
      "INFO -------------------------------\n"
     ]
    },
    {
     "name": "stdout",
     "output_type": "stream",
     "text": [
      "Adjusting learning rate of group 0 to 9.1876e-03.\n"
     ]
    },
    {
     "name": "stderr",
     "output_type": "stream",
     "text": [
      "INFO Epoch 183\n",
      "INFO The mean accuracy train: 0.988\n",
      "INFO The mean accuracy test: 0.831\n",
      "INFO -------------------------------\n"
     ]
    },
    {
     "name": "stdout",
     "output_type": "stream",
     "text": [
      "Adjusting learning rate of group 0 to 9.1790e-03.\n"
     ]
    },
    {
     "name": "stderr",
     "output_type": "stream",
     "text": [
      "INFO Epoch 184\n",
      "INFO The mean accuracy train: 0.987\n",
      "INFO The mean accuracy test: 0.827\n",
      "INFO -------------------------------\n"
     ]
    },
    {
     "name": "stdout",
     "output_type": "stream",
     "text": [
      "Adjusting learning rate of group 0 to 9.1704e-03.\n"
     ]
    },
    {
     "name": "stderr",
     "output_type": "stream",
     "text": [
      "INFO Epoch 185\n",
      "INFO The mean accuracy train: 0.989\n",
      "INFO The mean accuracy test: 0.830\n",
      "INFO -------------------------------\n"
     ]
    },
    {
     "name": "stdout",
     "output_type": "stream",
     "text": [
      "Adjusting learning rate of group 0 to 9.1617e-03.\n"
     ]
    },
    {
     "name": "stderr",
     "output_type": "stream",
     "text": [
      "INFO Epoch 186\n",
      "INFO The mean accuracy train: 0.988\n",
      "INFO The mean accuracy test: 0.831\n",
      "INFO -------------------------------\n"
     ]
    },
    {
     "name": "stdout",
     "output_type": "stream",
     "text": [
      "Adjusting learning rate of group 0 to 9.1530e-03.\n"
     ]
    },
    {
     "name": "stderr",
     "output_type": "stream",
     "text": [
      "INFO Epoch 187\n",
      "INFO The mean accuracy train: 0.989\n",
      "INFO The mean accuracy test: 0.826\n",
      "INFO -------------------------------\n"
     ]
    },
    {
     "name": "stdout",
     "output_type": "stream",
     "text": [
      "Adjusting learning rate of group 0 to 9.1442e-03.\n"
     ]
    },
    {
     "name": "stderr",
     "output_type": "stream",
     "text": [
      "INFO Epoch 188\n",
      "INFO The mean accuracy train: 0.989\n",
      "INFO The mean accuracy test: 0.828\n",
      "INFO -------------------------------\n"
     ]
    },
    {
     "name": "stdout",
     "output_type": "stream",
     "text": [
      "Adjusting learning rate of group 0 to 9.1354e-03.\n"
     ]
    },
    {
     "name": "stderr",
     "output_type": "stream",
     "text": [
      "INFO Epoch 189\n",
      "INFO The mean accuracy train: 0.988\n",
      "INFO The mean accuracy test: 0.825\n",
      "INFO -------------------------------\n"
     ]
    },
    {
     "name": "stdout",
     "output_type": "stream",
     "text": [
      "Adjusting learning rate of group 0 to 9.1266e-03.\n"
     ]
    },
    {
     "name": "stderr",
     "output_type": "stream",
     "text": [
      "INFO Epoch 190\n",
      "INFO The mean accuracy train: 0.989\n",
      "INFO The mean accuracy test: 0.829\n",
      "INFO -------------------------------\n"
     ]
    },
    {
     "name": "stdout",
     "output_type": "stream",
     "text": [
      "Adjusting learning rate of group 0 to 9.1177e-03.\n"
     ]
    },
    {
     "name": "stderr",
     "output_type": "stream",
     "text": [
      "INFO Epoch 191\n",
      "INFO The mean accuracy train: 0.988\n",
      "INFO The mean accuracy test: 0.828\n",
      "INFO -------------------------------\n"
     ]
    },
    {
     "name": "stdout",
     "output_type": "stream",
     "text": [
      "Adjusting learning rate of group 0 to 9.1087e-03.\n"
     ]
    },
    {
     "name": "stderr",
     "output_type": "stream",
     "text": [
      "INFO Epoch 192\n",
      "INFO The mean accuracy train: 0.990\n",
      "INFO The mean accuracy test: 0.827\n",
      "INFO -------------------------------\n"
     ]
    },
    {
     "name": "stdout",
     "output_type": "stream",
     "text": [
      "Adjusting learning rate of group 0 to 9.0998e-03.\n"
     ]
    },
    {
     "name": "stderr",
     "output_type": "stream",
     "text": [
      "INFO Epoch 193\n",
      "INFO The mean accuracy train: 0.990\n",
      "INFO The mean accuracy test: 0.826\n",
      "INFO -------------------------------\n"
     ]
    },
    {
     "name": "stdout",
     "output_type": "stream",
     "text": [
      "Adjusting learning rate of group 0 to 9.0907e-03.\n"
     ]
    },
    {
     "name": "stderr",
     "output_type": "stream",
     "text": [
      "INFO Epoch 194\n",
      "INFO The mean accuracy train: 0.990\n",
      "INFO The mean accuracy test: 0.822\n",
      "INFO -------------------------------\n"
     ]
    },
    {
     "name": "stdout",
     "output_type": "stream",
     "text": [
      "Adjusting learning rate of group 0 to 9.0817e-03.\n"
     ]
    },
    {
     "name": "stderr",
     "output_type": "stream",
     "text": [
      "INFO Epoch 195\n",
      "INFO The mean accuracy train: 0.990\n",
      "INFO The mean accuracy test: 0.832\n",
      "INFO -------------------------------\n"
     ]
    },
    {
     "name": "stdout",
     "output_type": "stream",
     "text": [
      "Adjusting learning rate of group 0 to 9.0726e-03.\n"
     ]
    },
    {
     "name": "stderr",
     "output_type": "stream",
     "text": [
      "INFO Epoch 196\n",
      "INFO The mean accuracy train: 0.989\n",
      "INFO The mean accuracy test: 0.830\n",
      "INFO -------------------------------\n"
     ]
    },
    {
     "name": "stdout",
     "output_type": "stream",
     "text": [
      "Adjusting learning rate of group 0 to 9.0635e-03.\n"
     ]
    },
    {
     "name": "stderr",
     "output_type": "stream",
     "text": [
      "INFO Epoch 197\n",
      "INFO The mean accuracy train: 0.988\n",
      "INFO The mean accuracy test: 0.831\n",
      "INFO -------------------------------\n"
     ]
    },
    {
     "name": "stdout",
     "output_type": "stream",
     "text": [
      "Adjusting learning rate of group 0 to 9.0543e-03.\n"
     ]
    },
    {
     "name": "stderr",
     "output_type": "stream",
     "text": [
      "INFO Epoch 198\n",
      "INFO The mean accuracy train: 0.990\n",
      "INFO The mean accuracy test: 0.828\n",
      "INFO -------------------------------\n"
     ]
    },
    {
     "name": "stdout",
     "output_type": "stream",
     "text": [
      "Adjusting learning rate of group 0 to 9.0451e-03.\n"
     ]
    },
    {
     "name": "stderr",
     "output_type": "stream",
     "text": [
      "INFO Epoch 199\n",
      "INFO The mean accuracy train: 0.989\n",
      "INFO The mean accuracy test: 0.833\n",
      "INFO -------------------------------\n"
     ]
    },
    {
     "name": "stdout",
     "output_type": "stream",
     "text": [
      "Adjusting learning rate of group 0 to 9.0358e-03.\n"
     ]
    },
    {
     "name": "stderr",
     "output_type": "stream",
     "text": [
      "INFO Epoch 200\n",
      "INFO The mean accuracy train: 0.990\n",
      "INFO The mean accuracy test: 0.830\n",
      "INFO -------------------------------\n"
     ]
    },
    {
     "name": "stdout",
     "output_type": "stream",
     "text": [
      "Adjusting learning rate of group 0 to 9.0265e-03.\n"
     ]
    },
    {
     "name": "stderr",
     "output_type": "stream",
     "text": [
      "INFO Epoch 201\n",
      "INFO The mean accuracy train: 0.989\n",
      "INFO The mean accuracy test: 0.826\n",
      "INFO -------------------------------\n"
     ]
    },
    {
     "name": "stdout",
     "output_type": "stream",
     "text": [
      "Adjusting learning rate of group 0 to 9.0172e-03.\n"
     ]
    },
    {
     "name": "stderr",
     "output_type": "stream",
     "text": [
      "INFO Epoch 202\n",
      "INFO The mean accuracy train: 0.990\n",
      "INFO The mean accuracy test: 0.825\n",
      "INFO -------------------------------\n"
     ]
    },
    {
     "name": "stdout",
     "output_type": "stream",
     "text": [
      "Adjusting learning rate of group 0 to 9.0078e-03.\n"
     ]
    },
    {
     "name": "stderr",
     "output_type": "stream",
     "text": [
      "INFO Epoch 203\n",
      "INFO The mean accuracy train: 0.991\n",
      "INFO The mean accuracy test: 0.830\n",
      "INFO -------------------------------\n"
     ]
    },
    {
     "name": "stdout",
     "output_type": "stream",
     "text": [
      "Adjusting learning rate of group 0 to 8.9984e-03.\n"
     ]
    },
    {
     "name": "stderr",
     "output_type": "stream",
     "text": [
      "INFO Epoch 204\n",
      "INFO The mean accuracy train: 0.990\n",
      "INFO The mean accuracy test: 0.826\n",
      "INFO -------------------------------\n"
     ]
    },
    {
     "name": "stdout",
     "output_type": "stream",
     "text": [
      "Adjusting learning rate of group 0 to 8.9890e-03.\n"
     ]
    },
    {
     "name": "stderr",
     "output_type": "stream",
     "text": [
      "INFO Epoch 205\n",
      "INFO The mean accuracy train: 0.991\n",
      "INFO The mean accuracy test: 0.827\n",
      "INFO -------------------------------\n"
     ]
    },
    {
     "name": "stdout",
     "output_type": "stream",
     "text": [
      "Adjusting learning rate of group 0 to 8.9795e-03.\n"
     ]
    },
    {
     "name": "stderr",
     "output_type": "stream",
     "text": [
      "INFO Epoch 206\n",
      "INFO The mean accuracy train: 0.990\n",
      "INFO The mean accuracy test: 0.826\n",
      "INFO -------------------------------\n"
     ]
    },
    {
     "name": "stdout",
     "output_type": "stream",
     "text": [
      "Adjusting learning rate of group 0 to 8.9700e-03.\n"
     ]
    },
    {
     "name": "stderr",
     "output_type": "stream",
     "text": [
      "INFO Epoch 207\n",
      "INFO The mean accuracy train: 0.990\n",
      "INFO The mean accuracy test: 0.826\n",
      "INFO -------------------------------\n"
     ]
    },
    {
     "name": "stdout",
     "output_type": "stream",
     "text": [
      "Adjusting learning rate of group 0 to 8.9604e-03.\n"
     ]
    },
    {
     "name": "stderr",
     "output_type": "stream",
     "text": [
      "INFO Epoch 208\n",
      "INFO The mean accuracy train: 0.991\n",
      "INFO The mean accuracy test: 0.825\n",
      "INFO -------------------------------\n"
     ]
    },
    {
     "name": "stdout",
     "output_type": "stream",
     "text": [
      "Adjusting learning rate of group 0 to 8.9508e-03.\n"
     ]
    },
    {
     "name": "stderr",
     "output_type": "stream",
     "text": [
      "INFO Epoch 209\n",
      "INFO The mean accuracy train: 0.991\n",
      "INFO The mean accuracy test: 0.826\n",
      "INFO -------------------------------\n"
     ]
    },
    {
     "name": "stdout",
     "output_type": "stream",
     "text": [
      "Adjusting learning rate of group 0 to 8.9411e-03.\n"
     ]
    },
    {
     "name": "stderr",
     "output_type": "stream",
     "text": [
      "INFO Epoch 210\n",
      "INFO The mean accuracy train: 0.991\n",
      "INFO The mean accuracy test: 0.832\n",
      "INFO -------------------------------\n"
     ]
    },
    {
     "name": "stdout",
     "output_type": "stream",
     "text": [
      "Adjusting learning rate of group 0 to 8.9314e-03.\n"
     ]
    },
    {
     "name": "stderr",
     "output_type": "stream",
     "text": [
      "INFO Epoch 211\n",
      "INFO The mean accuracy train: 0.992\n",
      "INFO The mean accuracy test: 0.829\n",
      "INFO -------------------------------\n"
     ]
    },
    {
     "name": "stdout",
     "output_type": "stream",
     "text": [
      "Adjusting learning rate of group 0 to 8.9217e-03.\n"
     ]
    },
    {
     "name": "stderr",
     "output_type": "stream",
     "text": [
      "INFO Epoch 212\n",
      "INFO The mean accuracy train: 0.991\n",
      "INFO The mean accuracy test: 0.831\n",
      "INFO -------------------------------\n"
     ]
    },
    {
     "name": "stdout",
     "output_type": "stream",
     "text": [
      "Adjusting learning rate of group 0 to 8.9120e-03.\n"
     ]
    },
    {
     "name": "stderr",
     "output_type": "stream",
     "text": [
      "INFO Epoch 213\n",
      "INFO The mean accuracy train: 0.990\n",
      "INFO The mean accuracy test: 0.830\n",
      "INFO -------------------------------\n"
     ]
    },
    {
     "name": "stdout",
     "output_type": "stream",
     "text": [
      "Adjusting learning rate of group 0 to 8.9022e-03.\n"
     ]
    },
    {
     "name": "stderr",
     "output_type": "stream",
     "text": [
      "INFO Epoch 214\n",
      "INFO The mean accuracy train: 0.990\n",
      "INFO The mean accuracy test: 0.829\n",
      "INFO -------------------------------\n"
     ]
    },
    {
     "name": "stdout",
     "output_type": "stream",
     "text": [
      "Adjusting learning rate of group 0 to 8.8923e-03.\n"
     ]
    },
    {
     "name": "stderr",
     "output_type": "stream",
     "text": [
      "INFO Epoch 215\n",
      "INFO The mean accuracy train: 0.991\n",
      "INFO The mean accuracy test: 0.826\n",
      "INFO -------------------------------\n"
     ]
    },
    {
     "name": "stdout",
     "output_type": "stream",
     "text": [
      "Adjusting learning rate of group 0 to 8.8824e-03.\n"
     ]
    },
    {
     "name": "stderr",
     "output_type": "stream",
     "text": [
      "INFO Epoch 216\n",
      "INFO The mean accuracy train: 0.991\n",
      "INFO The mean accuracy test: 0.834\n",
      "INFO -------------------------------\n"
     ]
    },
    {
     "name": "stdout",
     "output_type": "stream",
     "text": [
      "Adjusting learning rate of group 0 to 8.8725e-03.\n"
     ]
    },
    {
     "name": "stderr",
     "output_type": "stream",
     "text": [
      "INFO Epoch 217\n",
      "INFO The mean accuracy train: 0.991\n",
      "INFO The mean accuracy test: 0.829\n",
      "INFO -------------------------------\n"
     ]
    },
    {
     "name": "stdout",
     "output_type": "stream",
     "text": [
      "Adjusting learning rate of group 0 to 8.8626e-03.\n"
     ]
    },
    {
     "name": "stderr",
     "output_type": "stream",
     "text": [
      "INFO Epoch 218\n",
      "INFO The mean accuracy train: 0.992\n",
      "INFO The mean accuracy test: 0.833\n",
      "INFO -------------------------------\n"
     ]
    },
    {
     "name": "stdout",
     "output_type": "stream",
     "text": [
      "Adjusting learning rate of group 0 to 8.8526e-03.\n"
     ]
    },
    {
     "name": "stderr",
     "output_type": "stream",
     "text": [
      "INFO Epoch 219\n",
      "INFO The mean accuracy train: 0.992\n",
      "INFO The mean accuracy test: 0.830\n",
      "INFO -------------------------------\n"
     ]
    },
    {
     "name": "stdout",
     "output_type": "stream",
     "text": [
      "Adjusting learning rate of group 0 to 8.8425e-03.\n"
     ]
    },
    {
     "name": "stderr",
     "output_type": "stream",
     "text": [
      "INFO Epoch 220\n",
      "INFO The mean accuracy train: 0.992\n",
      "INFO The mean accuracy test: 0.828\n",
      "INFO -------------------------------\n"
     ]
    },
    {
     "name": "stdout",
     "output_type": "stream",
     "text": [
      "Adjusting learning rate of group 0 to 8.8325e-03.\n"
     ]
    },
    {
     "name": "stderr",
     "output_type": "stream",
     "text": [
      "INFO Epoch 221\n",
      "INFO The mean accuracy train: 0.992\n",
      "INFO The mean accuracy test: 0.829\n",
      "INFO -------------------------------\n"
     ]
    },
    {
     "name": "stdout",
     "output_type": "stream",
     "text": [
      "Adjusting learning rate of group 0 to 8.8224e-03.\n"
     ]
    },
    {
     "name": "stderr",
     "output_type": "stream",
     "text": [
      "INFO Epoch 222\n",
      "INFO The mean accuracy train: 0.992\n",
      "INFO The mean accuracy test: 0.830\n",
      "INFO -------------------------------\n"
     ]
    },
    {
     "name": "stdout",
     "output_type": "stream",
     "text": [
      "Adjusting learning rate of group 0 to 8.8122e-03.\n"
     ]
    },
    {
     "name": "stderr",
     "output_type": "stream",
     "text": [
      "INFO Epoch 223\n",
      "INFO The mean accuracy train: 0.991\n",
      "INFO The mean accuracy test: 0.829\n",
      "INFO -------------------------------\n"
     ]
    },
    {
     "name": "stdout",
     "output_type": "stream",
     "text": [
      "Adjusting learning rate of group 0 to 8.8020e-03.\n"
     ]
    },
    {
     "name": "stderr",
     "output_type": "stream",
     "text": [
      "INFO Epoch 224\n",
      "INFO The mean accuracy train: 0.993\n",
      "INFO The mean accuracy test: 0.830\n",
      "INFO -------------------------------\n"
     ]
    },
    {
     "name": "stdout",
     "output_type": "stream",
     "text": [
      "Adjusting learning rate of group 0 to 8.7918e-03.\n"
     ]
    },
    {
     "name": "stderr",
     "output_type": "stream",
     "text": [
      "INFO Epoch 225\n",
      "INFO The mean accuracy train: 0.992\n",
      "INFO The mean accuracy test: 0.833\n",
      "INFO -------------------------------\n"
     ]
    },
    {
     "name": "stdout",
     "output_type": "stream",
     "text": [
      "Adjusting learning rate of group 0 to 8.7816e-03.\n"
     ]
    },
    {
     "name": "stderr",
     "output_type": "stream",
     "text": [
      "INFO Epoch 226\n",
      "INFO The mean accuracy train: 0.993\n",
      "INFO The mean accuracy test: 0.835\n",
      "INFO -------------------------------\n"
     ]
    },
    {
     "name": "stdout",
     "output_type": "stream",
     "text": [
      "Adjusting learning rate of group 0 to 8.7713e-03.\n"
     ]
    },
    {
     "name": "stderr",
     "output_type": "stream",
     "text": [
      "INFO Epoch 227\n",
      "INFO The mean accuracy train: 0.992\n",
      "INFO The mean accuracy test: 0.824\n",
      "INFO -------------------------------\n"
     ]
    },
    {
     "name": "stdout",
     "output_type": "stream",
     "text": [
      "Adjusting learning rate of group 0 to 8.7609e-03.\n"
     ]
    },
    {
     "name": "stderr",
     "output_type": "stream",
     "text": [
      "INFO Epoch 228\n",
      "INFO The mean accuracy train: 0.992\n",
      "INFO The mean accuracy test: 0.837\n",
      "INFO -------------------------------\n"
     ]
    },
    {
     "name": "stdout",
     "output_type": "stream",
     "text": [
      "Adjusting learning rate of group 0 to 8.7506e-03.\n"
     ]
    },
    {
     "name": "stderr",
     "output_type": "stream",
     "text": [
      "INFO Epoch 229\n",
      "INFO The mean accuracy train: 0.993\n",
      "INFO The mean accuracy test: 0.832\n",
      "INFO -------------------------------\n"
     ]
    },
    {
     "name": "stdout",
     "output_type": "stream",
     "text": [
      "Adjusting learning rate of group 0 to 8.7401e-03.\n"
     ]
    },
    {
     "name": "stderr",
     "output_type": "stream",
     "text": [
      "INFO Epoch 230\n",
      "INFO The mean accuracy train: 0.993\n",
      "INFO The mean accuracy test: 0.834\n",
      "INFO -------------------------------\n"
     ]
    },
    {
     "name": "stdout",
     "output_type": "stream",
     "text": [
      "Adjusting learning rate of group 0 to 8.7297e-03.\n"
     ]
    },
    {
     "name": "stderr",
     "output_type": "stream",
     "text": [
      "INFO Epoch 231\n",
      "INFO The mean accuracy train: 0.992\n",
      "INFO The mean accuracy test: 0.831\n",
      "INFO -------------------------------\n"
     ]
    },
    {
     "name": "stdout",
     "output_type": "stream",
     "text": [
      "Adjusting learning rate of group 0 to 8.7192e-03.\n"
     ]
    },
    {
     "name": "stderr",
     "output_type": "stream",
     "text": [
      "INFO Epoch 232\n",
      "INFO The mean accuracy train: 0.993\n",
      "INFO The mean accuracy test: 0.830\n",
      "INFO -------------------------------\n"
     ]
    },
    {
     "name": "stdout",
     "output_type": "stream",
     "text": [
      "Adjusting learning rate of group 0 to 8.7087e-03.\n"
     ]
    },
    {
     "name": "stderr",
     "output_type": "stream",
     "text": [
      "INFO Epoch 233\n",
      "INFO The mean accuracy train: 0.992\n",
      "INFO The mean accuracy test: 0.831\n",
      "INFO -------------------------------\n"
     ]
    },
    {
     "name": "stdout",
     "output_type": "stream",
     "text": [
      "Adjusting learning rate of group 0 to 8.6982e-03.\n"
     ]
    },
    {
     "name": "stderr",
     "output_type": "stream",
     "text": [
      "INFO Epoch 234\n",
      "INFO The mean accuracy train: 0.993\n",
      "INFO The mean accuracy test: 0.835\n",
      "INFO -------------------------------\n"
     ]
    },
    {
     "name": "stdout",
     "output_type": "stream",
     "text": [
      "Adjusting learning rate of group 0 to 8.6876e-03.\n"
     ]
    },
    {
     "name": "stderr",
     "output_type": "stream",
     "text": [
      "INFO Epoch 235\n",
      "INFO The mean accuracy train: 0.993\n",
      "INFO The mean accuracy test: 0.833\n",
      "INFO -------------------------------\n"
     ]
    },
    {
     "name": "stdout",
     "output_type": "stream",
     "text": [
      "Adjusting learning rate of group 0 to 8.6769e-03.\n"
     ]
    },
    {
     "name": "stderr",
     "output_type": "stream",
     "text": [
      "INFO Epoch 236\n",
      "INFO The mean accuracy train: 0.993\n",
      "INFO The mean accuracy test: 0.827\n",
      "INFO -------------------------------\n"
     ]
    },
    {
     "name": "stdout",
     "output_type": "stream",
     "text": [
      "Adjusting learning rate of group 0 to 8.6663e-03.\n"
     ]
    },
    {
     "name": "stderr",
     "output_type": "stream",
     "text": [
      "INFO Epoch 237\n",
      "INFO The mean accuracy train: 0.992\n",
      "INFO The mean accuracy test: 0.829\n",
      "INFO -------------------------------\n"
     ]
    },
    {
     "name": "stdout",
     "output_type": "stream",
     "text": [
      "Adjusting learning rate of group 0 to 8.6556e-03.\n"
     ]
    },
    {
     "name": "stderr",
     "output_type": "stream",
     "text": [
      "INFO Epoch 238\n",
      "INFO The mean accuracy train: 0.993\n",
      "INFO The mean accuracy test: 0.833\n",
      "INFO -------------------------------\n"
     ]
    },
    {
     "name": "stdout",
     "output_type": "stream",
     "text": [
      "Adjusting learning rate of group 0 to 8.6448e-03.\n"
     ]
    },
    {
     "name": "stderr",
     "output_type": "stream",
     "text": [
      "INFO Epoch 239\n",
      "INFO The mean accuracy train: 0.992\n",
      "INFO The mean accuracy test: 0.831\n",
      "INFO -------------------------------\n"
     ]
    },
    {
     "name": "stdout",
     "output_type": "stream",
     "text": [
      "Adjusting learning rate of group 0 to 8.6341e-03.\n"
     ]
    },
    {
     "name": "stderr",
     "output_type": "stream",
     "text": [
      "INFO Epoch 240\n",
      "INFO The mean accuracy train: 0.993\n",
      "INFO The mean accuracy test: 0.829\n",
      "INFO -------------------------------\n"
     ]
    },
    {
     "name": "stdout",
     "output_type": "stream",
     "text": [
      "Adjusting learning rate of group 0 to 8.6233e-03.\n"
     ]
    },
    {
     "name": "stderr",
     "output_type": "stream",
     "text": [
      "INFO Epoch 241\n",
      "INFO The mean accuracy train: 0.993\n",
      "INFO The mean accuracy test: 0.830\n",
      "INFO -------------------------------\n"
     ]
    },
    {
     "name": "stdout",
     "output_type": "stream",
     "text": [
      "Adjusting learning rate of group 0 to 8.6124e-03.\n"
     ]
    },
    {
     "name": "stderr",
     "output_type": "stream",
     "text": [
      "INFO Epoch 242\n",
      "INFO The mean accuracy train: 0.992\n",
      "INFO The mean accuracy test: 0.832\n",
      "INFO -------------------------------\n"
     ]
    },
    {
     "name": "stdout",
     "output_type": "stream",
     "text": [
      "Adjusting learning rate of group 0 to 8.6015e-03.\n"
     ]
    },
    {
     "name": "stderr",
     "output_type": "stream",
     "text": [
      "INFO Epoch 243\n",
      "INFO The mean accuracy train: 0.993\n",
      "INFO The mean accuracy test: 0.834\n",
      "INFO -------------------------------\n"
     ]
    },
    {
     "name": "stdout",
     "output_type": "stream",
     "text": [
      "Adjusting learning rate of group 0 to 8.5906e-03.\n"
     ]
    },
    {
     "name": "stderr",
     "output_type": "stream",
     "text": [
      "INFO Epoch 244\n",
      "INFO The mean accuracy train: 0.994\n",
      "INFO The mean accuracy test: 0.831\n",
      "INFO -------------------------------\n"
     ]
    },
    {
     "name": "stdout",
     "output_type": "stream",
     "text": [
      "Adjusting learning rate of group 0 to 8.5797e-03.\n"
     ]
    },
    {
     "name": "stderr",
     "output_type": "stream",
     "text": [
      "INFO Epoch 245\n",
      "INFO The mean accuracy train: 0.992\n",
      "INFO The mean accuracy test: 0.834\n",
      "INFO -------------------------------\n"
     ]
    },
    {
     "name": "stdout",
     "output_type": "stream",
     "text": [
      "Adjusting learning rate of group 0 to 8.5687e-03.\n"
     ]
    },
    {
     "name": "stderr",
     "output_type": "stream",
     "text": [
      "INFO Epoch 246\n",
      "INFO The mean accuracy train: 0.993\n",
      "INFO The mean accuracy test: 0.833\n",
      "INFO -------------------------------\n"
     ]
    },
    {
     "name": "stdout",
     "output_type": "stream",
     "text": [
      "Adjusting learning rate of group 0 to 8.5577e-03.\n"
     ]
    },
    {
     "name": "stderr",
     "output_type": "stream",
     "text": [
      "INFO Epoch 247\n",
      "INFO The mean accuracy train: 0.994\n",
      "INFO The mean accuracy test: 0.829\n",
      "INFO -------------------------------\n"
     ]
    },
    {
     "name": "stdout",
     "output_type": "stream",
     "text": [
      "Adjusting learning rate of group 0 to 8.5466e-03.\n"
     ]
    },
    {
     "name": "stderr",
     "output_type": "stream",
     "text": [
      "INFO Epoch 248\n",
      "INFO The mean accuracy train: 0.993\n",
      "INFO The mean accuracy test: 0.825\n",
      "INFO -------------------------------\n"
     ]
    },
    {
     "name": "stdout",
     "output_type": "stream",
     "text": [
      "Adjusting learning rate of group 0 to 8.5355e-03.\n"
     ]
    },
    {
     "name": "stderr",
     "output_type": "stream",
     "text": [
      "INFO Epoch 249\n",
      "INFO The mean accuracy train: 0.993\n",
      "INFO The mean accuracy test: 0.832\n",
      "INFO -------------------------------\n"
     ]
    },
    {
     "name": "stdout",
     "output_type": "stream",
     "text": [
      "Adjusting learning rate of group 0 to 8.5244e-03.\n"
     ]
    },
    {
     "name": "stderr",
     "output_type": "stream",
     "text": [
      "INFO Epoch 250\n",
      "INFO The mean accuracy train: 0.993\n",
      "INFO The mean accuracy test: 0.836\n",
      "INFO -------------------------------\n"
     ]
    },
    {
     "name": "stdout",
     "output_type": "stream",
     "text": [
      "Adjusting learning rate of group 0 to 8.5132e-03.\n"
     ]
    },
    {
     "name": "stderr",
     "output_type": "stream",
     "text": [
      "INFO Epoch 251\n",
      "INFO The mean accuracy train: 0.994\n",
      "INFO The mean accuracy test: 0.826\n",
      "INFO -------------------------------\n"
     ]
    },
    {
     "name": "stdout",
     "output_type": "stream",
     "text": [
      "Adjusting learning rate of group 0 to 8.5021e-03.\n"
     ]
    },
    {
     "name": "stderr",
     "output_type": "stream",
     "text": [
      "INFO Epoch 252\n",
      "INFO The mean accuracy train: 0.993\n",
      "INFO The mean accuracy test: 0.830\n",
      "INFO -------------------------------\n"
     ]
    },
    {
     "name": "stdout",
     "output_type": "stream",
     "text": [
      "Adjusting learning rate of group 0 to 8.4908e-03.\n"
     ]
    },
    {
     "name": "stderr",
     "output_type": "stream",
     "text": [
      "INFO Epoch 253\n",
      "INFO The mean accuracy train: 0.994\n",
      "INFO The mean accuracy test: 0.831\n",
      "INFO -------------------------------\n"
     ]
    },
    {
     "name": "stdout",
     "output_type": "stream",
     "text": [
      "Adjusting learning rate of group 0 to 8.4796e-03.\n"
     ]
    },
    {
     "name": "stderr",
     "output_type": "stream",
     "text": [
      "INFO Epoch 254\n",
      "INFO The mean accuracy train: 0.994\n",
      "INFO The mean accuracy test: 0.830\n",
      "INFO -------------------------------\n"
     ]
    },
    {
     "name": "stdout",
     "output_type": "stream",
     "text": [
      "Adjusting learning rate of group 0 to 8.4683e-03.\n"
     ]
    },
    {
     "name": "stderr",
     "output_type": "stream",
     "text": [
      "INFO Epoch 255\n",
      "INFO The mean accuracy train: 0.993\n",
      "INFO The mean accuracy test: 0.826\n",
      "INFO -------------------------------\n"
     ]
    },
    {
     "name": "stdout",
     "output_type": "stream",
     "text": [
      "Adjusting learning rate of group 0 to 8.4569e-03.\n"
     ]
    },
    {
     "name": "stderr",
     "output_type": "stream",
     "text": [
      "INFO Epoch 256\n",
      "INFO The mean accuracy train: 0.993\n",
      "INFO The mean accuracy test: 0.833\n",
      "INFO -------------------------------\n"
     ]
    },
    {
     "name": "stdout",
     "output_type": "stream",
     "text": [
      "Adjusting learning rate of group 0 to 8.4456e-03.\n"
     ]
    },
    {
     "name": "stderr",
     "output_type": "stream",
     "text": [
      "INFO Epoch 257\n",
      "INFO The mean accuracy train: 0.994\n",
      "INFO The mean accuracy test: 0.833\n",
      "INFO -------------------------------\n"
     ]
    },
    {
     "name": "stdout",
     "output_type": "stream",
     "text": [
      "Adjusting learning rate of group 0 to 8.4342e-03.\n"
     ]
    },
    {
     "name": "stderr",
     "output_type": "stream",
     "text": [
      "INFO Epoch 258\n",
      "INFO The mean accuracy train: 0.993\n",
      "INFO The mean accuracy test: 0.834\n",
      "INFO -------------------------------\n"
     ]
    },
    {
     "name": "stdout",
     "output_type": "stream",
     "text": [
      "Adjusting learning rate of group 0 to 8.4227e-03.\n"
     ]
    },
    {
     "name": "stderr",
     "output_type": "stream",
     "text": [
      "INFO Epoch 259\n",
      "INFO The mean accuracy train: 0.994\n",
      "INFO The mean accuracy test: 0.830\n",
      "INFO -------------------------------\n"
     ]
    },
    {
     "name": "stdout",
     "output_type": "stream",
     "text": [
      "Adjusting learning rate of group 0 to 8.4113e-03.\n"
     ]
    },
    {
     "name": "stderr",
     "output_type": "stream",
     "text": [
      "INFO Epoch 260\n",
      "INFO The mean accuracy train: 0.993\n",
      "INFO The mean accuracy test: 0.831\n",
      "INFO -------------------------------\n"
     ]
    },
    {
     "name": "stdout",
     "output_type": "stream",
     "text": [
      "Adjusting learning rate of group 0 to 8.3998e-03.\n"
     ]
    },
    {
     "name": "stderr",
     "output_type": "stream",
     "text": [
      "INFO Epoch 261\n",
      "INFO The mean accuracy train: 0.994\n",
      "INFO The mean accuracy test: 0.829\n",
      "INFO -------------------------------\n"
     ]
    },
    {
     "name": "stdout",
     "output_type": "stream",
     "text": [
      "Adjusting learning rate of group 0 to 8.3882e-03.\n"
     ]
    },
    {
     "name": "stderr",
     "output_type": "stream",
     "text": [
      "INFO Epoch 262\n",
      "INFO The mean accuracy train: 0.994\n",
      "INFO The mean accuracy test: 0.832\n",
      "INFO -------------------------------\n"
     ]
    },
    {
     "name": "stdout",
     "output_type": "stream",
     "text": [
      "Adjusting learning rate of group 0 to 8.3767e-03.\n"
     ]
    },
    {
     "name": "stderr",
     "output_type": "stream",
     "text": [
      "INFO Epoch 263\n",
      "INFO The mean accuracy train: 0.994\n",
      "INFO The mean accuracy test: 0.832\n",
      "INFO -------------------------------\n"
     ]
    },
    {
     "name": "stdout",
     "output_type": "stream",
     "text": [
      "Adjusting learning rate of group 0 to 8.3651e-03.\n"
     ]
    },
    {
     "name": "stderr",
     "output_type": "stream",
     "text": [
      "INFO Epoch 264\n",
      "INFO The mean accuracy train: 0.994\n",
      "INFO The mean accuracy test: 0.829\n",
      "INFO -------------------------------\n"
     ]
    },
    {
     "name": "stdout",
     "output_type": "stream",
     "text": [
      "Adjusting learning rate of group 0 to 8.3534e-03.\n"
     ]
    },
    {
     "name": "stderr",
     "output_type": "stream",
     "text": [
      "INFO Epoch 265\n",
      "INFO The mean accuracy train: 0.994\n",
      "INFO The mean accuracy test: 0.834\n",
      "INFO -------------------------------\n"
     ]
    },
    {
     "name": "stdout",
     "output_type": "stream",
     "text": [
      "Adjusting learning rate of group 0 to 8.3418e-03.\n"
     ]
    },
    {
     "name": "stderr",
     "output_type": "stream",
     "text": [
      "INFO Epoch 266\n",
      "INFO The mean accuracy train: 0.995\n",
      "INFO The mean accuracy test: 0.834\n",
      "INFO -------------------------------\n"
     ]
    },
    {
     "name": "stdout",
     "output_type": "stream",
     "text": [
      "Adjusting learning rate of group 0 to 8.3301e-03.\n"
     ]
    },
    {
     "name": "stderr",
     "output_type": "stream",
     "text": [
      "INFO Epoch 267\n",
      "INFO The mean accuracy train: 0.993\n",
      "INFO The mean accuracy test: 0.826\n",
      "INFO -------------------------------\n"
     ]
    },
    {
     "name": "stdout",
     "output_type": "stream",
     "text": [
      "Adjusting learning rate of group 0 to 8.3183e-03.\n"
     ]
    },
    {
     "name": "stderr",
     "output_type": "stream",
     "text": [
      "INFO Epoch 268\n",
      "INFO The mean accuracy train: 0.994\n",
      "INFO The mean accuracy test: 0.830\n",
      "INFO -------------------------------\n"
     ]
    },
    {
     "name": "stdout",
     "output_type": "stream",
     "text": [
      "Adjusting learning rate of group 0 to 8.3066e-03.\n"
     ]
    },
    {
     "name": "stderr",
     "output_type": "stream",
     "text": [
      "INFO Epoch 269\n",
      "INFO The mean accuracy train: 0.995\n",
      "INFO The mean accuracy test: 0.830\n",
      "INFO -------------------------------\n"
     ]
    },
    {
     "name": "stdout",
     "output_type": "stream",
     "text": [
      "Adjusting learning rate of group 0 to 8.2948e-03.\n"
     ]
    },
    {
     "name": "stderr",
     "output_type": "stream",
     "text": [
      "INFO Epoch 270\n",
      "INFO The mean accuracy train: 0.994\n",
      "INFO The mean accuracy test: 0.831\n",
      "INFO -------------------------------\n"
     ]
    },
    {
     "name": "stdout",
     "output_type": "stream",
     "text": [
      "Adjusting learning rate of group 0 to 8.2829e-03.\n"
     ]
    },
    {
     "name": "stderr",
     "output_type": "stream",
     "text": [
      "INFO Epoch 271\n",
      "INFO The mean accuracy train: 0.994\n",
      "INFO The mean accuracy test: 0.831\n",
      "INFO -------------------------------\n"
     ]
    },
    {
     "name": "stdout",
     "output_type": "stream",
     "text": [
      "Adjusting learning rate of group 0 to 8.2711e-03.\n"
     ]
    },
    {
     "name": "stderr",
     "output_type": "stream",
     "text": [
      "INFO Epoch 272\n",
      "INFO The mean accuracy train: 0.995\n",
      "INFO The mean accuracy test: 0.830\n",
      "INFO -------------------------------\n"
     ]
    },
    {
     "name": "stdout",
     "output_type": "stream",
     "text": [
      "Adjusting learning rate of group 0 to 8.2592e-03.\n"
     ]
    },
    {
     "name": "stderr",
     "output_type": "stream",
     "text": [
      "INFO Epoch 273\n",
      "INFO The mean accuracy train: 0.995\n",
      "INFO The mean accuracy test: 0.830\n",
      "INFO -------------------------------\n"
     ]
    },
    {
     "name": "stdout",
     "output_type": "stream",
     "text": [
      "Adjusting learning rate of group 0 to 8.2472e-03.\n"
     ]
    },
    {
     "name": "stderr",
     "output_type": "stream",
     "text": [
      "INFO Epoch 274\n",
      "INFO The mean accuracy train: 0.994\n",
      "INFO The mean accuracy test: 0.829\n",
      "INFO -------------------------------\n"
     ]
    },
    {
     "name": "stdout",
     "output_type": "stream",
     "text": [
      "Adjusting learning rate of group 0 to 8.2353e-03.\n"
     ]
    },
    {
     "name": "stderr",
     "output_type": "stream",
     "text": [
      "INFO Epoch 275\n",
      "INFO The mean accuracy train: 0.995\n",
      "INFO The mean accuracy test: 0.831\n",
      "INFO -------------------------------\n"
     ]
    },
    {
     "name": "stdout",
     "output_type": "stream",
     "text": [
      "Adjusting learning rate of group 0 to 8.2233e-03.\n"
     ]
    },
    {
     "name": "stderr",
     "output_type": "stream",
     "text": [
      "INFO Epoch 276\n",
      "INFO The mean accuracy train: 0.995\n",
      "INFO The mean accuracy test: 0.831\n",
      "INFO -------------------------------\n"
     ]
    },
    {
     "name": "stdout",
     "output_type": "stream",
     "text": [
      "Adjusting learning rate of group 0 to 8.2113e-03.\n"
     ]
    },
    {
     "name": "stderr",
     "output_type": "stream",
     "text": [
      "INFO Epoch 277\n",
      "INFO The mean accuracy train: 0.996\n",
      "INFO The mean accuracy test: 0.830\n",
      "INFO -------------------------------\n"
     ]
    },
    {
     "name": "stdout",
     "output_type": "stream",
     "text": [
      "Adjusting learning rate of group 0 to 8.1992e-03.\n"
     ]
    },
    {
     "name": "stderr",
     "output_type": "stream",
     "text": [
      "INFO Epoch 278\n",
      "INFO The mean accuracy train: 0.994\n",
      "INFO The mean accuracy test: 0.830\n",
      "INFO -------------------------------\n"
     ]
    },
    {
     "name": "stdout",
     "output_type": "stream",
     "text": [
      "Adjusting learning rate of group 0 to 8.1871e-03.\n"
     ]
    },
    {
     "name": "stderr",
     "output_type": "stream",
     "text": [
      "INFO Epoch 279\n",
      "INFO The mean accuracy train: 0.995\n",
      "INFO The mean accuracy test: 0.831\n",
      "INFO -------------------------------\n"
     ]
    },
    {
     "name": "stdout",
     "output_type": "stream",
     "text": [
      "Adjusting learning rate of group 0 to 8.1750e-03.\n"
     ]
    },
    {
     "name": "stderr",
     "output_type": "stream",
     "text": [
      "INFO Epoch 280\n",
      "INFO The mean accuracy train: 0.995\n",
      "INFO The mean accuracy test: 0.832\n",
      "INFO -------------------------------\n"
     ]
    },
    {
     "name": "stdout",
     "output_type": "stream",
     "text": [
      "Adjusting learning rate of group 0 to 8.1629e-03.\n"
     ]
    },
    {
     "name": "stderr",
     "output_type": "stream",
     "text": [
      "INFO Epoch 281\n",
      "INFO The mean accuracy train: 0.995\n",
      "INFO The mean accuracy test: 0.833\n",
      "INFO -------------------------------\n"
     ]
    },
    {
     "name": "stdout",
     "output_type": "stream",
     "text": [
      "Adjusting learning rate of group 0 to 8.1507e-03.\n"
     ]
    },
    {
     "name": "stderr",
     "output_type": "stream",
     "text": [
      "INFO Epoch 282\n",
      "INFO The mean accuracy train: 0.995\n",
      "INFO The mean accuracy test: 0.830\n",
      "INFO -------------------------------\n"
     ]
    },
    {
     "name": "stdout",
     "output_type": "stream",
     "text": [
      "Adjusting learning rate of group 0 to 8.1385e-03.\n"
     ]
    },
    {
     "name": "stderr",
     "output_type": "stream",
     "text": [
      "INFO Epoch 283\n",
      "INFO The mean accuracy train: 0.995\n",
      "INFO The mean accuracy test: 0.832\n",
      "INFO -------------------------------\n"
     ]
    },
    {
     "name": "stdout",
     "output_type": "stream",
     "text": [
      "Adjusting learning rate of group 0 to 8.1262e-03.\n"
     ]
    },
    {
     "name": "stderr",
     "output_type": "stream",
     "text": [
      "INFO Epoch 284\n",
      "INFO The mean accuracy train: 0.995\n",
      "INFO The mean accuracy test: 0.829\n",
      "INFO -------------------------------\n"
     ]
    },
    {
     "name": "stdout",
     "output_type": "stream",
     "text": [
      "Adjusting learning rate of group 0 to 8.1139e-03.\n"
     ]
    },
    {
     "name": "stderr",
     "output_type": "stream",
     "text": [
      "INFO Epoch 285\n",
      "INFO The mean accuracy train: 0.995\n",
      "INFO The mean accuracy test: 0.836\n",
      "INFO -------------------------------\n"
     ]
    },
    {
     "name": "stdout",
     "output_type": "stream",
     "text": [
      "Adjusting learning rate of group 0 to 8.1016e-03.\n"
     ]
    },
    {
     "name": "stderr",
     "output_type": "stream",
     "text": [
      "INFO Epoch 286\n",
      "INFO The mean accuracy train: 0.995\n",
      "INFO The mean accuracy test: 0.833\n",
      "INFO -------------------------------\n"
     ]
    },
    {
     "name": "stdout",
     "output_type": "stream",
     "text": [
      "Adjusting learning rate of group 0 to 8.0893e-03.\n"
     ]
    },
    {
     "name": "stderr",
     "output_type": "stream",
     "text": [
      "INFO Epoch 287\n",
      "INFO The mean accuracy train: 0.994\n",
      "INFO The mean accuracy test: 0.834\n",
      "INFO -------------------------------\n"
     ]
    },
    {
     "name": "stdout",
     "output_type": "stream",
     "text": [
      "Adjusting learning rate of group 0 to 8.0769e-03.\n"
     ]
    },
    {
     "name": "stderr",
     "output_type": "stream",
     "text": [
      "INFO Epoch 288\n",
      "INFO The mean accuracy train: 0.995\n",
      "INFO The mean accuracy test: 0.833\n",
      "INFO -------------------------------\n"
     ]
    },
    {
     "name": "stdout",
     "output_type": "stream",
     "text": [
      "Adjusting learning rate of group 0 to 8.0645e-03.\n"
     ]
    },
    {
     "name": "stderr",
     "output_type": "stream",
     "text": [
      "INFO Epoch 289\n",
      "INFO The mean accuracy train: 0.996\n",
      "INFO The mean accuracy test: 0.831\n",
      "INFO -------------------------------\n"
     ]
    },
    {
     "name": "stdout",
     "output_type": "stream",
     "text": [
      "Adjusting learning rate of group 0 to 8.0521e-03.\n"
     ]
    },
    {
     "name": "stderr",
     "output_type": "stream",
     "text": [
      "INFO Epoch 290\n",
      "INFO The mean accuracy train: 0.996\n",
      "INFO The mean accuracy test: 0.834\n",
      "INFO -------------------------------\n"
     ]
    },
    {
     "name": "stdout",
     "output_type": "stream",
     "text": [
      "Adjusting learning rate of group 0 to 8.0397e-03.\n"
     ]
    },
    {
     "name": "stderr",
     "output_type": "stream",
     "text": [
      "INFO Epoch 291\n",
      "INFO The mean accuracy train: 0.996\n",
      "INFO The mean accuracy test: 0.832\n",
      "INFO -------------------------------\n"
     ]
    },
    {
     "name": "stdout",
     "output_type": "stream",
     "text": [
      "Adjusting learning rate of group 0 to 8.0272e-03.\n"
     ]
    },
    {
     "name": "stderr",
     "output_type": "stream",
     "text": [
      "INFO Epoch 292\n",
      "INFO The mean accuracy train: 0.995\n",
      "INFO The mean accuracy test: 0.831\n",
      "INFO -------------------------------\n"
     ]
    },
    {
     "name": "stdout",
     "output_type": "stream",
     "text": [
      "Adjusting learning rate of group 0 to 8.0146e-03.\n"
     ]
    },
    {
     "name": "stderr",
     "output_type": "stream",
     "text": [
      "INFO Epoch 293\n",
      "INFO The mean accuracy train: 0.995\n",
      "INFO The mean accuracy test: 0.834\n",
      "INFO -------------------------------\n"
     ]
    },
    {
     "name": "stdout",
     "output_type": "stream",
     "text": [
      "Adjusting learning rate of group 0 to 8.0021e-03.\n"
     ]
    },
    {
     "name": "stderr",
     "output_type": "stream",
     "text": [
      "INFO Epoch 294\n",
      "INFO The mean accuracy train: 0.995\n",
      "INFO The mean accuracy test: 0.833\n",
      "INFO -------------------------------\n"
     ]
    },
    {
     "name": "stdout",
     "output_type": "stream",
     "text": [
      "Adjusting learning rate of group 0 to 7.9895e-03.\n"
     ]
    },
    {
     "name": "stderr",
     "output_type": "stream",
     "text": [
      "INFO Epoch 295\n",
      "INFO The mean accuracy train: 0.996\n",
      "INFO The mean accuracy test: 0.835\n",
      "INFO -------------------------------\n"
     ]
    },
    {
     "name": "stdout",
     "output_type": "stream",
     "text": [
      "Adjusting learning rate of group 0 to 7.9769e-03.\n"
     ]
    },
    {
     "name": "stderr",
     "output_type": "stream",
     "text": [
      "INFO Epoch 296\n",
      "INFO The mean accuracy train: 0.995\n",
      "INFO The mean accuracy test: 0.833\n",
      "INFO -------------------------------\n"
     ]
    },
    {
     "name": "stdout",
     "output_type": "stream",
     "text": [
      "Adjusting learning rate of group 0 to 7.9643e-03.\n"
     ]
    },
    {
     "name": "stderr",
     "output_type": "stream",
     "text": [
      "INFO Epoch 297\n",
      "INFO The mean accuracy train: 0.996\n",
      "INFO The mean accuracy test: 0.834\n",
      "INFO -------------------------------\n"
     ]
    },
    {
     "name": "stdout",
     "output_type": "stream",
     "text": [
      "Adjusting learning rate of group 0 to 7.9516e-03.\n"
     ]
    },
    {
     "name": "stderr",
     "output_type": "stream",
     "text": [
      "INFO Epoch 298\n",
      "INFO The mean accuracy train: 0.995\n",
      "INFO The mean accuracy test: 0.830\n",
      "INFO -------------------------------\n"
     ]
    },
    {
     "name": "stdout",
     "output_type": "stream",
     "text": [
      "Adjusting learning rate of group 0 to 7.9389e-03.\n"
     ]
    },
    {
     "name": "stderr",
     "output_type": "stream",
     "text": [
      "INFO Epoch 299\n",
      "INFO The mean accuracy train: 0.996\n",
      "INFO The mean accuracy test: 0.834\n",
      "INFO -------------------------------\n"
     ]
    },
    {
     "name": "stdout",
     "output_type": "stream",
     "text": [
      "Adjusting learning rate of group 0 to 7.9262e-03.\n"
     ]
    },
    {
     "name": "stderr",
     "output_type": "stream",
     "text": [
      "INFO Epoch 300\n",
      "INFO The mean accuracy train: 0.995\n",
      "INFO The mean accuracy test: 0.831\n",
      "INFO -------------------------------\n"
     ]
    },
    {
     "name": "stdout",
     "output_type": "stream",
     "text": [
      "Adjusting learning rate of group 0 to 7.9135e-03.\n"
     ]
    },
    {
     "name": "stderr",
     "output_type": "stream",
     "text": [
      "INFO Epoch 301\n",
      "INFO The mean accuracy train: 0.995\n",
      "INFO The mean accuracy test: 0.830\n",
      "INFO -------------------------------\n"
     ]
    },
    {
     "name": "stdout",
     "output_type": "stream",
     "text": [
      "Adjusting learning rate of group 0 to 7.9007e-03.\n"
     ]
    },
    {
     "name": "stderr",
     "output_type": "stream",
     "text": [
      "INFO Epoch 302\n",
      "INFO The mean accuracy train: 0.996\n",
      "INFO The mean accuracy test: 0.832\n",
      "INFO -------------------------------\n"
     ]
    },
    {
     "name": "stdout",
     "output_type": "stream",
     "text": [
      "Adjusting learning rate of group 0 to 7.8879e-03.\n"
     ]
    },
    {
     "name": "stderr",
     "output_type": "stream",
     "text": [
      "INFO Epoch 303\n",
      "INFO The mean accuracy train: 0.995\n",
      "INFO The mean accuracy test: 0.828\n",
      "INFO -------------------------------\n"
     ]
    },
    {
     "name": "stdout",
     "output_type": "stream",
     "text": [
      "Adjusting learning rate of group 0 to 7.8750e-03.\n"
     ]
    },
    {
     "name": "stderr",
     "output_type": "stream",
     "text": [
      "INFO Epoch 304\n",
      "INFO The mean accuracy train: 0.995\n",
      "INFO The mean accuracy test: 0.832\n",
      "INFO -------------------------------\n"
     ]
    },
    {
     "name": "stdout",
     "output_type": "stream",
     "text": [
      "Adjusting learning rate of group 0 to 7.8622e-03.\n"
     ]
    },
    {
     "name": "stderr",
     "output_type": "stream",
     "text": [
      "INFO Epoch 305\n",
      "INFO The mean accuracy train: 0.996\n",
      "INFO The mean accuracy test: 0.833\n",
      "INFO -------------------------------\n"
     ]
    },
    {
     "name": "stdout",
     "output_type": "stream",
     "text": [
      "Adjusting learning rate of group 0 to 7.8493e-03.\n"
     ]
    },
    {
     "name": "stderr",
     "output_type": "stream",
     "text": [
      "INFO Epoch 306\n",
      "INFO The mean accuracy train: 0.995\n",
      "INFO The mean accuracy test: 0.834\n",
      "INFO -------------------------------\n"
     ]
    },
    {
     "name": "stdout",
     "output_type": "stream",
     "text": [
      "Adjusting learning rate of group 0 to 7.8363e-03.\n"
     ]
    },
    {
     "name": "stderr",
     "output_type": "stream",
     "text": [
      "INFO Epoch 307\n",
      "INFO The mean accuracy train: 0.996\n",
      "INFO The mean accuracy test: 0.836\n",
      "INFO -------------------------------\n"
     ]
    },
    {
     "name": "stdout",
     "output_type": "stream",
     "text": [
      "Adjusting learning rate of group 0 to 7.8234e-03.\n"
     ]
    },
    {
     "name": "stderr",
     "output_type": "stream",
     "text": [
      "INFO Epoch 308\n",
      "INFO The mean accuracy train: 0.995\n",
      "INFO The mean accuracy test: 0.833\n",
      "INFO -------------------------------\n"
     ]
    },
    {
     "name": "stdout",
     "output_type": "stream",
     "text": [
      "Adjusting learning rate of group 0 to 7.8104e-03.\n"
     ]
    },
    {
     "name": "stderr",
     "output_type": "stream",
     "text": [
      "INFO Epoch 309\n",
      "INFO The mean accuracy train: 0.996\n",
      "INFO The mean accuracy test: 0.832\n",
      "INFO -------------------------------\n"
     ]
    },
    {
     "name": "stdout",
     "output_type": "stream",
     "text": [
      "Adjusting learning rate of group 0 to 7.7974e-03.\n"
     ]
    },
    {
     "name": "stderr",
     "output_type": "stream",
     "text": [
      "INFO Epoch 310\n",
      "INFO The mean accuracy train: 0.996\n",
      "INFO The mean accuracy test: 0.835\n",
      "INFO -------------------------------\n"
     ]
    },
    {
     "name": "stdout",
     "output_type": "stream",
     "text": [
      "Adjusting learning rate of group 0 to 7.7844e-03.\n"
     ]
    },
    {
     "name": "stderr",
     "output_type": "stream",
     "text": [
      "INFO Epoch 311\n",
      "INFO The mean accuracy train: 0.996\n",
      "INFO The mean accuracy test: 0.833\n",
      "INFO -------------------------------\n"
     ]
    },
    {
     "name": "stdout",
     "output_type": "stream",
     "text": [
      "Adjusting learning rate of group 0 to 7.7713e-03.\n"
     ]
    },
    {
     "name": "stderr",
     "output_type": "stream",
     "text": [
      "INFO Epoch 312\n",
      "INFO The mean accuracy train: 0.996\n",
      "INFO The mean accuracy test: 0.828\n",
      "INFO -------------------------------\n"
     ]
    },
    {
     "name": "stdout",
     "output_type": "stream",
     "text": [
      "Adjusting learning rate of group 0 to 7.7582e-03.\n"
     ]
    },
    {
     "name": "stderr",
     "output_type": "stream",
     "text": [
      "INFO Epoch 313\n",
      "INFO The mean accuracy train: 0.996\n",
      "INFO The mean accuracy test: 0.832\n",
      "INFO -------------------------------\n"
     ]
    },
    {
     "name": "stdout",
     "output_type": "stream",
     "text": [
      "Adjusting learning rate of group 0 to 7.7451e-03.\n"
     ]
    },
    {
     "name": "stderr",
     "output_type": "stream",
     "text": [
      "INFO Epoch 314\n",
      "INFO The mean accuracy train: 0.996\n",
      "INFO The mean accuracy test: 0.835\n",
      "INFO -------------------------------\n"
     ]
    },
    {
     "name": "stdout",
     "output_type": "stream",
     "text": [
      "Adjusting learning rate of group 0 to 7.7320e-03.\n"
     ]
    },
    {
     "name": "stderr",
     "output_type": "stream",
     "text": [
      "INFO Epoch 315\n",
      "INFO The mean accuracy train: 0.997\n",
      "INFO The mean accuracy test: 0.832\n",
      "INFO -------------------------------\n"
     ]
    },
    {
     "name": "stdout",
     "output_type": "stream",
     "text": [
      "Adjusting learning rate of group 0 to 7.7188e-03.\n"
     ]
    },
    {
     "name": "stderr",
     "output_type": "stream",
     "text": [
      "INFO Epoch 316\n",
      "INFO The mean accuracy train: 0.997\n",
      "INFO The mean accuracy test: 0.837\n",
      "INFO -------------------------------\n"
     ]
    },
    {
     "name": "stdout",
     "output_type": "stream",
     "text": [
      "Adjusting learning rate of group 0 to 7.7056e-03.\n"
     ]
    },
    {
     "name": "stderr",
     "output_type": "stream",
     "text": [
      "INFO Epoch 317\n",
      "INFO The mean accuracy train: 0.995\n",
      "INFO The mean accuracy test: 0.830\n",
      "INFO -------------------------------\n"
     ]
    },
    {
     "name": "stdout",
     "output_type": "stream",
     "text": [
      "Adjusting learning rate of group 0 to 7.6924e-03.\n"
     ]
    },
    {
     "name": "stderr",
     "output_type": "stream",
     "text": [
      "INFO Epoch 318\n",
      "INFO The mean accuracy train: 0.996\n",
      "INFO The mean accuracy test: 0.834\n",
      "INFO -------------------------------\n"
     ]
    },
    {
     "name": "stdout",
     "output_type": "stream",
     "text": [
      "Adjusting learning rate of group 0 to 7.6791e-03.\n"
     ]
    },
    {
     "name": "stderr",
     "output_type": "stream",
     "text": [
      "INFO Epoch 319\n",
      "INFO The mean accuracy train: 0.996\n",
      "INFO The mean accuracy test: 0.830\n",
      "INFO -------------------------------\n"
     ]
    },
    {
     "name": "stdout",
     "output_type": "stream",
     "text": [
      "Adjusting learning rate of group 0 to 7.6659e-03.\n"
     ]
    },
    {
     "name": "stderr",
     "output_type": "stream",
     "text": [
      "INFO Epoch 320\n",
      "INFO The mean accuracy train: 0.996\n",
      "INFO The mean accuracy test: 0.837\n",
      "INFO -------------------------------\n"
     ]
    },
    {
     "name": "stdout",
     "output_type": "stream",
     "text": [
      "Adjusting learning rate of group 0 to 7.6526e-03.\n"
     ]
    },
    {
     "name": "stderr",
     "output_type": "stream",
     "text": [
      "INFO Epoch 321\n",
      "INFO The mean accuracy train: 0.996\n",
      "INFO The mean accuracy test: 0.831\n",
      "INFO -------------------------------\n"
     ]
    },
    {
     "name": "stdout",
     "output_type": "stream",
     "text": [
      "Adjusting learning rate of group 0 to 7.6392e-03.\n"
     ]
    },
    {
     "name": "stderr",
     "output_type": "stream",
     "text": [
      "INFO Epoch 322\n",
      "INFO The mean accuracy train: 0.996\n",
      "INFO The mean accuracy test: 0.836\n",
      "INFO -------------------------------\n"
     ]
    },
    {
     "name": "stdout",
     "output_type": "stream",
     "text": [
      "Adjusting learning rate of group 0 to 7.6259e-03.\n"
     ]
    },
    {
     "name": "stderr",
     "output_type": "stream",
     "text": [
      "INFO Epoch 323\n",
      "INFO The mean accuracy train: 0.997\n",
      "INFO The mean accuracy test: 0.834\n",
      "INFO -------------------------------\n"
     ]
    },
    {
     "name": "stdout",
     "output_type": "stream",
     "text": [
      "Adjusting learning rate of group 0 to 7.6125e-03.\n"
     ]
    },
    {
     "name": "stderr",
     "output_type": "stream",
     "text": [
      "INFO Epoch 324\n",
      "INFO The mean accuracy train: 0.996\n",
      "INFO The mean accuracy test: 0.833\n",
      "INFO -------------------------------\n"
     ]
    },
    {
     "name": "stdout",
     "output_type": "stream",
     "text": [
      "Adjusting learning rate of group 0 to 7.5991e-03.\n"
     ]
    },
    {
     "name": "stderr",
     "output_type": "stream",
     "text": [
      "INFO Epoch 325\n",
      "INFO The mean accuracy train: 0.996\n",
      "INFO The mean accuracy test: 0.832\n",
      "INFO -------------------------------\n"
     ]
    },
    {
     "name": "stdout",
     "output_type": "stream",
     "text": [
      "Adjusting learning rate of group 0 to 7.5857e-03.\n"
     ]
    },
    {
     "name": "stderr",
     "output_type": "stream",
     "text": [
      "INFO Epoch 326\n",
      "INFO The mean accuracy train: 0.996\n",
      "INFO The mean accuracy test: 0.834\n",
      "INFO -------------------------------\n"
     ]
    },
    {
     "name": "stdout",
     "output_type": "stream",
     "text": [
      "Adjusting learning rate of group 0 to 7.5722e-03.\n"
     ]
    },
    {
     "name": "stderr",
     "output_type": "stream",
     "text": [
      "INFO Epoch 327\n",
      "INFO The mean accuracy train: 0.996\n",
      "INFO The mean accuracy test: 0.832\n",
      "INFO -------------------------------\n"
     ]
    },
    {
     "name": "stdout",
     "output_type": "stream",
     "text": [
      "Adjusting learning rate of group 0 to 7.5587e-03.\n"
     ]
    },
    {
     "name": "stderr",
     "output_type": "stream",
     "text": [
      "INFO Epoch 328\n",
      "INFO The mean accuracy train: 0.996\n",
      "INFO The mean accuracy test: 0.833\n",
      "INFO -------------------------------\n"
     ]
    },
    {
     "name": "stdout",
     "output_type": "stream",
     "text": [
      "Adjusting learning rate of group 0 to 7.5452e-03.\n"
     ]
    },
    {
     "name": "stderr",
     "output_type": "stream",
     "text": [
      "INFO Epoch 329\n",
      "INFO The mean accuracy train: 0.996\n",
      "INFO The mean accuracy test: 0.833\n",
      "INFO -------------------------------\n"
     ]
    },
    {
     "name": "stdout",
     "output_type": "stream",
     "text": [
      "Adjusting learning rate of group 0 to 7.5317e-03.\n"
     ]
    },
    {
     "name": "stderr",
     "output_type": "stream",
     "text": [
      "INFO Epoch 330\n",
      "INFO The mean accuracy train: 0.996\n",
      "INFO The mean accuracy test: 0.833\n",
      "INFO -------------------------------\n"
     ]
    },
    {
     "name": "stdout",
     "output_type": "stream",
     "text": [
      "Adjusting learning rate of group 0 to 7.5181e-03.\n"
     ]
    },
    {
     "name": "stderr",
     "output_type": "stream",
     "text": [
      "INFO Epoch 331\n",
      "INFO The mean accuracy train: 0.996\n",
      "INFO The mean accuracy test: 0.831\n",
      "INFO -------------------------------\n"
     ]
    },
    {
     "name": "stdout",
     "output_type": "stream",
     "text": [
      "Adjusting learning rate of group 0 to 7.5045e-03.\n"
     ]
    },
    {
     "name": "stderr",
     "output_type": "stream",
     "text": [
      "INFO Epoch 332\n",
      "INFO The mean accuracy train: 0.997\n",
      "INFO The mean accuracy test: 0.831\n",
      "INFO -------------------------------\n"
     ]
    },
    {
     "name": "stdout",
     "output_type": "stream",
     "text": [
      "Adjusting learning rate of group 0 to 7.4909e-03.\n"
     ]
    },
    {
     "name": "stderr",
     "output_type": "stream",
     "text": [
      "INFO Epoch 333\n",
      "INFO The mean accuracy train: 0.996\n",
      "INFO The mean accuracy test: 0.835\n",
      "INFO -------------------------------\n"
     ]
    },
    {
     "name": "stdout",
     "output_type": "stream",
     "text": [
      "Adjusting learning rate of group 0 to 7.4773e-03.\n"
     ]
    },
    {
     "name": "stderr",
     "output_type": "stream",
     "text": [
      "INFO Epoch 334\n",
      "INFO The mean accuracy train: 0.996\n",
      "INFO The mean accuracy test: 0.834\n",
      "INFO -------------------------------\n"
     ]
    },
    {
     "name": "stdout",
     "output_type": "stream",
     "text": [
      "Adjusting learning rate of group 0 to 7.4636e-03.\n"
     ]
    },
    {
     "name": "stderr",
     "output_type": "stream",
     "text": [
      "INFO Epoch 335\n",
      "INFO The mean accuracy train: 0.997\n",
      "INFO The mean accuracy test: 0.835\n",
      "INFO -------------------------------\n"
     ]
    },
    {
     "name": "stdout",
     "output_type": "stream",
     "text": [
      "Adjusting learning rate of group 0 to 7.4500e-03.\n"
     ]
    },
    {
     "name": "stderr",
     "output_type": "stream",
     "text": [
      "INFO Epoch 336\n",
      "INFO The mean accuracy train: 0.997\n",
      "INFO The mean accuracy test: 0.836\n",
      "INFO -------------------------------\n"
     ]
    },
    {
     "name": "stdout",
     "output_type": "stream",
     "text": [
      "Adjusting learning rate of group 0 to 7.4363e-03.\n"
     ]
    },
    {
     "name": "stderr",
     "output_type": "stream",
     "text": [
      "INFO Epoch 337\n",
      "INFO The mean accuracy train: 0.996\n",
      "INFO The mean accuracy test: 0.836\n",
      "INFO -------------------------------\n"
     ]
    },
    {
     "name": "stdout",
     "output_type": "stream",
     "text": [
      "Adjusting learning rate of group 0 to 7.4225e-03.\n"
     ]
    },
    {
     "name": "stderr",
     "output_type": "stream",
     "text": [
      "INFO Epoch 338\n",
      "INFO The mean accuracy train: 0.996\n",
      "INFO The mean accuracy test: 0.837\n",
      "INFO -------------------------------\n"
     ]
    },
    {
     "name": "stdout",
     "output_type": "stream",
     "text": [
      "Adjusting learning rate of group 0 to 7.4088e-03.\n"
     ]
    },
    {
     "name": "stderr",
     "output_type": "stream",
     "text": [
      "INFO Epoch 339\n",
      "INFO The mean accuracy train: 0.996\n",
      "INFO The mean accuracy test: 0.834\n",
      "INFO -------------------------------\n"
     ]
    },
    {
     "name": "stdout",
     "output_type": "stream",
     "text": [
      "Adjusting learning rate of group 0 to 7.3950e-03.\n"
     ]
    },
    {
     "name": "stderr",
     "output_type": "stream",
     "text": [
      "INFO Epoch 340\n",
      "INFO The mean accuracy train: 0.997\n",
      "INFO The mean accuracy test: 0.840\n",
      "INFO -------------------------------\n"
     ]
    },
    {
     "name": "stdout",
     "output_type": "stream",
     "text": [
      "Adjusting learning rate of group 0 to 7.3812e-03.\n"
     ]
    },
    {
     "name": "stderr",
     "output_type": "stream",
     "text": [
      "INFO Epoch 341\n",
      "INFO The mean accuracy train: 0.997\n",
      "INFO The mean accuracy test: 0.837\n",
      "INFO -------------------------------\n"
     ]
    },
    {
     "name": "stdout",
     "output_type": "stream",
     "text": [
      "Adjusting learning rate of group 0 to 7.3674e-03.\n"
     ]
    },
    {
     "name": "stderr",
     "output_type": "stream",
     "text": [
      "INFO Epoch 342\n",
      "INFO The mean accuracy train: 0.996\n",
      "INFO The mean accuracy test: 0.837\n",
      "INFO -------------------------------\n"
     ]
    },
    {
     "name": "stdout",
     "output_type": "stream",
     "text": [
      "Adjusting learning rate of group 0 to 7.3535e-03.\n"
     ]
    },
    {
     "name": "stderr",
     "output_type": "stream",
     "text": [
      "INFO Epoch 343\n",
      "INFO The mean accuracy train: 0.997\n",
      "INFO The mean accuracy test: 0.833\n",
      "INFO -------------------------------\n"
     ]
    },
    {
     "name": "stdout",
     "output_type": "stream",
     "text": [
      "Adjusting learning rate of group 0 to 7.3396e-03.\n"
     ]
    },
    {
     "name": "stderr",
     "output_type": "stream",
     "text": [
      "INFO Epoch 344\n",
      "INFO The mean accuracy train: 0.997\n",
      "INFO The mean accuracy test: 0.837\n",
      "INFO -------------------------------\n"
     ]
    },
    {
     "name": "stdout",
     "output_type": "stream",
     "text": [
      "Adjusting learning rate of group 0 to 7.3258e-03.\n"
     ]
    },
    {
     "name": "stderr",
     "output_type": "stream",
     "text": [
      "INFO Epoch 345\n",
      "INFO The mean accuracy train: 0.997\n",
      "INFO The mean accuracy test: 0.840\n",
      "INFO -------------------------------\n"
     ]
    },
    {
     "name": "stdout",
     "output_type": "stream",
     "text": [
      "Adjusting learning rate of group 0 to 7.3118e-03.\n"
     ]
    },
    {
     "name": "stderr",
     "output_type": "stream",
     "text": [
      "INFO Epoch 346\n",
      "INFO The mean accuracy train: 0.997\n",
      "INFO The mean accuracy test: 0.840\n",
      "INFO -------------------------------\n"
     ]
    },
    {
     "name": "stdout",
     "output_type": "stream",
     "text": [
      "Adjusting learning rate of group 0 to 7.2979e-03.\n"
     ]
    },
    {
     "name": "stderr",
     "output_type": "stream",
     "text": [
      "INFO Epoch 347\n",
      "INFO The mean accuracy train: 0.997\n",
      "INFO The mean accuracy test: 0.839\n",
      "INFO -------------------------------\n"
     ]
    },
    {
     "name": "stdout",
     "output_type": "stream",
     "text": [
      "Adjusting learning rate of group 0 to 7.2839e-03.\n"
     ]
    },
    {
     "name": "stderr",
     "output_type": "stream",
     "text": [
      "INFO Epoch 348\n",
      "INFO The mean accuracy train: 0.997\n",
      "INFO The mean accuracy test: 0.837\n",
      "INFO -------------------------------\n"
     ]
    },
    {
     "name": "stdout",
     "output_type": "stream",
     "text": [
      "Adjusting learning rate of group 0 to 7.2700e-03.\n"
     ]
    },
    {
     "name": "stderr",
     "output_type": "stream",
     "text": [
      "INFO Epoch 349\n",
      "INFO The mean accuracy train: 0.997\n",
      "INFO The mean accuracy test: 0.839\n",
      "INFO -------------------------------\n"
     ]
    },
    {
     "name": "stdout",
     "output_type": "stream",
     "text": [
      "Adjusting learning rate of group 0 to 7.2559e-03.\n"
     ]
    },
    {
     "name": "stderr",
     "output_type": "stream",
     "text": [
      "INFO Epoch 350\n",
      "INFO The mean accuracy train: 0.997\n",
      "INFO The mean accuracy test: 0.836\n",
      "INFO -------------------------------\n"
     ]
    },
    {
     "name": "stdout",
     "output_type": "stream",
     "text": [
      "Adjusting learning rate of group 0 to 7.2419e-03.\n"
     ]
    },
    {
     "name": "stderr",
     "output_type": "stream",
     "text": [
      "INFO Epoch 351\n",
      "INFO The mean accuracy train: 0.997\n",
      "INFO The mean accuracy test: 0.838\n",
      "INFO -------------------------------\n"
     ]
    },
    {
     "name": "stdout",
     "output_type": "stream",
     "text": [
      "Adjusting learning rate of group 0 to 7.2279e-03.\n"
     ]
    },
    {
     "name": "stderr",
     "output_type": "stream",
     "text": [
      "INFO Epoch 352\n",
      "INFO The mean accuracy train: 0.997\n",
      "INFO The mean accuracy test: 0.839\n",
      "INFO -------------------------------\n"
     ]
    },
    {
     "name": "stdout",
     "output_type": "stream",
     "text": [
      "Adjusting learning rate of group 0 to 7.2138e-03.\n"
     ]
    },
    {
     "name": "stderr",
     "output_type": "stream",
     "text": [
      "INFO Epoch 353\n",
      "INFO The mean accuracy train: 0.997\n",
      "INFO The mean accuracy test: 0.840\n",
      "INFO -------------------------------\n"
     ]
    },
    {
     "name": "stdout",
     "output_type": "stream",
     "text": [
      "Adjusting learning rate of group 0 to 7.1997e-03.\n"
     ]
    },
    {
     "name": "stderr",
     "output_type": "stream",
     "text": [
      "INFO Epoch 354\n",
      "INFO The mean accuracy train: 0.997\n",
      "INFO The mean accuracy test: 0.840\n",
      "INFO -------------------------------\n"
     ]
    },
    {
     "name": "stdout",
     "output_type": "stream",
     "text": [
      "Adjusting learning rate of group 0 to 7.1856e-03.\n"
     ]
    },
    {
     "name": "stderr",
     "output_type": "stream",
     "text": [
      "INFO Epoch 355\n",
      "INFO The mean accuracy train: 0.997\n",
      "INFO The mean accuracy test: 0.837\n",
      "INFO -------------------------------\n"
     ]
    },
    {
     "name": "stdout",
     "output_type": "stream",
     "text": [
      "Adjusting learning rate of group 0 to 7.1714e-03.\n"
     ]
    },
    {
     "name": "stderr",
     "output_type": "stream",
     "text": [
      "INFO Epoch 356\n",
      "INFO The mean accuracy train: 0.997\n",
      "INFO The mean accuracy test: 0.833\n",
      "INFO -------------------------------\n"
     ]
    },
    {
     "name": "stdout",
     "output_type": "stream",
     "text": [
      "Adjusting learning rate of group 0 to 7.1573e-03.\n"
     ]
    },
    {
     "name": "stderr",
     "output_type": "stream",
     "text": [
      "INFO Epoch 357\n",
      "INFO The mean accuracy train: 0.997\n",
      "INFO The mean accuracy test: 0.825\n",
      "INFO -------------------------------\n"
     ]
    },
    {
     "name": "stdout",
     "output_type": "stream",
     "text": [
      "Adjusting learning rate of group 0 to 7.1431e-03.\n"
     ]
    },
    {
     "name": "stderr",
     "output_type": "stream",
     "text": [
      "INFO Epoch 358\n",
      "INFO The mean accuracy train: 0.996\n",
      "INFO The mean accuracy test: 0.833\n",
      "INFO -------------------------------\n"
     ]
    },
    {
     "name": "stdout",
     "output_type": "stream",
     "text": [
      "Adjusting learning rate of group 0 to 7.1289e-03.\n"
     ]
    },
    {
     "name": "stderr",
     "output_type": "stream",
     "text": [
      "INFO Epoch 359\n",
      "INFO The mean accuracy train: 0.997\n",
      "INFO The mean accuracy test: 0.835\n",
      "INFO -------------------------------\n"
     ]
    },
    {
     "name": "stdout",
     "output_type": "stream",
     "text": [
      "Adjusting learning rate of group 0 to 7.1147e-03.\n"
     ]
    },
    {
     "name": "stderr",
     "output_type": "stream",
     "text": [
      "INFO Epoch 360\n",
      "INFO The mean accuracy train: 0.997\n",
      "INFO The mean accuracy test: 0.838\n",
      "INFO -------------------------------\n"
     ]
    },
    {
     "name": "stdout",
     "output_type": "stream",
     "text": [
      "Adjusting learning rate of group 0 to 7.1004e-03.\n"
     ]
    },
    {
     "name": "stderr",
     "output_type": "stream",
     "text": [
      "INFO Epoch 361\n",
      "INFO The mean accuracy train: 0.997\n",
      "INFO The mean accuracy test: 0.837\n",
      "INFO -------------------------------\n"
     ]
    },
    {
     "name": "stdout",
     "output_type": "stream",
     "text": [
      "Adjusting learning rate of group 0 to 7.0862e-03.\n"
     ]
    },
    {
     "name": "stderr",
     "output_type": "stream",
     "text": [
      "INFO Epoch 362\n",
      "INFO The mean accuracy train: 0.997\n",
      "INFO The mean accuracy test: 0.838\n",
      "INFO -------------------------------\n"
     ]
    },
    {
     "name": "stdout",
     "output_type": "stream",
     "text": [
      "Adjusting learning rate of group 0 to 7.0719e-03.\n"
     ]
    },
    {
     "name": "stderr",
     "output_type": "stream",
     "text": [
      "INFO Epoch 363\n",
      "INFO The mean accuracy train: 0.997\n",
      "INFO The mean accuracy test: 0.836\n",
      "INFO -------------------------------\n"
     ]
    },
    {
     "name": "stdout",
     "output_type": "stream",
     "text": [
      "Adjusting learning rate of group 0 to 7.0576e-03.\n"
     ]
    },
    {
     "name": "stderr",
     "output_type": "stream",
     "text": [
      "INFO Epoch 364\n",
      "INFO The mean accuracy train: 0.997\n",
      "INFO The mean accuracy test: 0.834\n",
      "INFO -------------------------------\n"
     ]
    },
    {
     "name": "stdout",
     "output_type": "stream",
     "text": [
      "Adjusting learning rate of group 0 to 7.0432e-03.\n"
     ]
    },
    {
     "name": "stderr",
     "output_type": "stream",
     "text": [
      "INFO Epoch 365\n",
      "INFO The mean accuracy train: 0.997\n",
      "INFO The mean accuracy test: 0.837\n",
      "INFO -------------------------------\n"
     ]
    },
    {
     "name": "stdout",
     "output_type": "stream",
     "text": [
      "Adjusting learning rate of group 0 to 7.0289e-03.\n"
     ]
    },
    {
     "name": "stderr",
     "output_type": "stream",
     "text": [
      "INFO Epoch 366\n",
      "INFO The mean accuracy train: 0.997\n",
      "INFO The mean accuracy test: 0.837\n",
      "INFO -------------------------------\n"
     ]
    },
    {
     "name": "stdout",
     "output_type": "stream",
     "text": [
      "Adjusting learning rate of group 0 to 7.0145e-03.\n"
     ]
    },
    {
     "name": "stderr",
     "output_type": "stream",
     "text": [
      "INFO Epoch 367\n",
      "INFO The mean accuracy train: 0.997\n",
      "INFO The mean accuracy test: 0.835\n",
      "INFO -------------------------------\n"
     ]
    },
    {
     "name": "stdout",
     "output_type": "stream",
     "text": [
      "Adjusting learning rate of group 0 to 7.0001e-03.\n"
     ]
    },
    {
     "name": "stderr",
     "output_type": "stream",
     "text": [
      "INFO Epoch 368\n",
      "INFO The mean accuracy train: 0.997\n",
      "INFO The mean accuracy test: 0.834\n",
      "INFO -------------------------------\n"
     ]
    },
    {
     "name": "stdout",
     "output_type": "stream",
     "text": [
      "Adjusting learning rate of group 0 to 6.9857e-03.\n"
     ]
    },
    {
     "name": "stderr",
     "output_type": "stream",
     "text": [
      "INFO Epoch 369\n",
      "INFO The mean accuracy train: 0.997\n",
      "INFO The mean accuracy test: 0.831\n",
      "INFO -------------------------------\n"
     ]
    },
    {
     "name": "stdout",
     "output_type": "stream",
     "text": [
      "Adjusting learning rate of group 0 to 6.9713e-03.\n"
     ]
    },
    {
     "name": "stderr",
     "output_type": "stream",
     "text": [
      "INFO Epoch 370\n",
      "INFO The mean accuracy train: 0.997\n",
      "INFO The mean accuracy test: 0.835\n",
      "INFO -------------------------------\n"
     ]
    },
    {
     "name": "stdout",
     "output_type": "stream",
     "text": [
      "Adjusting learning rate of group 0 to 6.9569e-03.\n"
     ]
    },
    {
     "name": "stderr",
     "output_type": "stream",
     "text": [
      "INFO Epoch 371\n",
      "INFO The mean accuracy train: 0.997\n",
      "INFO The mean accuracy test: 0.832\n",
      "INFO -------------------------------\n"
     ]
    },
    {
     "name": "stdout",
     "output_type": "stream",
     "text": [
      "Adjusting learning rate of group 0 to 6.9424e-03.\n"
     ]
    },
    {
     "name": "stderr",
     "output_type": "stream",
     "text": [
      "INFO Epoch 372\n",
      "INFO The mean accuracy train: 0.997\n",
      "INFO The mean accuracy test: 0.839\n",
      "INFO -------------------------------\n"
     ]
    },
    {
     "name": "stdout",
     "output_type": "stream",
     "text": [
      "Adjusting learning rate of group 0 to 6.9279e-03.\n"
     ]
    },
    {
     "name": "stderr",
     "output_type": "stream",
     "text": [
      "INFO Epoch 373\n",
      "INFO The mean accuracy train: 0.997\n",
      "INFO The mean accuracy test: 0.834\n",
      "INFO -------------------------------\n"
     ]
    },
    {
     "name": "stdout",
     "output_type": "stream",
     "text": [
      "Adjusting learning rate of group 0 to 6.9134e-03.\n"
     ]
    },
    {
     "name": "stderr",
     "output_type": "stream",
     "text": [
      "INFO Epoch 374\n",
      "INFO The mean accuracy train: 0.997\n",
      "INFO The mean accuracy test: 0.835\n",
      "INFO -------------------------------\n"
     ]
    },
    {
     "name": "stdout",
     "output_type": "stream",
     "text": [
      "Adjusting learning rate of group 0 to 6.8989e-03.\n"
     ]
    },
    {
     "name": "stderr",
     "output_type": "stream",
     "text": [
      "INFO Epoch 375\n",
      "INFO The mean accuracy train: 0.997\n",
      "INFO The mean accuracy test: 0.838\n",
      "INFO -------------------------------\n"
     ]
    },
    {
     "name": "stdout",
     "output_type": "stream",
     "text": [
      "Adjusting learning rate of group 0 to 6.8844e-03.\n"
     ]
    },
    {
     "name": "stderr",
     "output_type": "stream",
     "text": [
      "INFO Epoch 376\n",
      "INFO The mean accuracy train: 0.998\n",
      "INFO The mean accuracy test: 0.836\n",
      "INFO -------------------------------\n"
     ]
    },
    {
     "name": "stdout",
     "output_type": "stream",
     "text": [
      "Adjusting learning rate of group 0 to 6.8698e-03.\n"
     ]
    },
    {
     "name": "stderr",
     "output_type": "stream",
     "text": [
      "INFO Epoch 377\n",
      "INFO The mean accuracy train: 0.997\n",
      "INFO The mean accuracy test: 0.837\n",
      "INFO -------------------------------\n"
     ]
    },
    {
     "name": "stdout",
     "output_type": "stream",
     "text": [
      "Adjusting learning rate of group 0 to 6.8552e-03.\n"
     ]
    },
    {
     "name": "stderr",
     "output_type": "stream",
     "text": [
      "INFO Epoch 378\n",
      "INFO The mean accuracy train: 0.997\n",
      "INFO The mean accuracy test: 0.827\n",
      "INFO -------------------------------\n"
     ]
    },
    {
     "name": "stdout",
     "output_type": "stream",
     "text": [
      "Adjusting learning rate of group 0 to 6.8406e-03.\n"
     ]
    },
    {
     "name": "stderr",
     "output_type": "stream",
     "text": [
      "INFO Epoch 379\n",
      "INFO The mean accuracy train: 0.997\n",
      "INFO The mean accuracy test: 0.831\n",
      "INFO -------------------------------\n"
     ]
    },
    {
     "name": "stdout",
     "output_type": "stream",
     "text": [
      "Adjusting learning rate of group 0 to 6.8260e-03.\n"
     ]
    },
    {
     "name": "stderr",
     "output_type": "stream",
     "text": [
      "INFO Epoch 380\n",
      "INFO The mean accuracy train: 0.998\n",
      "INFO The mean accuracy test: 0.833\n",
      "INFO -------------------------------\n"
     ]
    },
    {
     "name": "stdout",
     "output_type": "stream",
     "text": [
      "Adjusting learning rate of group 0 to 6.8114e-03.\n"
     ]
    },
    {
     "name": "stderr",
     "output_type": "stream",
     "text": [
      "INFO Epoch 381\n",
      "INFO The mean accuracy train: 0.997\n",
      "INFO The mean accuracy test: 0.839\n",
      "INFO -------------------------------\n"
     ]
    },
    {
     "name": "stdout",
     "output_type": "stream",
     "text": [
      "Adjusting learning rate of group 0 to 6.7967e-03.\n"
     ]
    },
    {
     "name": "stderr",
     "output_type": "stream",
     "text": [
      "INFO Epoch 382\n",
      "INFO The mean accuracy train: 0.997\n",
      "INFO The mean accuracy test: 0.832\n",
      "INFO -------------------------------\n"
     ]
    },
    {
     "name": "stdout",
     "output_type": "stream",
     "text": [
      "Adjusting learning rate of group 0 to 6.7821e-03.\n"
     ]
    },
    {
     "name": "stderr",
     "output_type": "stream",
     "text": [
      "INFO Epoch 383\n",
      "INFO The mean accuracy train: 0.997\n",
      "INFO The mean accuracy test: 0.838\n",
      "INFO -------------------------------\n"
     ]
    },
    {
     "name": "stdout",
     "output_type": "stream",
     "text": [
      "Adjusting learning rate of group 0 to 6.7674e-03.\n"
     ]
    },
    {
     "name": "stderr",
     "output_type": "stream",
     "text": [
      "INFO Epoch 384\n",
      "INFO The mean accuracy train: 0.997\n",
      "INFO The mean accuracy test: 0.833\n",
      "INFO -------------------------------\n"
     ]
    },
    {
     "name": "stdout",
     "output_type": "stream",
     "text": [
      "Adjusting learning rate of group 0 to 6.7527e-03.\n"
     ]
    },
    {
     "name": "stderr",
     "output_type": "stream",
     "text": [
      "INFO Epoch 385\n",
      "INFO The mean accuracy train: 0.998\n",
      "INFO The mean accuracy test: 0.836\n",
      "INFO -------------------------------\n"
     ]
    },
    {
     "name": "stdout",
     "output_type": "stream",
     "text": [
      "Adjusting learning rate of group 0 to 6.7380e-03.\n"
     ]
    },
    {
     "name": "stderr",
     "output_type": "stream",
     "text": [
      "INFO Epoch 386\n",
      "INFO The mean accuracy train: 0.997\n",
      "INFO The mean accuracy test: 0.836\n",
      "INFO -------------------------------\n"
     ]
    },
    {
     "name": "stdout",
     "output_type": "stream",
     "text": [
      "Adjusting learning rate of group 0 to 6.7232e-03.\n"
     ]
    },
    {
     "name": "stderr",
     "output_type": "stream",
     "text": [
      "INFO Epoch 387\n",
      "INFO The mean accuracy train: 0.997\n",
      "INFO The mean accuracy test: 0.834\n",
      "INFO -------------------------------\n"
     ]
    },
    {
     "name": "stdout",
     "output_type": "stream",
     "text": [
      "Adjusting learning rate of group 0 to 6.7085e-03.\n"
     ]
    },
    {
     "name": "stderr",
     "output_type": "stream",
     "text": [
      "INFO Epoch 388\n",
      "INFO The mean accuracy train: 0.998\n",
      "INFO The mean accuracy test: 0.834\n",
      "INFO -------------------------------\n"
     ]
    },
    {
     "name": "stdout",
     "output_type": "stream",
     "text": [
      "Adjusting learning rate of group 0 to 6.6937e-03.\n"
     ]
    },
    {
     "name": "stderr",
     "output_type": "stream",
     "text": [
      "INFO Epoch 389\n",
      "INFO The mean accuracy train: 0.998\n",
      "INFO The mean accuracy test: 0.834\n",
      "INFO -------------------------------\n"
     ]
    },
    {
     "name": "stdout",
     "output_type": "stream",
     "text": [
      "Adjusting learning rate of group 0 to 6.6789e-03.\n"
     ]
    },
    {
     "name": "stderr",
     "output_type": "stream",
     "text": [
      "INFO Epoch 390\n",
      "INFO The mean accuracy train: 0.998\n",
      "INFO The mean accuracy test: 0.834\n",
      "INFO -------------------------------\n"
     ]
    },
    {
     "name": "stdout",
     "output_type": "stream",
     "text": [
      "Adjusting learning rate of group 0 to 6.6641e-03.\n"
     ]
    },
    {
     "name": "stderr",
     "output_type": "stream",
     "text": [
      "INFO Epoch 391\n",
      "INFO The mean accuracy train: 0.998\n",
      "INFO The mean accuracy test: 0.835\n",
      "INFO -------------------------------\n"
     ]
    },
    {
     "name": "stdout",
     "output_type": "stream",
     "text": [
      "Adjusting learning rate of group 0 to 6.6493e-03.\n"
     ]
    },
    {
     "name": "stderr",
     "output_type": "stream",
     "text": [
      "INFO Epoch 392\n",
      "INFO The mean accuracy train: 0.998\n",
      "INFO The mean accuracy test: 0.837\n",
      "INFO -------------------------------\n"
     ]
    },
    {
     "name": "stdout",
     "output_type": "stream",
     "text": [
      "Adjusting learning rate of group 0 to 6.6344e-03.\n"
     ]
    },
    {
     "name": "stderr",
     "output_type": "stream",
     "text": [
      "INFO Epoch 393\n",
      "INFO The mean accuracy train: 0.998\n",
      "INFO The mean accuracy test: 0.829\n",
      "INFO -------------------------------\n"
     ]
    },
    {
     "name": "stdout",
     "output_type": "stream",
     "text": [
      "Adjusting learning rate of group 0 to 6.6196e-03.\n"
     ]
    },
    {
     "name": "stderr",
     "output_type": "stream",
     "text": [
      "INFO Epoch 394\n",
      "INFO The mean accuracy train: 0.997\n",
      "INFO The mean accuracy test: 0.836\n",
      "INFO -------------------------------\n"
     ]
    },
    {
     "name": "stdout",
     "output_type": "stream",
     "text": [
      "Adjusting learning rate of group 0 to 6.6047e-03.\n"
     ]
    },
    {
     "name": "stderr",
     "output_type": "stream",
     "text": [
      "INFO Epoch 395\n",
      "INFO The mean accuracy train: 0.997\n",
      "INFO The mean accuracy test: 0.831\n",
      "INFO -------------------------------\n"
     ]
    },
    {
     "name": "stdout",
     "output_type": "stream",
     "text": [
      "Adjusting learning rate of group 0 to 6.5898e-03.\n"
     ]
    },
    {
     "name": "stderr",
     "output_type": "stream",
     "text": [
      "INFO Epoch 396\n",
      "INFO The mean accuracy train: 0.998\n",
      "INFO The mean accuracy test: 0.835\n",
      "INFO -------------------------------\n"
     ]
    },
    {
     "name": "stdout",
     "output_type": "stream",
     "text": [
      "Adjusting learning rate of group 0 to 6.5749e-03.\n"
     ]
    },
    {
     "name": "stderr",
     "output_type": "stream",
     "text": [
      "INFO Epoch 397\n",
      "INFO The mean accuracy train: 0.998\n",
      "INFO The mean accuracy test: 0.837\n",
      "INFO -------------------------------\n"
     ]
    },
    {
     "name": "stdout",
     "output_type": "stream",
     "text": [
      "Adjusting learning rate of group 0 to 6.5600e-03.\n"
     ]
    },
    {
     "name": "stderr",
     "output_type": "stream",
     "text": [
      "INFO Epoch 398\n",
      "INFO The mean accuracy train: 0.998\n",
      "INFO The mean accuracy test: 0.838\n",
      "INFO -------------------------------\n"
     ]
    },
    {
     "name": "stdout",
     "output_type": "stream",
     "text": [
      "Adjusting learning rate of group 0 to 6.5451e-03.\n"
     ]
    },
    {
     "name": "stderr",
     "output_type": "stream",
     "text": [
      "INFO Epoch 399\n",
      "INFO The mean accuracy train: 0.998\n",
      "INFO The mean accuracy test: 0.838\n",
      "INFO -------------------------------\n"
     ]
    },
    {
     "name": "stdout",
     "output_type": "stream",
     "text": [
      "Adjusting learning rate of group 0 to 6.5301e-03.\n"
     ]
    },
    {
     "name": "stderr",
     "output_type": "stream",
     "text": [
      "INFO Epoch 400\n",
      "INFO The mean accuracy train: 0.998\n",
      "INFO The mean accuracy test: 0.837\n",
      "INFO -------------------------------\n"
     ]
    },
    {
     "name": "stdout",
     "output_type": "stream",
     "text": [
      "Adjusting learning rate of group 0 to 6.5152e-03.\n"
     ]
    },
    {
     "name": "stderr",
     "output_type": "stream",
     "text": [
      "INFO Epoch 401\n",
      "INFO The mean accuracy train: 0.998\n",
      "INFO The mean accuracy test: 0.835\n",
      "INFO -------------------------------\n"
     ]
    },
    {
     "name": "stdout",
     "output_type": "stream",
     "text": [
      "Adjusting learning rate of group 0 to 6.5002e-03.\n"
     ]
    },
    {
     "name": "stderr",
     "output_type": "stream",
     "text": [
      "INFO Epoch 402\n",
      "INFO The mean accuracy train: 0.998\n",
      "INFO The mean accuracy test: 0.839\n",
      "INFO -------------------------------\n"
     ]
    },
    {
     "name": "stdout",
     "output_type": "stream",
     "text": [
      "Adjusting learning rate of group 0 to 6.4852e-03.\n"
     ]
    },
    {
     "name": "stderr",
     "output_type": "stream",
     "text": [
      "INFO Epoch 403\n",
      "INFO The mean accuracy train: 0.998\n",
      "INFO The mean accuracy test: 0.838\n",
      "INFO -------------------------------\n"
     ]
    },
    {
     "name": "stdout",
     "output_type": "stream",
     "text": [
      "Adjusting learning rate of group 0 to 6.4702e-03.\n"
     ]
    },
    {
     "name": "stderr",
     "output_type": "stream",
     "text": [
      "INFO Epoch 404\n",
      "INFO The mean accuracy train: 0.998\n",
      "INFO The mean accuracy test: 0.838\n",
      "INFO -------------------------------\n"
     ]
    },
    {
     "name": "stdout",
     "output_type": "stream",
     "text": [
      "Adjusting learning rate of group 0 to 6.4552e-03.\n"
     ]
    },
    {
     "name": "stderr",
     "output_type": "stream",
     "text": [
      "INFO Epoch 405\n",
      "INFO The mean accuracy train: 0.998\n",
      "INFO The mean accuracy test: 0.839\n",
      "INFO -------------------------------\n"
     ]
    },
    {
     "name": "stdout",
     "output_type": "stream",
     "text": [
      "Adjusting learning rate of group 0 to 6.4401e-03.\n"
     ]
    },
    {
     "name": "stderr",
     "output_type": "stream",
     "text": [
      "INFO Epoch 406\n",
      "INFO The mean accuracy train: 0.998\n",
      "INFO The mean accuracy test: 0.834\n",
      "INFO -------------------------------\n"
     ]
    },
    {
     "name": "stdout",
     "output_type": "stream",
     "text": [
      "Adjusting learning rate of group 0 to 6.4251e-03.\n"
     ]
    },
    {
     "name": "stderr",
     "output_type": "stream",
     "text": [
      "INFO Epoch 407\n",
      "INFO The mean accuracy train: 0.998\n",
      "INFO The mean accuracy test: 0.838\n",
      "INFO -------------------------------\n"
     ]
    },
    {
     "name": "stdout",
     "output_type": "stream",
     "text": [
      "Adjusting learning rate of group 0 to 6.4100e-03.\n"
     ]
    },
    {
     "name": "stderr",
     "output_type": "stream",
     "text": [
      "INFO Epoch 408\n",
      "INFO The mean accuracy train: 0.998\n",
      "INFO The mean accuracy test: 0.837\n",
      "INFO -------------------------------\n"
     ]
    },
    {
     "name": "stdout",
     "output_type": "stream",
     "text": [
      "Adjusting learning rate of group 0 to 6.3950e-03.\n"
     ]
    },
    {
     "name": "stderr",
     "output_type": "stream",
     "text": [
      "INFO Epoch 409\n",
      "INFO The mean accuracy train: 0.997\n",
      "INFO The mean accuracy test: 0.838\n",
      "INFO -------------------------------\n"
     ]
    },
    {
     "name": "stdout",
     "output_type": "stream",
     "text": [
      "Adjusting learning rate of group 0 to 6.3799e-03.\n"
     ]
    },
    {
     "name": "stderr",
     "output_type": "stream",
     "text": [
      "INFO Epoch 410\n",
      "INFO The mean accuracy train: 0.998\n",
      "INFO The mean accuracy test: 0.837\n",
      "INFO -------------------------------\n"
     ]
    },
    {
     "name": "stdout",
     "output_type": "stream",
     "text": [
      "Adjusting learning rate of group 0 to 6.3648e-03.\n"
     ]
    },
    {
     "name": "stderr",
     "output_type": "stream",
     "text": [
      "INFO Epoch 411\n",
      "INFO The mean accuracy train: 0.998\n",
      "INFO The mean accuracy test: 0.836\n",
      "INFO -------------------------------\n"
     ]
    },
    {
     "name": "stdout",
     "output_type": "stream",
     "text": [
      "Adjusting learning rate of group 0 to 6.3496e-03.\n"
     ]
    },
    {
     "name": "stderr",
     "output_type": "stream",
     "text": [
      "INFO Epoch 412\n",
      "INFO The mean accuracy train: 0.997\n",
      "INFO The mean accuracy test: 0.834\n",
      "INFO -------------------------------\n"
     ]
    },
    {
     "name": "stdout",
     "output_type": "stream",
     "text": [
      "Adjusting learning rate of group 0 to 6.3345e-03.\n"
     ]
    },
    {
     "name": "stderr",
     "output_type": "stream",
     "text": [
      "INFO Epoch 413\n",
      "INFO The mean accuracy train: 0.998\n",
      "INFO The mean accuracy test: 0.838\n",
      "INFO -------------------------------\n"
     ]
    },
    {
     "name": "stdout",
     "output_type": "stream",
     "text": [
      "Adjusting learning rate of group 0 to 6.3194e-03.\n"
     ]
    },
    {
     "name": "stderr",
     "output_type": "stream",
     "text": [
      "INFO Epoch 414\n",
      "INFO The mean accuracy train: 0.998\n",
      "INFO The mean accuracy test: 0.834\n",
      "INFO -------------------------------\n"
     ]
    },
    {
     "name": "stdout",
     "output_type": "stream",
     "text": [
      "Adjusting learning rate of group 0 to 6.3042e-03.\n"
     ]
    },
    {
     "name": "stderr",
     "output_type": "stream",
     "text": [
      "INFO Epoch 415\n",
      "INFO The mean accuracy train: 0.998\n",
      "INFO The mean accuracy test: 0.839\n",
      "INFO -------------------------------\n"
     ]
    },
    {
     "name": "stdout",
     "output_type": "stream",
     "text": [
      "Adjusting learning rate of group 0 to 6.2890e-03.\n"
     ]
    },
    {
     "name": "stderr",
     "output_type": "stream",
     "text": [
      "INFO Epoch 416\n",
      "INFO The mean accuracy train: 0.998\n",
      "INFO The mean accuracy test: 0.837\n",
      "INFO -------------------------------\n"
     ]
    },
    {
     "name": "stdout",
     "output_type": "stream",
     "text": [
      "Adjusting learning rate of group 0 to 6.2739e-03.\n"
     ]
    },
    {
     "name": "stderr",
     "output_type": "stream",
     "text": [
      "INFO Epoch 417\n",
      "INFO The mean accuracy train: 0.998\n",
      "INFO The mean accuracy test: 0.840\n",
      "INFO -------------------------------\n"
     ]
    },
    {
     "name": "stdout",
     "output_type": "stream",
     "text": [
      "Adjusting learning rate of group 0 to 6.2587e-03.\n"
     ]
    },
    {
     "name": "stderr",
     "output_type": "stream",
     "text": [
      "INFO Epoch 418\n",
      "INFO The mean accuracy train: 0.998\n",
      "INFO The mean accuracy test: 0.839\n",
      "INFO -------------------------------\n"
     ]
    },
    {
     "name": "stdout",
     "output_type": "stream",
     "text": [
      "Adjusting learning rate of group 0 to 6.2434e-03.\n"
     ]
    },
    {
     "name": "stderr",
     "output_type": "stream",
     "text": [
      "INFO Epoch 419\n",
      "INFO The mean accuracy train: 0.998\n",
      "INFO The mean accuracy test: 0.838\n",
      "INFO -------------------------------\n"
     ]
    },
    {
     "name": "stdout",
     "output_type": "stream",
     "text": [
      "Adjusting learning rate of group 0 to 6.2282e-03.\n"
     ]
    },
    {
     "name": "stderr",
     "output_type": "stream",
     "text": [
      "INFO Epoch 420\n",
      "INFO The mean accuracy train: 0.998\n",
      "INFO The mean accuracy test: 0.838\n",
      "INFO -------------------------------\n"
     ]
    },
    {
     "name": "stdout",
     "output_type": "stream",
     "text": [
      "Adjusting learning rate of group 0 to 6.2130e-03.\n"
     ]
    },
    {
     "name": "stderr",
     "output_type": "stream",
     "text": [
      "INFO Epoch 421\n",
      "INFO The mean accuracy train: 0.998\n",
      "INFO The mean accuracy test: 0.838\n",
      "INFO -------------------------------\n"
     ]
    },
    {
     "name": "stdout",
     "output_type": "stream",
     "text": [
      "Adjusting learning rate of group 0 to 6.1978e-03.\n"
     ]
    },
    {
     "name": "stderr",
     "output_type": "stream",
     "text": [
      "INFO Epoch 422\n",
      "INFO The mean accuracy train: 0.998\n",
      "INFO The mean accuracy test: 0.836\n",
      "INFO -------------------------------\n"
     ]
    },
    {
     "name": "stdout",
     "output_type": "stream",
     "text": [
      "Adjusting learning rate of group 0 to 6.1825e-03.\n"
     ]
    },
    {
     "name": "stderr",
     "output_type": "stream",
     "text": [
      "INFO Epoch 423\n",
      "INFO The mean accuracy train: 0.998\n",
      "INFO The mean accuracy test: 0.838\n",
      "INFO -------------------------------\n"
     ]
    },
    {
     "name": "stdout",
     "output_type": "stream",
     "text": [
      "Adjusting learning rate of group 0 to 6.1672e-03.\n"
     ]
    },
    {
     "name": "stderr",
     "output_type": "stream",
     "text": [
      "INFO Epoch 424\n",
      "INFO The mean accuracy train: 0.998\n",
      "INFO The mean accuracy test: 0.835\n",
      "INFO -------------------------------\n"
     ]
    },
    {
     "name": "stdout",
     "output_type": "stream",
     "text": [
      "Adjusting learning rate of group 0 to 6.1519e-03.\n"
     ]
    },
    {
     "name": "stderr",
     "output_type": "stream",
     "text": [
      "INFO Epoch 425\n",
      "INFO The mean accuracy train: 0.998\n",
      "INFO The mean accuracy test: 0.836\n",
      "INFO -------------------------------\n"
     ]
    },
    {
     "name": "stdout",
     "output_type": "stream",
     "text": [
      "Adjusting learning rate of group 0 to 6.1367e-03.\n"
     ]
    },
    {
     "name": "stderr",
     "output_type": "stream",
     "text": [
      "INFO Epoch 426\n",
      "INFO The mean accuracy train: 0.998\n",
      "INFO The mean accuracy test: 0.835\n",
      "INFO -------------------------------\n"
     ]
    },
    {
     "name": "stdout",
     "output_type": "stream",
     "text": [
      "Adjusting learning rate of group 0 to 6.1214e-03.\n"
     ]
    },
    {
     "name": "stderr",
     "output_type": "stream",
     "text": [
      "INFO Epoch 427\n",
      "INFO The mean accuracy train: 0.998\n",
      "INFO The mean accuracy test: 0.834\n",
      "INFO -------------------------------\n"
     ]
    },
    {
     "name": "stdout",
     "output_type": "stream",
     "text": [
      "Adjusting learning rate of group 0 to 6.1060e-03.\n"
     ]
    },
    {
     "name": "stderr",
     "output_type": "stream",
     "text": [
      "INFO Epoch 428\n",
      "INFO The mean accuracy train: 0.998\n",
      "INFO The mean accuracy test: 0.835\n",
      "INFO -------------------------------\n"
     ]
    },
    {
     "name": "stdout",
     "output_type": "stream",
     "text": [
      "Adjusting learning rate of group 0 to 6.0907e-03.\n"
     ]
    },
    {
     "name": "stderr",
     "output_type": "stream",
     "text": [
      "INFO Epoch 429\n",
      "INFO The mean accuracy train: 0.998\n",
      "INFO The mean accuracy test: 0.838\n",
      "INFO -------------------------------\n"
     ]
    },
    {
     "name": "stdout",
     "output_type": "stream",
     "text": [
      "Adjusting learning rate of group 0 to 6.0754e-03.\n"
     ]
    },
    {
     "name": "stderr",
     "output_type": "stream",
     "text": [
      "INFO Epoch 430\n",
      "INFO The mean accuracy train: 0.998\n",
      "INFO The mean accuracy test: 0.839\n",
      "INFO -------------------------------\n"
     ]
    },
    {
     "name": "stdout",
     "output_type": "stream",
     "text": [
      "Adjusting learning rate of group 0 to 6.0600e-03.\n"
     ]
    },
    {
     "name": "stderr",
     "output_type": "stream",
     "text": [
      "INFO Epoch 431\n",
      "INFO The mean accuracy train: 0.998\n",
      "INFO The mean accuracy test: 0.839\n",
      "INFO -------------------------------\n"
     ]
    },
    {
     "name": "stdout",
     "output_type": "stream",
     "text": [
      "Adjusting learning rate of group 0 to 6.0447e-03.\n"
     ]
    },
    {
     "name": "stderr",
     "output_type": "stream",
     "text": [
      "INFO Epoch 432\n",
      "INFO The mean accuracy train: 0.998\n",
      "INFO The mean accuracy test: 0.840\n",
      "INFO -------------------------------\n"
     ]
    },
    {
     "name": "stdout",
     "output_type": "stream",
     "text": [
      "Adjusting learning rate of group 0 to 6.0293e-03.\n"
     ]
    },
    {
     "name": "stderr",
     "output_type": "stream",
     "text": [
      "INFO Epoch 433\n",
      "INFO The mean accuracy train: 0.998\n",
      "INFO The mean accuracy test: 0.839\n",
      "INFO -------------------------------\n"
     ]
    },
    {
     "name": "stdout",
     "output_type": "stream",
     "text": [
      "Adjusting learning rate of group 0 to 6.0139e-03.\n"
     ]
    },
    {
     "name": "stderr",
     "output_type": "stream",
     "text": [
      "INFO Epoch 434\n",
      "INFO The mean accuracy train: 0.998\n",
      "INFO The mean accuracy test: 0.837\n",
      "INFO -------------------------------\n"
     ]
    },
    {
     "name": "stdout",
     "output_type": "stream",
     "text": [
      "Adjusting learning rate of group 0 to 5.9985e-03.\n"
     ]
    },
    {
     "name": "stderr",
     "output_type": "stream",
     "text": [
      "INFO Epoch 435\n",
      "INFO The mean accuracy train: 0.998\n",
      "INFO The mean accuracy test: 0.838\n",
      "INFO -------------------------------\n"
     ]
    },
    {
     "name": "stdout",
     "output_type": "stream",
     "text": [
      "Adjusting learning rate of group 0 to 5.9832e-03.\n"
     ]
    },
    {
     "name": "stderr",
     "output_type": "stream",
     "text": [
      "INFO Epoch 436\n",
      "INFO The mean accuracy train: 0.998\n",
      "INFO The mean accuracy test: 0.841\n",
      "INFO -------------------------------\n"
     ]
    },
    {
     "name": "stdout",
     "output_type": "stream",
     "text": [
      "Adjusting learning rate of group 0 to 5.9677e-03.\n"
     ]
    },
    {
     "name": "stderr",
     "output_type": "stream",
     "text": [
      "INFO Epoch 437\n",
      "INFO The mean accuracy train: 0.998\n",
      "INFO The mean accuracy test: 0.840\n",
      "INFO -------------------------------\n"
     ]
    },
    {
     "name": "stdout",
     "output_type": "stream",
     "text": [
      "Adjusting learning rate of group 0 to 5.9523e-03.\n"
     ]
    },
    {
     "name": "stderr",
     "output_type": "stream",
     "text": [
      "INFO Epoch 438\n",
      "INFO The mean accuracy train: 0.998\n",
      "INFO The mean accuracy test: 0.840\n",
      "INFO -------------------------------\n"
     ]
    },
    {
     "name": "stdout",
     "output_type": "stream",
     "text": [
      "Adjusting learning rate of group 0 to 5.9369e-03.\n"
     ]
    },
    {
     "name": "stderr",
     "output_type": "stream",
     "text": [
      "INFO Epoch 439\n",
      "INFO The mean accuracy train: 0.998\n",
      "INFO The mean accuracy test: 0.835\n",
      "INFO -------------------------------\n"
     ]
    },
    {
     "name": "stdout",
     "output_type": "stream",
     "text": [
      "Adjusting learning rate of group 0 to 5.9215e-03.\n"
     ]
    },
    {
     "name": "stderr",
     "output_type": "stream",
     "text": [
      "INFO Epoch 440\n",
      "INFO The mean accuracy train: 0.998\n",
      "INFO The mean accuracy test: 0.838\n",
      "INFO -------------------------------\n"
     ]
    },
    {
     "name": "stdout",
     "output_type": "stream",
     "text": [
      "Adjusting learning rate of group 0 to 5.9060e-03.\n"
     ]
    },
    {
     "name": "stderr",
     "output_type": "stream",
     "text": [
      "INFO Epoch 441\n",
      "INFO The mean accuracy train: 0.998\n",
      "INFO The mean accuracy test: 0.837\n",
      "INFO -------------------------------\n"
     ]
    },
    {
     "name": "stdout",
     "output_type": "stream",
     "text": [
      "Adjusting learning rate of group 0 to 5.8906e-03.\n"
     ]
    },
    {
     "name": "stderr",
     "output_type": "stream",
     "text": [
      "INFO Epoch 442\n",
      "INFO The mean accuracy train: 0.998\n",
      "INFO The mean accuracy test: 0.841\n",
      "INFO -------------------------------\n"
     ]
    },
    {
     "name": "stdout",
     "output_type": "stream",
     "text": [
      "Adjusting learning rate of group 0 to 5.8751e-03.\n"
     ]
    },
    {
     "name": "stderr",
     "output_type": "stream",
     "text": [
      "INFO Epoch 443\n",
      "INFO The mean accuracy train: 0.998\n",
      "INFO The mean accuracy test: 0.838\n",
      "INFO -------------------------------\n"
     ]
    },
    {
     "name": "stdout",
     "output_type": "stream",
     "text": [
      "Adjusting learning rate of group 0 to 5.8596e-03.\n"
     ]
    },
    {
     "name": "stderr",
     "output_type": "stream",
     "text": [
      "INFO Epoch 444\n",
      "INFO The mean accuracy train: 0.998\n",
      "INFO The mean accuracy test: 0.839\n",
      "INFO -------------------------------\n"
     ]
    },
    {
     "name": "stdout",
     "output_type": "stream",
     "text": [
      "Adjusting learning rate of group 0 to 5.8442e-03.\n"
     ]
    },
    {
     "name": "stderr",
     "output_type": "stream",
     "text": [
      "INFO Epoch 445\n",
      "INFO The mean accuracy train: 0.998\n",
      "INFO The mean accuracy test: 0.838\n",
      "INFO -------------------------------\n"
     ]
    },
    {
     "name": "stdout",
     "output_type": "stream",
     "text": [
      "Adjusting learning rate of group 0 to 5.8287e-03.\n"
     ]
    },
    {
     "name": "stderr",
     "output_type": "stream",
     "text": [
      "INFO Epoch 446\n",
      "INFO The mean accuracy train: 0.998\n",
      "INFO The mean accuracy test: 0.837\n",
      "INFO -------------------------------\n"
     ]
    },
    {
     "name": "stdout",
     "output_type": "stream",
     "text": [
      "Adjusting learning rate of group 0 to 5.8132e-03.\n"
     ]
    },
    {
     "name": "stderr",
     "output_type": "stream",
     "text": [
      "INFO Epoch 447\n",
      "INFO The mean accuracy train: 0.998\n",
      "INFO The mean accuracy test: 0.838\n",
      "INFO -------------------------------\n"
     ]
    },
    {
     "name": "stdout",
     "output_type": "stream",
     "text": [
      "Adjusting learning rate of group 0 to 5.7977e-03.\n"
     ]
    },
    {
     "name": "stderr",
     "output_type": "stream",
     "text": [
      "INFO Epoch 448\n",
      "INFO The mean accuracy train: 0.998\n",
      "INFO The mean accuracy test: 0.839\n",
      "INFO -------------------------------\n"
     ]
    },
    {
     "name": "stdout",
     "output_type": "stream",
     "text": [
      "Adjusting learning rate of group 0 to 5.7822e-03.\n"
     ]
    },
    {
     "name": "stderr",
     "output_type": "stream",
     "text": [
      "INFO Epoch 449\n",
      "INFO The mean accuracy train: 0.998\n",
      "INFO The mean accuracy test: 0.839\n",
      "INFO -------------------------------\n"
     ]
    },
    {
     "name": "stdout",
     "output_type": "stream",
     "text": [
      "Adjusting learning rate of group 0 to 5.7667e-03.\n"
     ]
    },
    {
     "name": "stderr",
     "output_type": "stream",
     "text": [
      "INFO Epoch 450\n",
      "INFO The mean accuracy train: 0.998\n",
      "INFO The mean accuracy test: 0.841\n",
      "INFO -------------------------------\n"
     ]
    },
    {
     "name": "stdout",
     "output_type": "stream",
     "text": [
      "Adjusting learning rate of group 0 to 5.7511e-03.\n"
     ]
    },
    {
     "name": "stderr",
     "output_type": "stream",
     "text": [
      "INFO Epoch 451\n",
      "INFO The mean accuracy train: 0.998\n",
      "INFO The mean accuracy test: 0.836\n",
      "INFO -------------------------------\n"
     ]
    },
    {
     "name": "stdout",
     "output_type": "stream",
     "text": [
      "Adjusting learning rate of group 0 to 5.7356e-03.\n"
     ]
    },
    {
     "name": "stderr",
     "output_type": "stream",
     "text": [
      "INFO Epoch 452\n",
      "INFO The mean accuracy train: 0.998\n",
      "INFO The mean accuracy test: 0.842\n",
      "INFO -------------------------------\n"
     ]
    },
    {
     "name": "stdout",
     "output_type": "stream",
     "text": [
      "Adjusting learning rate of group 0 to 5.7201e-03.\n"
     ]
    },
    {
     "name": "stderr",
     "output_type": "stream",
     "text": [
      "INFO Epoch 453\n",
      "INFO The mean accuracy train: 0.998\n",
      "INFO The mean accuracy test: 0.841\n",
      "INFO -------------------------------\n"
     ]
    },
    {
     "name": "stdout",
     "output_type": "stream",
     "text": [
      "Adjusting learning rate of group 0 to 5.7045e-03.\n"
     ]
    },
    {
     "name": "stderr",
     "output_type": "stream",
     "text": [
      "INFO Epoch 454\n",
      "INFO The mean accuracy train: 0.998\n",
      "INFO The mean accuracy test: 0.837\n",
      "INFO -------------------------------\n"
     ]
    },
    {
     "name": "stdout",
     "output_type": "stream",
     "text": [
      "Adjusting learning rate of group 0 to 5.6890e-03.\n"
     ]
    },
    {
     "name": "stderr",
     "output_type": "stream",
     "text": [
      "INFO Epoch 455\n",
      "INFO The mean accuracy train: 0.998\n",
      "INFO The mean accuracy test: 0.838\n",
      "INFO -------------------------------\n"
     ]
    },
    {
     "name": "stdout",
     "output_type": "stream",
     "text": [
      "Adjusting learning rate of group 0 to 5.6734e-03.\n"
     ]
    },
    {
     "name": "stderr",
     "output_type": "stream",
     "text": [
      "INFO Epoch 456\n",
      "INFO The mean accuracy train: 0.998\n",
      "INFO The mean accuracy test: 0.841\n",
      "INFO -------------------------------\n"
     ]
    },
    {
     "name": "stdout",
     "output_type": "stream",
     "text": [
      "Adjusting learning rate of group 0 to 5.6578e-03.\n"
     ]
    },
    {
     "name": "stderr",
     "output_type": "stream",
     "text": [
      "INFO Epoch 457\n",
      "INFO The mean accuracy train: 0.998\n",
      "INFO The mean accuracy test: 0.843\n",
      "INFO -------------------------------\n"
     ]
    },
    {
     "name": "stdout",
     "output_type": "stream",
     "text": [
      "Adjusting learning rate of group 0 to 5.6422e-03.\n"
     ]
    },
    {
     "name": "stderr",
     "output_type": "stream",
     "text": [
      "INFO Epoch 458\n",
      "INFO The mean accuracy train: 0.998\n",
      "INFO The mean accuracy test: 0.843\n",
      "INFO -------------------------------\n"
     ]
    },
    {
     "name": "stdout",
     "output_type": "stream",
     "text": [
      "Adjusting learning rate of group 0 to 5.6267e-03.\n"
     ]
    },
    {
     "name": "stderr",
     "output_type": "stream",
     "text": [
      "INFO Epoch 459\n",
      "INFO The mean accuracy train: 0.998\n",
      "INFO The mean accuracy test: 0.838\n",
      "INFO -------------------------------\n"
     ]
    },
    {
     "name": "stdout",
     "output_type": "stream",
     "text": [
      "Adjusting learning rate of group 0 to 5.6111e-03.\n"
     ]
    },
    {
     "name": "stderr",
     "output_type": "stream",
     "text": [
      "INFO Epoch 460\n",
      "INFO The mean accuracy train: 0.998\n",
      "INFO The mean accuracy test: 0.839\n",
      "INFO -------------------------------\n"
     ]
    },
    {
     "name": "stdout",
     "output_type": "stream",
     "text": [
      "Adjusting learning rate of group 0 to 5.5955e-03.\n"
     ]
    },
    {
     "name": "stderr",
     "output_type": "stream",
     "text": [
      "INFO Epoch 461\n",
      "INFO The mean accuracy train: 0.998\n",
      "INFO The mean accuracy test: 0.839\n",
      "INFO -------------------------------\n"
     ]
    },
    {
     "name": "stdout",
     "output_type": "stream",
     "text": [
      "Adjusting learning rate of group 0 to 5.5799e-03.\n"
     ]
    },
    {
     "name": "stderr",
     "output_type": "stream",
     "text": [
      "INFO Epoch 462\n",
      "INFO The mean accuracy train: 0.999\n",
      "INFO The mean accuracy test: 0.845\n",
      "INFO -------------------------------\n"
     ]
    },
    {
     "name": "stdout",
     "output_type": "stream",
     "text": [
      "Adjusting learning rate of group 0 to 5.5643e-03.\n"
     ]
    },
    {
     "name": "stderr",
     "output_type": "stream",
     "text": [
      "INFO Epoch 463\n",
      "INFO The mean accuracy train: 0.998\n",
      "INFO The mean accuracy test: 0.840\n",
      "INFO -------------------------------\n"
     ]
    },
    {
     "name": "stdout",
     "output_type": "stream",
     "text": [
      "Adjusting learning rate of group 0 to 5.5487e-03.\n"
     ]
    },
    {
     "name": "stderr",
     "output_type": "stream",
     "text": [
      "INFO Epoch 464\n",
      "INFO The mean accuracy train: 0.998\n",
      "INFO The mean accuracy test: 0.842\n",
      "INFO -------------------------------\n"
     ]
    },
    {
     "name": "stdout",
     "output_type": "stream",
     "text": [
      "Adjusting learning rate of group 0 to 5.5331e-03.\n"
     ]
    },
    {
     "name": "stderr",
     "output_type": "stream",
     "text": [
      "INFO Epoch 465\n",
      "INFO The mean accuracy train: 0.998\n",
      "INFO The mean accuracy test: 0.840\n",
      "INFO -------------------------------\n"
     ]
    },
    {
     "name": "stdout",
     "output_type": "stream",
     "text": [
      "Adjusting learning rate of group 0 to 5.5174e-03.\n"
     ]
    },
    {
     "name": "stderr",
     "output_type": "stream",
     "text": [
      "INFO Epoch 466\n",
      "INFO The mean accuracy train: 0.998\n",
      "INFO The mean accuracy test: 0.839\n",
      "INFO -------------------------------\n"
     ]
    },
    {
     "name": "stdout",
     "output_type": "stream",
     "text": [
      "Adjusting learning rate of group 0 to 5.5018e-03.\n"
     ]
    },
    {
     "name": "stderr",
     "output_type": "stream",
     "text": [
      "INFO Epoch 467\n",
      "INFO The mean accuracy train: 0.999\n",
      "INFO The mean accuracy test: 0.838\n",
      "INFO -------------------------------\n"
     ]
    },
    {
     "name": "stdout",
     "output_type": "stream",
     "text": [
      "Adjusting learning rate of group 0 to 5.4862e-03.\n"
     ]
    },
    {
     "name": "stderr",
     "output_type": "stream",
     "text": [
      "INFO Epoch 468\n",
      "INFO The mean accuracy train: 0.998\n",
      "INFO The mean accuracy test: 0.838\n",
      "INFO -------------------------------\n"
     ]
    },
    {
     "name": "stdout",
     "output_type": "stream",
     "text": [
      "Adjusting learning rate of group 0 to 5.4705e-03.\n"
     ]
    },
    {
     "name": "stderr",
     "output_type": "stream",
     "text": [
      "INFO Epoch 469\n",
      "INFO The mean accuracy train: 0.998\n",
      "INFO The mean accuracy test: 0.838\n",
      "INFO -------------------------------\n"
     ]
    },
    {
     "name": "stdout",
     "output_type": "stream",
     "text": [
      "Adjusting learning rate of group 0 to 5.4549e-03.\n"
     ]
    },
    {
     "name": "stderr",
     "output_type": "stream",
     "text": [
      "INFO Epoch 470\n",
      "INFO The mean accuracy train: 0.999\n",
      "INFO The mean accuracy test: 0.839\n",
      "INFO -------------------------------\n"
     ]
    },
    {
     "name": "stdout",
     "output_type": "stream",
     "text": [
      "Adjusting learning rate of group 0 to 5.4393e-03.\n"
     ]
    },
    {
     "name": "stderr",
     "output_type": "stream",
     "text": [
      "INFO Epoch 471\n",
      "INFO The mean accuracy train: 0.998\n",
      "INFO The mean accuracy test: 0.836\n",
      "INFO -------------------------------\n"
     ]
    },
    {
     "name": "stdout",
     "output_type": "stream",
     "text": [
      "Adjusting learning rate of group 0 to 5.4236e-03.\n"
     ]
    },
    {
     "name": "stderr",
     "output_type": "stream",
     "text": [
      "INFO Epoch 472\n",
      "INFO The mean accuracy train: 0.998\n",
      "INFO The mean accuracy test: 0.838\n",
      "INFO -------------------------------\n"
     ]
    },
    {
     "name": "stdout",
     "output_type": "stream",
     "text": [
      "Adjusting learning rate of group 0 to 5.4080e-03.\n"
     ]
    },
    {
     "name": "stderr",
     "output_type": "stream",
     "text": [
      "INFO Epoch 473\n",
      "INFO The mean accuracy train: 0.998\n",
      "INFO The mean accuracy test: 0.840\n",
      "INFO -------------------------------\n"
     ]
    },
    {
     "name": "stdout",
     "output_type": "stream",
     "text": [
      "Adjusting learning rate of group 0 to 5.3923e-03.\n"
     ]
    },
    {
     "name": "stderr",
     "output_type": "stream",
     "text": [
      "INFO Epoch 474\n",
      "INFO The mean accuracy train: 0.998\n",
      "INFO The mean accuracy test: 0.839\n",
      "INFO -------------------------------\n"
     ]
    },
    {
     "name": "stdout",
     "output_type": "stream",
     "text": [
      "Adjusting learning rate of group 0 to 5.3766e-03.\n"
     ]
    },
    {
     "name": "stderr",
     "output_type": "stream",
     "text": [
      "INFO Epoch 475\n",
      "INFO The mean accuracy train: 0.999\n",
      "INFO The mean accuracy test: 0.839\n",
      "INFO -------------------------------\n"
     ]
    },
    {
     "name": "stdout",
     "output_type": "stream",
     "text": [
      "Adjusting learning rate of group 0 to 5.3610e-03.\n"
     ]
    },
    {
     "name": "stderr",
     "output_type": "stream",
     "text": [
      "INFO Epoch 476\n",
      "INFO The mean accuracy train: 0.998\n",
      "INFO The mean accuracy test: 0.841\n",
      "INFO -------------------------------\n"
     ]
    },
    {
     "name": "stdout",
     "output_type": "stream",
     "text": [
      "Adjusting learning rate of group 0 to 5.3453e-03.\n"
     ]
    },
    {
     "name": "stderr",
     "output_type": "stream",
     "text": [
      "INFO Epoch 477\n",
      "INFO The mean accuracy train: 0.998\n",
      "INFO The mean accuracy test: 0.840\n",
      "INFO -------------------------------\n"
     ]
    },
    {
     "name": "stdout",
     "output_type": "stream",
     "text": [
      "Adjusting learning rate of group 0 to 5.3296e-03.\n"
     ]
    },
    {
     "name": "stderr",
     "output_type": "stream",
     "text": [
      "INFO Epoch 478\n",
      "INFO The mean accuracy train: 0.998\n",
      "INFO The mean accuracy test: 0.840\n",
      "INFO -------------------------------\n"
     ]
    },
    {
     "name": "stdout",
     "output_type": "stream",
     "text": [
      "Adjusting learning rate of group 0 to 5.3140e-03.\n"
     ]
    },
    {
     "name": "stderr",
     "output_type": "stream",
     "text": [
      "INFO Epoch 479\n",
      "INFO The mean accuracy train: 0.998\n",
      "INFO The mean accuracy test: 0.839\n",
      "INFO -------------------------------\n"
     ]
    },
    {
     "name": "stdout",
     "output_type": "stream",
     "text": [
      "Adjusting learning rate of group 0 to 5.2983e-03.\n"
     ]
    },
    {
     "name": "stderr",
     "output_type": "stream",
     "text": [
      "INFO Epoch 480\n",
      "INFO The mean accuracy train: 0.998\n",
      "INFO The mean accuracy test: 0.838\n",
      "INFO -------------------------------\n"
     ]
    },
    {
     "name": "stdout",
     "output_type": "stream",
     "text": [
      "Adjusting learning rate of group 0 to 5.2826e-03.\n"
     ]
    },
    {
     "name": "stderr",
     "output_type": "stream",
     "text": [
      "INFO Epoch 481\n",
      "INFO The mean accuracy train: 0.998\n",
      "INFO The mean accuracy test: 0.839\n",
      "INFO -------------------------------\n"
     ]
    },
    {
     "name": "stdout",
     "output_type": "stream",
     "text": [
      "Adjusting learning rate of group 0 to 5.2669e-03.\n"
     ]
    },
    {
     "name": "stderr",
     "output_type": "stream",
     "text": [
      "INFO Epoch 482\n",
      "INFO The mean accuracy train: 0.999\n",
      "INFO The mean accuracy test: 0.840\n",
      "INFO -------------------------------\n"
     ]
    },
    {
     "name": "stdout",
     "output_type": "stream",
     "text": [
      "Adjusting learning rate of group 0 to 5.2512e-03.\n"
     ]
    },
    {
     "name": "stderr",
     "output_type": "stream",
     "text": [
      "INFO Epoch 483\n",
      "INFO The mean accuracy train: 0.998\n",
      "INFO The mean accuracy test: 0.841\n",
      "INFO -------------------------------\n"
     ]
    },
    {
     "name": "stdout",
     "output_type": "stream",
     "text": [
      "Adjusting learning rate of group 0 to 5.2355e-03.\n"
     ]
    },
    {
     "name": "stderr",
     "output_type": "stream",
     "text": [
      "INFO Epoch 484\n",
      "INFO The mean accuracy train: 0.999\n",
      "INFO The mean accuracy test: 0.840\n",
      "INFO -------------------------------\n"
     ]
    },
    {
     "name": "stdout",
     "output_type": "stream",
     "text": [
      "Adjusting learning rate of group 0 to 5.2198e-03.\n"
     ]
    },
    {
     "name": "stderr",
     "output_type": "stream",
     "text": [
      "INFO Epoch 485\n",
      "INFO The mean accuracy train: 0.999\n",
      "INFO The mean accuracy test: 0.842\n",
      "INFO -------------------------------\n"
     ]
    },
    {
     "name": "stdout",
     "output_type": "stream",
     "text": [
      "Adjusting learning rate of group 0 to 5.2041e-03.\n"
     ]
    },
    {
     "name": "stderr",
     "output_type": "stream",
     "text": [
      "INFO Epoch 486\n",
      "INFO The mean accuracy train: 0.998\n",
      "INFO The mean accuracy test: 0.839\n",
      "INFO -------------------------------\n"
     ]
    },
    {
     "name": "stdout",
     "output_type": "stream",
     "text": [
      "Adjusting learning rate of group 0 to 5.1885e-03.\n"
     ]
    },
    {
     "name": "stderr",
     "output_type": "stream",
     "text": [
      "INFO Epoch 487\n",
      "INFO The mean accuracy train: 0.998\n",
      "INFO The mean accuracy test: 0.842\n",
      "INFO -------------------------------\n"
     ]
    },
    {
     "name": "stdout",
     "output_type": "stream",
     "text": [
      "Adjusting learning rate of group 0 to 5.1728e-03.\n"
     ]
    },
    {
     "name": "stderr",
     "output_type": "stream",
     "text": [
      "INFO Epoch 488\n",
      "INFO The mean accuracy train: 0.998\n",
      "INFO The mean accuracy test: 0.844\n",
      "INFO -------------------------------\n"
     ]
    },
    {
     "name": "stdout",
     "output_type": "stream",
     "text": [
      "Adjusting learning rate of group 0 to 5.1571e-03.\n"
     ]
    },
    {
     "name": "stderr",
     "output_type": "stream",
     "text": [
      "INFO Epoch 489\n",
      "INFO The mean accuracy train: 0.998\n",
      "INFO The mean accuracy test: 0.839\n",
      "INFO -------------------------------\n"
     ]
    },
    {
     "name": "stdout",
     "output_type": "stream",
     "text": [
      "Adjusting learning rate of group 0 to 5.1414e-03.\n"
     ]
    },
    {
     "name": "stderr",
     "output_type": "stream",
     "text": [
      "INFO Epoch 490\n",
      "INFO The mean accuracy train: 0.999\n",
      "INFO The mean accuracy test: 0.841\n",
      "INFO -------------------------------\n"
     ]
    },
    {
     "name": "stdout",
     "output_type": "stream",
     "text": [
      "Adjusting learning rate of group 0 to 5.1257e-03.\n"
     ]
    },
    {
     "name": "stderr",
     "output_type": "stream",
     "text": [
      "INFO Epoch 491\n",
      "INFO The mean accuracy train: 0.998\n",
      "INFO The mean accuracy test: 0.839\n",
      "INFO -------------------------------\n"
     ]
    },
    {
     "name": "stdout",
     "output_type": "stream",
     "text": [
      "Adjusting learning rate of group 0 to 5.1099e-03.\n"
     ]
    },
    {
     "name": "stderr",
     "output_type": "stream",
     "text": [
      "INFO Epoch 492\n",
      "INFO The mean accuracy train: 0.998\n",
      "INFO The mean accuracy test: 0.840\n",
      "INFO -------------------------------\n"
     ]
    },
    {
     "name": "stdout",
     "output_type": "stream",
     "text": [
      "Adjusting learning rate of group 0 to 5.0942e-03.\n"
     ]
    },
    {
     "name": "stderr",
     "output_type": "stream",
     "text": [
      "INFO Epoch 493\n",
      "INFO The mean accuracy train: 0.999\n",
      "INFO The mean accuracy test: 0.838\n",
      "INFO -------------------------------\n"
     ]
    },
    {
     "name": "stdout",
     "output_type": "stream",
     "text": [
      "Adjusting learning rate of group 0 to 5.0785e-03.\n"
     ]
    },
    {
     "name": "stderr",
     "output_type": "stream",
     "text": [
      "INFO Epoch 494\n",
      "INFO The mean accuracy train: 0.998\n",
      "INFO The mean accuracy test: 0.840\n",
      "INFO -------------------------------\n"
     ]
    },
    {
     "name": "stdout",
     "output_type": "stream",
     "text": [
      "Adjusting learning rate of group 0 to 5.0628e-03.\n"
     ]
    },
    {
     "name": "stderr",
     "output_type": "stream",
     "text": [
      "INFO Epoch 495\n",
      "INFO The mean accuracy train: 0.999\n",
      "INFO The mean accuracy test: 0.840\n",
      "INFO -------------------------------\n"
     ]
    },
    {
     "name": "stdout",
     "output_type": "stream",
     "text": [
      "Adjusting learning rate of group 0 to 5.0471e-03.\n"
     ]
    },
    {
     "name": "stderr",
     "output_type": "stream",
     "text": [
      "INFO Epoch 496\n",
      "INFO The mean accuracy train: 0.998\n",
      "INFO The mean accuracy test: 0.838\n",
      "INFO -------------------------------\n"
     ]
    },
    {
     "name": "stdout",
     "output_type": "stream",
     "text": [
      "Adjusting learning rate of group 0 to 5.0314e-03.\n"
     ]
    },
    {
     "name": "stderr",
     "output_type": "stream",
     "text": [
      "INFO Epoch 497\n",
      "INFO The mean accuracy train: 0.999\n",
      "INFO The mean accuracy test: 0.838\n",
      "INFO -------------------------------\n"
     ]
    },
    {
     "name": "stdout",
     "output_type": "stream",
     "text": [
      "Adjusting learning rate of group 0 to 5.0157e-03.\n"
     ]
    },
    {
     "name": "stderr",
     "output_type": "stream",
     "text": [
      "INFO Epoch 498\n",
      "INFO The mean accuracy train: 0.998\n",
      "INFO The mean accuracy test: 0.841\n",
      "INFO -------------------------------\n"
     ]
    },
    {
     "name": "stdout",
     "output_type": "stream",
     "text": [
      "Adjusting learning rate of group 0 to 5.0000e-03.\n"
     ]
    },
    {
     "name": "stderr",
     "output_type": "stream",
     "text": [
      "INFO Epoch 499\n",
      "INFO The mean accuracy train: 0.999\n",
      "INFO The mean accuracy test: 0.840\n",
      "INFO -------------------------------\n"
     ]
    },
    {
     "name": "stdout",
     "output_type": "stream",
     "text": [
      "Adjusting learning rate of group 0 to 4.9843e-03.\n"
     ]
    },
    {
     "name": "stderr",
     "output_type": "stream",
     "text": [
      "INFO Epoch 500\n",
      "INFO The mean accuracy train: 0.999\n",
      "INFO The mean accuracy test: 0.840\n",
      "INFO -------------------------------\n"
     ]
    },
    {
     "name": "stdout",
     "output_type": "stream",
     "text": [
      "Adjusting learning rate of group 0 to 4.9686e-03.\n"
     ]
    },
    {
     "name": "stderr",
     "output_type": "stream",
     "text": [
      "INFO Epoch 501\n",
      "INFO The mean accuracy train: 0.999\n",
      "INFO The mean accuracy test: 0.844\n",
      "INFO -------------------------------\n"
     ]
    },
    {
     "name": "stdout",
     "output_type": "stream",
     "text": [
      "Adjusting learning rate of group 0 to 4.9529e-03.\n"
     ]
    },
    {
     "name": "stderr",
     "output_type": "stream",
     "text": [
      "INFO Epoch 502\n",
      "INFO The mean accuracy train: 0.999\n",
      "INFO The mean accuracy test: 0.842\n",
      "INFO -------------------------------\n"
     ]
    },
    {
     "name": "stdout",
     "output_type": "stream",
     "text": [
      "Adjusting learning rate of group 0 to 4.9372e-03.\n"
     ]
    },
    {
     "name": "stderr",
     "output_type": "stream",
     "text": [
      "INFO Epoch 503\n",
      "INFO The mean accuracy train: 0.999\n",
      "INFO The mean accuracy test: 0.844\n",
      "INFO -------------------------------\n"
     ]
    },
    {
     "name": "stdout",
     "output_type": "stream",
     "text": [
      "Adjusting learning rate of group 0 to 4.9215e-03.\n"
     ]
    },
    {
     "name": "stderr",
     "output_type": "stream",
     "text": [
      "INFO Epoch 504\n",
      "INFO The mean accuracy train: 0.999\n",
      "INFO The mean accuracy test: 0.844\n",
      "INFO -------------------------------\n"
     ]
    },
    {
     "name": "stdout",
     "output_type": "stream",
     "text": [
      "Adjusting learning rate of group 0 to 4.9058e-03.\n"
     ]
    },
    {
     "name": "stderr",
     "output_type": "stream",
     "text": [
      "INFO Epoch 505\n",
      "INFO The mean accuracy train: 0.999\n",
      "INFO The mean accuracy test: 0.841\n",
      "INFO -------------------------------\n"
     ]
    },
    {
     "name": "stdout",
     "output_type": "stream",
     "text": [
      "Adjusting learning rate of group 0 to 4.8901e-03.\n"
     ]
    },
    {
     "name": "stderr",
     "output_type": "stream",
     "text": [
      "INFO Epoch 506\n",
      "INFO The mean accuracy train: 0.999\n",
      "INFO The mean accuracy test: 0.839\n",
      "INFO -------------------------------\n"
     ]
    },
    {
     "name": "stdout",
     "output_type": "stream",
     "text": [
      "Adjusting learning rate of group 0 to 4.8743e-03.\n"
     ]
    },
    {
     "name": "stderr",
     "output_type": "stream",
     "text": [
      "INFO Epoch 507\n",
      "INFO The mean accuracy train: 0.999\n",
      "INFO The mean accuracy test: 0.838\n",
      "INFO -------------------------------\n"
     ]
    },
    {
     "name": "stdout",
     "output_type": "stream",
     "text": [
      "Adjusting learning rate of group 0 to 4.8586e-03.\n"
     ]
    },
    {
     "name": "stderr",
     "output_type": "stream",
     "text": [
      "INFO Epoch 508\n",
      "INFO The mean accuracy train: 0.999\n",
      "INFO The mean accuracy test: 0.839\n",
      "INFO -------------------------------\n"
     ]
    },
    {
     "name": "stdout",
     "output_type": "stream",
     "text": [
      "Adjusting learning rate of group 0 to 4.8429e-03.\n"
     ]
    },
    {
     "name": "stderr",
     "output_type": "stream",
     "text": [
      "INFO Epoch 509\n",
      "INFO The mean accuracy train: 0.998\n",
      "INFO The mean accuracy test: 0.836\n",
      "INFO -------------------------------\n"
     ]
    },
    {
     "name": "stdout",
     "output_type": "stream",
     "text": [
      "Adjusting learning rate of group 0 to 4.8272e-03.\n"
     ]
    },
    {
     "name": "stderr",
     "output_type": "stream",
     "text": [
      "INFO Epoch 510\n",
      "INFO The mean accuracy train: 0.999\n",
      "INFO The mean accuracy test: 0.838\n",
      "INFO -------------------------------\n"
     ]
    },
    {
     "name": "stdout",
     "output_type": "stream",
     "text": [
      "Adjusting learning rate of group 0 to 4.8115e-03.\n"
     ]
    },
    {
     "name": "stderr",
     "output_type": "stream",
     "text": [
      "INFO Epoch 511\n",
      "INFO The mean accuracy train: 0.998\n",
      "INFO The mean accuracy test: 0.838\n",
      "INFO -------------------------------\n"
     ]
    },
    {
     "name": "stdout",
     "output_type": "stream",
     "text": [
      "Adjusting learning rate of group 0 to 4.7959e-03.\n"
     ]
    },
    {
     "name": "stderr",
     "output_type": "stream",
     "text": [
      "INFO Epoch 512\n",
      "INFO The mean accuracy train: 0.998\n",
      "INFO The mean accuracy test: 0.838\n",
      "INFO -------------------------------\n"
     ]
    },
    {
     "name": "stdout",
     "output_type": "stream",
     "text": [
      "Adjusting learning rate of group 0 to 4.7802e-03.\n"
     ]
    },
    {
     "name": "stderr",
     "output_type": "stream",
     "text": [
      "INFO Epoch 513\n",
      "INFO The mean accuracy train: 0.999\n",
      "INFO The mean accuracy test: 0.840\n",
      "INFO -------------------------------\n"
     ]
    },
    {
     "name": "stdout",
     "output_type": "stream",
     "text": [
      "Adjusting learning rate of group 0 to 4.7645e-03.\n"
     ]
    },
    {
     "name": "stderr",
     "output_type": "stream",
     "text": [
      "INFO Epoch 514\n",
      "INFO The mean accuracy train: 0.999\n",
      "INFO The mean accuracy test: 0.840\n",
      "INFO -------------------------------\n"
     ]
    },
    {
     "name": "stdout",
     "output_type": "stream",
     "text": [
      "Adjusting learning rate of group 0 to 4.7488e-03.\n"
     ]
    },
    {
     "name": "stderr",
     "output_type": "stream",
     "text": [
      "INFO Epoch 515\n",
      "INFO The mean accuracy train: 0.999\n",
      "INFO The mean accuracy test: 0.840\n",
      "INFO -------------------------------\n"
     ]
    },
    {
     "name": "stdout",
     "output_type": "stream",
     "text": [
      "Adjusting learning rate of group 0 to 4.7331e-03.\n"
     ]
    },
    {
     "name": "stderr",
     "output_type": "stream",
     "text": [
      "INFO Epoch 516\n",
      "INFO The mean accuracy train: 0.999\n",
      "INFO The mean accuracy test: 0.840\n",
      "INFO -------------------------------\n"
     ]
    },
    {
     "name": "stdout",
     "output_type": "stream",
     "text": [
      "Adjusting learning rate of group 0 to 4.7174e-03.\n"
     ]
    },
    {
     "name": "stderr",
     "output_type": "stream",
     "text": [
      "INFO Epoch 517\n",
      "INFO The mean accuracy train: 0.999\n",
      "INFO The mean accuracy test: 0.842\n",
      "INFO -------------------------------\n"
     ]
    },
    {
     "name": "stdout",
     "output_type": "stream",
     "text": [
      "Adjusting learning rate of group 0 to 4.7017e-03.\n"
     ]
    },
    {
     "name": "stderr",
     "output_type": "stream",
     "text": [
      "INFO Epoch 518\n",
      "INFO The mean accuracy train: 0.999\n",
      "INFO The mean accuracy test: 0.841\n",
      "INFO -------------------------------\n"
     ]
    },
    {
     "name": "stdout",
     "output_type": "stream",
     "text": [
      "Adjusting learning rate of group 0 to 4.6860e-03.\n"
     ]
    },
    {
     "name": "stderr",
     "output_type": "stream",
     "text": [
      "INFO Epoch 519\n",
      "INFO The mean accuracy train: 0.999\n",
      "INFO The mean accuracy test: 0.839\n",
      "INFO -------------------------------\n"
     ]
    },
    {
     "name": "stdout",
     "output_type": "stream",
     "text": [
      "Adjusting learning rate of group 0 to 4.6704e-03.\n"
     ]
    },
    {
     "name": "stderr",
     "output_type": "stream",
     "text": [
      "INFO Epoch 520\n",
      "INFO The mean accuracy train: 0.999\n",
      "INFO The mean accuracy test: 0.842\n",
      "INFO -------------------------------\n"
     ]
    },
    {
     "name": "stdout",
     "output_type": "stream",
     "text": [
      "Adjusting learning rate of group 0 to 4.6547e-03.\n"
     ]
    },
    {
     "name": "stderr",
     "output_type": "stream",
     "text": [
      "INFO Epoch 521\n",
      "INFO The mean accuracy train: 0.998\n",
      "INFO The mean accuracy test: 0.839\n",
      "INFO -------------------------------\n"
     ]
    },
    {
     "name": "stdout",
     "output_type": "stream",
     "text": [
      "Adjusting learning rate of group 0 to 4.6390e-03.\n"
     ]
    },
    {
     "name": "stderr",
     "output_type": "stream",
     "text": [
      "INFO Epoch 522\n",
      "INFO The mean accuracy train: 0.999\n",
      "INFO The mean accuracy test: 0.838\n",
      "INFO -------------------------------\n"
     ]
    },
    {
     "name": "stdout",
     "output_type": "stream",
     "text": [
      "Adjusting learning rate of group 0 to 4.6234e-03.\n"
     ]
    },
    {
     "name": "stderr",
     "output_type": "stream",
     "text": [
      "INFO Epoch 523\n",
      "INFO The mean accuracy train: 0.999\n",
      "INFO The mean accuracy test: 0.839\n",
      "INFO -------------------------------\n"
     ]
    },
    {
     "name": "stdout",
     "output_type": "stream",
     "text": [
      "Adjusting learning rate of group 0 to 4.6077e-03.\n"
     ]
    },
    {
     "name": "stderr",
     "output_type": "stream",
     "text": [
      "INFO Epoch 524\n",
      "INFO The mean accuracy train: 0.999\n",
      "INFO The mean accuracy test: 0.841\n",
      "INFO -------------------------------\n"
     ]
    },
    {
     "name": "stdout",
     "output_type": "stream",
     "text": [
      "Adjusting learning rate of group 0 to 4.5920e-03.\n"
     ]
    },
    {
     "name": "stderr",
     "output_type": "stream",
     "text": [
      "INFO Epoch 525\n",
      "INFO The mean accuracy train: 0.999\n",
      "INFO The mean accuracy test: 0.843\n",
      "INFO -------------------------------\n"
     ]
    },
    {
     "name": "stdout",
     "output_type": "stream",
     "text": [
      "Adjusting learning rate of group 0 to 4.5764e-03.\n"
     ]
    },
    {
     "name": "stderr",
     "output_type": "stream",
     "text": [
      "INFO Epoch 526\n",
      "INFO The mean accuracy train: 0.999\n",
      "INFO The mean accuracy test: 0.840\n",
      "INFO -------------------------------\n"
     ]
    },
    {
     "name": "stdout",
     "output_type": "stream",
     "text": [
      "Adjusting learning rate of group 0 to 4.5607e-03.\n"
     ]
    },
    {
     "name": "stderr",
     "output_type": "stream",
     "text": [
      "INFO Epoch 527\n",
      "INFO The mean accuracy train: 0.999\n",
      "INFO The mean accuracy test: 0.840\n",
      "INFO -------------------------------\n"
     ]
    },
    {
     "name": "stdout",
     "output_type": "stream",
     "text": [
      "Adjusting learning rate of group 0 to 4.5451e-03.\n"
     ]
    },
    {
     "name": "stderr",
     "output_type": "stream",
     "text": [
      "INFO Epoch 528\n",
      "INFO The mean accuracy train: 0.999\n",
      "INFO The mean accuracy test: 0.843\n",
      "INFO -------------------------------\n"
     ]
    },
    {
     "name": "stdout",
     "output_type": "stream",
     "text": [
      "Adjusting learning rate of group 0 to 4.5295e-03.\n"
     ]
    },
    {
     "name": "stderr",
     "output_type": "stream",
     "text": [
      "INFO Epoch 529\n",
      "INFO The mean accuracy train: 0.999\n",
      "INFO The mean accuracy test: 0.842\n",
      "INFO -------------------------------\n"
     ]
    },
    {
     "name": "stdout",
     "output_type": "stream",
     "text": [
      "Adjusting learning rate of group 0 to 4.5138e-03.\n"
     ]
    },
    {
     "name": "stderr",
     "output_type": "stream",
     "text": [
      "INFO Epoch 530\n",
      "INFO The mean accuracy train: 0.999\n",
      "INFO The mean accuracy test: 0.842\n",
      "INFO -------------------------------\n"
     ]
    },
    {
     "name": "stdout",
     "output_type": "stream",
     "text": [
      "Adjusting learning rate of group 0 to 4.4982e-03.\n"
     ]
    },
    {
     "name": "stderr",
     "output_type": "stream",
     "text": [
      "INFO Epoch 531\n",
      "INFO The mean accuracy train: 0.999\n",
      "INFO The mean accuracy test: 0.837\n",
      "INFO -------------------------------\n"
     ]
    },
    {
     "name": "stdout",
     "output_type": "stream",
     "text": [
      "Adjusting learning rate of group 0 to 4.4826e-03.\n"
     ]
    },
    {
     "name": "stderr",
     "output_type": "stream",
     "text": [
      "INFO Epoch 532\n",
      "INFO The mean accuracy train: 0.999\n",
      "INFO The mean accuracy test: 0.842\n",
      "INFO -------------------------------\n"
     ]
    },
    {
     "name": "stdout",
     "output_type": "stream",
     "text": [
      "Adjusting learning rate of group 0 to 4.4669e-03.\n"
     ]
    },
    {
     "name": "stderr",
     "output_type": "stream",
     "text": [
      "INFO Epoch 533\n",
      "INFO The mean accuracy train: 0.999\n",
      "INFO The mean accuracy test: 0.839\n",
      "INFO -------------------------------\n"
     ]
    },
    {
     "name": "stdout",
     "output_type": "stream",
     "text": [
      "Adjusting learning rate of group 0 to 4.4513e-03.\n"
     ]
    },
    {
     "name": "stderr",
     "output_type": "stream",
     "text": [
      "INFO Epoch 534\n",
      "INFO The mean accuracy train: 0.999\n",
      "INFO The mean accuracy test: 0.838\n",
      "INFO -------------------------------\n"
     ]
    },
    {
     "name": "stdout",
     "output_type": "stream",
     "text": [
      "Adjusting learning rate of group 0 to 4.4357e-03.\n"
     ]
    },
    {
     "name": "stderr",
     "output_type": "stream",
     "text": [
      "INFO Epoch 535\n",
      "INFO The mean accuracy train: 0.999\n",
      "INFO The mean accuracy test: 0.841\n",
      "INFO -------------------------------\n"
     ]
    },
    {
     "name": "stdout",
     "output_type": "stream",
     "text": [
      "Adjusting learning rate of group 0 to 4.4201e-03.\n"
     ]
    },
    {
     "name": "stderr",
     "output_type": "stream",
     "text": [
      "INFO Epoch 536\n",
      "INFO The mean accuracy train: 0.999\n",
      "INFO The mean accuracy test: 0.840\n",
      "INFO -------------------------------\n"
     ]
    },
    {
     "name": "stdout",
     "output_type": "stream",
     "text": [
      "Adjusting learning rate of group 0 to 4.4045e-03.\n"
     ]
    },
    {
     "name": "stderr",
     "output_type": "stream",
     "text": [
      "INFO Epoch 537\n",
      "INFO The mean accuracy train: 0.999\n",
      "INFO The mean accuracy test: 0.841\n",
      "INFO -------------------------------\n"
     ]
    },
    {
     "name": "stdout",
     "output_type": "stream",
     "text": [
      "Adjusting learning rate of group 0 to 4.3889e-03.\n"
     ]
    },
    {
     "name": "stderr",
     "output_type": "stream",
     "text": [
      "INFO Epoch 538\n",
      "INFO The mean accuracy train: 0.999\n",
      "INFO The mean accuracy test: 0.839\n",
      "INFO -------------------------------\n"
     ]
    },
    {
     "name": "stdout",
     "output_type": "stream",
     "text": [
      "Adjusting learning rate of group 0 to 4.3733e-03.\n"
     ]
    },
    {
     "name": "stderr",
     "output_type": "stream",
     "text": [
      "INFO Epoch 539\n",
      "INFO The mean accuracy train: 0.999\n",
      "INFO The mean accuracy test: 0.839\n",
      "INFO -------------------------------\n"
     ]
    },
    {
     "name": "stdout",
     "output_type": "stream",
     "text": [
      "Adjusting learning rate of group 0 to 4.3578e-03.\n"
     ]
    },
    {
     "name": "stderr",
     "output_type": "stream",
     "text": [
      "INFO Epoch 540\n",
      "INFO The mean accuracy train: 0.999\n",
      "INFO The mean accuracy test: 0.839\n",
      "INFO -------------------------------\n"
     ]
    },
    {
     "name": "stdout",
     "output_type": "stream",
     "text": [
      "Adjusting learning rate of group 0 to 4.3422e-03.\n"
     ]
    },
    {
     "name": "stderr",
     "output_type": "stream",
     "text": [
      "INFO Epoch 541\n",
      "INFO The mean accuracy train: 0.999\n",
      "INFO The mean accuracy test: 0.835\n",
      "INFO -------------------------------\n"
     ]
    },
    {
     "name": "stdout",
     "output_type": "stream",
     "text": [
      "Adjusting learning rate of group 0 to 4.3266e-03.\n"
     ]
    },
    {
     "name": "stderr",
     "output_type": "stream",
     "text": [
      "INFO Epoch 542\n",
      "INFO The mean accuracy train: 0.999\n",
      "INFO The mean accuracy test: 0.839\n",
      "INFO -------------------------------\n"
     ]
    },
    {
     "name": "stdout",
     "output_type": "stream",
     "text": [
      "Adjusting learning rate of group 0 to 4.3110e-03.\n"
     ]
    },
    {
     "name": "stderr",
     "output_type": "stream",
     "text": [
      "INFO Epoch 543\n",
      "INFO The mean accuracy train: 0.999\n",
      "INFO The mean accuracy test: 0.837\n",
      "INFO -------------------------------\n"
     ]
    },
    {
     "name": "stdout",
     "output_type": "stream",
     "text": [
      "Adjusting learning rate of group 0 to 4.2955e-03.\n"
     ]
    },
    {
     "name": "stderr",
     "output_type": "stream",
     "text": [
      "INFO Epoch 544\n",
      "INFO The mean accuracy train: 0.999\n",
      "INFO The mean accuracy test: 0.838\n",
      "INFO -------------------------------\n"
     ]
    },
    {
     "name": "stdout",
     "output_type": "stream",
     "text": [
      "Adjusting learning rate of group 0 to 4.2799e-03.\n"
     ]
    },
    {
     "name": "stderr",
     "output_type": "stream",
     "text": [
      "INFO Epoch 545\n",
      "INFO The mean accuracy train: 0.999\n",
      "INFO The mean accuracy test: 0.839\n",
      "INFO -------------------------------\n"
     ]
    },
    {
     "name": "stdout",
     "output_type": "stream",
     "text": [
      "Adjusting learning rate of group 0 to 4.2644e-03.\n"
     ]
    },
    {
     "name": "stderr",
     "output_type": "stream",
     "text": [
      "INFO Epoch 546\n",
      "INFO The mean accuracy train: 0.999\n",
      "INFO The mean accuracy test: 0.839\n",
      "INFO -------------------------------\n"
     ]
    },
    {
     "name": "stdout",
     "output_type": "stream",
     "text": [
      "Adjusting learning rate of group 0 to 4.2489e-03.\n"
     ]
    },
    {
     "name": "stderr",
     "output_type": "stream",
     "text": [
      "INFO Epoch 547\n",
      "INFO The mean accuracy train: 0.999\n",
      "INFO The mean accuracy test: 0.837\n",
      "INFO -------------------------------\n"
     ]
    },
    {
     "name": "stdout",
     "output_type": "stream",
     "text": [
      "Adjusting learning rate of group 0 to 4.2333e-03.\n"
     ]
    },
    {
     "name": "stderr",
     "output_type": "stream",
     "text": [
      "INFO Epoch 548\n",
      "INFO The mean accuracy train: 0.999\n",
      "INFO The mean accuracy test: 0.840\n",
      "INFO -------------------------------\n"
     ]
    },
    {
     "name": "stdout",
     "output_type": "stream",
     "text": [
      "Adjusting learning rate of group 0 to 4.2178e-03.\n"
     ]
    },
    {
     "name": "stderr",
     "output_type": "stream",
     "text": [
      "INFO Epoch 549\n",
      "INFO The mean accuracy train: 0.999\n",
      "INFO The mean accuracy test: 0.842\n",
      "INFO -------------------------------\n"
     ]
    },
    {
     "name": "stdout",
     "output_type": "stream",
     "text": [
      "Adjusting learning rate of group 0 to 4.2023e-03.\n"
     ]
    },
    {
     "name": "stderr",
     "output_type": "stream",
     "text": [
      "INFO Epoch 550\n",
      "INFO The mean accuracy train: 0.999\n",
      "INFO The mean accuracy test: 0.840\n",
      "INFO -------------------------------\n"
     ]
    },
    {
     "name": "stdout",
     "output_type": "stream",
     "text": [
      "Adjusting learning rate of group 0 to 4.1868e-03.\n"
     ]
    },
    {
     "name": "stderr",
     "output_type": "stream",
     "text": [
      "INFO Epoch 551\n",
      "INFO The mean accuracy train: 0.998\n",
      "INFO The mean accuracy test: 0.840\n",
      "INFO -------------------------------\n"
     ]
    },
    {
     "name": "stdout",
     "output_type": "stream",
     "text": [
      "Adjusting learning rate of group 0 to 4.1713e-03.\n"
     ]
    },
    {
     "name": "stderr",
     "output_type": "stream",
     "text": [
      "INFO Epoch 552\n",
      "INFO The mean accuracy train: 0.999\n",
      "INFO The mean accuracy test: 0.840\n",
      "INFO -------------------------------\n"
     ]
    },
    {
     "name": "stdout",
     "output_type": "stream",
     "text": [
      "Adjusting learning rate of group 0 to 4.1558e-03.\n"
     ]
    },
    {
     "name": "stderr",
     "output_type": "stream",
     "text": [
      "INFO Epoch 553\n",
      "INFO The mean accuracy train: 0.999\n",
      "INFO The mean accuracy test: 0.839\n",
      "INFO -------------------------------\n"
     ]
    },
    {
     "name": "stdout",
     "output_type": "stream",
     "text": [
      "Adjusting learning rate of group 0 to 4.1404e-03.\n"
     ]
    },
    {
     "name": "stderr",
     "output_type": "stream",
     "text": [
      "INFO Epoch 554\n",
      "INFO The mean accuracy train: 0.999\n",
      "INFO The mean accuracy test: 0.839\n",
      "INFO -------------------------------\n"
     ]
    },
    {
     "name": "stdout",
     "output_type": "stream",
     "text": [
      "Adjusting learning rate of group 0 to 4.1249e-03.\n"
     ]
    },
    {
     "name": "stderr",
     "output_type": "stream",
     "text": [
      "INFO Epoch 555\n",
      "INFO The mean accuracy train: 0.999\n",
      "INFO The mean accuracy test: 0.837\n",
      "INFO -------------------------------\n"
     ]
    },
    {
     "name": "stdout",
     "output_type": "stream",
     "text": [
      "Adjusting learning rate of group 0 to 4.1094e-03.\n"
     ]
    },
    {
     "name": "stderr",
     "output_type": "stream",
     "text": [
      "INFO Epoch 556\n",
      "INFO The mean accuracy train: 0.999\n",
      "INFO The mean accuracy test: 0.839\n",
      "INFO -------------------------------\n"
     ]
    },
    {
     "name": "stdout",
     "output_type": "stream",
     "text": [
      "Adjusting learning rate of group 0 to 4.0940e-03.\n"
     ]
    },
    {
     "name": "stderr",
     "output_type": "stream",
     "text": [
      "INFO Epoch 557\n",
      "INFO The mean accuracy train: 0.999\n",
      "INFO The mean accuracy test: 0.839\n",
      "INFO -------------------------------\n"
     ]
    },
    {
     "name": "stdout",
     "output_type": "stream",
     "text": [
      "Adjusting learning rate of group 0 to 4.0785e-03.\n"
     ]
    },
    {
     "name": "stderr",
     "output_type": "stream",
     "text": [
      "INFO Epoch 558\n",
      "INFO The mean accuracy train: 0.999\n",
      "INFO The mean accuracy test: 0.840\n",
      "INFO -------------------------------\n"
     ]
    },
    {
     "name": "stdout",
     "output_type": "stream",
     "text": [
      "Adjusting learning rate of group 0 to 4.0631e-03.\n"
     ]
    },
    {
     "name": "stderr",
     "output_type": "stream",
     "text": [
      "INFO Epoch 559\n",
      "INFO The mean accuracy train: 0.999\n",
      "INFO The mean accuracy test: 0.839\n",
      "INFO -------------------------------\n"
     ]
    },
    {
     "name": "stdout",
     "output_type": "stream",
     "text": [
      "Adjusting learning rate of group 0 to 4.0477e-03.\n"
     ]
    },
    {
     "name": "stderr",
     "output_type": "stream",
     "text": [
      "INFO Epoch 560\n",
      "INFO The mean accuracy train: 0.999\n",
      "INFO The mean accuracy test: 0.838\n",
      "INFO -------------------------------\n"
     ]
    },
    {
     "name": "stdout",
     "output_type": "stream",
     "text": [
      "Adjusting learning rate of group 0 to 4.0323e-03.\n"
     ]
    },
    {
     "name": "stderr",
     "output_type": "stream",
     "text": [
      "INFO Epoch 561\n",
      "INFO The mean accuracy train: 0.999\n",
      "INFO The mean accuracy test: 0.838\n",
      "INFO -------------------------------\n"
     ]
    },
    {
     "name": "stdout",
     "output_type": "stream",
     "text": [
      "Adjusting learning rate of group 0 to 4.0168e-03.\n"
     ]
    },
    {
     "name": "stderr",
     "output_type": "stream",
     "text": [
      "INFO Epoch 562\n",
      "INFO The mean accuracy train: 0.999\n",
      "INFO The mean accuracy test: 0.840\n",
      "INFO -------------------------------\n"
     ]
    },
    {
     "name": "stdout",
     "output_type": "stream",
     "text": [
      "Adjusting learning rate of group 0 to 4.0015e-03.\n"
     ]
    },
    {
     "name": "stderr",
     "output_type": "stream",
     "text": [
      "INFO Epoch 563\n",
      "INFO The mean accuracy train: 0.999\n",
      "INFO The mean accuracy test: 0.840\n",
      "INFO -------------------------------\n"
     ]
    },
    {
     "name": "stdout",
     "output_type": "stream",
     "text": [
      "Adjusting learning rate of group 0 to 3.9861e-03.\n"
     ]
    },
    {
     "name": "stderr",
     "output_type": "stream",
     "text": [
      "INFO Epoch 564\n",
      "INFO The mean accuracy train: 0.999\n",
      "INFO The mean accuracy test: 0.839\n",
      "INFO -------------------------------\n"
     ]
    },
    {
     "name": "stdout",
     "output_type": "stream",
     "text": [
      "Adjusting learning rate of group 0 to 3.9707e-03.\n"
     ]
    },
    {
     "name": "stderr",
     "output_type": "stream",
     "text": [
      "INFO Epoch 565\n",
      "INFO The mean accuracy train: 0.999\n",
      "INFO The mean accuracy test: 0.839\n",
      "INFO -------------------------------\n"
     ]
    },
    {
     "name": "stdout",
     "output_type": "stream",
     "text": [
      "Adjusting learning rate of group 0 to 3.9553e-03.\n"
     ]
    },
    {
     "name": "stderr",
     "output_type": "stream",
     "text": [
      "INFO Epoch 566\n",
      "INFO The mean accuracy train: 0.999\n",
      "INFO The mean accuracy test: 0.837\n",
      "INFO -------------------------------\n"
     ]
    },
    {
     "name": "stdout",
     "output_type": "stream",
     "text": [
      "Adjusting learning rate of group 0 to 3.9400e-03.\n"
     ]
    },
    {
     "name": "stderr",
     "output_type": "stream",
     "text": [
      "INFO Epoch 567\n",
      "INFO The mean accuracy train: 0.999\n",
      "INFO The mean accuracy test: 0.838\n",
      "INFO -------------------------------\n"
     ]
    },
    {
     "name": "stdout",
     "output_type": "stream",
     "text": [
      "Adjusting learning rate of group 0 to 3.9246e-03.\n"
     ]
    },
    {
     "name": "stderr",
     "output_type": "stream",
     "text": [
      "INFO Epoch 568\n",
      "INFO The mean accuracy train: 0.999\n",
      "INFO The mean accuracy test: 0.839\n",
      "INFO -------------------------------\n"
     ]
    },
    {
     "name": "stdout",
     "output_type": "stream",
     "text": [
      "Adjusting learning rate of group 0 to 3.9093e-03.\n"
     ]
    },
    {
     "name": "stderr",
     "output_type": "stream",
     "text": [
      "INFO Epoch 569\n",
      "INFO The mean accuracy train: 0.999\n",
      "INFO The mean accuracy test: 0.839\n",
      "INFO -------------------------------\n"
     ]
    },
    {
     "name": "stdout",
     "output_type": "stream",
     "text": [
      "Adjusting learning rate of group 0 to 3.8940e-03.\n"
     ]
    },
    {
     "name": "stderr",
     "output_type": "stream",
     "text": [
      "INFO Epoch 570\n",
      "INFO The mean accuracy train: 0.999\n",
      "INFO The mean accuracy test: 0.842\n",
      "INFO -------------------------------\n"
     ]
    },
    {
     "name": "stdout",
     "output_type": "stream",
     "text": [
      "Adjusting learning rate of group 0 to 3.8786e-03.\n"
     ]
    },
    {
     "name": "stderr",
     "output_type": "stream",
     "text": [
      "INFO Epoch 571\n",
      "INFO The mean accuracy train: 0.999\n",
      "INFO The mean accuracy test: 0.840\n",
      "INFO -------------------------------\n"
     ]
    },
    {
     "name": "stdout",
     "output_type": "stream",
     "text": [
      "Adjusting learning rate of group 0 to 3.8633e-03.\n"
     ]
    },
    {
     "name": "stderr",
     "output_type": "stream",
     "text": [
      "INFO Epoch 572\n",
      "INFO The mean accuracy train: 0.999\n",
      "INFO The mean accuracy test: 0.841\n",
      "INFO -------------------------------\n"
     ]
    },
    {
     "name": "stdout",
     "output_type": "stream",
     "text": [
      "Adjusting learning rate of group 0 to 3.8481e-03.\n"
     ]
    },
    {
     "name": "stderr",
     "output_type": "stream",
     "text": [
      "INFO Epoch 573\n",
      "INFO The mean accuracy train: 0.999\n",
      "INFO The mean accuracy test: 0.842\n",
      "INFO -------------------------------\n"
     ]
    },
    {
     "name": "stdout",
     "output_type": "stream",
     "text": [
      "Adjusting learning rate of group 0 to 3.8328e-03.\n"
     ]
    },
    {
     "name": "stderr",
     "output_type": "stream",
     "text": [
      "INFO Epoch 574\n",
      "INFO The mean accuracy train: 0.999\n",
      "INFO The mean accuracy test: 0.838\n",
      "INFO -------------------------------\n"
     ]
    },
    {
     "name": "stdout",
     "output_type": "stream",
     "text": [
      "Adjusting learning rate of group 0 to 3.8175e-03.\n"
     ]
    },
    {
     "name": "stderr",
     "output_type": "stream",
     "text": [
      "INFO Epoch 575\n",
      "INFO The mean accuracy train: 0.999\n",
      "INFO The mean accuracy test: 0.841\n",
      "INFO -------------------------------\n"
     ]
    },
    {
     "name": "stdout",
     "output_type": "stream",
     "text": [
      "Adjusting learning rate of group 0 to 3.8022e-03.\n"
     ]
    },
    {
     "name": "stderr",
     "output_type": "stream",
     "text": [
      "INFO Epoch 576\n",
      "INFO The mean accuracy train: 0.999\n",
      "INFO The mean accuracy test: 0.838\n",
      "INFO -------------------------------\n"
     ]
    },
    {
     "name": "stdout",
     "output_type": "stream",
     "text": [
      "Adjusting learning rate of group 0 to 3.7870e-03.\n"
     ]
    },
    {
     "name": "stderr",
     "output_type": "stream",
     "text": [
      "INFO Epoch 577\n",
      "INFO The mean accuracy train: 0.999\n",
      "INFO The mean accuracy test: 0.841\n",
      "INFO -------------------------------\n"
     ]
    },
    {
     "name": "stdout",
     "output_type": "stream",
     "text": [
      "Adjusting learning rate of group 0 to 3.7718e-03.\n"
     ]
    },
    {
     "name": "stderr",
     "output_type": "stream",
     "text": [
      "INFO Epoch 578\n",
      "INFO The mean accuracy train: 0.999\n",
      "INFO The mean accuracy test: 0.840\n",
      "INFO -------------------------------\n"
     ]
    },
    {
     "name": "stdout",
     "output_type": "stream",
     "text": [
      "Adjusting learning rate of group 0 to 3.7566e-03.\n"
     ]
    },
    {
     "name": "stderr",
     "output_type": "stream",
     "text": [
      "INFO Epoch 579\n",
      "INFO The mean accuracy train: 0.999\n",
      "INFO The mean accuracy test: 0.842\n",
      "INFO -------------------------------\n"
     ]
    },
    {
     "name": "stdout",
     "output_type": "stream",
     "text": [
      "Adjusting learning rate of group 0 to 3.7413e-03.\n"
     ]
    },
    {
     "name": "stderr",
     "output_type": "stream",
     "text": [
      "INFO Epoch 580\n",
      "INFO The mean accuracy train: 0.999\n",
      "INFO The mean accuracy test: 0.839\n",
      "INFO -------------------------------\n"
     ]
    },
    {
     "name": "stdout",
     "output_type": "stream",
     "text": [
      "Adjusting learning rate of group 0 to 3.7261e-03.\n"
     ]
    },
    {
     "name": "stderr",
     "output_type": "stream",
     "text": [
      "INFO Epoch 581\n",
      "INFO The mean accuracy train: 0.999\n",
      "INFO The mean accuracy test: 0.841\n",
      "INFO -------------------------------\n"
     ]
    },
    {
     "name": "stdout",
     "output_type": "stream",
     "text": [
      "Adjusting learning rate of group 0 to 3.7110e-03.\n"
     ]
    },
    {
     "name": "stderr",
     "output_type": "stream",
     "text": [
      "INFO Epoch 582\n",
      "INFO The mean accuracy train: 0.999\n",
      "INFO The mean accuracy test: 0.841\n",
      "INFO -------------------------------\n"
     ]
    },
    {
     "name": "stdout",
     "output_type": "stream",
     "text": [
      "Adjusting learning rate of group 0 to 3.6958e-03.\n"
     ]
    },
    {
     "name": "stderr",
     "output_type": "stream",
     "text": [
      "INFO Epoch 583\n",
      "INFO The mean accuracy train: 0.999\n",
      "INFO The mean accuracy test: 0.842\n",
      "INFO -------------------------------\n"
     ]
    },
    {
     "name": "stdout",
     "output_type": "stream",
     "text": [
      "Adjusting learning rate of group 0 to 3.6806e-03.\n"
     ]
    },
    {
     "name": "stderr",
     "output_type": "stream",
     "text": [
      "INFO Epoch 584\n",
      "INFO The mean accuracy train: 0.999\n",
      "INFO The mean accuracy test: 0.839\n",
      "INFO -------------------------------\n"
     ]
    },
    {
     "name": "stdout",
     "output_type": "stream",
     "text": [
      "Adjusting learning rate of group 0 to 3.6655e-03.\n"
     ]
    },
    {
     "name": "stderr",
     "output_type": "stream",
     "text": [
      "INFO Epoch 585\n",
      "INFO The mean accuracy train: 0.999\n",
      "INFO The mean accuracy test: 0.840\n",
      "INFO -------------------------------\n"
     ]
    },
    {
     "name": "stdout",
     "output_type": "stream",
     "text": [
      "Adjusting learning rate of group 0 to 3.6504e-03.\n"
     ]
    },
    {
     "name": "stderr",
     "output_type": "stream",
     "text": [
      "INFO Epoch 586\n",
      "INFO The mean accuracy train: 0.999\n",
      "INFO The mean accuracy test: 0.840\n",
      "INFO -------------------------------\n"
     ]
    },
    {
     "name": "stdout",
     "output_type": "stream",
     "text": [
      "Adjusting learning rate of group 0 to 3.6352e-03.\n"
     ]
    },
    {
     "name": "stderr",
     "output_type": "stream",
     "text": [
      "INFO Epoch 587\n",
      "INFO The mean accuracy train: 0.999\n",
      "INFO The mean accuracy test: 0.839\n",
      "INFO -------------------------------\n"
     ]
    },
    {
     "name": "stdout",
     "output_type": "stream",
     "text": [
      "Adjusting learning rate of group 0 to 3.6201e-03.\n"
     ]
    },
    {
     "name": "stderr",
     "output_type": "stream",
     "text": [
      "INFO Epoch 588\n",
      "INFO The mean accuracy train: 0.999\n",
      "INFO The mean accuracy test: 0.839\n",
      "INFO -------------------------------\n"
     ]
    },
    {
     "name": "stdout",
     "output_type": "stream",
     "text": [
      "Adjusting learning rate of group 0 to 3.6050e-03.\n"
     ]
    },
    {
     "name": "stderr",
     "output_type": "stream",
     "text": [
      "INFO Epoch 589\n",
      "INFO The mean accuracy train: 0.999\n",
      "INFO The mean accuracy test: 0.838\n",
      "INFO -------------------------------\n"
     ]
    },
    {
     "name": "stdout",
     "output_type": "stream",
     "text": [
      "Adjusting learning rate of group 0 to 3.5900e-03.\n"
     ]
    },
    {
     "name": "stderr",
     "output_type": "stream",
     "text": [
      "INFO Epoch 590\n",
      "INFO The mean accuracy train: 0.999\n",
      "INFO The mean accuracy test: 0.842\n",
      "INFO -------------------------------\n"
     ]
    },
    {
     "name": "stdout",
     "output_type": "stream",
     "text": [
      "Adjusting learning rate of group 0 to 3.5749e-03.\n"
     ]
    },
    {
     "name": "stderr",
     "output_type": "stream",
     "text": [
      "INFO Epoch 591\n",
      "INFO The mean accuracy train: 0.999\n",
      "INFO The mean accuracy test: 0.840\n",
      "INFO -------------------------------\n"
     ]
    },
    {
     "name": "stdout",
     "output_type": "stream",
     "text": [
      "Adjusting learning rate of group 0 to 3.5599e-03.\n"
     ]
    },
    {
     "name": "stderr",
     "output_type": "stream",
     "text": [
      "INFO Epoch 592\n",
      "INFO The mean accuracy train: 0.999\n",
      "INFO The mean accuracy test: 0.840\n",
      "INFO -------------------------------\n"
     ]
    },
    {
     "name": "stdout",
     "output_type": "stream",
     "text": [
      "Adjusting learning rate of group 0 to 3.5448e-03.\n"
     ]
    },
    {
     "name": "stderr",
     "output_type": "stream",
     "text": [
      "INFO Epoch 593\n",
      "INFO The mean accuracy train: 0.999\n",
      "INFO The mean accuracy test: 0.842\n",
      "INFO -------------------------------\n"
     ]
    },
    {
     "name": "stdout",
     "output_type": "stream",
     "text": [
      "Adjusting learning rate of group 0 to 3.5298e-03.\n"
     ]
    },
    {
     "name": "stderr",
     "output_type": "stream",
     "text": [
      "INFO Epoch 594\n",
      "INFO The mean accuracy train: 0.999\n",
      "INFO The mean accuracy test: 0.843\n",
      "INFO -------------------------------\n"
     ]
    },
    {
     "name": "stdout",
     "output_type": "stream",
     "text": [
      "Adjusting learning rate of group 0 to 3.5148e-03.\n"
     ]
    },
    {
     "name": "stderr",
     "output_type": "stream",
     "text": [
      "INFO Epoch 595\n",
      "INFO The mean accuracy train: 0.999\n",
      "INFO The mean accuracy test: 0.841\n",
      "INFO -------------------------------\n"
     ]
    },
    {
     "name": "stdout",
     "output_type": "stream",
     "text": [
      "Adjusting learning rate of group 0 to 3.4998e-03.\n"
     ]
    },
    {
     "name": "stderr",
     "output_type": "stream",
     "text": [
      "INFO Epoch 596\n",
      "INFO The mean accuracy train: 0.999\n",
      "INFO The mean accuracy test: 0.841\n",
      "INFO -------------------------------\n"
     ]
    },
    {
     "name": "stdout",
     "output_type": "stream",
     "text": [
      "Adjusting learning rate of group 0 to 3.4848e-03.\n"
     ]
    },
    {
     "name": "stderr",
     "output_type": "stream",
     "text": [
      "INFO Epoch 597\n",
      "INFO The mean accuracy train: 0.999\n",
      "INFO The mean accuracy test: 0.840\n",
      "INFO -------------------------------\n"
     ]
    },
    {
     "name": "stdout",
     "output_type": "stream",
     "text": [
      "Adjusting learning rate of group 0 to 3.4699e-03.\n"
     ]
    },
    {
     "name": "stderr",
     "output_type": "stream",
     "text": [
      "INFO Epoch 598\n",
      "INFO The mean accuracy train: 0.999\n",
      "INFO The mean accuracy test: 0.839\n",
      "INFO -------------------------------\n"
     ]
    },
    {
     "name": "stdout",
     "output_type": "stream",
     "text": [
      "Adjusting learning rate of group 0 to 3.4549e-03.\n"
     ]
    },
    {
     "name": "stderr",
     "output_type": "stream",
     "text": [
      "INFO Epoch 599\n",
      "INFO The mean accuracy train: 0.999\n",
      "INFO The mean accuracy test: 0.839\n",
      "INFO -------------------------------\n"
     ]
    },
    {
     "name": "stdout",
     "output_type": "stream",
     "text": [
      "Adjusting learning rate of group 0 to 3.4400e-03.\n"
     ]
    },
    {
     "name": "stderr",
     "output_type": "stream",
     "text": [
      "INFO Epoch 600\n",
      "INFO The mean accuracy train: 0.999\n",
      "INFO The mean accuracy test: 0.840\n",
      "INFO -------------------------------\n"
     ]
    },
    {
     "name": "stdout",
     "output_type": "stream",
     "text": [
      "Adjusting learning rate of group 0 to 3.4251e-03.\n"
     ]
    },
    {
     "name": "stderr",
     "output_type": "stream",
     "text": [
      "INFO Epoch 601\n",
      "INFO The mean accuracy train: 0.999\n",
      "INFO The mean accuracy test: 0.843\n",
      "INFO -------------------------------\n"
     ]
    },
    {
     "name": "stdout",
     "output_type": "stream",
     "text": [
      "Adjusting learning rate of group 0 to 3.4102e-03.\n"
     ]
    },
    {
     "name": "stderr",
     "output_type": "stream",
     "text": [
      "INFO Epoch 602\n",
      "INFO The mean accuracy train: 0.999\n",
      "INFO The mean accuracy test: 0.844\n",
      "INFO -------------------------------\n"
     ]
    },
    {
     "name": "stdout",
     "output_type": "stream",
     "text": [
      "Adjusting learning rate of group 0 to 3.3953e-03.\n"
     ]
    },
    {
     "name": "stderr",
     "output_type": "stream",
     "text": [
      "INFO Epoch 603\n",
      "INFO The mean accuracy train: 0.999\n",
      "INFO The mean accuracy test: 0.842\n",
      "INFO -------------------------------\n"
     ]
    },
    {
     "name": "stdout",
     "output_type": "stream",
     "text": [
      "Adjusting learning rate of group 0 to 3.3804e-03.\n"
     ]
    },
    {
     "name": "stderr",
     "output_type": "stream",
     "text": [
      "INFO Epoch 604\n",
      "INFO The mean accuracy train: 0.999\n",
      "INFO The mean accuracy test: 0.841\n",
      "INFO -------------------------------\n"
     ]
    },
    {
     "name": "stdout",
     "output_type": "stream",
     "text": [
      "Adjusting learning rate of group 0 to 3.3656e-03.\n"
     ]
    },
    {
     "name": "stderr",
     "output_type": "stream",
     "text": [
      "INFO Epoch 605\n",
      "INFO The mean accuracy train: 0.999\n",
      "INFO The mean accuracy test: 0.842\n",
      "INFO -------------------------------\n"
     ]
    },
    {
     "name": "stdout",
     "output_type": "stream",
     "text": [
      "Adjusting learning rate of group 0 to 3.3507e-03.\n"
     ]
    },
    {
     "name": "stderr",
     "output_type": "stream",
     "text": [
      "INFO Epoch 606\n",
      "INFO The mean accuracy train: 0.999\n",
      "INFO The mean accuracy test: 0.842\n",
      "INFO -------------------------------\n"
     ]
    },
    {
     "name": "stdout",
     "output_type": "stream",
     "text": [
      "Adjusting learning rate of group 0 to 3.3359e-03.\n"
     ]
    },
    {
     "name": "stderr",
     "output_type": "stream",
     "text": [
      "INFO Epoch 607\n",
      "INFO The mean accuracy train: 0.999\n",
      "INFO The mean accuracy test: 0.843\n",
      "INFO -------------------------------\n"
     ]
    },
    {
     "name": "stdout",
     "output_type": "stream",
     "text": [
      "Adjusting learning rate of group 0 to 3.3211e-03.\n"
     ]
    },
    {
     "name": "stderr",
     "output_type": "stream",
     "text": [
      "INFO Epoch 608\n",
      "INFO The mean accuracy train: 0.999\n",
      "INFO The mean accuracy test: 0.842\n",
      "INFO -------------------------------\n"
     ]
    },
    {
     "name": "stdout",
     "output_type": "stream",
     "text": [
      "Adjusting learning rate of group 0 to 3.3063e-03.\n"
     ]
    },
    {
     "name": "stderr",
     "output_type": "stream",
     "text": [
      "INFO Epoch 609\n",
      "INFO The mean accuracy train: 0.999\n",
      "INFO The mean accuracy test: 0.842\n",
      "INFO -------------------------------\n"
     ]
    },
    {
     "name": "stdout",
     "output_type": "stream",
     "text": [
      "Adjusting learning rate of group 0 to 3.2915e-03.\n"
     ]
    },
    {
     "name": "stderr",
     "output_type": "stream",
     "text": [
      "INFO Epoch 610\n",
      "INFO The mean accuracy train: 0.999\n",
      "INFO The mean accuracy test: 0.840\n",
      "INFO -------------------------------\n"
     ]
    },
    {
     "name": "stdout",
     "output_type": "stream",
     "text": [
      "Adjusting learning rate of group 0 to 3.2768e-03.\n"
     ]
    },
    {
     "name": "stderr",
     "output_type": "stream",
     "text": [
      "INFO Epoch 611\n",
      "INFO The mean accuracy train: 0.999\n",
      "INFO The mean accuracy test: 0.839\n",
      "INFO -------------------------------\n"
     ]
    },
    {
     "name": "stdout",
     "output_type": "stream",
     "text": [
      "Adjusting learning rate of group 0 to 3.2620e-03.\n"
     ]
    },
    {
     "name": "stderr",
     "output_type": "stream",
     "text": [
      "INFO Epoch 612\n",
      "INFO The mean accuracy train: 0.999\n",
      "INFO The mean accuracy test: 0.840\n",
      "INFO -------------------------------\n"
     ]
    },
    {
     "name": "stdout",
     "output_type": "stream",
     "text": [
      "Adjusting learning rate of group 0 to 3.2473e-03.\n"
     ]
    },
    {
     "name": "stderr",
     "output_type": "stream",
     "text": [
      "INFO Epoch 613\n",
      "INFO The mean accuracy train: 0.999\n",
      "INFO The mean accuracy test: 0.840\n",
      "INFO -------------------------------\n"
     ]
    },
    {
     "name": "stdout",
     "output_type": "stream",
     "text": [
      "Adjusting learning rate of group 0 to 3.2326e-03.\n"
     ]
    },
    {
     "name": "stderr",
     "output_type": "stream",
     "text": [
      "INFO Epoch 614\n",
      "INFO The mean accuracy train: 0.999\n",
      "INFO The mean accuracy test: 0.843\n",
      "INFO -------------------------------\n"
     ]
    },
    {
     "name": "stdout",
     "output_type": "stream",
     "text": [
      "Adjusting learning rate of group 0 to 3.2179e-03.\n"
     ]
    },
    {
     "name": "stderr",
     "output_type": "stream",
     "text": [
      "INFO Epoch 615\n",
      "INFO The mean accuracy train: 0.999\n",
      "INFO The mean accuracy test: 0.840\n",
      "INFO -------------------------------\n"
     ]
    },
    {
     "name": "stdout",
     "output_type": "stream",
     "text": [
      "Adjusting learning rate of group 0 to 3.2033e-03.\n"
     ]
    },
    {
     "name": "stderr",
     "output_type": "stream",
     "text": [
      "INFO Epoch 616\n",
      "INFO The mean accuracy train: 0.999\n",
      "INFO The mean accuracy test: 0.843\n",
      "INFO -------------------------------\n"
     ]
    },
    {
     "name": "stdout",
     "output_type": "stream",
     "text": [
      "Adjusting learning rate of group 0 to 3.1886e-03.\n"
     ]
    },
    {
     "name": "stderr",
     "output_type": "stream",
     "text": [
      "INFO Epoch 617\n",
      "INFO The mean accuracy train: 0.999\n",
      "INFO The mean accuracy test: 0.843\n",
      "INFO -------------------------------\n"
     ]
    },
    {
     "name": "stdout",
     "output_type": "stream",
     "text": [
      "Adjusting learning rate of group 0 to 3.1740e-03.\n"
     ]
    },
    {
     "name": "stderr",
     "output_type": "stream",
     "text": [
      "INFO Epoch 618\n",
      "INFO The mean accuracy train: 0.999\n",
      "INFO The mean accuracy test: 0.841\n",
      "INFO -------------------------------\n"
     ]
    },
    {
     "name": "stdout",
     "output_type": "stream",
     "text": [
      "Adjusting learning rate of group 0 to 3.1594e-03.\n"
     ]
    },
    {
     "name": "stderr",
     "output_type": "stream",
     "text": [
      "INFO Epoch 619\n",
      "INFO The mean accuracy train: 0.999\n",
      "INFO The mean accuracy test: 0.841\n",
      "INFO -------------------------------\n"
     ]
    },
    {
     "name": "stdout",
     "output_type": "stream",
     "text": [
      "Adjusting learning rate of group 0 to 3.1448e-03.\n"
     ]
    },
    {
     "name": "stderr",
     "output_type": "stream",
     "text": [
      "INFO Epoch 620\n",
      "INFO The mean accuracy train: 0.999\n",
      "INFO The mean accuracy test: 0.841\n",
      "INFO -------------------------------\n"
     ]
    },
    {
     "name": "stdout",
     "output_type": "stream",
     "text": [
      "Adjusting learning rate of group 0 to 3.1302e-03.\n"
     ]
    },
    {
     "name": "stderr",
     "output_type": "stream",
     "text": [
      "INFO Epoch 621\n",
      "INFO The mean accuracy train: 0.999\n",
      "INFO The mean accuracy test: 0.843\n",
      "INFO -------------------------------\n"
     ]
    },
    {
     "name": "stdout",
     "output_type": "stream",
     "text": [
      "Adjusting learning rate of group 0 to 3.1156e-03.\n"
     ]
    },
    {
     "name": "stderr",
     "output_type": "stream",
     "text": [
      "INFO Epoch 622\n",
      "INFO The mean accuracy train: 0.999\n",
      "INFO The mean accuracy test: 0.840\n",
      "INFO -------------------------------\n"
     ]
    },
    {
     "name": "stdout",
     "output_type": "stream",
     "text": [
      "Adjusting learning rate of group 0 to 3.1011e-03.\n"
     ]
    },
    {
     "name": "stderr",
     "output_type": "stream",
     "text": [
      "INFO Epoch 623\n",
      "INFO The mean accuracy train: 0.999\n",
      "INFO The mean accuracy test: 0.841\n",
      "INFO -------------------------------\n"
     ]
    },
    {
     "name": "stdout",
     "output_type": "stream",
     "text": [
      "Adjusting learning rate of group 0 to 3.0866e-03.\n"
     ]
    },
    {
     "name": "stderr",
     "output_type": "stream",
     "text": [
      "INFO Epoch 624\n",
      "INFO The mean accuracy train: 0.999\n",
      "INFO The mean accuracy test: 0.843\n",
      "INFO -------------------------------\n"
     ]
    },
    {
     "name": "stdout",
     "output_type": "stream",
     "text": [
      "Adjusting learning rate of group 0 to 3.0721e-03.\n"
     ]
    },
    {
     "name": "stderr",
     "output_type": "stream",
     "text": [
      "INFO Epoch 625\n",
      "INFO The mean accuracy train: 0.999\n",
      "INFO The mean accuracy test: 0.841\n",
      "INFO -------------------------------\n"
     ]
    },
    {
     "name": "stdout",
     "output_type": "stream",
     "text": [
      "Adjusting learning rate of group 0 to 3.0576e-03.\n"
     ]
    },
    {
     "name": "stderr",
     "output_type": "stream",
     "text": [
      "INFO Epoch 626\n",
      "INFO The mean accuracy train: 0.999\n",
      "INFO The mean accuracy test: 0.840\n",
      "INFO -------------------------------\n"
     ]
    },
    {
     "name": "stdout",
     "output_type": "stream",
     "text": [
      "Adjusting learning rate of group 0 to 3.0431e-03.\n"
     ]
    },
    {
     "name": "stderr",
     "output_type": "stream",
     "text": [
      "INFO Epoch 627\n",
      "INFO The mean accuracy train: 0.999\n",
      "INFO The mean accuracy test: 0.841\n",
      "INFO -------------------------------\n"
     ]
    },
    {
     "name": "stdout",
     "output_type": "stream",
     "text": [
      "Adjusting learning rate of group 0 to 3.0287e-03.\n"
     ]
    },
    {
     "name": "stderr",
     "output_type": "stream",
     "text": [
      "INFO Epoch 628\n",
      "INFO The mean accuracy train: 0.999\n",
      "INFO The mean accuracy test: 0.840\n",
      "INFO -------------------------------\n"
     ]
    },
    {
     "name": "stdout",
     "output_type": "stream",
     "text": [
      "Adjusting learning rate of group 0 to 3.0143e-03.\n"
     ]
    },
    {
     "name": "stderr",
     "output_type": "stream",
     "text": [
      "INFO Epoch 629\n",
      "INFO The mean accuracy train: 0.999\n",
      "INFO The mean accuracy test: 0.839\n",
      "INFO -------------------------------\n"
     ]
    },
    {
     "name": "stdout",
     "output_type": "stream",
     "text": [
      "Adjusting learning rate of group 0 to 2.9999e-03.\n"
     ]
    },
    {
     "name": "stderr",
     "output_type": "stream",
     "text": [
      "INFO Epoch 630\n",
      "INFO The mean accuracy train: 0.999\n",
      "INFO The mean accuracy test: 0.842\n",
      "INFO -------------------------------\n"
     ]
    },
    {
     "name": "stdout",
     "output_type": "stream",
     "text": [
      "Adjusting learning rate of group 0 to 2.9855e-03.\n"
     ]
    },
    {
     "name": "stderr",
     "output_type": "stream",
     "text": [
      "INFO Epoch 631\n",
      "INFO The mean accuracy train: 0.999\n",
      "INFO The mean accuracy test: 0.843\n",
      "INFO -------------------------------\n"
     ]
    },
    {
     "name": "stdout",
     "output_type": "stream",
     "text": [
      "Adjusting learning rate of group 0 to 2.9711e-03.\n"
     ]
    },
    {
     "name": "stderr",
     "output_type": "stream",
     "text": [
      "INFO Epoch 632\n",
      "INFO The mean accuracy train: 0.999\n",
      "INFO The mean accuracy test: 0.842\n",
      "INFO -------------------------------\n"
     ]
    },
    {
     "name": "stdout",
     "output_type": "stream",
     "text": [
      "Adjusting learning rate of group 0 to 2.9568e-03.\n"
     ]
    },
    {
     "name": "stderr",
     "output_type": "stream",
     "text": [
      "INFO Epoch 633\n",
      "INFO The mean accuracy train: 0.999\n",
      "INFO The mean accuracy test: 0.842\n",
      "INFO -------------------------------\n"
     ]
    },
    {
     "name": "stdout",
     "output_type": "stream",
     "text": [
      "Adjusting learning rate of group 0 to 2.9424e-03.\n"
     ]
    },
    {
     "name": "stderr",
     "output_type": "stream",
     "text": [
      "INFO Epoch 634\n",
      "INFO The mean accuracy train: 0.999\n",
      "INFO The mean accuracy test: 0.842\n",
      "INFO -------------------------------\n"
     ]
    },
    {
     "name": "stdout",
     "output_type": "stream",
     "text": [
      "Adjusting learning rate of group 0 to 2.9281e-03.\n"
     ]
    },
    {
     "name": "stderr",
     "output_type": "stream",
     "text": [
      "INFO Epoch 635\n",
      "INFO The mean accuracy train: 0.999\n",
      "INFO The mean accuracy test: 0.843\n",
      "INFO -------------------------------\n"
     ]
    },
    {
     "name": "stdout",
     "output_type": "stream",
     "text": [
      "Adjusting learning rate of group 0 to 2.9138e-03.\n"
     ]
    },
    {
     "name": "stderr",
     "output_type": "stream",
     "text": [
      "INFO Epoch 636\n",
      "INFO The mean accuracy train: 0.999\n",
      "INFO The mean accuracy test: 0.843\n",
      "INFO -------------------------------\n"
     ]
    },
    {
     "name": "stdout",
     "output_type": "stream",
     "text": [
      "Adjusting learning rate of group 0 to 2.8996e-03.\n"
     ]
    },
    {
     "name": "stderr",
     "output_type": "stream",
     "text": [
      "INFO Epoch 637\n",
      "INFO The mean accuracy train: 0.999\n",
      "INFO The mean accuracy test: 0.842\n",
      "INFO -------------------------------\n"
     ]
    },
    {
     "name": "stdout",
     "output_type": "stream",
     "text": [
      "Adjusting learning rate of group 0 to 2.8853e-03.\n"
     ]
    },
    {
     "name": "stderr",
     "output_type": "stream",
     "text": [
      "INFO Epoch 638\n",
      "INFO The mean accuracy train: 0.999\n",
      "INFO The mean accuracy test: 0.841\n",
      "INFO -------------------------------\n"
     ]
    },
    {
     "name": "stdout",
     "output_type": "stream",
     "text": [
      "Adjusting learning rate of group 0 to 2.8711e-03.\n"
     ]
    },
    {
     "name": "stderr",
     "output_type": "stream",
     "text": [
      "INFO Epoch 639\n",
      "INFO The mean accuracy train: 0.999\n",
      "INFO The mean accuracy test: 0.840\n",
      "INFO -------------------------------\n"
     ]
    },
    {
     "name": "stdout",
     "output_type": "stream",
     "text": [
      "Adjusting learning rate of group 0 to 2.8569e-03.\n"
     ]
    },
    {
     "name": "stderr",
     "output_type": "stream",
     "text": [
      "INFO Epoch 640\n",
      "INFO The mean accuracy train: 0.999\n",
      "INFO The mean accuracy test: 0.841\n",
      "INFO -------------------------------\n"
     ]
    },
    {
     "name": "stdout",
     "output_type": "stream",
     "text": [
      "Adjusting learning rate of group 0 to 2.8427e-03.\n"
     ]
    },
    {
     "name": "stderr",
     "output_type": "stream",
     "text": [
      "INFO Epoch 641\n",
      "INFO The mean accuracy train: 0.999\n",
      "INFO The mean accuracy test: 0.841\n",
      "INFO -------------------------------\n"
     ]
    },
    {
     "name": "stdout",
     "output_type": "stream",
     "text": [
      "Adjusting learning rate of group 0 to 2.8286e-03.\n"
     ]
    },
    {
     "name": "stderr",
     "output_type": "stream",
     "text": [
      "INFO Epoch 642\n",
      "INFO The mean accuracy train: 0.999\n",
      "INFO The mean accuracy test: 0.842\n",
      "INFO -------------------------------\n"
     ]
    },
    {
     "name": "stdout",
     "output_type": "stream",
     "text": [
      "Adjusting learning rate of group 0 to 2.8144e-03.\n"
     ]
    },
    {
     "name": "stderr",
     "output_type": "stream",
     "text": [
      "INFO Epoch 643\n",
      "INFO The mean accuracy train: 0.999\n",
      "INFO The mean accuracy test: 0.842\n",
      "INFO -------------------------------\n"
     ]
    },
    {
     "name": "stdout",
     "output_type": "stream",
     "text": [
      "Adjusting learning rate of group 0 to 2.8003e-03.\n"
     ]
    },
    {
     "name": "stderr",
     "output_type": "stream",
     "text": [
      "INFO Epoch 644\n",
      "INFO The mean accuracy train: 0.999\n",
      "INFO The mean accuracy test: 0.841\n",
      "INFO -------------------------------\n"
     ]
    },
    {
     "name": "stdout",
     "output_type": "stream",
     "text": [
      "Adjusting learning rate of group 0 to 2.7862e-03.\n"
     ]
    },
    {
     "name": "stderr",
     "output_type": "stream",
     "text": [
      "INFO Epoch 645\n",
      "INFO The mean accuracy train: 0.999\n",
      "INFO The mean accuracy test: 0.840\n",
      "INFO -------------------------------\n"
     ]
    },
    {
     "name": "stdout",
     "output_type": "stream",
     "text": [
      "Adjusting learning rate of group 0 to 2.7721e-03.\n"
     ]
    },
    {
     "name": "stderr",
     "output_type": "stream",
     "text": [
      "INFO Epoch 646\n",
      "INFO The mean accuracy train: 0.999\n",
      "INFO The mean accuracy test: 0.840\n",
      "INFO -------------------------------\n"
     ]
    },
    {
     "name": "stdout",
     "output_type": "stream",
     "text": [
      "Adjusting learning rate of group 0 to 2.7581e-03.\n"
     ]
    },
    {
     "name": "stderr",
     "output_type": "stream",
     "text": [
      "INFO Epoch 647\n",
      "INFO The mean accuracy train: 0.999\n",
      "INFO The mean accuracy test: 0.839\n",
      "INFO -------------------------------\n"
     ]
    },
    {
     "name": "stdout",
     "output_type": "stream",
     "text": [
      "Adjusting learning rate of group 0 to 2.7441e-03.\n"
     ]
    },
    {
     "name": "stderr",
     "output_type": "stream",
     "text": [
      "INFO Epoch 648\n",
      "INFO The mean accuracy train: 0.999\n",
      "INFO The mean accuracy test: 0.839\n",
      "INFO -------------------------------\n"
     ]
    },
    {
     "name": "stdout",
     "output_type": "stream",
     "text": [
      "Adjusting learning rate of group 0 to 2.7300e-03.\n"
     ]
    },
    {
     "name": "stderr",
     "output_type": "stream",
     "text": [
      "INFO Epoch 649\n",
      "INFO The mean accuracy train: 0.999\n",
      "INFO The mean accuracy test: 0.839\n",
      "INFO -------------------------------\n"
     ]
    },
    {
     "name": "stdout",
     "output_type": "stream",
     "text": [
      "Adjusting learning rate of group 0 to 2.7161e-03.\n"
     ]
    },
    {
     "name": "stderr",
     "output_type": "stream",
     "text": [
      "INFO Epoch 650\n",
      "INFO The mean accuracy train: 0.999\n",
      "INFO The mean accuracy test: 0.839\n",
      "INFO -------------------------------\n"
     ]
    },
    {
     "name": "stdout",
     "output_type": "stream",
     "text": [
      "Adjusting learning rate of group 0 to 2.7021e-03.\n"
     ]
    },
    {
     "name": "stderr",
     "output_type": "stream",
     "text": [
      "INFO Epoch 651\n",
      "INFO The mean accuracy train: 0.999\n",
      "INFO The mean accuracy test: 0.840\n",
      "INFO -------------------------------\n"
     ]
    },
    {
     "name": "stdout",
     "output_type": "stream",
     "text": [
      "Adjusting learning rate of group 0 to 2.6882e-03.\n"
     ]
    },
    {
     "name": "stderr",
     "output_type": "stream",
     "text": [
      "INFO Epoch 652\n",
      "INFO The mean accuracy train: 0.999\n",
      "INFO The mean accuracy test: 0.839\n",
      "INFO -------------------------------\n"
     ]
    },
    {
     "name": "stdout",
     "output_type": "stream",
     "text": [
      "Adjusting learning rate of group 0 to 2.6742e-03.\n"
     ]
    },
    {
     "name": "stderr",
     "output_type": "stream",
     "text": [
      "INFO Epoch 653\n",
      "INFO The mean accuracy train: 0.999\n",
      "INFO The mean accuracy test: 0.841\n",
      "INFO -------------------------------\n"
     ]
    },
    {
     "name": "stdout",
     "output_type": "stream",
     "text": [
      "Adjusting learning rate of group 0 to 2.6604e-03.\n"
     ]
    },
    {
     "name": "stderr",
     "output_type": "stream",
     "text": [
      "INFO Epoch 654\n",
      "INFO The mean accuracy train: 0.999\n",
      "INFO The mean accuracy test: 0.841\n",
      "INFO -------------------------------\n"
     ]
    },
    {
     "name": "stdout",
     "output_type": "stream",
     "text": [
      "Adjusting learning rate of group 0 to 2.6465e-03.\n"
     ]
    },
    {
     "name": "stderr",
     "output_type": "stream",
     "text": [
      "INFO Epoch 655\n",
      "INFO The mean accuracy train: 0.999\n",
      "INFO The mean accuracy test: 0.840\n",
      "INFO -------------------------------\n"
     ]
    },
    {
     "name": "stdout",
     "output_type": "stream",
     "text": [
      "Adjusting learning rate of group 0 to 2.6326e-03.\n"
     ]
    },
    {
     "name": "stderr",
     "output_type": "stream",
     "text": [
      "INFO Epoch 656\n",
      "INFO The mean accuracy train: 0.999\n",
      "INFO The mean accuracy test: 0.841\n",
      "INFO -------------------------------\n"
     ]
    },
    {
     "name": "stdout",
     "output_type": "stream",
     "text": [
      "Adjusting learning rate of group 0 to 2.6188e-03.\n"
     ]
    },
    {
     "name": "stderr",
     "output_type": "stream",
     "text": [
      "INFO Epoch 657\n",
      "INFO The mean accuracy train: 0.999\n",
      "INFO The mean accuracy test: 0.840\n",
      "INFO -------------------------------\n"
     ]
    },
    {
     "name": "stdout",
     "output_type": "stream",
     "text": [
      "Adjusting learning rate of group 0 to 2.6050e-03.\n"
     ]
    },
    {
     "name": "stderr",
     "output_type": "stream",
     "text": [
      "INFO Epoch 658\n",
      "INFO The mean accuracy train: 0.999\n",
      "INFO The mean accuracy test: 0.841\n",
      "INFO -------------------------------\n"
     ]
    },
    {
     "name": "stdout",
     "output_type": "stream",
     "text": [
      "Adjusting learning rate of group 0 to 2.5912e-03.\n"
     ]
    },
    {
     "name": "stderr",
     "output_type": "stream",
     "text": [
      "INFO Epoch 659\n",
      "INFO The mean accuracy train: 0.999\n",
      "INFO The mean accuracy test: 0.839\n",
      "INFO -------------------------------\n"
     ]
    },
    {
     "name": "stdout",
     "output_type": "stream",
     "text": [
      "Adjusting learning rate of group 0 to 2.5775e-03.\n"
     ]
    },
    {
     "name": "stderr",
     "output_type": "stream",
     "text": [
      "INFO Epoch 660\n",
      "INFO The mean accuracy train: 0.999\n",
      "INFO The mean accuracy test: 0.840\n",
      "INFO -------------------------------\n"
     ]
    },
    {
     "name": "stdout",
     "output_type": "stream",
     "text": [
      "Adjusting learning rate of group 0 to 2.5637e-03.\n"
     ]
    },
    {
     "name": "stderr",
     "output_type": "stream",
     "text": [
      "INFO Epoch 661\n",
      "INFO The mean accuracy train: 0.999\n",
      "INFO The mean accuracy test: 0.841\n",
      "INFO -------------------------------\n"
     ]
    },
    {
     "name": "stdout",
     "output_type": "stream",
     "text": [
      "Adjusting learning rate of group 0 to 2.5500e-03.\n"
     ]
    },
    {
     "name": "stderr",
     "output_type": "stream",
     "text": [
      "INFO Epoch 662\n",
      "INFO The mean accuracy train: 0.999\n",
      "INFO The mean accuracy test: 0.842\n",
      "INFO -------------------------------\n"
     ]
    },
    {
     "name": "stdout",
     "output_type": "stream",
     "text": [
      "Adjusting learning rate of group 0 to 2.5364e-03.\n"
     ]
    },
    {
     "name": "stderr",
     "output_type": "stream",
     "text": [
      "INFO Epoch 663\n",
      "INFO The mean accuracy train: 0.999\n",
      "INFO The mean accuracy test: 0.840\n",
      "INFO -------------------------------\n"
     ]
    },
    {
     "name": "stdout",
     "output_type": "stream",
     "text": [
      "Adjusting learning rate of group 0 to 2.5227e-03.\n"
     ]
    },
    {
     "name": "stderr",
     "output_type": "stream",
     "text": [
      "INFO Epoch 664\n",
      "INFO The mean accuracy train: 0.999\n",
      "INFO The mean accuracy test: 0.840\n",
      "INFO -------------------------------\n"
     ]
    },
    {
     "name": "stdout",
     "output_type": "stream",
     "text": [
      "Adjusting learning rate of group 0 to 2.5091e-03.\n"
     ]
    },
    {
     "name": "stderr",
     "output_type": "stream",
     "text": [
      "INFO Epoch 665\n",
      "INFO The mean accuracy train: 0.999\n",
      "INFO The mean accuracy test: 0.842\n",
      "INFO -------------------------------\n"
     ]
    },
    {
     "name": "stdout",
     "output_type": "stream",
     "text": [
      "Adjusting learning rate of group 0 to 2.4955e-03.\n"
     ]
    },
    {
     "name": "stderr",
     "output_type": "stream",
     "text": [
      "INFO Epoch 666\n",
      "INFO The mean accuracy train: 0.999\n",
      "INFO The mean accuracy test: 0.842\n",
      "INFO -------------------------------\n"
     ]
    },
    {
     "name": "stdout",
     "output_type": "stream",
     "text": [
      "Adjusting learning rate of group 0 to 2.4819e-03.\n"
     ]
    },
    {
     "name": "stderr",
     "output_type": "stream",
     "text": [
      "INFO Epoch 667\n",
      "INFO The mean accuracy train: 0.999\n",
      "INFO The mean accuracy test: 0.842\n",
      "INFO -------------------------------\n"
     ]
    },
    {
     "name": "stdout",
     "output_type": "stream",
     "text": [
      "Adjusting learning rate of group 0 to 2.4683e-03.\n"
     ]
    },
    {
     "name": "stderr",
     "output_type": "stream",
     "text": [
      "INFO Epoch 668\n",
      "INFO The mean accuracy train: 0.999\n",
      "INFO The mean accuracy test: 0.842\n",
      "INFO -------------------------------\n"
     ]
    },
    {
     "name": "stdout",
     "output_type": "stream",
     "text": [
      "Adjusting learning rate of group 0 to 2.4548e-03.\n"
     ]
    },
    {
     "name": "stderr",
     "output_type": "stream",
     "text": [
      "INFO Epoch 669\n",
      "INFO The mean accuracy train: 0.999\n",
      "INFO The mean accuracy test: 0.841\n",
      "INFO -------------------------------\n"
     ]
    },
    {
     "name": "stdout",
     "output_type": "stream",
     "text": [
      "Adjusting learning rate of group 0 to 2.4413e-03.\n"
     ]
    },
    {
     "name": "stderr",
     "output_type": "stream",
     "text": [
      "INFO Epoch 670\n",
      "INFO The mean accuracy train: 0.999\n",
      "INFO The mean accuracy test: 0.841\n",
      "INFO -------------------------------\n"
     ]
    },
    {
     "name": "stdout",
     "output_type": "stream",
     "text": [
      "Adjusting learning rate of group 0 to 2.4278e-03.\n"
     ]
    },
    {
     "name": "stderr",
     "output_type": "stream",
     "text": [
      "INFO Epoch 671\n",
      "INFO The mean accuracy train: 0.999\n",
      "INFO The mean accuracy test: 0.840\n",
      "INFO -------------------------------\n"
     ]
    },
    {
     "name": "stdout",
     "output_type": "stream",
     "text": [
      "Adjusting learning rate of group 0 to 2.4143e-03.\n"
     ]
    },
    {
     "name": "stderr",
     "output_type": "stream",
     "text": [
      "INFO Epoch 672\n",
      "INFO The mean accuracy train: 0.999\n",
      "INFO The mean accuracy test: 0.841\n",
      "INFO -------------------------------\n"
     ]
    },
    {
     "name": "stdout",
     "output_type": "stream",
     "text": [
      "Adjusting learning rate of group 0 to 2.4009e-03.\n"
     ]
    },
    {
     "name": "stderr",
     "output_type": "stream",
     "text": [
      "INFO Epoch 673\n",
      "INFO The mean accuracy train: 0.999\n",
      "INFO The mean accuracy test: 0.841\n",
      "INFO -------------------------------\n"
     ]
    },
    {
     "name": "stdout",
     "output_type": "stream",
     "text": [
      "Adjusting learning rate of group 0 to 2.3875e-03.\n"
     ]
    },
    {
     "name": "stderr",
     "output_type": "stream",
     "text": [
      "INFO Epoch 674\n",
      "INFO The mean accuracy train: 0.999\n",
      "INFO The mean accuracy test: 0.841\n",
      "INFO -------------------------------\n"
     ]
    },
    {
     "name": "stdout",
     "output_type": "stream",
     "text": [
      "Adjusting learning rate of group 0 to 2.3741e-03.\n"
     ]
    },
    {
     "name": "stderr",
     "output_type": "stream",
     "text": [
      "INFO Epoch 675\n",
      "INFO The mean accuracy train: 0.999\n",
      "INFO The mean accuracy test: 0.843\n",
      "INFO -------------------------------\n"
     ]
    },
    {
     "name": "stdout",
     "output_type": "stream",
     "text": [
      "Adjusting learning rate of group 0 to 2.3608e-03.\n"
     ]
    },
    {
     "name": "stderr",
     "output_type": "stream",
     "text": [
      "INFO Epoch 676\n",
      "INFO The mean accuracy train: 0.999\n",
      "INFO The mean accuracy test: 0.843\n",
      "INFO -------------------------------\n"
     ]
    },
    {
     "name": "stdout",
     "output_type": "stream",
     "text": [
      "Adjusting learning rate of group 0 to 2.3474e-03.\n"
     ]
    },
    {
     "name": "stderr",
     "output_type": "stream",
     "text": [
      "INFO Epoch 677\n",
      "INFO The mean accuracy train: 0.999\n",
      "INFO The mean accuracy test: 0.845\n",
      "INFO -------------------------------\n"
     ]
    },
    {
     "name": "stdout",
     "output_type": "stream",
     "text": [
      "Adjusting learning rate of group 0 to 2.3341e-03.\n"
     ]
    },
    {
     "name": "stderr",
     "output_type": "stream",
     "text": [
      "INFO Epoch 678\n",
      "INFO The mean accuracy train: 0.999\n",
      "INFO The mean accuracy test: 0.844\n",
      "INFO -------------------------------\n"
     ]
    },
    {
     "name": "stdout",
     "output_type": "stream",
     "text": [
      "Adjusting learning rate of group 0 to 2.3209e-03.\n"
     ]
    },
    {
     "name": "stderr",
     "output_type": "stream",
     "text": [
      "INFO Epoch 679\n",
      "INFO The mean accuracy train: 0.999\n",
      "INFO The mean accuracy test: 0.843\n",
      "INFO -------------------------------\n"
     ]
    },
    {
     "name": "stdout",
     "output_type": "stream",
     "text": [
      "Adjusting learning rate of group 0 to 2.3076e-03.\n"
     ]
    },
    {
     "name": "stderr",
     "output_type": "stream",
     "text": [
      "INFO Epoch 680\n",
      "INFO The mean accuracy train: 0.999\n",
      "INFO The mean accuracy test: 0.843\n",
      "INFO -------------------------------\n"
     ]
    },
    {
     "name": "stdout",
     "output_type": "stream",
     "text": [
      "Adjusting learning rate of group 0 to 2.2944e-03.\n"
     ]
    },
    {
     "name": "stderr",
     "output_type": "stream",
     "text": [
      "INFO Epoch 681\n",
      "INFO The mean accuracy train: 0.999\n",
      "INFO The mean accuracy test: 0.842\n",
      "INFO -------------------------------\n"
     ]
    },
    {
     "name": "stdout",
     "output_type": "stream",
     "text": [
      "Adjusting learning rate of group 0 to 2.2812e-03.\n"
     ]
    },
    {
     "name": "stderr",
     "output_type": "stream",
     "text": [
      "INFO Epoch 682\n",
      "INFO The mean accuracy train: 0.999\n",
      "INFO The mean accuracy test: 0.841\n",
      "INFO -------------------------------\n"
     ]
    },
    {
     "name": "stdout",
     "output_type": "stream",
     "text": [
      "Adjusting learning rate of group 0 to 2.2680e-03.\n"
     ]
    },
    {
     "name": "stderr",
     "output_type": "stream",
     "text": [
      "INFO Epoch 683\n",
      "INFO The mean accuracy train: 0.999\n",
      "INFO The mean accuracy test: 0.842\n",
      "INFO -------------------------------\n"
     ]
    },
    {
     "name": "stdout",
     "output_type": "stream",
     "text": [
      "Adjusting learning rate of group 0 to 2.2549e-03.\n"
     ]
    },
    {
     "name": "stderr",
     "output_type": "stream",
     "text": [
      "INFO Epoch 684\n",
      "INFO The mean accuracy train: 0.999\n",
      "INFO The mean accuracy test: 0.844\n",
      "INFO -------------------------------\n"
     ]
    },
    {
     "name": "stdout",
     "output_type": "stream",
     "text": [
      "Adjusting learning rate of group 0 to 2.2418e-03.\n"
     ]
    },
    {
     "name": "stderr",
     "output_type": "stream",
     "text": [
      "INFO Epoch 685\n",
      "INFO The mean accuracy train: 0.999\n",
      "INFO The mean accuracy test: 0.843\n",
      "INFO -------------------------------\n"
     ]
    },
    {
     "name": "stdout",
     "output_type": "stream",
     "text": [
      "Adjusting learning rate of group 0 to 2.2287e-03.\n"
     ]
    },
    {
     "name": "stderr",
     "output_type": "stream",
     "text": [
      "INFO Epoch 686\n",
      "INFO The mean accuracy train: 0.999\n",
      "INFO The mean accuracy test: 0.842\n",
      "INFO -------------------------------\n"
     ]
    },
    {
     "name": "stdout",
     "output_type": "stream",
     "text": [
      "Adjusting learning rate of group 0 to 2.2156e-03.\n"
     ]
    },
    {
     "name": "stderr",
     "output_type": "stream",
     "text": [
      "INFO Epoch 687\n",
      "INFO The mean accuracy train: 0.999\n",
      "INFO The mean accuracy test: 0.843\n",
      "INFO -------------------------------\n"
     ]
    },
    {
     "name": "stdout",
     "output_type": "stream",
     "text": [
      "Adjusting learning rate of group 0 to 2.2026e-03.\n"
     ]
    },
    {
     "name": "stderr",
     "output_type": "stream",
     "text": [
      "INFO Epoch 688\n",
      "INFO The mean accuracy train: 0.999\n",
      "INFO The mean accuracy test: 0.843\n",
      "INFO -------------------------------\n"
     ]
    },
    {
     "name": "stdout",
     "output_type": "stream",
     "text": [
      "Adjusting learning rate of group 0 to 2.1896e-03.\n"
     ]
    },
    {
     "name": "stderr",
     "output_type": "stream",
     "text": [
      "INFO Epoch 689\n",
      "INFO The mean accuracy train: 0.999\n",
      "INFO The mean accuracy test: 0.843\n",
      "INFO -------------------------------\n"
     ]
    },
    {
     "name": "stdout",
     "output_type": "stream",
     "text": [
      "Adjusting learning rate of group 0 to 2.1766e-03.\n"
     ]
    },
    {
     "name": "stderr",
     "output_type": "stream",
     "text": [
      "INFO Epoch 690\n",
      "INFO The mean accuracy train: 0.999\n",
      "INFO The mean accuracy test: 0.843\n",
      "INFO -------------------------------\n"
     ]
    },
    {
     "name": "stdout",
     "output_type": "stream",
     "text": [
      "Adjusting learning rate of group 0 to 2.1637e-03.\n"
     ]
    },
    {
     "name": "stderr",
     "output_type": "stream",
     "text": [
      "INFO Epoch 691\n",
      "INFO The mean accuracy train: 0.999\n",
      "INFO The mean accuracy test: 0.844\n",
      "INFO -------------------------------\n"
     ]
    },
    {
     "name": "stdout",
     "output_type": "stream",
     "text": [
      "Adjusting learning rate of group 0 to 2.1507e-03.\n"
     ]
    },
    {
     "name": "stderr",
     "output_type": "stream",
     "text": [
      "INFO Epoch 692\n",
      "INFO The mean accuracy train: 0.999\n",
      "INFO The mean accuracy test: 0.843\n",
      "INFO -------------------------------\n"
     ]
    },
    {
     "name": "stdout",
     "output_type": "stream",
     "text": [
      "Adjusting learning rate of group 0 to 2.1378e-03.\n"
     ]
    },
    {
     "name": "stderr",
     "output_type": "stream",
     "text": [
      "INFO Epoch 693\n",
      "INFO The mean accuracy train: 0.999\n",
      "INFO The mean accuracy test: 0.841\n",
      "INFO -------------------------------\n"
     ]
    },
    {
     "name": "stdout",
     "output_type": "stream",
     "text": [
      "Adjusting learning rate of group 0 to 2.1250e-03.\n"
     ]
    },
    {
     "name": "stderr",
     "output_type": "stream",
     "text": [
      "INFO Epoch 694\n",
      "INFO The mean accuracy train: 0.999\n",
      "INFO The mean accuracy test: 0.841\n",
      "INFO -------------------------------\n"
     ]
    },
    {
     "name": "stdout",
     "output_type": "stream",
     "text": [
      "Adjusting learning rate of group 0 to 2.1121e-03.\n"
     ]
    },
    {
     "name": "stderr",
     "output_type": "stream",
     "text": [
      "INFO Epoch 695\n",
      "INFO The mean accuracy train: 0.999\n",
      "INFO The mean accuracy test: 0.842\n",
      "INFO -------------------------------\n"
     ]
    },
    {
     "name": "stdout",
     "output_type": "stream",
     "text": [
      "Adjusting learning rate of group 0 to 2.0993e-03.\n"
     ]
    },
    {
     "name": "stderr",
     "output_type": "stream",
     "text": [
      "INFO Epoch 696\n",
      "INFO The mean accuracy train: 0.999\n",
      "INFO The mean accuracy test: 0.842\n",
      "INFO -------------------------------\n"
     ]
    },
    {
     "name": "stdout",
     "output_type": "stream",
     "text": [
      "Adjusting learning rate of group 0 to 2.0865e-03.\n"
     ]
    },
    {
     "name": "stderr",
     "output_type": "stream",
     "text": [
      "INFO Epoch 697\n",
      "INFO The mean accuracy train: 0.999\n",
      "INFO The mean accuracy test: 0.843\n",
      "INFO -------------------------------\n"
     ]
    },
    {
     "name": "stdout",
     "output_type": "stream",
     "text": [
      "Adjusting learning rate of group 0 to 2.0738e-03.\n"
     ]
    },
    {
     "name": "stderr",
     "output_type": "stream",
     "text": [
      "INFO Epoch 698\n",
      "INFO The mean accuracy train: 0.999\n",
      "INFO The mean accuracy test: 0.843\n",
      "INFO -------------------------------\n"
     ]
    },
    {
     "name": "stdout",
     "output_type": "stream",
     "text": [
      "Adjusting learning rate of group 0 to 2.0611e-03.\n"
     ]
    },
    {
     "name": "stderr",
     "output_type": "stream",
     "text": [
      "INFO Epoch 699\n",
      "INFO The mean accuracy train: 0.999\n",
      "INFO The mean accuracy test: 0.843\n",
      "INFO -------------------------------\n"
     ]
    },
    {
     "name": "stdout",
     "output_type": "stream",
     "text": [
      "Adjusting learning rate of group 0 to 2.0484e-03.\n"
     ]
    },
    {
     "name": "stderr",
     "output_type": "stream",
     "text": [
      "INFO Epoch 700\n",
      "INFO The mean accuracy train: 0.999\n",
      "INFO The mean accuracy test: 0.842\n",
      "INFO -------------------------------\n"
     ]
    },
    {
     "name": "stdout",
     "output_type": "stream",
     "text": [
      "Adjusting learning rate of group 0 to 2.0357e-03.\n"
     ]
    },
    {
     "name": "stderr",
     "output_type": "stream",
     "text": [
      "INFO Epoch 701\n",
      "INFO The mean accuracy train: 0.999\n",
      "INFO The mean accuracy test: 0.844\n",
      "INFO -------------------------------\n"
     ]
    },
    {
     "name": "stdout",
     "output_type": "stream",
     "text": [
      "Adjusting learning rate of group 0 to 2.0231e-03.\n"
     ]
    },
    {
     "name": "stderr",
     "output_type": "stream",
     "text": [
      "INFO Epoch 702\n",
      "INFO The mean accuracy train: 0.999\n",
      "INFO The mean accuracy test: 0.843\n",
      "INFO -------------------------------\n"
     ]
    },
    {
     "name": "stdout",
     "output_type": "stream",
     "text": [
      "Adjusting learning rate of group 0 to 2.0105e-03.\n"
     ]
    },
    {
     "name": "stderr",
     "output_type": "stream",
     "text": [
      "INFO Epoch 703\n",
      "INFO The mean accuracy train: 0.999\n",
      "INFO The mean accuracy test: 0.843\n",
      "INFO -------------------------------\n"
     ]
    },
    {
     "name": "stdout",
     "output_type": "stream",
     "text": [
      "Adjusting learning rate of group 0 to 1.9979e-03.\n"
     ]
    },
    {
     "name": "stderr",
     "output_type": "stream",
     "text": [
      "INFO Epoch 704\n",
      "INFO The mean accuracy train: 0.999\n",
      "INFO The mean accuracy test: 0.843\n",
      "INFO -------------------------------\n"
     ]
    },
    {
     "name": "stdout",
     "output_type": "stream",
     "text": [
      "Adjusting learning rate of group 0 to 1.9854e-03.\n"
     ]
    },
    {
     "name": "stderr",
     "output_type": "stream",
     "text": [
      "INFO Epoch 705\n",
      "INFO The mean accuracy train: 0.999\n",
      "INFO The mean accuracy test: 0.843\n",
      "INFO -------------------------------\n"
     ]
    },
    {
     "name": "stdout",
     "output_type": "stream",
     "text": [
      "Adjusting learning rate of group 0 to 1.9728e-03.\n"
     ]
    },
    {
     "name": "stderr",
     "output_type": "stream",
     "text": [
      "INFO Epoch 706\n",
      "INFO The mean accuracy train: 0.999\n",
      "INFO The mean accuracy test: 0.842\n",
      "INFO -------------------------------\n"
     ]
    },
    {
     "name": "stdout",
     "output_type": "stream",
     "text": [
      "Adjusting learning rate of group 0 to 1.9603e-03.\n"
     ]
    },
    {
     "name": "stderr",
     "output_type": "stream",
     "text": [
      "INFO Epoch 707\n",
      "INFO The mean accuracy train: 0.999\n",
      "INFO The mean accuracy test: 0.843\n",
      "INFO -------------------------------\n"
     ]
    },
    {
     "name": "stdout",
     "output_type": "stream",
     "text": [
      "Adjusting learning rate of group 0 to 1.9479e-03.\n"
     ]
    },
    {
     "name": "stderr",
     "output_type": "stream",
     "text": [
      "INFO Epoch 708\n",
      "INFO The mean accuracy train: 0.999\n",
      "INFO The mean accuracy test: 0.841\n",
      "INFO -------------------------------\n"
     ]
    },
    {
     "name": "stdout",
     "output_type": "stream",
     "text": [
      "Adjusting learning rate of group 0 to 1.9355e-03.\n"
     ]
    },
    {
     "name": "stderr",
     "output_type": "stream",
     "text": [
      "INFO Epoch 709\n",
      "INFO The mean accuracy train: 0.999\n",
      "INFO The mean accuracy test: 0.841\n",
      "INFO -------------------------------\n"
     ]
    },
    {
     "name": "stdout",
     "output_type": "stream",
     "text": [
      "Adjusting learning rate of group 0 to 1.9231e-03.\n"
     ]
    },
    {
     "name": "stderr",
     "output_type": "stream",
     "text": [
      "INFO Epoch 710\n",
      "INFO The mean accuracy train: 0.999\n",
      "INFO The mean accuracy test: 0.840\n",
      "INFO -------------------------------\n"
     ]
    },
    {
     "name": "stdout",
     "output_type": "stream",
     "text": [
      "Adjusting learning rate of group 0 to 1.9107e-03.\n"
     ]
    },
    {
     "name": "stderr",
     "output_type": "stream",
     "text": [
      "INFO Epoch 711\n",
      "INFO The mean accuracy train: 0.999\n",
      "INFO The mean accuracy test: 0.840\n",
      "INFO -------------------------------\n"
     ]
    },
    {
     "name": "stdout",
     "output_type": "stream",
     "text": [
      "Adjusting learning rate of group 0 to 1.8984e-03.\n"
     ]
    },
    {
     "name": "stderr",
     "output_type": "stream",
     "text": [
      "INFO Epoch 712\n",
      "INFO The mean accuracy train: 0.999\n",
      "INFO The mean accuracy test: 0.841\n",
      "INFO -------------------------------\n"
     ]
    },
    {
     "name": "stdout",
     "output_type": "stream",
     "text": [
      "Adjusting learning rate of group 0 to 1.8861e-03.\n"
     ]
    },
    {
     "name": "stderr",
     "output_type": "stream",
     "text": [
      "INFO Epoch 713\n",
      "INFO The mean accuracy train: 0.999\n",
      "INFO The mean accuracy test: 0.839\n",
      "INFO -------------------------------\n"
     ]
    },
    {
     "name": "stdout",
     "output_type": "stream",
     "text": [
      "Adjusting learning rate of group 0 to 1.8738e-03.\n"
     ]
    },
    {
     "name": "stderr",
     "output_type": "stream",
     "text": [
      "INFO Epoch 714\n",
      "INFO The mean accuracy train: 0.999\n",
      "INFO The mean accuracy test: 0.840\n",
      "INFO -------------------------------\n"
     ]
    },
    {
     "name": "stdout",
     "output_type": "stream",
     "text": [
      "Adjusting learning rate of group 0 to 1.8615e-03.\n"
     ]
    },
    {
     "name": "stderr",
     "output_type": "stream",
     "text": [
      "INFO Epoch 715\n",
      "INFO The mean accuracy train: 0.999\n",
      "INFO The mean accuracy test: 0.838\n",
      "INFO -------------------------------\n"
     ]
    },
    {
     "name": "stdout",
     "output_type": "stream",
     "text": [
      "Adjusting learning rate of group 0 to 1.8493e-03.\n"
     ]
    },
    {
     "name": "stderr",
     "output_type": "stream",
     "text": [
      "INFO Epoch 716\n",
      "INFO The mean accuracy train: 0.999\n",
      "INFO The mean accuracy test: 0.838\n",
      "INFO -------------------------------\n"
     ]
    },
    {
     "name": "stdout",
     "output_type": "stream",
     "text": [
      "Adjusting learning rate of group 0 to 1.8371e-03.\n"
     ]
    },
    {
     "name": "stderr",
     "output_type": "stream",
     "text": [
      "INFO Epoch 717\n",
      "INFO The mean accuracy train: 0.999\n",
      "INFO The mean accuracy test: 0.842\n",
      "INFO -------------------------------\n"
     ]
    },
    {
     "name": "stdout",
     "output_type": "stream",
     "text": [
      "Adjusting learning rate of group 0 to 1.8250e-03.\n"
     ]
    },
    {
     "name": "stderr",
     "output_type": "stream",
     "text": [
      "INFO Epoch 718\n",
      "INFO The mean accuracy train: 0.999\n",
      "INFO The mean accuracy test: 0.842\n",
      "INFO -------------------------------\n"
     ]
    },
    {
     "name": "stdout",
     "output_type": "stream",
     "text": [
      "Adjusting learning rate of group 0 to 1.8129e-03.\n"
     ]
    },
    {
     "name": "stderr",
     "output_type": "stream",
     "text": [
      "INFO Epoch 719\n",
      "INFO The mean accuracy train: 0.999\n",
      "INFO The mean accuracy test: 0.841\n",
      "INFO -------------------------------\n"
     ]
    },
    {
     "name": "stdout",
     "output_type": "stream",
     "text": [
      "Adjusting learning rate of group 0 to 1.8008e-03.\n"
     ]
    },
    {
     "name": "stderr",
     "output_type": "stream",
     "text": [
      "INFO Epoch 720\n",
      "INFO The mean accuracy train: 0.999\n",
      "INFO The mean accuracy test: 0.842\n",
      "INFO -------------------------------\n"
     ]
    },
    {
     "name": "stdout",
     "output_type": "stream",
     "text": [
      "Adjusting learning rate of group 0 to 1.7887e-03.\n"
     ]
    },
    {
     "name": "stderr",
     "output_type": "stream",
     "text": [
      "INFO Epoch 721\n",
      "INFO The mean accuracy train: 0.999\n",
      "INFO The mean accuracy test: 0.843\n",
      "INFO -------------------------------\n"
     ]
    },
    {
     "name": "stdout",
     "output_type": "stream",
     "text": [
      "Adjusting learning rate of group 0 to 1.7767e-03.\n"
     ]
    },
    {
     "name": "stderr",
     "output_type": "stream",
     "text": [
      "INFO Epoch 722\n",
      "INFO The mean accuracy train: 0.999\n",
      "INFO The mean accuracy test: 0.843\n",
      "INFO -------------------------------\n"
     ]
    },
    {
     "name": "stdout",
     "output_type": "stream",
     "text": [
      "Adjusting learning rate of group 0 to 1.7647e-03.\n"
     ]
    },
    {
     "name": "stderr",
     "output_type": "stream",
     "text": [
      "INFO Epoch 723\n",
      "INFO The mean accuracy train: 0.999\n",
      "INFO The mean accuracy test: 0.843\n",
      "INFO -------------------------------\n"
     ]
    },
    {
     "name": "stdout",
     "output_type": "stream",
     "text": [
      "Adjusting learning rate of group 0 to 1.7528e-03.\n"
     ]
    },
    {
     "name": "stderr",
     "output_type": "stream",
     "text": [
      "INFO Epoch 724\n",
      "INFO The mean accuracy train: 0.999\n",
      "INFO The mean accuracy test: 0.842\n",
      "INFO -------------------------------\n"
     ]
    },
    {
     "name": "stdout",
     "output_type": "stream",
     "text": [
      "Adjusting learning rate of group 0 to 1.7408e-03.\n"
     ]
    },
    {
     "name": "stderr",
     "output_type": "stream",
     "text": [
      "INFO Epoch 725\n",
      "INFO The mean accuracy train: 0.999\n",
      "INFO The mean accuracy test: 0.841\n",
      "INFO -------------------------------\n"
     ]
    },
    {
     "name": "stdout",
     "output_type": "stream",
     "text": [
      "Adjusting learning rate of group 0 to 1.7289e-03.\n"
     ]
    },
    {
     "name": "stderr",
     "output_type": "stream",
     "text": [
      "INFO Epoch 726\n",
      "INFO The mean accuracy train: 0.999\n",
      "INFO The mean accuracy test: 0.842\n",
      "INFO -------------------------------\n"
     ]
    },
    {
     "name": "stdout",
     "output_type": "stream",
     "text": [
      "Adjusting learning rate of group 0 to 1.7171e-03.\n"
     ]
    },
    {
     "name": "stderr",
     "output_type": "stream",
     "text": [
      "INFO Epoch 727\n",
      "INFO The mean accuracy train: 0.999\n",
      "INFO The mean accuracy test: 0.843\n",
      "INFO -------------------------------\n"
     ]
    },
    {
     "name": "stdout",
     "output_type": "stream",
     "text": [
      "Adjusting learning rate of group 0 to 1.7052e-03.\n"
     ]
    },
    {
     "name": "stderr",
     "output_type": "stream",
     "text": [
      "INFO Epoch 728\n",
      "INFO The mean accuracy train: 0.999\n",
      "INFO The mean accuracy test: 0.843\n",
      "INFO -------------------------------\n"
     ]
    },
    {
     "name": "stdout",
     "output_type": "stream",
     "text": [
      "Adjusting learning rate of group 0 to 1.6934e-03.\n"
     ]
    },
    {
     "name": "stderr",
     "output_type": "stream",
     "text": [
      "INFO Epoch 729\n",
      "INFO The mean accuracy train: 0.999\n",
      "INFO The mean accuracy test: 0.843\n",
      "INFO -------------------------------\n"
     ]
    },
    {
     "name": "stdout",
     "output_type": "stream",
     "text": [
      "Adjusting learning rate of group 0 to 1.6817e-03.\n"
     ]
    },
    {
     "name": "stderr",
     "output_type": "stream",
     "text": [
      "INFO Epoch 730\n",
      "INFO The mean accuracy train: 0.999\n",
      "INFO The mean accuracy test: 0.843\n",
      "INFO -------------------------------\n"
     ]
    },
    {
     "name": "stdout",
     "output_type": "stream",
     "text": [
      "Adjusting learning rate of group 0 to 1.6699e-03.\n"
     ]
    },
    {
     "name": "stderr",
     "output_type": "stream",
     "text": [
      "INFO Epoch 731\n",
      "INFO The mean accuracy train: 0.999\n",
      "INFO The mean accuracy test: 0.842\n",
      "INFO -------------------------------\n"
     ]
    },
    {
     "name": "stdout",
     "output_type": "stream",
     "text": [
      "Adjusting learning rate of group 0 to 1.6582e-03.\n"
     ]
    },
    {
     "name": "stderr",
     "output_type": "stream",
     "text": [
      "INFO Epoch 732\n",
      "INFO The mean accuracy train: 0.999\n",
      "INFO The mean accuracy test: 0.843\n",
      "INFO -------------------------------\n"
     ]
    },
    {
     "name": "stdout",
     "output_type": "stream",
     "text": [
      "Adjusting learning rate of group 0 to 1.6466e-03.\n"
     ]
    },
    {
     "name": "stderr",
     "output_type": "stream",
     "text": [
      "INFO Epoch 733\n",
      "INFO The mean accuracy train: 0.999\n",
      "INFO The mean accuracy test: 0.843\n",
      "INFO -------------------------------\n"
     ]
    },
    {
     "name": "stdout",
     "output_type": "stream",
     "text": [
      "Adjusting learning rate of group 0 to 1.6349e-03.\n"
     ]
    },
    {
     "name": "stderr",
     "output_type": "stream",
     "text": [
      "INFO Epoch 734\n",
      "INFO The mean accuracy train: 0.999\n",
      "INFO The mean accuracy test: 0.843\n",
      "INFO -------------------------------\n"
     ]
    },
    {
     "name": "stdout",
     "output_type": "stream",
     "text": [
      "Adjusting learning rate of group 0 to 1.6233e-03.\n"
     ]
    },
    {
     "name": "stderr",
     "output_type": "stream",
     "text": [
      "INFO Epoch 735\n",
      "INFO The mean accuracy train: 0.999\n",
      "INFO The mean accuracy test: 0.844\n",
      "INFO -------------------------------\n"
     ]
    },
    {
     "name": "stdout",
     "output_type": "stream",
     "text": [
      "Adjusting learning rate of group 0 to 1.6118e-03.\n"
     ]
    },
    {
     "name": "stderr",
     "output_type": "stream",
     "text": [
      "INFO Epoch 736\n",
      "INFO The mean accuracy train: 0.999\n",
      "INFO The mean accuracy test: 0.843\n",
      "INFO -------------------------------\n"
     ]
    },
    {
     "name": "stdout",
     "output_type": "stream",
     "text": [
      "Adjusting learning rate of group 0 to 1.6002e-03.\n"
     ]
    },
    {
     "name": "stderr",
     "output_type": "stream",
     "text": [
      "INFO Epoch 737\n",
      "INFO The mean accuracy train: 0.999\n",
      "INFO The mean accuracy test: 0.843\n",
      "INFO -------------------------------\n"
     ]
    },
    {
     "name": "stdout",
     "output_type": "stream",
     "text": [
      "Adjusting learning rate of group 0 to 1.5887e-03.\n"
     ]
    },
    {
     "name": "stderr",
     "output_type": "stream",
     "text": [
      "INFO Epoch 738\n",
      "INFO The mean accuracy train: 0.999\n",
      "INFO The mean accuracy test: 0.843\n",
      "INFO -------------------------------\n"
     ]
    },
    {
     "name": "stdout",
     "output_type": "stream",
     "text": [
      "Adjusting learning rate of group 0 to 1.5773e-03.\n"
     ]
    },
    {
     "name": "stderr",
     "output_type": "stream",
     "text": [
      "INFO Epoch 739\n",
      "INFO The mean accuracy train: 0.999\n",
      "INFO The mean accuracy test: 0.843\n",
      "INFO -------------------------------\n"
     ]
    },
    {
     "name": "stdout",
     "output_type": "stream",
     "text": [
      "Adjusting learning rate of group 0 to 1.5658e-03.\n"
     ]
    },
    {
     "name": "stderr",
     "output_type": "stream",
     "text": [
      "INFO Epoch 740\n",
      "INFO The mean accuracy train: 0.999\n",
      "INFO The mean accuracy test: 0.843\n",
      "INFO -------------------------------\n"
     ]
    },
    {
     "name": "stdout",
     "output_type": "stream",
     "text": [
      "Adjusting learning rate of group 0 to 1.5544e-03.\n"
     ]
    },
    {
     "name": "stderr",
     "output_type": "stream",
     "text": [
      "INFO Epoch 741\n",
      "INFO The mean accuracy train: 0.999\n",
      "INFO The mean accuracy test: 0.844\n",
      "INFO -------------------------------\n"
     ]
    },
    {
     "name": "stdout",
     "output_type": "stream",
     "text": [
      "Adjusting learning rate of group 0 to 1.5431e-03.\n"
     ]
    },
    {
     "name": "stderr",
     "output_type": "stream",
     "text": [
      "INFO Epoch 742\n",
      "INFO The mean accuracy train: 0.999\n",
      "INFO The mean accuracy test: 0.844\n",
      "INFO -------------------------------\n"
     ]
    },
    {
     "name": "stdout",
     "output_type": "stream",
     "text": [
      "Adjusting learning rate of group 0 to 1.5317e-03.\n"
     ]
    },
    {
     "name": "stderr",
     "output_type": "stream",
     "text": [
      "INFO Epoch 743\n",
      "INFO The mean accuracy train: 0.999\n",
      "INFO The mean accuracy test: 0.843\n",
      "INFO -------------------------------\n"
     ]
    },
    {
     "name": "stdout",
     "output_type": "stream",
     "text": [
      "Adjusting learning rate of group 0 to 1.5204e-03.\n"
     ]
    },
    {
     "name": "stderr",
     "output_type": "stream",
     "text": [
      "INFO Epoch 744\n",
      "INFO The mean accuracy train: 0.999\n",
      "INFO The mean accuracy test: 0.844\n",
      "INFO -------------------------------\n"
     ]
    },
    {
     "name": "stdout",
     "output_type": "stream",
     "text": [
      "Adjusting learning rate of group 0 to 1.5092e-03.\n"
     ]
    },
    {
     "name": "stderr",
     "output_type": "stream",
     "text": [
      "INFO Epoch 745\n",
      "INFO The mean accuracy train: 0.999\n",
      "INFO The mean accuracy test: 0.843\n",
      "INFO -------------------------------\n"
     ]
    },
    {
     "name": "stdout",
     "output_type": "stream",
     "text": [
      "Adjusting learning rate of group 0 to 1.4979e-03.\n"
     ]
    },
    {
     "name": "stderr",
     "output_type": "stream",
     "text": [
      "INFO Epoch 746\n",
      "INFO The mean accuracy train: 0.999\n",
      "INFO The mean accuracy test: 0.844\n",
      "INFO -------------------------------\n"
     ]
    },
    {
     "name": "stdout",
     "output_type": "stream",
     "text": [
      "Adjusting learning rate of group 0 to 1.4868e-03.\n"
     ]
    },
    {
     "name": "stderr",
     "output_type": "stream",
     "text": [
      "INFO Epoch 747\n",
      "INFO The mean accuracy train: 0.999\n",
      "INFO The mean accuracy test: 0.843\n",
      "INFO -------------------------------\n"
     ]
    },
    {
     "name": "stdout",
     "output_type": "stream",
     "text": [
      "Adjusting learning rate of group 0 to 1.4756e-03.\n"
     ]
    },
    {
     "name": "stderr",
     "output_type": "stream",
     "text": [
      "INFO Epoch 748\n",
      "INFO The mean accuracy train: 0.999\n",
      "INFO The mean accuracy test: 0.844\n",
      "INFO -------------------------------\n"
     ]
    },
    {
     "name": "stdout",
     "output_type": "stream",
     "text": [
      "Adjusting learning rate of group 0 to 1.4645e-03.\n"
     ]
    },
    {
     "name": "stderr",
     "output_type": "stream",
     "text": [
      "INFO Epoch 749\n",
      "INFO The mean accuracy train: 0.999\n",
      "INFO The mean accuracy test: 0.843\n",
      "INFO -------------------------------\n"
     ]
    },
    {
     "name": "stdout",
     "output_type": "stream",
     "text": [
      "Adjusting learning rate of group 0 to 1.4534e-03.\n"
     ]
    },
    {
     "name": "stderr",
     "output_type": "stream",
     "text": [
      "INFO Epoch 750\n",
      "INFO The mean accuracy train: 0.999\n",
      "INFO The mean accuracy test: 0.843\n",
      "INFO -------------------------------\n"
     ]
    },
    {
     "name": "stdout",
     "output_type": "stream",
     "text": [
      "Adjusting learning rate of group 0 to 1.4423e-03.\n"
     ]
    },
    {
     "name": "stderr",
     "output_type": "stream",
     "text": [
      "INFO Epoch 751\n",
      "INFO The mean accuracy train: 0.999\n",
      "INFO The mean accuracy test: 0.843\n",
      "INFO -------------------------------\n"
     ]
    },
    {
     "name": "stdout",
     "output_type": "stream",
     "text": [
      "Adjusting learning rate of group 0 to 1.4313e-03.\n"
     ]
    },
    {
     "name": "stderr",
     "output_type": "stream",
     "text": [
      "INFO Epoch 752\n",
      "INFO The mean accuracy train: 0.999\n",
      "INFO The mean accuracy test: 0.844\n",
      "INFO -------------------------------\n"
     ]
    },
    {
     "name": "stdout",
     "output_type": "stream",
     "text": [
      "Adjusting learning rate of group 0 to 1.4203e-03.\n"
     ]
    },
    {
     "name": "stderr",
     "output_type": "stream",
     "text": [
      "INFO Epoch 753\n",
      "INFO The mean accuracy train: 0.999\n",
      "INFO The mean accuracy test: 0.843\n",
      "INFO -------------------------------\n"
     ]
    },
    {
     "name": "stdout",
     "output_type": "stream",
     "text": [
      "Adjusting learning rate of group 0 to 1.4094e-03.\n"
     ]
    },
    {
     "name": "stderr",
     "output_type": "stream",
     "text": [
      "INFO Epoch 754\n",
      "INFO The mean accuracy train: 0.999\n",
      "INFO The mean accuracy test: 0.843\n",
      "INFO -------------------------------\n"
     ]
    },
    {
     "name": "stdout",
     "output_type": "stream",
     "text": [
      "Adjusting learning rate of group 0 to 1.3985e-03.\n"
     ]
    },
    {
     "name": "stderr",
     "output_type": "stream",
     "text": [
      "INFO Epoch 755\n",
      "INFO The mean accuracy train: 0.999\n",
      "INFO The mean accuracy test: 0.843\n",
      "INFO -------------------------------\n"
     ]
    },
    {
     "name": "stdout",
     "output_type": "stream",
     "text": [
      "Adjusting learning rate of group 0 to 1.3876e-03.\n"
     ]
    },
    {
     "name": "stderr",
     "output_type": "stream",
     "text": [
      "INFO Epoch 756\n",
      "INFO The mean accuracy train: 0.999\n",
      "INFO The mean accuracy test: 0.844\n",
      "INFO -------------------------------\n"
     ]
    },
    {
     "name": "stdout",
     "output_type": "stream",
     "text": [
      "Adjusting learning rate of group 0 to 1.3767e-03.\n"
     ]
    },
    {
     "name": "stderr",
     "output_type": "stream",
     "text": [
      "INFO Epoch 757\n",
      "INFO The mean accuracy train: 0.999\n",
      "INFO The mean accuracy test: 0.844\n",
      "INFO -------------------------------\n"
     ]
    },
    {
     "name": "stdout",
     "output_type": "stream",
     "text": [
      "Adjusting learning rate of group 0 to 1.3659e-03.\n"
     ]
    },
    {
     "name": "stderr",
     "output_type": "stream",
     "text": [
      "INFO Epoch 758\n",
      "INFO The mean accuracy train: 0.999\n",
      "INFO The mean accuracy test: 0.845\n",
      "INFO -------------------------------\n"
     ]
    },
    {
     "name": "stdout",
     "output_type": "stream",
     "text": [
      "Adjusting learning rate of group 0 to 1.3552e-03.\n"
     ]
    },
    {
     "name": "stderr",
     "output_type": "stream",
     "text": [
      "INFO Epoch 759\n",
      "INFO The mean accuracy train: 0.999\n",
      "INFO The mean accuracy test: 0.844\n",
      "INFO -------------------------------\n"
     ]
    },
    {
     "name": "stdout",
     "output_type": "stream",
     "text": [
      "Adjusting learning rate of group 0 to 1.3444e-03.\n"
     ]
    },
    {
     "name": "stderr",
     "output_type": "stream",
     "text": [
      "INFO Epoch 760\n",
      "INFO The mean accuracy train: 0.999\n",
      "INFO The mean accuracy test: 0.844\n",
      "INFO -------------------------------\n"
     ]
    },
    {
     "name": "stdout",
     "output_type": "stream",
     "text": [
      "Adjusting learning rate of group 0 to 1.3337e-03.\n"
     ]
    },
    {
     "name": "stderr",
     "output_type": "stream",
     "text": [
      "INFO Epoch 761\n",
      "INFO The mean accuracy train: 0.999\n",
      "INFO The mean accuracy test: 0.844\n",
      "INFO -------------------------------\n"
     ]
    },
    {
     "name": "stdout",
     "output_type": "stream",
     "text": [
      "Adjusting learning rate of group 0 to 1.3231e-03.\n"
     ]
    },
    {
     "name": "stderr",
     "output_type": "stream",
     "text": [
      "INFO Epoch 762\n",
      "INFO The mean accuracy train: 0.999\n",
      "INFO The mean accuracy test: 0.843\n",
      "INFO -------------------------------\n"
     ]
    },
    {
     "name": "stdout",
     "output_type": "stream",
     "text": [
      "Adjusting learning rate of group 0 to 1.3124e-03.\n"
     ]
    },
    {
     "name": "stderr",
     "output_type": "stream",
     "text": [
      "INFO Epoch 763\n",
      "INFO The mean accuracy train: 0.999\n",
      "INFO The mean accuracy test: 0.844\n",
      "INFO -------------------------------\n"
     ]
    },
    {
     "name": "stdout",
     "output_type": "stream",
     "text": [
      "Adjusting learning rate of group 0 to 1.3018e-03.\n"
     ]
    },
    {
     "name": "stderr",
     "output_type": "stream",
     "text": [
      "INFO Epoch 764\n",
      "INFO The mean accuracy train: 0.999\n",
      "INFO The mean accuracy test: 0.844\n",
      "INFO -------------------------------\n"
     ]
    },
    {
     "name": "stdout",
     "output_type": "stream",
     "text": [
      "Adjusting learning rate of group 0 to 1.2913e-03.\n"
     ]
    },
    {
     "name": "stderr",
     "output_type": "stream",
     "text": [
      "INFO Epoch 765\n",
      "INFO The mean accuracy train: 0.999\n",
      "INFO The mean accuracy test: 0.843\n",
      "INFO -------------------------------\n"
     ]
    },
    {
     "name": "stdout",
     "output_type": "stream",
     "text": [
      "Adjusting learning rate of group 0 to 1.2808e-03.\n"
     ]
    },
    {
     "name": "stderr",
     "output_type": "stream",
     "text": [
      "INFO Epoch 766\n",
      "INFO The mean accuracy train: 0.999\n",
      "INFO The mean accuracy test: 0.844\n",
      "INFO -------------------------------\n"
     ]
    },
    {
     "name": "stdout",
     "output_type": "stream",
     "text": [
      "Adjusting learning rate of group 0 to 1.2703e-03.\n"
     ]
    },
    {
     "name": "stderr",
     "output_type": "stream",
     "text": [
      "INFO Epoch 767\n",
      "INFO The mean accuracy train: 0.999\n",
      "INFO The mean accuracy test: 0.844\n",
      "INFO -------------------------------\n"
     ]
    },
    {
     "name": "stdout",
     "output_type": "stream",
     "text": [
      "Adjusting learning rate of group 0 to 1.2599e-03.\n"
     ]
    },
    {
     "name": "stderr",
     "output_type": "stream",
     "text": [
      "INFO Epoch 768\n",
      "INFO The mean accuracy train: 0.999\n",
      "INFO The mean accuracy test: 0.844\n",
      "INFO -------------------------------\n"
     ]
    },
    {
     "name": "stdout",
     "output_type": "stream",
     "text": [
      "Adjusting learning rate of group 0 to 1.2494e-03.\n"
     ]
    },
    {
     "name": "stderr",
     "output_type": "stream",
     "text": [
      "INFO Epoch 769\n",
      "INFO The mean accuracy train: 0.999\n",
      "INFO The mean accuracy test: 0.845\n",
      "INFO -------------------------------\n"
     ]
    },
    {
     "name": "stdout",
     "output_type": "stream",
     "text": [
      "Adjusting learning rate of group 0 to 1.2391e-03.\n"
     ]
    },
    {
     "name": "stderr",
     "output_type": "stream",
     "text": [
      "INFO Epoch 770\n",
      "INFO The mean accuracy train: 0.999\n",
      "INFO The mean accuracy test: 0.844\n",
      "INFO -------------------------------\n"
     ]
    },
    {
     "name": "stdout",
     "output_type": "stream",
     "text": [
      "Adjusting learning rate of group 0 to 1.2287e-03.\n"
     ]
    },
    {
     "name": "stderr",
     "output_type": "stream",
     "text": [
      "INFO Epoch 771\n",
      "INFO The mean accuracy train: 0.999\n",
      "INFO The mean accuracy test: 0.844\n",
      "INFO -------------------------------\n"
     ]
    },
    {
     "name": "stdout",
     "output_type": "stream",
     "text": [
      "Adjusting learning rate of group 0 to 1.2184e-03.\n"
     ]
    },
    {
     "name": "stderr",
     "output_type": "stream",
     "text": [
      "INFO Epoch 772\n",
      "INFO The mean accuracy train: 0.999\n",
      "INFO The mean accuracy test: 0.845\n",
      "INFO -------------------------------\n"
     ]
    },
    {
     "name": "stdout",
     "output_type": "stream",
     "text": [
      "Adjusting learning rate of group 0 to 1.2082e-03.\n"
     ]
    },
    {
     "name": "stderr",
     "output_type": "stream",
     "text": [
      "INFO Epoch 773\n",
      "INFO The mean accuracy train: 0.999\n",
      "INFO The mean accuracy test: 0.844\n",
      "INFO -------------------------------\n"
     ]
    },
    {
     "name": "stdout",
     "output_type": "stream",
     "text": [
      "Adjusting learning rate of group 0 to 1.1980e-03.\n"
     ]
    },
    {
     "name": "stderr",
     "output_type": "stream",
     "text": [
      "INFO Epoch 774\n",
      "INFO The mean accuracy train: 0.999\n",
      "INFO The mean accuracy test: 0.844\n",
      "INFO -------------------------------\n"
     ]
    },
    {
     "name": "stdout",
     "output_type": "stream",
     "text": [
      "Adjusting learning rate of group 0 to 1.1878e-03.\n"
     ]
    },
    {
     "name": "stderr",
     "output_type": "stream",
     "text": [
      "INFO Epoch 775\n",
      "INFO The mean accuracy train: 0.999\n",
      "INFO The mean accuracy test: 0.844\n",
      "INFO -------------------------------\n"
     ]
    },
    {
     "name": "stdout",
     "output_type": "stream",
     "text": [
      "Adjusting learning rate of group 0 to 1.1776e-03.\n"
     ]
    },
    {
     "name": "stderr",
     "output_type": "stream",
     "text": [
      "INFO Epoch 776\n",
      "INFO The mean accuracy train: 0.999\n",
      "INFO The mean accuracy test: 0.845\n",
      "INFO -------------------------------\n"
     ]
    },
    {
     "name": "stdout",
     "output_type": "stream",
     "text": [
      "Adjusting learning rate of group 0 to 1.1675e-03.\n"
     ]
    },
    {
     "name": "stderr",
     "output_type": "stream",
     "text": [
      "INFO Epoch 777\n",
      "INFO The mean accuracy train: 0.999\n",
      "INFO The mean accuracy test: 0.844\n",
      "INFO -------------------------------\n"
     ]
    },
    {
     "name": "stdout",
     "output_type": "stream",
     "text": [
      "Adjusting learning rate of group 0 to 1.1575e-03.\n"
     ]
    },
    {
     "name": "stderr",
     "output_type": "stream",
     "text": [
      "INFO Epoch 778\n",
      "INFO The mean accuracy train: 0.999\n",
      "INFO The mean accuracy test: 0.845\n",
      "INFO -------------------------------\n"
     ]
    },
    {
     "name": "stdout",
     "output_type": "stream",
     "text": [
      "Adjusting learning rate of group 0 to 1.1474e-03.\n"
     ]
    },
    {
     "name": "stderr",
     "output_type": "stream",
     "text": [
      "INFO Epoch 779\n",
      "INFO The mean accuracy train: 0.999\n",
      "INFO The mean accuracy test: 0.844\n",
      "INFO -------------------------------\n"
     ]
    },
    {
     "name": "stdout",
     "output_type": "stream",
     "text": [
      "Adjusting learning rate of group 0 to 1.1374e-03.\n"
     ]
    },
    {
     "name": "stderr",
     "output_type": "stream",
     "text": [
      "INFO Epoch 780\n",
      "INFO The mean accuracy train: 0.999\n",
      "INFO The mean accuracy test: 0.845\n",
      "INFO -------------------------------\n"
     ]
    },
    {
     "name": "stdout",
     "output_type": "stream",
     "text": [
      "Adjusting learning rate of group 0 to 1.1275e-03.\n"
     ]
    },
    {
     "name": "stderr",
     "output_type": "stream",
     "text": [
      "INFO Epoch 781\n",
      "INFO The mean accuracy train: 0.999\n",
      "INFO The mean accuracy test: 0.845\n",
      "INFO -------------------------------\n"
     ]
    },
    {
     "name": "stdout",
     "output_type": "stream",
     "text": [
      "Adjusting learning rate of group 0 to 1.1176e-03.\n"
     ]
    },
    {
     "name": "stderr",
     "output_type": "stream",
     "text": [
      "INFO Epoch 782\n",
      "INFO The mean accuracy train: 0.999\n",
      "INFO The mean accuracy test: 0.844\n",
      "INFO -------------------------------\n"
     ]
    },
    {
     "name": "stdout",
     "output_type": "stream",
     "text": [
      "Adjusting learning rate of group 0 to 1.1077e-03.\n"
     ]
    },
    {
     "name": "stderr",
     "output_type": "stream",
     "text": [
      "INFO Epoch 783\n",
      "INFO The mean accuracy train: 0.999\n",
      "INFO The mean accuracy test: 0.844\n",
      "INFO -------------------------------\n"
     ]
    },
    {
     "name": "stdout",
     "output_type": "stream",
     "text": [
      "Adjusting learning rate of group 0 to 1.0978e-03.\n"
     ]
    },
    {
     "name": "stderr",
     "output_type": "stream",
     "text": [
      "INFO Epoch 784\n",
      "INFO The mean accuracy train: 0.999\n",
      "INFO The mean accuracy test: 0.843\n",
      "INFO -------------------------------\n"
     ]
    },
    {
     "name": "stdout",
     "output_type": "stream",
     "text": [
      "Adjusting learning rate of group 0 to 1.0880e-03.\n"
     ]
    },
    {
     "name": "stderr",
     "output_type": "stream",
     "text": [
      "INFO Epoch 785\n",
      "INFO The mean accuracy train: 0.999\n",
      "INFO The mean accuracy test: 0.844\n",
      "INFO -------------------------------\n"
     ]
    },
    {
     "name": "stdout",
     "output_type": "stream",
     "text": [
      "Adjusting learning rate of group 0 to 1.0783e-03.\n"
     ]
    },
    {
     "name": "stderr",
     "output_type": "stream",
     "text": [
      "INFO Epoch 786\n",
      "INFO The mean accuracy train: 0.999\n",
      "INFO The mean accuracy test: 0.844\n",
      "INFO -------------------------------\n"
     ]
    },
    {
     "name": "stdout",
     "output_type": "stream",
     "text": [
      "Adjusting learning rate of group 0 to 1.0686e-03.\n"
     ]
    },
    {
     "name": "stderr",
     "output_type": "stream",
     "text": [
      "INFO Epoch 787\n",
      "INFO The mean accuracy train: 0.999\n",
      "INFO The mean accuracy test: 0.844\n",
      "INFO -------------------------------\n"
     ]
    },
    {
     "name": "stdout",
     "output_type": "stream",
     "text": [
      "Adjusting learning rate of group 0 to 1.0589e-03.\n"
     ]
    },
    {
     "name": "stderr",
     "output_type": "stream",
     "text": [
      "INFO Epoch 788\n",
      "INFO The mean accuracy train: 0.999\n",
      "INFO The mean accuracy test: 0.844\n",
      "INFO -------------------------------\n"
     ]
    },
    {
     "name": "stdout",
     "output_type": "stream",
     "text": [
      "Adjusting learning rate of group 0 to 1.0492e-03.\n"
     ]
    },
    {
     "name": "stderr",
     "output_type": "stream",
     "text": [
      "INFO Epoch 789\n",
      "INFO The mean accuracy train: 0.999\n",
      "INFO The mean accuracy test: 0.844\n",
      "INFO -------------------------------\n"
     ]
    },
    {
     "name": "stdout",
     "output_type": "stream",
     "text": [
      "Adjusting learning rate of group 0 to 1.0396e-03.\n"
     ]
    },
    {
     "name": "stderr",
     "output_type": "stream",
     "text": [
      "INFO Epoch 790\n",
      "INFO The mean accuracy train: 0.999\n",
      "INFO The mean accuracy test: 0.844\n",
      "INFO -------------------------------\n"
     ]
    },
    {
     "name": "stdout",
     "output_type": "stream",
     "text": [
      "Adjusting learning rate of group 0 to 1.0300e-03.\n"
     ]
    },
    {
     "name": "stderr",
     "output_type": "stream",
     "text": [
      "INFO Epoch 791\n",
      "INFO The mean accuracy train: 0.999\n",
      "INFO The mean accuracy test: 0.843\n",
      "INFO -------------------------------\n"
     ]
    },
    {
     "name": "stdout",
     "output_type": "stream",
     "text": [
      "Adjusting learning rate of group 0 to 1.0205e-03.\n"
     ]
    },
    {
     "name": "stderr",
     "output_type": "stream",
     "text": [
      "INFO Epoch 792\n",
      "INFO The mean accuracy train: 0.999\n",
      "INFO The mean accuracy test: 0.844\n",
      "INFO -------------------------------\n"
     ]
    },
    {
     "name": "stdout",
     "output_type": "stream",
     "text": [
      "Adjusting learning rate of group 0 to 1.0110e-03.\n"
     ]
    },
    {
     "name": "stderr",
     "output_type": "stream",
     "text": [
      "INFO Epoch 793\n",
      "INFO The mean accuracy train: 0.999\n",
      "INFO The mean accuracy test: 0.844\n",
      "INFO -------------------------------\n"
     ]
    },
    {
     "name": "stdout",
     "output_type": "stream",
     "text": [
      "Adjusting learning rate of group 0 to 1.0016e-03.\n"
     ]
    },
    {
     "name": "stderr",
     "output_type": "stream",
     "text": [
      "INFO Epoch 794\n",
      "INFO The mean accuracy train: 0.999\n",
      "INFO The mean accuracy test: 0.844\n",
      "INFO -------------------------------\n"
     ]
    },
    {
     "name": "stdout",
     "output_type": "stream",
     "text": [
      "Adjusting learning rate of group 0 to 9.9217e-04.\n"
     ]
    },
    {
     "name": "stderr",
     "output_type": "stream",
     "text": [
      "INFO Epoch 795\n",
      "INFO The mean accuracy train: 0.999\n",
      "INFO The mean accuracy test: 0.844\n",
      "INFO -------------------------------\n"
     ]
    },
    {
     "name": "stdout",
     "output_type": "stream",
     "text": [
      "Adjusting learning rate of group 0 to 9.8279e-04.\n"
     ]
    },
    {
     "name": "stderr",
     "output_type": "stream",
     "text": [
      "INFO Epoch 796\n",
      "INFO The mean accuracy train: 0.999\n",
      "INFO The mean accuracy test: 0.844\n",
      "INFO -------------------------------\n"
     ]
    },
    {
     "name": "stdout",
     "output_type": "stream",
     "text": [
      "Adjusting learning rate of group 0 to 9.7346e-04.\n"
     ]
    },
    {
     "name": "stderr",
     "output_type": "stream",
     "text": [
      "INFO Epoch 797\n",
      "INFO The mean accuracy train: 0.999\n",
      "INFO The mean accuracy test: 0.844\n",
      "INFO -------------------------------\n"
     ]
    },
    {
     "name": "stdout",
     "output_type": "stream",
     "text": [
      "Adjusting learning rate of group 0 to 9.6417e-04.\n"
     ]
    },
    {
     "name": "stderr",
     "output_type": "stream",
     "text": [
      "INFO Epoch 798\n",
      "INFO The mean accuracy train: 0.999\n",
      "INFO The mean accuracy test: 0.844\n",
      "INFO -------------------------------\n"
     ]
    },
    {
     "name": "stdout",
     "output_type": "stream",
     "text": [
      "Adjusting learning rate of group 0 to 9.5492e-04.\n"
     ]
    },
    {
     "name": "stderr",
     "output_type": "stream",
     "text": [
      "INFO Epoch 799\n",
      "INFO The mean accuracy train: 0.999\n",
      "INFO The mean accuracy test: 0.843\n",
      "INFO -------------------------------\n"
     ]
    },
    {
     "name": "stdout",
     "output_type": "stream",
     "text": [
      "Adjusting learning rate of group 0 to 9.4570e-04.\n"
     ]
    },
    {
     "name": "stderr",
     "output_type": "stream",
     "text": [
      "INFO Epoch 800\n",
      "INFO The mean accuracy train: 0.999\n",
      "INFO The mean accuracy test: 0.844\n",
      "INFO -------------------------------\n"
     ]
    },
    {
     "name": "stdout",
     "output_type": "stream",
     "text": [
      "Adjusting learning rate of group 0 to 9.3653e-04.\n"
     ]
    },
    {
     "name": "stderr",
     "output_type": "stream",
     "text": [
      "INFO Epoch 801\n",
      "INFO The mean accuracy train: 0.999\n",
      "INFO The mean accuracy test: 0.843\n",
      "INFO -------------------------------\n"
     ]
    },
    {
     "name": "stdout",
     "output_type": "stream",
     "text": [
      "Adjusting learning rate of group 0 to 9.2740e-04.\n"
     ]
    },
    {
     "name": "stderr",
     "output_type": "stream",
     "text": [
      "INFO Epoch 802\n",
      "INFO The mean accuracy train: 0.999\n",
      "INFO The mean accuracy test: 0.843\n",
      "INFO -------------------------------\n"
     ]
    },
    {
     "name": "stdout",
     "output_type": "stream",
     "text": [
      "Adjusting learning rate of group 0 to 9.1830e-04.\n"
     ]
    },
    {
     "name": "stderr",
     "output_type": "stream",
     "text": [
      "INFO Epoch 803\n",
      "INFO The mean accuracy train: 0.999\n",
      "INFO The mean accuracy test: 0.844\n",
      "INFO -------------------------------\n"
     ]
    },
    {
     "name": "stdout",
     "output_type": "stream",
     "text": [
      "Adjusting learning rate of group 0 to 9.0925e-04.\n"
     ]
    },
    {
     "name": "stderr",
     "output_type": "stream",
     "text": [
      "INFO Epoch 804\n",
      "INFO The mean accuracy train: 0.999\n",
      "INFO The mean accuracy test: 0.844\n",
      "INFO -------------------------------\n"
     ]
    },
    {
     "name": "stdout",
     "output_type": "stream",
     "text": [
      "Adjusting learning rate of group 0 to 9.0024e-04.\n"
     ]
    },
    {
     "name": "stderr",
     "output_type": "stream",
     "text": [
      "INFO Epoch 805\n",
      "INFO The mean accuracy train: 0.999\n",
      "INFO The mean accuracy test: 0.844\n",
      "INFO -------------------------------\n"
     ]
    },
    {
     "name": "stdout",
     "output_type": "stream",
     "text": [
      "Adjusting learning rate of group 0 to 8.9127e-04.\n"
     ]
    },
    {
     "name": "stderr",
     "output_type": "stream",
     "text": [
      "INFO Epoch 806\n",
      "INFO The mean accuracy train: 0.999\n",
      "INFO The mean accuracy test: 0.844\n",
      "INFO -------------------------------\n"
     ]
    },
    {
     "name": "stdout",
     "output_type": "stream",
     "text": [
      "Adjusting learning rate of group 0 to 8.8234e-04.\n"
     ]
    },
    {
     "name": "stderr",
     "output_type": "stream",
     "text": [
      "INFO Epoch 807\n",
      "INFO The mean accuracy train: 0.999\n",
      "INFO The mean accuracy test: 0.844\n",
      "INFO -------------------------------\n"
     ]
    },
    {
     "name": "stdout",
     "output_type": "stream",
     "text": [
      "Adjusting learning rate of group 0 to 8.7345e-04.\n"
     ]
    },
    {
     "name": "stderr",
     "output_type": "stream",
     "text": [
      "INFO Epoch 808\n",
      "INFO The mean accuracy train: 0.999\n",
      "INFO The mean accuracy test: 0.844\n",
      "INFO -------------------------------\n"
     ]
    },
    {
     "name": "stdout",
     "output_type": "stream",
     "text": [
      "Adjusting learning rate of group 0 to 8.6460e-04.\n"
     ]
    },
    {
     "name": "stderr",
     "output_type": "stream",
     "text": [
      "INFO Epoch 809\n",
      "INFO The mean accuracy train: 0.999\n",
      "INFO The mean accuracy test: 0.844\n",
      "INFO -------------------------------\n"
     ]
    },
    {
     "name": "stdout",
     "output_type": "stream",
     "text": [
      "Adjusting learning rate of group 0 to 8.5579e-04.\n"
     ]
    },
    {
     "name": "stderr",
     "output_type": "stream",
     "text": [
      "INFO Epoch 810\n",
      "INFO The mean accuracy train: 0.999\n",
      "INFO The mean accuracy test: 0.844\n",
      "INFO -------------------------------\n"
     ]
    },
    {
     "name": "stdout",
     "output_type": "stream",
     "text": [
      "Adjusting learning rate of group 0 to 8.4702e-04.\n"
     ]
    },
    {
     "name": "stderr",
     "output_type": "stream",
     "text": [
      "INFO Epoch 811\n",
      "INFO The mean accuracy train: 0.999\n",
      "INFO The mean accuracy test: 0.844\n",
      "INFO -------------------------------\n"
     ]
    },
    {
     "name": "stdout",
     "output_type": "stream",
     "text": [
      "Adjusting learning rate of group 0 to 8.3829e-04.\n"
     ]
    },
    {
     "name": "stderr",
     "output_type": "stream",
     "text": [
      "INFO Epoch 812\n",
      "INFO The mean accuracy train: 0.999\n",
      "INFO The mean accuracy test: 0.844\n",
      "INFO -------------------------------\n"
     ]
    },
    {
     "name": "stdout",
     "output_type": "stream",
     "text": [
      "Adjusting learning rate of group 0 to 8.2961e-04.\n"
     ]
    },
    {
     "name": "stderr",
     "output_type": "stream",
     "text": [
      "INFO Epoch 813\n",
      "INFO The mean accuracy train: 0.999\n",
      "INFO The mean accuracy test: 0.844\n",
      "INFO -------------------------------\n"
     ]
    },
    {
     "name": "stdout",
     "output_type": "stream",
     "text": [
      "Adjusting learning rate of group 0 to 8.2096e-04.\n"
     ]
    },
    {
     "name": "stderr",
     "output_type": "stream",
     "text": [
      "INFO Epoch 814\n",
      "INFO The mean accuracy train: 0.999\n",
      "INFO The mean accuracy test: 0.844\n",
      "INFO -------------------------------\n"
     ]
    },
    {
     "name": "stdout",
     "output_type": "stream",
     "text": [
      "Adjusting learning rate of group 0 to 8.1236e-04.\n"
     ]
    },
    {
     "name": "stderr",
     "output_type": "stream",
     "text": [
      "INFO Epoch 815\n",
      "INFO The mean accuracy train: 0.999\n",
      "INFO The mean accuracy test: 0.844\n",
      "INFO -------------------------------\n"
     ]
    },
    {
     "name": "stdout",
     "output_type": "stream",
     "text": [
      "Adjusting learning rate of group 0 to 8.0380e-04.\n"
     ]
    },
    {
     "name": "stderr",
     "output_type": "stream",
     "text": [
      "INFO Epoch 816\n",
      "INFO The mean accuracy train: 0.999\n",
      "INFO The mean accuracy test: 0.844\n",
      "INFO -------------------------------\n"
     ]
    },
    {
     "name": "stdout",
     "output_type": "stream",
     "text": [
      "Adjusting learning rate of group 0 to 7.9528e-04.\n"
     ]
    },
    {
     "name": "stderr",
     "output_type": "stream",
     "text": [
      "INFO Epoch 817\n",
      "INFO The mean accuracy train: 0.999\n",
      "INFO The mean accuracy test: 0.845\n",
      "INFO -------------------------------\n"
     ]
    },
    {
     "name": "stdout",
     "output_type": "stream",
     "text": [
      "Adjusting learning rate of group 0 to 7.8680e-04.\n"
     ]
    },
    {
     "name": "stderr",
     "output_type": "stream",
     "text": [
      "INFO Epoch 818\n",
      "INFO The mean accuracy train: 0.999\n",
      "INFO The mean accuracy test: 0.844\n",
      "INFO -------------------------------\n"
     ]
    },
    {
     "name": "stdout",
     "output_type": "stream",
     "text": [
      "Adjusting learning rate of group 0 to 7.7836e-04.\n"
     ]
    },
    {
     "name": "stderr",
     "output_type": "stream",
     "text": [
      "INFO Epoch 819\n",
      "INFO The mean accuracy train: 0.999\n",
      "INFO The mean accuracy test: 0.845\n",
      "INFO -------------------------------\n"
     ]
    },
    {
     "name": "stdout",
     "output_type": "stream",
     "text": [
      "Adjusting learning rate of group 0 to 7.6996e-04.\n"
     ]
    },
    {
     "name": "stderr",
     "output_type": "stream",
     "text": [
      "INFO Epoch 820\n",
      "INFO The mean accuracy train: 0.999\n",
      "INFO The mean accuracy test: 0.845\n",
      "INFO -------------------------------\n"
     ]
    },
    {
     "name": "stdout",
     "output_type": "stream",
     "text": [
      "Adjusting learning rate of group 0 to 7.6161e-04.\n"
     ]
    },
    {
     "name": "stderr",
     "output_type": "stream",
     "text": [
      "INFO Epoch 821\n",
      "INFO The mean accuracy train: 0.999\n",
      "INFO The mean accuracy test: 0.844\n",
      "INFO -------------------------------\n"
     ]
    },
    {
     "name": "stdout",
     "output_type": "stream",
     "text": [
      "Adjusting learning rate of group 0 to 7.5330e-04.\n"
     ]
    },
    {
     "name": "stderr",
     "output_type": "stream",
     "text": [
      "INFO Epoch 822\n",
      "INFO The mean accuracy train: 0.999\n",
      "INFO The mean accuracy test: 0.845\n",
      "INFO -------------------------------\n"
     ]
    },
    {
     "name": "stdout",
     "output_type": "stream",
     "text": [
      "Adjusting learning rate of group 0 to 7.4503e-04.\n"
     ]
    },
    {
     "name": "stderr",
     "output_type": "stream",
     "text": [
      "INFO Epoch 823\n",
      "INFO The mean accuracy train: 0.999\n",
      "INFO The mean accuracy test: 0.844\n",
      "INFO -------------------------------\n"
     ]
    },
    {
     "name": "stdout",
     "output_type": "stream",
     "text": [
      "Adjusting learning rate of group 0 to 7.3680e-04.\n"
     ]
    },
    {
     "name": "stderr",
     "output_type": "stream",
     "text": [
      "INFO Epoch 824\n",
      "INFO The mean accuracy train: 0.999\n",
      "INFO The mean accuracy test: 0.844\n",
      "INFO -------------------------------\n"
     ]
    },
    {
     "name": "stdout",
     "output_type": "stream",
     "text": [
      "Adjusting learning rate of group 0 to 7.2861e-04.\n"
     ]
    },
    {
     "name": "stderr",
     "output_type": "stream",
     "text": [
      "INFO Epoch 825\n",
      "INFO The mean accuracy train: 0.999\n",
      "INFO The mean accuracy test: 0.844\n",
      "INFO -------------------------------\n"
     ]
    },
    {
     "name": "stdout",
     "output_type": "stream",
     "text": [
      "Adjusting learning rate of group 0 to 7.2047e-04.\n"
     ]
    },
    {
     "name": "stderr",
     "output_type": "stream",
     "text": [
      "INFO Epoch 826\n",
      "INFO The mean accuracy train: 0.999\n",
      "INFO The mean accuracy test: 0.845\n",
      "INFO -------------------------------\n"
     ]
    },
    {
     "name": "stdout",
     "output_type": "stream",
     "text": [
      "Adjusting learning rate of group 0 to 7.1237e-04.\n"
     ]
    },
    {
     "name": "stderr",
     "output_type": "stream",
     "text": [
      "INFO Epoch 827\n",
      "INFO The mean accuracy train: 0.999\n",
      "INFO The mean accuracy test: 0.844\n",
      "INFO -------------------------------\n"
     ]
    },
    {
     "name": "stdout",
     "output_type": "stream",
     "text": [
      "Adjusting learning rate of group 0 to 7.0431e-04.\n"
     ]
    },
    {
     "name": "stderr",
     "output_type": "stream",
     "text": [
      "INFO Epoch 828\n",
      "INFO The mean accuracy train: 0.999\n",
      "INFO The mean accuracy test: 0.844\n",
      "INFO -------------------------------\n"
     ]
    },
    {
     "name": "stdout",
     "output_type": "stream",
     "text": [
      "Adjusting learning rate of group 0 to 6.9629e-04.\n"
     ]
    },
    {
     "name": "stderr",
     "output_type": "stream",
     "text": [
      "INFO Epoch 829\n",
      "INFO The mean accuracy train: 0.999\n",
      "INFO The mean accuracy test: 0.844\n",
      "INFO -------------------------------\n"
     ]
    },
    {
     "name": "stdout",
     "output_type": "stream",
     "text": [
      "Adjusting learning rate of group 0 to 6.8832e-04.\n"
     ]
    },
    {
     "name": "stderr",
     "output_type": "stream",
     "text": [
      "INFO Epoch 830\n",
      "INFO The mean accuracy train: 0.999\n",
      "INFO The mean accuracy test: 0.844\n",
      "INFO -------------------------------\n"
     ]
    },
    {
     "name": "stdout",
     "output_type": "stream",
     "text": [
      "Adjusting learning rate of group 0 to 6.8038e-04.\n"
     ]
    },
    {
     "name": "stderr",
     "output_type": "stream",
     "text": [
      "INFO Epoch 831\n",
      "INFO The mean accuracy train: 0.999\n",
      "INFO The mean accuracy test: 0.844\n",
      "INFO -------------------------------\n"
     ]
    },
    {
     "name": "stdout",
     "output_type": "stream",
     "text": [
      "Adjusting learning rate of group 0 to 6.7249e-04.\n"
     ]
    },
    {
     "name": "stderr",
     "output_type": "stream",
     "text": [
      "INFO Epoch 832\n",
      "INFO The mean accuracy train: 0.999\n",
      "INFO The mean accuracy test: 0.844\n",
      "INFO -------------------------------\n"
     ]
    },
    {
     "name": "stdout",
     "output_type": "stream",
     "text": [
      "Adjusting learning rate of group 0 to 6.6465e-04.\n"
     ]
    },
    {
     "name": "stderr",
     "output_type": "stream",
     "text": [
      "INFO Epoch 833\n",
      "INFO The mean accuracy train: 0.999\n",
      "INFO The mean accuracy test: 0.844\n",
      "INFO -------------------------------\n"
     ]
    },
    {
     "name": "stdout",
     "output_type": "stream",
     "text": [
      "Adjusting learning rate of group 0 to 6.5684e-04.\n"
     ]
    },
    {
     "name": "stderr",
     "output_type": "stream",
     "text": [
      "INFO Epoch 834\n",
      "INFO The mean accuracy train: 0.999\n",
      "INFO The mean accuracy test: 0.844\n",
      "INFO -------------------------------\n"
     ]
    },
    {
     "name": "stdout",
     "output_type": "stream",
     "text": [
      "Adjusting learning rate of group 0 to 6.4908e-04.\n"
     ]
    },
    {
     "name": "stderr",
     "output_type": "stream",
     "text": [
      "INFO Epoch 835\n",
      "INFO The mean accuracy train: 0.999\n",
      "INFO The mean accuracy test: 0.843\n",
      "INFO -------------------------------\n"
     ]
    },
    {
     "name": "stdout",
     "output_type": "stream",
     "text": [
      "Adjusting learning rate of group 0 to 6.4136e-04.\n"
     ]
    },
    {
     "name": "stderr",
     "output_type": "stream",
     "text": [
      "INFO Epoch 836\n",
      "INFO The mean accuracy train: 0.999\n",
      "INFO The mean accuracy test: 0.844\n",
      "INFO -------------------------------\n"
     ]
    },
    {
     "name": "stdout",
     "output_type": "stream",
     "text": [
      "Adjusting learning rate of group 0 to 6.3369e-04.\n"
     ]
    },
    {
     "name": "stderr",
     "output_type": "stream",
     "text": [
      "INFO Epoch 837\n",
      "INFO The mean accuracy train: 0.999\n",
      "INFO The mean accuracy test: 0.844\n",
      "INFO -------------------------------\n"
     ]
    },
    {
     "name": "stdout",
     "output_type": "stream",
     "text": [
      "Adjusting learning rate of group 0 to 6.2606e-04.\n"
     ]
    },
    {
     "name": "stderr",
     "output_type": "stream",
     "text": [
      "INFO Epoch 838\n",
      "INFO The mean accuracy train: 0.999\n",
      "INFO The mean accuracy test: 0.844\n",
      "INFO -------------------------------\n"
     ]
    },
    {
     "name": "stdout",
     "output_type": "stream",
     "text": [
      "Adjusting learning rate of group 0 to 6.1847e-04.\n"
     ]
    },
    {
     "name": "stderr",
     "output_type": "stream",
     "text": [
      "INFO Epoch 839\n",
      "INFO The mean accuracy train: 0.999\n",
      "INFO The mean accuracy test: 0.844\n",
      "INFO -------------------------------\n"
     ]
    },
    {
     "name": "stdout",
     "output_type": "stream",
     "text": [
      "Adjusting learning rate of group 0 to 6.1092e-04.\n"
     ]
    },
    {
     "name": "stderr",
     "output_type": "stream",
     "text": [
      "INFO Epoch 840\n",
      "INFO The mean accuracy train: 0.999\n",
      "INFO The mean accuracy test: 0.844\n",
      "INFO -------------------------------\n"
     ]
    },
    {
     "name": "stdout",
     "output_type": "stream",
     "text": [
      "Adjusting learning rate of group 0 to 6.0342e-04.\n"
     ]
    },
    {
     "name": "stderr",
     "output_type": "stream",
     "text": [
      "INFO Epoch 841\n",
      "INFO The mean accuracy train: 0.999\n",
      "INFO The mean accuracy test: 0.844\n",
      "INFO -------------------------------\n"
     ]
    },
    {
     "name": "stdout",
     "output_type": "stream",
     "text": [
      "Adjusting learning rate of group 0 to 5.9596e-04.\n"
     ]
    },
    {
     "name": "stderr",
     "output_type": "stream",
     "text": [
      "INFO Epoch 842\n",
      "INFO The mean accuracy train: 0.999\n",
      "INFO The mean accuracy test: 0.844\n",
      "INFO -------------------------------\n"
     ]
    },
    {
     "name": "stdout",
     "output_type": "stream",
     "text": [
      "Adjusting learning rate of group 0 to 5.8854e-04.\n"
     ]
    },
    {
     "name": "stderr",
     "output_type": "stream",
     "text": [
      "INFO Epoch 843\n",
      "INFO The mean accuracy train: 0.999\n",
      "INFO The mean accuracy test: 0.844\n",
      "INFO -------------------------------\n"
     ]
    },
    {
     "name": "stdout",
     "output_type": "stream",
     "text": [
      "Adjusting learning rate of group 0 to 5.8117e-04.\n"
     ]
    },
    {
     "name": "stderr",
     "output_type": "stream",
     "text": [
      "INFO Epoch 844\n",
      "INFO The mean accuracy train: 0.999\n",
      "INFO The mean accuracy test: 0.844\n",
      "INFO -------------------------------\n"
     ]
    },
    {
     "name": "stdout",
     "output_type": "stream",
     "text": [
      "Adjusting learning rate of group 0 to 5.7384e-04.\n"
     ]
    },
    {
     "name": "stderr",
     "output_type": "stream",
     "text": [
      "INFO Epoch 845\n",
      "INFO The mean accuracy train: 0.999\n",
      "INFO The mean accuracy test: 0.844\n",
      "INFO -------------------------------\n"
     ]
    },
    {
     "name": "stdout",
     "output_type": "stream",
     "text": [
      "Adjusting learning rate of group 0 to 5.6656e-04.\n"
     ]
    },
    {
     "name": "stderr",
     "output_type": "stream",
     "text": [
      "INFO Epoch 846\n",
      "INFO The mean accuracy train: 0.999\n",
      "INFO The mean accuracy test: 0.845\n",
      "INFO -------------------------------\n"
     ]
    },
    {
     "name": "stdout",
     "output_type": "stream",
     "text": [
      "Adjusting learning rate of group 0 to 5.5932e-04.\n"
     ]
    },
    {
     "name": "stderr",
     "output_type": "stream",
     "text": [
      "INFO Epoch 847\n",
      "INFO The mean accuracy train: 0.999\n",
      "INFO The mean accuracy test: 0.844\n",
      "INFO -------------------------------\n"
     ]
    },
    {
     "name": "stdout",
     "output_type": "stream",
     "text": [
      "Adjusting learning rate of group 0 to 5.5212e-04.\n"
     ]
    },
    {
     "name": "stderr",
     "output_type": "stream",
     "text": [
      "INFO Epoch 848\n",
      "INFO The mean accuracy train: 0.999\n",
      "INFO The mean accuracy test: 0.844\n",
      "INFO -------------------------------\n"
     ]
    },
    {
     "name": "stdout",
     "output_type": "stream",
     "text": [
      "Adjusting learning rate of group 0 to 5.4497e-04.\n"
     ]
    },
    {
     "name": "stderr",
     "output_type": "stream",
     "text": [
      "INFO Epoch 849\n",
      "INFO The mean accuracy train: 0.999\n",
      "INFO The mean accuracy test: 0.845\n",
      "INFO -------------------------------\n"
     ]
    },
    {
     "name": "stdout",
     "output_type": "stream",
     "text": [
      "Adjusting learning rate of group 0 to 5.3786e-04.\n"
     ]
    },
    {
     "name": "stderr",
     "output_type": "stream",
     "text": [
      "INFO Epoch 850\n",
      "INFO The mean accuracy train: 0.999\n",
      "INFO The mean accuracy test: 0.844\n",
      "INFO -------------------------------\n"
     ]
    },
    {
     "name": "stdout",
     "output_type": "stream",
     "text": [
      "Adjusting learning rate of group 0 to 5.3079e-04.\n"
     ]
    },
    {
     "name": "stderr",
     "output_type": "stream",
     "text": [
      "INFO Epoch 851\n",
      "INFO The mean accuracy train: 0.999\n",
      "INFO The mean accuracy test: 0.844\n",
      "INFO -------------------------------\n"
     ]
    },
    {
     "name": "stdout",
     "output_type": "stream",
     "text": [
      "Adjusting learning rate of group 0 to 5.2377e-04.\n"
     ]
    },
    {
     "name": "stderr",
     "output_type": "stream",
     "text": [
      "INFO Epoch 852\n",
      "INFO The mean accuracy train: 0.999\n",
      "INFO The mean accuracy test: 0.844\n",
      "INFO -------------------------------\n"
     ]
    },
    {
     "name": "stdout",
     "output_type": "stream",
     "text": [
      "Adjusting learning rate of group 0 to 5.1679e-04.\n"
     ]
    },
    {
     "name": "stderr",
     "output_type": "stream",
     "text": [
      "INFO Epoch 853\n",
      "INFO The mean accuracy train: 0.999\n",
      "INFO The mean accuracy test: 0.844\n",
      "INFO -------------------------------\n"
     ]
    },
    {
     "name": "stdout",
     "output_type": "stream",
     "text": [
      "Adjusting learning rate of group 0 to 5.0986e-04.\n"
     ]
    },
    {
     "name": "stderr",
     "output_type": "stream",
     "text": [
      "INFO Epoch 854\n",
      "INFO The mean accuracy train: 0.999\n",
      "INFO The mean accuracy test: 0.844\n",
      "INFO -------------------------------\n"
     ]
    },
    {
     "name": "stdout",
     "output_type": "stream",
     "text": [
      "Adjusting learning rate of group 0 to 5.0297e-04.\n"
     ]
    },
    {
     "name": "stderr",
     "output_type": "stream",
     "text": [
      "INFO Epoch 855\n",
      "INFO The mean accuracy train: 0.999\n",
      "INFO The mean accuracy test: 0.844\n",
      "INFO -------------------------------\n"
     ]
    },
    {
     "name": "stdout",
     "output_type": "stream",
     "text": [
      "Adjusting learning rate of group 0 to 4.9613e-04.\n"
     ]
    },
    {
     "name": "stderr",
     "output_type": "stream",
     "text": [
      "INFO Epoch 856\n",
      "INFO The mean accuracy train: 0.999\n",
      "INFO The mean accuracy test: 0.844\n",
      "INFO -------------------------------\n"
     ]
    },
    {
     "name": "stdout",
     "output_type": "stream",
     "text": [
      "Adjusting learning rate of group 0 to 4.8933e-04.\n"
     ]
    },
    {
     "name": "stderr",
     "output_type": "stream",
     "text": [
      "INFO Epoch 857\n",
      "INFO The mean accuracy train: 0.999\n",
      "INFO The mean accuracy test: 0.845\n",
      "INFO -------------------------------\n"
     ]
    },
    {
     "name": "stdout",
     "output_type": "stream",
     "text": [
      "Adjusting learning rate of group 0 to 4.8258e-04.\n"
     ]
    },
    {
     "name": "stderr",
     "output_type": "stream",
     "text": [
      "INFO Epoch 858\n",
      "INFO The mean accuracy train: 0.999\n",
      "INFO The mean accuracy test: 0.845\n",
      "INFO -------------------------------\n"
     ]
    },
    {
     "name": "stdout",
     "output_type": "stream",
     "text": [
      "Adjusting learning rate of group 0 to 4.7586e-04.\n"
     ]
    },
    {
     "name": "stderr",
     "output_type": "stream",
     "text": [
      "INFO Epoch 859\n",
      "INFO The mean accuracy train: 0.999\n",
      "INFO The mean accuracy test: 0.845\n",
      "INFO -------------------------------\n"
     ]
    },
    {
     "name": "stdout",
     "output_type": "stream",
     "text": [
      "Adjusting learning rate of group 0 to 4.6920e-04.\n"
     ]
    },
    {
     "name": "stderr",
     "output_type": "stream",
     "text": [
      "INFO Epoch 860\n",
      "INFO The mean accuracy train: 0.999\n",
      "INFO The mean accuracy test: 0.845\n",
      "INFO -------------------------------\n"
     ]
    },
    {
     "name": "stdout",
     "output_type": "stream",
     "text": [
      "Adjusting learning rate of group 0 to 4.6258e-04.\n"
     ]
    },
    {
     "name": "stderr",
     "output_type": "stream",
     "text": [
      "INFO Epoch 861\n",
      "INFO The mean accuracy train: 0.999\n",
      "INFO The mean accuracy test: 0.845\n",
      "INFO -------------------------------\n"
     ]
    },
    {
     "name": "stdout",
     "output_type": "stream",
     "text": [
      "Adjusting learning rate of group 0 to 4.5600e-04.\n"
     ]
    },
    {
     "name": "stderr",
     "output_type": "stream",
     "text": [
      "INFO Epoch 862\n",
      "INFO The mean accuracy train: 0.999\n",
      "INFO The mean accuracy test: 0.845\n",
      "INFO -------------------------------\n"
     ]
    },
    {
     "name": "stdout",
     "output_type": "stream",
     "text": [
      "Adjusting learning rate of group 0 to 4.4947e-04.\n"
     ]
    },
    {
     "name": "stderr",
     "output_type": "stream",
     "text": [
      "INFO Epoch 863\n",
      "INFO The mean accuracy train: 0.999\n",
      "INFO The mean accuracy test: 0.845\n",
      "INFO -------------------------------\n"
     ]
    },
    {
     "name": "stdout",
     "output_type": "stream",
     "text": [
      "Adjusting learning rate of group 0 to 4.4298e-04.\n"
     ]
    },
    {
     "name": "stderr",
     "output_type": "stream",
     "text": [
      "INFO Epoch 864\n",
      "INFO The mean accuracy train: 0.999\n",
      "INFO The mean accuracy test: 0.845\n",
      "INFO -------------------------------\n"
     ]
    },
    {
     "name": "stdout",
     "output_type": "stream",
     "text": [
      "Adjusting learning rate of group 0 to 4.3654e-04.\n"
     ]
    },
    {
     "name": "stderr",
     "output_type": "stream",
     "text": [
      "INFO Epoch 865\n",
      "INFO The mean accuracy train: 0.999\n",
      "INFO The mean accuracy test: 0.845\n",
      "INFO -------------------------------\n"
     ]
    },
    {
     "name": "stdout",
     "output_type": "stream",
     "text": [
      "Adjusting learning rate of group 0 to 4.3015e-04.\n"
     ]
    },
    {
     "name": "stderr",
     "output_type": "stream",
     "text": [
      "INFO Epoch 866\n",
      "INFO The mean accuracy train: 0.999\n",
      "INFO The mean accuracy test: 0.845\n",
      "INFO -------------------------------\n"
     ]
    },
    {
     "name": "stdout",
     "output_type": "stream",
     "text": [
      "Adjusting learning rate of group 0 to 4.2379e-04.\n"
     ]
    },
    {
     "name": "stderr",
     "output_type": "stream",
     "text": [
      "INFO Epoch 867\n",
      "INFO The mean accuracy train: 0.999\n",
      "INFO The mean accuracy test: 0.846\n",
      "INFO -------------------------------\n"
     ]
    },
    {
     "name": "stdout",
     "output_type": "stream",
     "text": [
      "Adjusting learning rate of group 0 to 4.1749e-04.\n"
     ]
    },
    {
     "name": "stderr",
     "output_type": "stream",
     "text": [
      "INFO Epoch 868\n",
      "INFO The mean accuracy train: 0.999\n",
      "INFO The mean accuracy test: 0.845\n",
      "INFO -------------------------------\n"
     ]
    },
    {
     "name": "stdout",
     "output_type": "stream",
     "text": [
      "Adjusting learning rate of group 0 to 4.1123e-04.\n"
     ]
    },
    {
     "name": "stderr",
     "output_type": "stream",
     "text": [
      "INFO Epoch 869\n",
      "INFO The mean accuracy train: 0.999\n",
      "INFO The mean accuracy test: 0.845\n",
      "INFO -------------------------------\n"
     ]
    },
    {
     "name": "stdout",
     "output_type": "stream",
     "text": [
      "Adjusting learning rate of group 0 to 4.0501e-04.\n"
     ]
    },
    {
     "name": "stderr",
     "output_type": "stream",
     "text": [
      "INFO Epoch 870\n",
      "INFO The mean accuracy train: 0.999\n",
      "INFO The mean accuracy test: 0.845\n",
      "INFO -------------------------------\n"
     ]
    },
    {
     "name": "stdout",
     "output_type": "stream",
     "text": [
      "Adjusting learning rate of group 0 to 3.9884e-04.\n"
     ]
    },
    {
     "name": "stderr",
     "output_type": "stream",
     "text": [
      "INFO Epoch 871\n",
      "INFO The mean accuracy train: 0.999\n",
      "INFO The mean accuracy test: 0.845\n",
      "INFO -------------------------------\n"
     ]
    },
    {
     "name": "stdout",
     "output_type": "stream",
     "text": [
      "Adjusting learning rate of group 0 to 3.9272e-04.\n"
     ]
    },
    {
     "name": "stderr",
     "output_type": "stream",
     "text": [
      "INFO Epoch 872\n",
      "INFO The mean accuracy train: 0.999\n",
      "INFO The mean accuracy test: 0.845\n",
      "INFO -------------------------------\n"
     ]
    },
    {
     "name": "stdout",
     "output_type": "stream",
     "text": [
      "Adjusting learning rate of group 0 to 3.8664e-04.\n"
     ]
    },
    {
     "name": "stderr",
     "output_type": "stream",
     "text": [
      "INFO Epoch 873\n",
      "INFO The mean accuracy train: 0.999\n",
      "INFO The mean accuracy test: 0.845\n",
      "INFO -------------------------------\n"
     ]
    },
    {
     "name": "stdout",
     "output_type": "stream",
     "text": [
      "Adjusting learning rate of group 0 to 3.8060e-04.\n"
     ]
    },
    {
     "name": "stderr",
     "output_type": "stream",
     "text": [
      "INFO Epoch 874\n",
      "INFO The mean accuracy train: 0.999\n",
      "INFO The mean accuracy test: 0.845\n",
      "INFO -------------------------------\n"
     ]
    },
    {
     "name": "stdout",
     "output_type": "stream",
     "text": [
      "Adjusting learning rate of group 0 to 3.7461e-04.\n"
     ]
    },
    {
     "name": "stderr",
     "output_type": "stream",
     "text": [
      "INFO Epoch 875\n",
      "INFO The mean accuracy train: 0.999\n",
      "INFO The mean accuracy test: 0.845\n",
      "INFO -------------------------------\n"
     ]
    },
    {
     "name": "stdout",
     "output_type": "stream",
     "text": [
      "Adjusting learning rate of group 0 to 3.6867e-04.\n"
     ]
    },
    {
     "name": "stderr",
     "output_type": "stream",
     "text": [
      "INFO Epoch 876\n",
      "INFO The mean accuracy train: 0.999\n",
      "INFO The mean accuracy test: 0.845\n",
      "INFO -------------------------------\n"
     ]
    },
    {
     "name": "stdout",
     "output_type": "stream",
     "text": [
      "Adjusting learning rate of group 0 to 3.6277e-04.\n"
     ]
    },
    {
     "name": "stderr",
     "output_type": "stream",
     "text": [
      "INFO Epoch 877\n",
      "INFO The mean accuracy train: 0.999\n",
      "INFO The mean accuracy test: 0.844\n",
      "INFO -------------------------------\n"
     ]
    },
    {
     "name": "stdout",
     "output_type": "stream",
     "text": [
      "Adjusting learning rate of group 0 to 3.5692e-04.\n"
     ]
    },
    {
     "name": "stderr",
     "output_type": "stream",
     "text": [
      "INFO Epoch 878\n",
      "INFO The mean accuracy train: 0.999\n",
      "INFO The mean accuracy test: 0.844\n",
      "INFO -------------------------------\n"
     ]
    },
    {
     "name": "stdout",
     "output_type": "stream",
     "text": [
      "Adjusting learning rate of group 0 to 3.5112e-04.\n"
     ]
    },
    {
     "name": "stderr",
     "output_type": "stream",
     "text": [
      "INFO Epoch 879\n",
      "INFO The mean accuracy train: 0.999\n",
      "INFO The mean accuracy test: 0.844\n",
      "INFO -------------------------------\n"
     ]
    },
    {
     "name": "stdout",
     "output_type": "stream",
     "text": [
      "Adjusting learning rate of group 0 to 3.4536e-04.\n"
     ]
    },
    {
     "name": "stderr",
     "output_type": "stream",
     "text": [
      "INFO Epoch 880\n",
      "INFO The mean accuracy train: 0.999\n",
      "INFO The mean accuracy test: 0.844\n",
      "INFO -------------------------------\n"
     ]
    },
    {
     "name": "stdout",
     "output_type": "stream",
     "text": [
      "Adjusting learning rate of group 0 to 3.3964e-04.\n"
     ]
    },
    {
     "name": "stderr",
     "output_type": "stream",
     "text": [
      "INFO Epoch 881\n",
      "INFO The mean accuracy train: 0.999\n",
      "INFO The mean accuracy test: 0.845\n",
      "INFO -------------------------------\n"
     ]
    },
    {
     "name": "stdout",
     "output_type": "stream",
     "text": [
      "Adjusting learning rate of group 0 to 3.3398e-04.\n"
     ]
    },
    {
     "name": "stderr",
     "output_type": "stream",
     "text": [
      "INFO Epoch 882\n",
      "INFO The mean accuracy train: 0.999\n",
      "INFO The mean accuracy test: 0.844\n",
      "INFO -------------------------------\n"
     ]
    },
    {
     "name": "stdout",
     "output_type": "stream",
     "text": [
      "Adjusting learning rate of group 0 to 3.2836e-04.\n"
     ]
    },
    {
     "name": "stderr",
     "output_type": "stream",
     "text": [
      "INFO Epoch 883\n",
      "INFO The mean accuracy train: 0.999\n",
      "INFO The mean accuracy test: 0.844\n",
      "INFO -------------------------------\n"
     ]
    },
    {
     "name": "stdout",
     "output_type": "stream",
     "text": [
      "Adjusting learning rate of group 0 to 3.2278e-04.\n"
     ]
    },
    {
     "name": "stderr",
     "output_type": "stream",
     "text": [
      "INFO Epoch 884\n",
      "INFO The mean accuracy train: 0.999\n",
      "INFO The mean accuracy test: 0.844\n",
      "INFO -------------------------------\n"
     ]
    },
    {
     "name": "stdout",
     "output_type": "stream",
     "text": [
      "Adjusting learning rate of group 0 to 3.1725e-04.\n"
     ]
    },
    {
     "name": "stderr",
     "output_type": "stream",
     "text": [
      "INFO Epoch 885\n",
      "INFO The mean accuracy train: 0.999\n",
      "INFO The mean accuracy test: 0.844\n",
      "INFO -------------------------------\n"
     ]
    },
    {
     "name": "stdout",
     "output_type": "stream",
     "text": [
      "Adjusting learning rate of group 0 to 3.1177e-04.\n"
     ]
    },
    {
     "name": "stderr",
     "output_type": "stream",
     "text": [
      "INFO Epoch 886\n",
      "INFO The mean accuracy train: 0.999\n",
      "INFO The mean accuracy test: 0.844\n",
      "INFO -------------------------------\n"
     ]
    },
    {
     "name": "stdout",
     "output_type": "stream",
     "text": [
      "Adjusting learning rate of group 0 to 3.0633e-04.\n"
     ]
    },
    {
     "name": "stderr",
     "output_type": "stream",
     "text": [
      "INFO Epoch 887\n",
      "INFO The mean accuracy train: 0.999\n",
      "INFO The mean accuracy test: 0.844\n",
      "INFO -------------------------------\n"
     ]
    },
    {
     "name": "stdout",
     "output_type": "stream",
     "text": [
      "Adjusting learning rate of group 0 to 3.0094e-04.\n"
     ]
    },
    {
     "name": "stderr",
     "output_type": "stream",
     "text": [
      "INFO Epoch 888\n",
      "INFO The mean accuracy train: 0.999\n",
      "INFO The mean accuracy test: 0.844\n",
      "INFO -------------------------------\n"
     ]
    },
    {
     "name": "stdout",
     "output_type": "stream",
     "text": [
      "Adjusting learning rate of group 0 to 2.9560e-04.\n"
     ]
    },
    {
     "name": "stderr",
     "output_type": "stream",
     "text": [
      "INFO Epoch 889\n",
      "INFO The mean accuracy train: 0.999\n",
      "INFO The mean accuracy test: 0.844\n",
      "INFO -------------------------------\n"
     ]
    },
    {
     "name": "stdout",
     "output_type": "stream",
     "text": [
      "Adjusting learning rate of group 0 to 2.9030e-04.\n"
     ]
    },
    {
     "name": "stderr",
     "output_type": "stream",
     "text": [
      "INFO Epoch 890\n",
      "INFO The mean accuracy train: 0.999\n",
      "INFO The mean accuracy test: 0.844\n",
      "INFO -------------------------------\n"
     ]
    },
    {
     "name": "stdout",
     "output_type": "stream",
     "text": [
      "Adjusting learning rate of group 0 to 2.8505e-04.\n"
     ]
    },
    {
     "name": "stderr",
     "output_type": "stream",
     "text": [
      "INFO Epoch 891\n",
      "INFO The mean accuracy train: 0.999\n",
      "INFO The mean accuracy test: 0.844\n",
      "INFO -------------------------------\n"
     ]
    },
    {
     "name": "stdout",
     "output_type": "stream",
     "text": [
      "Adjusting learning rate of group 0 to 2.7984e-04.\n"
     ]
    },
    {
     "name": "stderr",
     "output_type": "stream",
     "text": [
      "INFO Epoch 892\n",
      "INFO The mean accuracy train: 0.999\n",
      "INFO The mean accuracy test: 0.844\n",
      "INFO -------------------------------\n"
     ]
    },
    {
     "name": "stdout",
     "output_type": "stream",
     "text": [
      "Adjusting learning rate of group 0 to 2.7468e-04.\n"
     ]
    },
    {
     "name": "stderr",
     "output_type": "stream",
     "text": [
      "INFO Epoch 893\n",
      "INFO The mean accuracy train: 0.999\n",
      "INFO The mean accuracy test: 0.844\n",
      "INFO -------------------------------\n"
     ]
    },
    {
     "name": "stdout",
     "output_type": "stream",
     "text": [
      "Adjusting learning rate of group 0 to 2.6957e-04.\n"
     ]
    },
    {
     "name": "stderr",
     "output_type": "stream",
     "text": [
      "INFO Epoch 894\n",
      "INFO The mean accuracy train: 0.999\n",
      "INFO The mean accuracy test: 0.844\n",
      "INFO -------------------------------\n"
     ]
    },
    {
     "name": "stdout",
     "output_type": "stream",
     "text": [
      "Adjusting learning rate of group 0 to 2.6451e-04.\n"
     ]
    },
    {
     "name": "stderr",
     "output_type": "stream",
     "text": [
      "INFO Epoch 895\n",
      "INFO The mean accuracy train: 0.999\n",
      "INFO The mean accuracy test: 0.843\n",
      "INFO -------------------------------\n"
     ]
    },
    {
     "name": "stdout",
     "output_type": "stream",
     "text": [
      "Adjusting learning rate of group 0 to 2.5949e-04.\n"
     ]
    },
    {
     "name": "stderr",
     "output_type": "stream",
     "text": [
      "INFO Epoch 896\n",
      "INFO The mean accuracy train: 0.999\n",
      "INFO The mean accuracy test: 0.844\n",
      "INFO -------------------------------\n"
     ]
    },
    {
     "name": "stdout",
     "output_type": "stream",
     "text": [
      "Adjusting learning rate of group 0 to 2.5452e-04.\n"
     ]
    },
    {
     "name": "stderr",
     "output_type": "stream",
     "text": [
      "INFO Epoch 897\n",
      "INFO The mean accuracy train: 0.999\n",
      "INFO The mean accuracy test: 0.844\n",
      "INFO -------------------------------\n"
     ]
    },
    {
     "name": "stdout",
     "output_type": "stream",
     "text": [
      "Adjusting learning rate of group 0 to 2.4959e-04.\n"
     ]
    },
    {
     "name": "stderr",
     "output_type": "stream",
     "text": [
      "INFO Epoch 898\n",
      "INFO The mean accuracy train: 0.999\n",
      "INFO The mean accuracy test: 0.844\n",
      "INFO -------------------------------\n"
     ]
    },
    {
     "name": "stdout",
     "output_type": "stream",
     "text": [
      "Adjusting learning rate of group 0 to 2.4472e-04.\n"
     ]
    },
    {
     "name": "stderr",
     "output_type": "stream",
     "text": [
      "INFO Epoch 899\n",
      "INFO The mean accuracy train: 0.999\n",
      "INFO The mean accuracy test: 0.844\n",
      "INFO -------------------------------\n"
     ]
    },
    {
     "name": "stdout",
     "output_type": "stream",
     "text": [
      "Adjusting learning rate of group 0 to 2.3989e-04.\n"
     ]
    },
    {
     "name": "stderr",
     "output_type": "stream",
     "text": [
      "INFO Epoch 900\n",
      "INFO The mean accuracy train: 0.999\n",
      "INFO The mean accuracy test: 0.844\n",
      "INFO -------------------------------\n"
     ]
    },
    {
     "name": "stdout",
     "output_type": "stream",
     "text": [
      "Adjusting learning rate of group 0 to 2.3510e-04.\n"
     ]
    },
    {
     "name": "stderr",
     "output_type": "stream",
     "text": [
      "INFO Epoch 901\n",
      "INFO The mean accuracy train: 0.999\n",
      "INFO The mean accuracy test: 0.844\n",
      "INFO -------------------------------\n"
     ]
    },
    {
     "name": "stdout",
     "output_type": "stream",
     "text": [
      "Adjusting learning rate of group 0 to 2.3037e-04.\n"
     ]
    },
    {
     "name": "stderr",
     "output_type": "stream",
     "text": [
      "INFO Epoch 902\n",
      "INFO The mean accuracy train: 0.999\n",
      "INFO The mean accuracy test: 0.844\n",
      "INFO -------------------------------\n"
     ]
    },
    {
     "name": "stdout",
     "output_type": "stream",
     "text": [
      "Adjusting learning rate of group 0 to 2.2568e-04.\n"
     ]
    },
    {
     "name": "stderr",
     "output_type": "stream",
     "text": [
      "INFO Epoch 903\n",
      "INFO The mean accuracy train: 0.999\n",
      "INFO The mean accuracy test: 0.844\n",
      "INFO -------------------------------\n"
     ]
    },
    {
     "name": "stdout",
     "output_type": "stream",
     "text": [
      "Adjusting learning rate of group 0 to 2.2103e-04.\n"
     ]
    },
    {
     "name": "stderr",
     "output_type": "stream",
     "text": [
      "INFO Epoch 904\n",
      "INFO The mean accuracy train: 0.999\n",
      "INFO The mean accuracy test: 0.844\n",
      "INFO -------------------------------\n"
     ]
    },
    {
     "name": "stdout",
     "output_type": "stream",
     "text": [
      "Adjusting learning rate of group 0 to 2.1644e-04.\n"
     ]
    },
    {
     "name": "stderr",
     "output_type": "stream",
     "text": [
      "INFO Epoch 905\n",
      "INFO The mean accuracy train: 0.999\n",
      "INFO The mean accuracy test: 0.844\n",
      "INFO -------------------------------\n"
     ]
    },
    {
     "name": "stdout",
     "output_type": "stream",
     "text": [
      "Adjusting learning rate of group 0 to 2.1189e-04.\n"
     ]
    },
    {
     "name": "stderr",
     "output_type": "stream",
     "text": [
      "INFO Epoch 906\n",
      "INFO The mean accuracy train: 0.999\n",
      "INFO The mean accuracy test: 0.844\n",
      "INFO -------------------------------\n"
     ]
    },
    {
     "name": "stdout",
     "output_type": "stream",
     "text": [
      "Adjusting learning rate of group 0 to 2.0739e-04.\n"
     ]
    },
    {
     "name": "stderr",
     "output_type": "stream",
     "text": [
      "INFO Epoch 907\n",
      "INFO The mean accuracy train: 0.999\n",
      "INFO The mean accuracy test: 0.843\n",
      "INFO -------------------------------\n"
     ]
    },
    {
     "name": "stdout",
     "output_type": "stream",
     "text": [
      "Adjusting learning rate of group 0 to 2.0294e-04.\n"
     ]
    },
    {
     "name": "stderr",
     "output_type": "stream",
     "text": [
      "INFO Epoch 908\n",
      "INFO The mean accuracy train: 0.999\n",
      "INFO The mean accuracy test: 0.843\n",
      "INFO -------------------------------\n"
     ]
    },
    {
     "name": "stdout",
     "output_type": "stream",
     "text": [
      "Adjusting learning rate of group 0 to 1.9853e-04.\n"
     ]
    },
    {
     "name": "stderr",
     "output_type": "stream",
     "text": [
      "INFO Epoch 909\n",
      "INFO The mean accuracy train: 0.999\n",
      "INFO The mean accuracy test: 0.844\n",
      "INFO -------------------------------\n"
     ]
    },
    {
     "name": "stdout",
     "output_type": "stream",
     "text": [
      "Adjusting learning rate of group 0 to 1.9417e-04.\n"
     ]
    },
    {
     "name": "stderr",
     "output_type": "stream",
     "text": [
      "INFO Epoch 910\n",
      "INFO The mean accuracy train: 0.999\n",
      "INFO The mean accuracy test: 0.843\n",
      "INFO -------------------------------\n"
     ]
    },
    {
     "name": "stdout",
     "output_type": "stream",
     "text": [
      "Adjusting learning rate of group 0 to 1.8986e-04.\n"
     ]
    },
    {
     "name": "stderr",
     "output_type": "stream",
     "text": [
      "INFO Epoch 911\n",
      "INFO The mean accuracy train: 0.999\n",
      "INFO The mean accuracy test: 0.843\n",
      "INFO -------------------------------\n"
     ]
    },
    {
     "name": "stdout",
     "output_type": "stream",
     "text": [
      "Adjusting learning rate of group 0 to 1.8560e-04.\n"
     ]
    },
    {
     "name": "stderr",
     "output_type": "stream",
     "text": [
      "INFO Epoch 912\n",
      "INFO The mean accuracy train: 0.999\n",
      "INFO The mean accuracy test: 0.844\n",
      "INFO -------------------------------\n"
     ]
    },
    {
     "name": "stdout",
     "output_type": "stream",
     "text": [
      "Adjusting learning rate of group 0 to 1.8138e-04.\n"
     ]
    },
    {
     "name": "stderr",
     "output_type": "stream",
     "text": [
      "INFO Epoch 913\n",
      "INFO The mean accuracy train: 0.999\n",
      "INFO The mean accuracy test: 0.843\n",
      "INFO -------------------------------\n"
     ]
    },
    {
     "name": "stdout",
     "output_type": "stream",
     "text": [
      "Adjusting learning rate of group 0 to 1.7721e-04.\n"
     ]
    },
    {
     "name": "stderr",
     "output_type": "stream",
     "text": [
      "INFO Epoch 914\n",
      "INFO The mean accuracy train: 0.999\n",
      "INFO The mean accuracy test: 0.843\n",
      "INFO -------------------------------\n"
     ]
    },
    {
     "name": "stdout",
     "output_type": "stream",
     "text": [
      "Adjusting learning rate of group 0 to 1.7309e-04.\n"
     ]
    },
    {
     "name": "stderr",
     "output_type": "stream",
     "text": [
      "INFO Epoch 915\n",
      "INFO The mean accuracy train: 0.999\n",
      "INFO The mean accuracy test: 0.843\n",
      "INFO -------------------------------\n"
     ]
    },
    {
     "name": "stdout",
     "output_type": "stream",
     "text": [
      "Adjusting learning rate of group 0 to 1.6902e-04.\n"
     ]
    },
    {
     "name": "stderr",
     "output_type": "stream",
     "text": [
      "INFO Epoch 916\n",
      "INFO The mean accuracy train: 0.999\n",
      "INFO The mean accuracy test: 0.843\n",
      "INFO -------------------------------\n"
     ]
    },
    {
     "name": "stdout",
     "output_type": "stream",
     "text": [
      "Adjusting learning rate of group 0 to 1.6499e-04.\n"
     ]
    },
    {
     "name": "stderr",
     "output_type": "stream",
     "text": [
      "INFO Epoch 917\n",
      "INFO The mean accuracy train: 0.999\n",
      "INFO The mean accuracy test: 0.843\n",
      "INFO -------------------------------\n"
     ]
    },
    {
     "name": "stdout",
     "output_type": "stream",
     "text": [
      "Adjusting learning rate of group 0 to 1.6101e-04.\n"
     ]
    },
    {
     "name": "stderr",
     "output_type": "stream",
     "text": [
      "INFO Epoch 918\n",
      "INFO The mean accuracy train: 0.999\n",
      "INFO The mean accuracy test: 0.844\n",
      "INFO -------------------------------\n"
     ]
    },
    {
     "name": "stdout",
     "output_type": "stream",
     "text": [
      "Adjusting learning rate of group 0 to 1.5708e-04.\n"
     ]
    },
    {
     "name": "stderr",
     "output_type": "stream",
     "text": [
      "INFO Epoch 919\n",
      "INFO The mean accuracy train: 0.999\n",
      "INFO The mean accuracy test: 0.843\n",
      "INFO -------------------------------\n"
     ]
    },
    {
     "name": "stdout",
     "output_type": "stream",
     "text": [
      "Adjusting learning rate of group 0 to 1.5320e-04.\n"
     ]
    },
    {
     "name": "stderr",
     "output_type": "stream",
     "text": [
      "INFO Epoch 920\n",
      "INFO The mean accuracy train: 0.999\n",
      "INFO The mean accuracy test: 0.844\n",
      "INFO -------------------------------\n"
     ]
    },
    {
     "name": "stdout",
     "output_type": "stream",
     "text": [
      "Adjusting learning rate of group 0 to 1.4937e-04.\n"
     ]
    },
    {
     "name": "stderr",
     "output_type": "stream",
     "text": [
      "INFO Epoch 921\n",
      "INFO The mean accuracy train: 0.999\n",
      "INFO The mean accuracy test: 0.844\n",
      "INFO -------------------------------\n"
     ]
    },
    {
     "name": "stdout",
     "output_type": "stream",
     "text": [
      "Adjusting learning rate of group 0 to 1.4558e-04.\n"
     ]
    },
    {
     "name": "stderr",
     "output_type": "stream",
     "text": [
      "INFO Epoch 922\n",
      "INFO The mean accuracy train: 0.999\n",
      "INFO The mean accuracy test: 0.844\n",
      "INFO -------------------------------\n"
     ]
    },
    {
     "name": "stdout",
     "output_type": "stream",
     "text": [
      "Adjusting learning rate of group 0 to 1.4184e-04.\n"
     ]
    },
    {
     "name": "stderr",
     "output_type": "stream",
     "text": [
      "INFO Epoch 923\n",
      "INFO The mean accuracy train: 0.999\n",
      "INFO The mean accuracy test: 0.844\n",
      "INFO -------------------------------\n"
     ]
    },
    {
     "name": "stdout",
     "output_type": "stream",
     "text": [
      "Adjusting learning rate of group 0 to 1.3815e-04.\n"
     ]
    },
    {
     "name": "stderr",
     "output_type": "stream",
     "text": [
      "INFO Epoch 924\n",
      "INFO The mean accuracy train: 0.999\n",
      "INFO The mean accuracy test: 0.844\n",
      "INFO -------------------------------\n"
     ]
    },
    {
     "name": "stdout",
     "output_type": "stream",
     "text": [
      "Adjusting learning rate of group 0 to 1.3451e-04.\n"
     ]
    },
    {
     "name": "stderr",
     "output_type": "stream",
     "text": [
      "INFO Epoch 925\n",
      "INFO The mean accuracy train: 0.999\n",
      "INFO The mean accuracy test: 0.844\n",
      "INFO -------------------------------\n"
     ]
    },
    {
     "name": "stdout",
     "output_type": "stream",
     "text": [
      "Adjusting learning rate of group 0 to 1.3091e-04.\n"
     ]
    },
    {
     "name": "stderr",
     "output_type": "stream",
     "text": [
      "INFO Epoch 926\n",
      "INFO The mean accuracy train: 0.999\n",
      "INFO The mean accuracy test: 0.844\n",
      "INFO -------------------------------\n"
     ]
    },
    {
     "name": "stdout",
     "output_type": "stream",
     "text": [
      "Adjusting learning rate of group 0 to 1.2737e-04.\n"
     ]
    },
    {
     "name": "stderr",
     "output_type": "stream",
     "text": [
      "INFO Epoch 927\n",
      "INFO The mean accuracy train: 0.999\n",
      "INFO The mean accuracy test: 0.844\n",
      "INFO -------------------------------\n"
     ]
    },
    {
     "name": "stdout",
     "output_type": "stream",
     "text": [
      "Adjusting learning rate of group 0 to 1.2387e-04.\n"
     ]
    },
    {
     "name": "stderr",
     "output_type": "stream",
     "text": [
      "INFO Epoch 928\n",
      "INFO The mean accuracy train: 0.999\n",
      "INFO The mean accuracy test: 0.844\n",
      "INFO -------------------------------\n"
     ]
    },
    {
     "name": "stdout",
     "output_type": "stream",
     "text": [
      "Adjusting learning rate of group 0 to 1.2042e-04.\n"
     ]
    },
    {
     "name": "stderr",
     "output_type": "stream",
     "text": [
      "INFO Epoch 929\n",
      "INFO The mean accuracy train: 0.999\n",
      "INFO The mean accuracy test: 0.844\n",
      "INFO -------------------------------\n"
     ]
    },
    {
     "name": "stdout",
     "output_type": "stream",
     "text": [
      "Adjusting learning rate of group 0 to 1.1701e-04.\n"
     ]
    },
    {
     "name": "stderr",
     "output_type": "stream",
     "text": [
      "INFO Epoch 930\n",
      "INFO The mean accuracy train: 0.999\n",
      "INFO The mean accuracy test: 0.844\n",
      "INFO -------------------------------\n"
     ]
    },
    {
     "name": "stdout",
     "output_type": "stream",
     "text": [
      "Adjusting learning rate of group 0 to 1.1366e-04.\n"
     ]
    },
    {
     "name": "stderr",
     "output_type": "stream",
     "text": [
      "INFO Epoch 931\n",
      "INFO The mean accuracy train: 0.999\n",
      "INFO The mean accuracy test: 0.844\n",
      "INFO -------------------------------\n"
     ]
    },
    {
     "name": "stdout",
     "output_type": "stream",
     "text": [
      "Adjusting learning rate of group 0 to 1.1035e-04.\n"
     ]
    },
    {
     "name": "stderr",
     "output_type": "stream",
     "text": [
      "INFO Epoch 932\n",
      "INFO The mean accuracy train: 0.999\n",
      "INFO The mean accuracy test: 0.844\n",
      "INFO -------------------------------\n"
     ]
    },
    {
     "name": "stdout",
     "output_type": "stream",
     "text": [
      "Adjusting learning rate of group 0 to 1.0710e-04.\n"
     ]
    },
    {
     "name": "stderr",
     "output_type": "stream",
     "text": [
      "INFO Epoch 933\n",
      "INFO The mean accuracy train: 0.999\n",
      "INFO The mean accuracy test: 0.844\n",
      "INFO -------------------------------\n"
     ]
    },
    {
     "name": "stdout",
     "output_type": "stream",
     "text": [
      "Adjusting learning rate of group 0 to 1.0389e-04.\n"
     ]
    },
    {
     "name": "stderr",
     "output_type": "stream",
     "text": [
      "INFO Epoch 934\n",
      "INFO The mean accuracy train: 0.999\n",
      "INFO The mean accuracy test: 0.844\n",
      "INFO -------------------------------\n"
     ]
    },
    {
     "name": "stdout",
     "output_type": "stream",
     "text": [
      "Adjusting learning rate of group 0 to 1.0072e-04.\n"
     ]
    },
    {
     "name": "stderr",
     "output_type": "stream",
     "text": [
      "INFO Epoch 935\n",
      "INFO The mean accuracy train: 0.999\n",
      "INFO The mean accuracy test: 0.844\n",
      "INFO -------------------------------\n"
     ]
    },
    {
     "name": "stdout",
     "output_type": "stream",
     "text": [
      "Adjusting learning rate of group 0 to 9.7612e-05.\n"
     ]
    },
    {
     "name": "stderr",
     "output_type": "stream",
     "text": [
      "INFO Epoch 936\n",
      "INFO The mean accuracy train: 0.999\n",
      "INFO The mean accuracy test: 0.844\n",
      "INFO -------------------------------\n"
     ]
    },
    {
     "name": "stdout",
     "output_type": "stream",
     "text": [
      "Adjusting learning rate of group 0 to 9.4547e-05.\n"
     ]
    },
    {
     "name": "stderr",
     "output_type": "stream",
     "text": [
      "INFO Epoch 937\n",
      "INFO The mean accuracy train: 0.999\n",
      "INFO The mean accuracy test: 0.844\n",
      "INFO -------------------------------\n"
     ]
    },
    {
     "name": "stdout",
     "output_type": "stream",
     "text": [
      "Adjusting learning rate of group 0 to 9.1531e-05.\n"
     ]
    },
    {
     "name": "stderr",
     "output_type": "stream",
     "text": [
      "INFO Epoch 938\n",
      "INFO The mean accuracy train: 0.999\n",
      "INFO The mean accuracy test: 0.844\n",
      "INFO -------------------------------\n"
     ]
    },
    {
     "name": "stdout",
     "output_type": "stream",
     "text": [
      "Adjusting learning rate of group 0 to 8.8564e-05.\n"
     ]
    },
    {
     "name": "stderr",
     "output_type": "stream",
     "text": [
      "INFO Epoch 939\n",
      "INFO The mean accuracy train: 0.999\n",
      "INFO The mean accuracy test: 0.844\n",
      "INFO -------------------------------\n"
     ]
    },
    {
     "name": "stdout",
     "output_type": "stream",
     "text": [
      "Adjusting learning rate of group 0 to 8.5645e-05.\n"
     ]
    },
    {
     "name": "stderr",
     "output_type": "stream",
     "text": [
      "INFO Epoch 940\n",
      "INFO The mean accuracy train: 0.999\n",
      "INFO The mean accuracy test: 0.844\n",
      "INFO -------------------------------\n"
     ]
    },
    {
     "name": "stdout",
     "output_type": "stream",
     "text": [
      "Adjusting learning rate of group 0 to 8.2774e-05.\n"
     ]
    },
    {
     "name": "stderr",
     "output_type": "stream",
     "text": [
      "INFO Epoch 941\n",
      "INFO The mean accuracy train: 0.999\n",
      "INFO The mean accuracy test: 0.844\n",
      "INFO -------------------------------\n"
     ]
    },
    {
     "name": "stdout",
     "output_type": "stream",
     "text": [
      "Adjusting learning rate of group 0 to 7.9952e-05.\n"
     ]
    },
    {
     "name": "stderr",
     "output_type": "stream",
     "text": [
      "INFO Epoch 942\n",
      "INFO The mean accuracy train: 0.999\n",
      "INFO The mean accuracy test: 0.844\n",
      "INFO -------------------------------\n"
     ]
    },
    {
     "name": "stdout",
     "output_type": "stream",
     "text": [
      "Adjusting learning rate of group 0 to 7.7178e-05.\n"
     ]
    },
    {
     "name": "stderr",
     "output_type": "stream",
     "text": [
      "INFO Epoch 943\n",
      "INFO The mean accuracy train: 0.999\n",
      "INFO The mean accuracy test: 0.845\n",
      "INFO -------------------------------\n"
     ]
    },
    {
     "name": "stdout",
     "output_type": "stream",
     "text": [
      "Adjusting learning rate of group 0 to 7.4453e-05.\n"
     ]
    },
    {
     "name": "stderr",
     "output_type": "stream",
     "text": [
      "INFO Epoch 944\n",
      "INFO The mean accuracy train: 0.999\n",
      "INFO The mean accuracy test: 0.845\n",
      "INFO -------------------------------\n"
     ]
    },
    {
     "name": "stdout",
     "output_type": "stream",
     "text": [
      "Adjusting learning rate of group 0 to 7.1777e-05.\n"
     ]
    },
    {
     "name": "stderr",
     "output_type": "stream",
     "text": [
      "INFO Epoch 945\n",
      "INFO The mean accuracy train: 0.999\n",
      "INFO The mean accuracy test: 0.845\n",
      "INFO -------------------------------\n"
     ]
    },
    {
     "name": "stdout",
     "output_type": "stream",
     "text": [
      "Adjusting learning rate of group 0 to 6.9149e-05.\n"
     ]
    },
    {
     "name": "stderr",
     "output_type": "stream",
     "text": [
      "INFO Epoch 946\n",
      "INFO The mean accuracy train: 0.999\n",
      "INFO The mean accuracy test: 0.844\n",
      "INFO -------------------------------\n"
     ]
    },
    {
     "name": "stdout",
     "output_type": "stream",
     "text": [
      "Adjusting learning rate of group 0 to 6.6570e-05.\n"
     ]
    },
    {
     "name": "stderr",
     "output_type": "stream",
     "text": [
      "INFO Epoch 947\n",
      "INFO The mean accuracy train: 0.999\n",
      "INFO The mean accuracy test: 0.844\n",
      "INFO -------------------------------\n"
     ]
    },
    {
     "name": "stdout",
     "output_type": "stream",
     "text": [
      "Adjusting learning rate of group 0 to 6.4040e-05.\n"
     ]
    },
    {
     "name": "stderr",
     "output_type": "stream",
     "text": [
      "INFO Epoch 948\n",
      "INFO The mean accuracy train: 0.999\n",
      "INFO The mean accuracy test: 0.844\n",
      "INFO -------------------------------\n"
     ]
    },
    {
     "name": "stdout",
     "output_type": "stream",
     "text": [
      "Adjusting learning rate of group 0 to 6.1558e-05.\n"
     ]
    },
    {
     "name": "stderr",
     "output_type": "stream",
     "text": [
      "INFO Epoch 949\n",
      "INFO The mean accuracy train: 0.999\n",
      "INFO The mean accuracy test: 0.844\n",
      "INFO -------------------------------\n"
     ]
    },
    {
     "name": "stdout",
     "output_type": "stream",
     "text": [
      "Adjusting learning rate of group 0 to 5.9125e-05.\n"
     ]
    },
    {
     "name": "stderr",
     "output_type": "stream",
     "text": [
      "INFO Epoch 950\n",
      "INFO The mean accuracy train: 0.999\n",
      "INFO The mean accuracy test: 0.844\n",
      "INFO -------------------------------\n"
     ]
    },
    {
     "name": "stdout",
     "output_type": "stream",
     "text": [
      "Adjusting learning rate of group 0 to 5.6741e-05.\n"
     ]
    },
    {
     "name": "stderr",
     "output_type": "stream",
     "text": [
      "INFO Epoch 951\n",
      "INFO The mean accuracy train: 0.999\n",
      "INFO The mean accuracy test: 0.844\n",
      "INFO -------------------------------\n"
     ]
    },
    {
     "name": "stdout",
     "output_type": "stream",
     "text": [
      "Adjusting learning rate of group 0 to 5.4406e-05.\n"
     ]
    },
    {
     "name": "stderr",
     "output_type": "stream",
     "text": [
      "INFO Epoch 952\n",
      "INFO The mean accuracy train: 0.999\n",
      "INFO The mean accuracy test: 0.844\n",
      "INFO -------------------------------\n"
     ]
    },
    {
     "name": "stdout",
     "output_type": "stream",
     "text": [
      "Adjusting learning rate of group 0 to 5.2119e-05.\n"
     ]
    },
    {
     "name": "stderr",
     "output_type": "stream",
     "text": [
      "INFO Epoch 953\n",
      "INFO The mean accuracy train: 0.999\n",
      "INFO The mean accuracy test: 0.844\n",
      "INFO -------------------------------\n"
     ]
    },
    {
     "name": "stdout",
     "output_type": "stream",
     "text": [
      "Adjusting learning rate of group 0 to 4.9882e-05.\n"
     ]
    },
    {
     "name": "stderr",
     "output_type": "stream",
     "text": [
      "INFO Epoch 954\n",
      "INFO The mean accuracy train: 0.999\n",
      "INFO The mean accuracy test: 0.844\n",
      "INFO -------------------------------\n"
     ]
    },
    {
     "name": "stdout",
     "output_type": "stream",
     "text": [
      "Adjusting learning rate of group 0 to 4.7693e-05.\n"
     ]
    },
    {
     "name": "stderr",
     "output_type": "stream",
     "text": [
      "INFO Epoch 955\n",
      "INFO The mean accuracy train: 0.999\n",
      "INFO The mean accuracy test: 0.844\n",
      "INFO -------------------------------\n"
     ]
    },
    {
     "name": "stdout",
     "output_type": "stream",
     "text": [
      "Adjusting learning rate of group 0 to 4.5553e-05.\n"
     ]
    },
    {
     "name": "stderr",
     "output_type": "stream",
     "text": [
      "INFO Epoch 956\n",
      "INFO The mean accuracy train: 0.999\n",
      "INFO The mean accuracy test: 0.844\n",
      "INFO -------------------------------\n"
     ]
    },
    {
     "name": "stdout",
     "output_type": "stream",
     "text": [
      "Adjusting learning rate of group 0 to 4.3462e-05.\n"
     ]
    },
    {
     "name": "stderr",
     "output_type": "stream",
     "text": [
      "INFO Epoch 957\n",
      "INFO The mean accuracy train: 0.999\n",
      "INFO The mean accuracy test: 0.844\n",
      "INFO -------------------------------\n"
     ]
    },
    {
     "name": "stdout",
     "output_type": "stream",
     "text": [
      "Adjusting learning rate of group 0 to 4.1420e-05.\n"
     ]
    },
    {
     "name": "stderr",
     "output_type": "stream",
     "text": [
      "INFO Epoch 958\n",
      "INFO The mean accuracy train: 0.999\n",
      "INFO The mean accuracy test: 0.844\n",
      "INFO -------------------------------\n"
     ]
    },
    {
     "name": "stdout",
     "output_type": "stream",
     "text": [
      "Adjusting learning rate of group 0 to 3.9426e-05.\n"
     ]
    },
    {
     "name": "stderr",
     "output_type": "stream",
     "text": [
      "INFO Epoch 959\n",
      "INFO The mean accuracy train: 0.999\n",
      "INFO The mean accuracy test: 0.844\n",
      "INFO -------------------------------\n"
     ]
    },
    {
     "name": "stdout",
     "output_type": "stream",
     "text": [
      "Adjusting learning rate of group 0 to 3.7482e-05.\n"
     ]
    },
    {
     "name": "stderr",
     "output_type": "stream",
     "text": [
      "INFO Epoch 960\n",
      "INFO The mean accuracy train: 0.999\n",
      "INFO The mean accuracy test: 0.844\n",
      "INFO -------------------------------\n"
     ]
    },
    {
     "name": "stdout",
     "output_type": "stream",
     "text": [
      "Adjusting learning rate of group 0 to 3.5587e-05.\n"
     ]
    },
    {
     "name": "stderr",
     "output_type": "stream",
     "text": [
      "INFO Epoch 961\n",
      "INFO The mean accuracy train: 0.999\n",
      "INFO The mean accuracy test: 0.844\n",
      "INFO -------------------------------\n"
     ]
    },
    {
     "name": "stdout",
     "output_type": "stream",
     "text": [
      "Adjusting learning rate of group 0 to 3.3741e-05.\n"
     ]
    },
    {
     "name": "stderr",
     "output_type": "stream",
     "text": [
      "INFO Epoch 962\n",
      "INFO The mean accuracy train: 0.999\n",
      "INFO The mean accuracy test: 0.844\n",
      "INFO -------------------------------\n"
     ]
    },
    {
     "name": "stdout",
     "output_type": "stream",
     "text": [
      "Adjusting learning rate of group 0 to 3.1943e-05.\n"
     ]
    },
    {
     "name": "stderr",
     "output_type": "stream",
     "text": [
      "INFO Epoch 963\n",
      "INFO The mean accuracy train: 0.999\n",
      "INFO The mean accuracy test: 0.844\n",
      "INFO -------------------------------\n"
     ]
    },
    {
     "name": "stdout",
     "output_type": "stream",
     "text": [
      "Adjusting learning rate of group 0 to 3.0195e-05.\n"
     ]
    },
    {
     "name": "stderr",
     "output_type": "stream",
     "text": [
      "INFO Epoch 964\n",
      "INFO The mean accuracy train: 0.999\n",
      "INFO The mean accuracy test: 0.844\n",
      "INFO -------------------------------\n"
     ]
    },
    {
     "name": "stdout",
     "output_type": "stream",
     "text": [
      "Adjusting learning rate of group 0 to 2.8496e-05.\n"
     ]
    },
    {
     "name": "stderr",
     "output_type": "stream",
     "text": [
      "INFO Epoch 965\n",
      "INFO The mean accuracy train: 0.999\n",
      "INFO The mean accuracy test: 0.844\n",
      "INFO -------------------------------\n"
     ]
    },
    {
     "name": "stdout",
     "output_type": "stream",
     "text": [
      "Adjusting learning rate of group 0 to 2.6846e-05.\n"
     ]
    },
    {
     "name": "stderr",
     "output_type": "stream",
     "text": [
      "INFO Epoch 966\n",
      "INFO The mean accuracy train: 0.999\n",
      "INFO The mean accuracy test: 0.844\n",
      "INFO -------------------------------\n"
     ]
    },
    {
     "name": "stdout",
     "output_type": "stream",
     "text": [
      "Adjusting learning rate of group 0 to 2.5245e-05.\n"
     ]
    },
    {
     "name": "stderr",
     "output_type": "stream",
     "text": [
      "INFO Epoch 967\n",
      "INFO The mean accuracy train: 0.999\n",
      "INFO The mean accuracy test: 0.844\n",
      "INFO -------------------------------\n"
     ]
    },
    {
     "name": "stdout",
     "output_type": "stream",
     "text": [
      "Adjusting learning rate of group 0 to 2.3693e-05.\n"
     ]
    },
    {
     "name": "stderr",
     "output_type": "stream",
     "text": [
      "INFO Epoch 968\n",
      "INFO The mean accuracy train: 0.999\n",
      "INFO The mean accuracy test: 0.844\n",
      "INFO -------------------------------\n"
     ]
    },
    {
     "name": "stdout",
     "output_type": "stream",
     "text": [
      "Adjusting learning rate of group 0 to 2.2190e-05.\n"
     ]
    },
    {
     "name": "stderr",
     "output_type": "stream",
     "text": [
      "INFO Epoch 969\n",
      "INFO The mean accuracy train: 0.999\n",
      "INFO The mean accuracy test: 0.844\n",
      "INFO -------------------------------\n"
     ]
    },
    {
     "name": "stdout",
     "output_type": "stream",
     "text": [
      "Adjusting learning rate of group 0 to 2.0736e-05.\n"
     ]
    },
    {
     "name": "stderr",
     "output_type": "stream",
     "text": [
      "INFO Epoch 970\n",
      "INFO The mean accuracy train: 0.999\n",
      "INFO The mean accuracy test: 0.844\n",
      "INFO -------------------------------\n"
     ]
    },
    {
     "name": "stdout",
     "output_type": "stream",
     "text": [
      "Adjusting learning rate of group 0 to 1.9332e-05.\n"
     ]
    },
    {
     "name": "stderr",
     "output_type": "stream",
     "text": [
      "INFO Epoch 971\n",
      "INFO The mean accuracy train: 0.999\n",
      "INFO The mean accuracy test: 0.844\n",
      "INFO -------------------------------\n"
     ]
    },
    {
     "name": "stdout",
     "output_type": "stream",
     "text": [
      "Adjusting learning rate of group 0 to 1.7977e-05.\n"
     ]
    },
    {
     "name": "stderr",
     "output_type": "stream",
     "text": [
      "INFO Epoch 972\n",
      "INFO The mean accuracy train: 0.999\n",
      "INFO The mean accuracy test: 0.844\n",
      "INFO -------------------------------\n"
     ]
    },
    {
     "name": "stdout",
     "output_type": "stream",
     "text": [
      "Adjusting learning rate of group 0 to 1.6670e-05.\n"
     ]
    },
    {
     "name": "stderr",
     "output_type": "stream",
     "text": [
      "INFO Epoch 973\n",
      "INFO The mean accuracy train: 0.999\n",
      "INFO The mean accuracy test: 0.844\n",
      "INFO -------------------------------\n"
     ]
    },
    {
     "name": "stdout",
     "output_type": "stream",
     "text": [
      "Adjusting learning rate of group 0 to 1.5413e-05.\n"
     ]
    },
    {
     "name": "stderr",
     "output_type": "stream",
     "text": [
      "INFO Epoch 974\n",
      "INFO The mean accuracy train: 0.999\n",
      "INFO The mean accuracy test: 0.844\n",
      "INFO -------------------------------\n"
     ]
    },
    {
     "name": "stdout",
     "output_type": "stream",
     "text": [
      "Adjusting learning rate of group 0 to 1.4205e-05.\n"
     ]
    },
    {
     "name": "stderr",
     "output_type": "stream",
     "text": [
      "INFO Epoch 975\n",
      "INFO The mean accuracy train: 0.999\n",
      "INFO The mean accuracy test: 0.844\n",
      "INFO -------------------------------\n"
     ]
    },
    {
     "name": "stdout",
     "output_type": "stream",
     "text": [
      "Adjusting learning rate of group 0 to 1.3047e-05.\n"
     ]
    },
    {
     "name": "stderr",
     "output_type": "stream",
     "text": [
      "INFO Epoch 976\n",
      "INFO The mean accuracy train: 0.999\n",
      "INFO The mean accuracy test: 0.844\n",
      "INFO -------------------------------\n"
     ]
    },
    {
     "name": "stdout",
     "output_type": "stream",
     "text": [
      "Adjusting learning rate of group 0 to 1.1937e-05.\n"
     ]
    },
    {
     "name": "stderr",
     "output_type": "stream",
     "text": [
      "INFO Epoch 977\n",
      "INFO The mean accuracy train: 0.999\n",
      "INFO The mean accuracy test: 0.844\n",
      "INFO -------------------------------\n"
     ]
    },
    {
     "name": "stdout",
     "output_type": "stream",
     "text": [
      "Adjusting learning rate of group 0 to 1.0877e-05.\n"
     ]
    },
    {
     "name": "stderr",
     "output_type": "stream",
     "text": [
      "INFO Epoch 978\n",
      "INFO The mean accuracy train: 0.999\n",
      "INFO The mean accuracy test: 0.844\n",
      "INFO -------------------------------\n"
     ]
    },
    {
     "name": "stdout",
     "output_type": "stream",
     "text": [
      "Adjusting learning rate of group 0 to 9.8664e-06.\n"
     ]
    },
    {
     "name": "stderr",
     "output_type": "stream",
     "text": [
      "INFO Epoch 979\n",
      "INFO The mean accuracy train: 0.999\n",
      "INFO The mean accuracy test: 0.844\n",
      "INFO -------------------------------\n"
     ]
    },
    {
     "name": "stdout",
     "output_type": "stream",
     "text": [
      "Adjusting learning rate of group 0 to 8.9047e-06.\n"
     ]
    },
    {
     "name": "stderr",
     "output_type": "stream",
     "text": [
      "INFO Epoch 980\n",
      "INFO The mean accuracy train: 0.999\n",
      "INFO The mean accuracy test: 0.844\n",
      "INFO -------------------------------\n"
     ]
    },
    {
     "name": "stdout",
     "output_type": "stream",
     "text": [
      "Adjusting learning rate of group 0 to 7.9922e-06.\n"
     ]
    },
    {
     "name": "stderr",
     "output_type": "stream",
     "text": [
      "INFO Epoch 981\n",
      "INFO The mean accuracy train: 0.999\n",
      "INFO The mean accuracy test: 0.844\n",
      "INFO -------------------------------\n"
     ]
    },
    {
     "name": "stdout",
     "output_type": "stream",
     "text": [
      "Adjusting learning rate of group 0 to 7.1291e-06.\n"
     ]
    },
    {
     "name": "stderr",
     "output_type": "stream",
     "text": [
      "INFO Epoch 982\n",
      "INFO The mean accuracy train: 0.999\n",
      "INFO The mean accuracy test: 0.844\n",
      "INFO -------------------------------\n"
     ]
    },
    {
     "name": "stdout",
     "output_type": "stream",
     "text": [
      "Adjusting learning rate of group 0 to 6.3152e-06.\n"
     ]
    },
    {
     "name": "stderr",
     "output_type": "stream",
     "text": [
      "INFO Epoch 983\n",
      "INFO The mean accuracy train: 0.999\n",
      "INFO The mean accuracy test: 0.844\n",
      "INFO -------------------------------\n"
     ]
    },
    {
     "name": "stdout",
     "output_type": "stream",
     "text": [
      "Adjusting learning rate of group 0 to 5.5506e-06.\n"
     ]
    },
    {
     "name": "stderr",
     "output_type": "stream",
     "text": [
      "INFO Epoch 984\n",
      "INFO The mean accuracy train: 0.999\n",
      "INFO The mean accuracy test: 0.844\n",
      "INFO -------------------------------\n"
     ]
    },
    {
     "name": "stdout",
     "output_type": "stream",
     "text": [
      "Adjusting learning rate of group 0 to 4.8353e-06.\n"
     ]
    },
    {
     "name": "stderr",
     "output_type": "stream",
     "text": [
      "INFO Epoch 985\n",
      "INFO The mean accuracy train: 0.999\n",
      "INFO The mean accuracy test: 0.844\n",
      "INFO -------------------------------\n"
     ]
    },
    {
     "name": "stdout",
     "output_type": "stream",
     "text": [
      "Adjusting learning rate of group 0 to 4.1693e-06.\n"
     ]
    },
    {
     "name": "stderr",
     "output_type": "stream",
     "text": [
      "INFO Epoch 986\n",
      "INFO The mean accuracy train: 0.999\n",
      "INFO The mean accuracy test: 0.844\n",
      "INFO -------------------------------\n"
     ]
    },
    {
     "name": "stdout",
     "output_type": "stream",
     "text": [
      "Adjusting learning rate of group 0 to 3.5526e-06.\n"
     ]
    },
    {
     "name": "stderr",
     "output_type": "stream",
     "text": [
      "INFO Epoch 987\n",
      "INFO The mean accuracy train: 0.999\n",
      "INFO The mean accuracy test: 0.844\n",
      "INFO -------------------------------\n"
     ]
    },
    {
     "name": "stdout",
     "output_type": "stream",
     "text": [
      "Adjusting learning rate of group 0 to 2.9853e-06.\n"
     ]
    },
    {
     "name": "stderr",
     "output_type": "stream",
     "text": [
      "INFO Epoch 988\n",
      "INFO The mean accuracy train: 0.999\n",
      "INFO The mean accuracy test: 0.844\n",
      "INFO -------------------------------\n"
     ]
    },
    {
     "name": "stdout",
     "output_type": "stream",
     "text": [
      "Adjusting learning rate of group 0 to 2.4672e-06.\n"
     ]
    },
    {
     "name": "stderr",
     "output_type": "stream",
     "text": [
      "INFO Epoch 989\n",
      "INFO The mean accuracy train: 0.999\n",
      "INFO The mean accuracy test: 0.844\n",
      "INFO -------------------------------\n"
     ]
    },
    {
     "name": "stdout",
     "output_type": "stream",
     "text": [
      "Adjusting learning rate of group 0 to 1.9985e-06.\n"
     ]
    },
    {
     "name": "stderr",
     "output_type": "stream",
     "text": [
      "INFO Epoch 990\n",
      "INFO The mean accuracy train: 0.999\n",
      "INFO The mean accuracy test: 0.844\n",
      "INFO -------------------------------\n"
     ]
    },
    {
     "name": "stdout",
     "output_type": "stream",
     "text": [
      "Adjusting learning rate of group 0 to 1.5791e-06.\n"
     ]
    },
    {
     "name": "stderr",
     "output_type": "stream",
     "text": [
      "INFO Epoch 991\n",
      "INFO The mean accuracy train: 0.999\n",
      "INFO The mean accuracy test: 0.844\n",
      "INFO -------------------------------\n"
     ]
    },
    {
     "name": "stdout",
     "output_type": "stream",
     "text": [
      "Adjusting learning rate of group 0 to 1.2090e-06.\n"
     ]
    },
    {
     "name": "stderr",
     "output_type": "stream",
     "text": [
      "INFO Epoch 992\n",
      "INFO The mean accuracy train: 0.999\n",
      "INFO The mean accuracy test: 0.844\n",
      "INFO -------------------------------\n"
     ]
    },
    {
     "name": "stdout",
     "output_type": "stream",
     "text": [
      "Adjusting learning rate of group 0 to 8.8824e-07.\n"
     ]
    },
    {
     "name": "stderr",
     "output_type": "stream",
     "text": [
      "INFO Epoch 993\n",
      "INFO The mean accuracy train: 0.999\n",
      "INFO The mean accuracy test: 0.844\n",
      "INFO -------------------------------\n"
     ]
    },
    {
     "name": "stdout",
     "output_type": "stream",
     "text": [
      "Adjusting learning rate of group 0 to 6.1684e-07.\n"
     ]
    },
    {
     "name": "stderr",
     "output_type": "stream",
     "text": [
      "INFO Epoch 994\n",
      "INFO The mean accuracy train: 0.999\n",
      "INFO The mean accuracy test: 0.844\n",
      "INFO -------------------------------\n"
     ]
    },
    {
     "name": "stdout",
     "output_type": "stream",
     "text": [
      "Adjusting learning rate of group 0 to 3.9478e-07.\n"
     ]
    },
    {
     "name": "stderr",
     "output_type": "stream",
     "text": [
      "INFO Epoch 995\n",
      "INFO The mean accuracy train: 0.999\n",
      "INFO The mean accuracy test: 0.844\n",
      "INFO -------------------------------\n"
     ]
    },
    {
     "name": "stdout",
     "output_type": "stream",
     "text": [
      "Adjusting learning rate of group 0 to 2.2206e-07.\n"
     ]
    },
    {
     "name": "stderr",
     "output_type": "stream",
     "text": [
      "INFO Epoch 996\n",
      "INFO The mean accuracy train: 0.999\n",
      "INFO The mean accuracy test: 0.844\n",
      "INFO -------------------------------\n"
     ]
    },
    {
     "name": "stdout",
     "output_type": "stream",
     "text": [
      "Adjusting learning rate of group 0 to 9.8696e-08.\n"
     ]
    },
    {
     "name": "stderr",
     "output_type": "stream",
     "text": [
      "INFO Epoch 997\n",
      "INFO The mean accuracy train: 0.999\n",
      "INFO The mean accuracy test: 0.844\n",
      "INFO -------------------------------\n"
     ]
    },
    {
     "name": "stdout",
     "output_type": "stream",
     "text": [
      "Adjusting learning rate of group 0 to 2.4674e-08.\n"
     ]
    },
    {
     "name": "stderr",
     "output_type": "stream",
     "text": [
      "INFO Epoch 998\n",
      "INFO The mean accuracy train: 0.999\n",
      "INFO The mean accuracy test: 0.844\n",
      "INFO -------------------------------\n"
     ]
    },
    {
     "name": "stdout",
     "output_type": "stream",
     "text": [
      "Adjusting learning rate of group 0 to 0.0000e+00.\n"
     ]
    },
    {
     "name": "stderr",
     "output_type": "stream",
     "text": [
      "INFO Epoch 999\n",
      "INFO The mean accuracy train: 0.999\n",
      "INFO The mean accuracy test: 0.844\n",
      "INFO -------------------------------\n"
     ]
    }
   ],
   "source": [
    "device = (\"cuda\" if torch.cuda.is_available() else 'cpu')\n",
    "model = model.to(device)\n",
    "LR = 0.01\n",
    "N_EPOCH = 200\n",
    "\n",
    "# optimizer = torch.optim.Adam(model.parameters(), lr= 0.001) # 0.001 !\n",
    "# optimizer = torch.optim.Adam(model.parameters(), lr= 0.001, weight_decay=5e-4) # 0.001 !\n",
    "# criterion = torch.nn.CrossEntropyLoss()\n",
    "criterion = LabelSmoothingCrossEntropy(classes=10, smoothing=0.3, dim=-1, weight = None)\n",
    "\n",
    "# optimizer = torch.optim.SGD(model.parameters(), lr=0.01,\n",
    "#                       momentum=0.9, weight_decay=5e-4)\n",
    "# optimizer = torch.optim.SGD(model.parameters(), lr=0.01,\n",
    "#                       momentum=0.9, weight_decay=5e-4)\n",
    "optimizer = torch.optim.SGD(model.parameters(), lr=LR, momentum=0.9)\n",
    "\n",
    "scheduler = torch.optim.lr_scheduler.CosineAnnealingLR(optimizer, T_max=N_EPOCH, verbose=True)\n",
    "\n",
    "# tb = SummaryWriter()\n",
    "model, optimizer = train_model_with_sc(model, criterion, \n",
    "                    optimizer, train_dataloader=trainloader, test_dataloader=testloader, \n",
    "                    device=device,\n",
    "                    n_epochs=N_EPOCH, batch_size=batch_size, scheduler=scheduler)\n",
    "\n",
    "# model, optimizer = train_model(model, criterion, \n",
    "#                     optimizer, train_dataloader=trainloader, test_dataloader=testloader, \n",
    "#                     device=device,\n",
    "#                     n_epochs=1000, batch_size=batch_size)"
   ]
  },
  {
   "cell_type": "code",
   "execution_count": null,
   "metadata": {},
   "outputs": [],
   "source": [
    "correct = 0\n",
    "total = 0\n",
    "# since we're not training, we don't need to calculate the gradients for our outputs\n",
    "with torch.no_grad():\n",
    "    for data in testloader:\n",
    "        images, labels = data\n",
    "        images = images.to(device)\n",
    "        labels = labels.to(device)\n",
    "        # calculate outputs by running images through the network\n",
    "        outputs = model(images)\n",
    "        # the class with the highest energy is what we choose as prediction\n",
    "        _, predicted = torch.max(outputs.data, 1)\n",
    "        total += labels.size(0)\n",
    "        correct += (predicted == labels).sum().item()\n",
    "\n",
    "print(f'Accuracy of test images: {100 * correct // total} %')"
   ]
  }
 ],
 "metadata": {
  "kernelspec": {
   "display_name": "Python 3",
   "language": "python",
   "name": "python3"
  },
  "language_info": {
   "codemirror_mode": {
    "name": "ipython",
    "version": 3
   },
   "file_extension": ".py",
   "mimetype": "text/x-python",
   "name": "python",
   "nbconvert_exporter": "python",
   "pygments_lexer": "ipython3",
   "version": "3.7.6"
  },
  "toc": {
   "base_numbering": 1,
   "nav_menu": {},
   "number_sections": true,
   "sideBar": true,
   "skip_h1_title": false,
   "title_cell": "Table of Contents",
   "title_sidebar": "Contents",
   "toc_cell": false,
   "toc_position": {},
   "toc_section_display": true,
   "toc_window_display": false
  }
 },
 "nbformat": 4,
 "nbformat_minor": 5
}
